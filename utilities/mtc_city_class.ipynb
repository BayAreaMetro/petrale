{
 "cells": [
  {
   "cell_type": "code",
   "execution_count": 5,
   "metadata": {
    "collapsed": true
   },
   "outputs": [],
   "source": [
    "import pandas as pd"
   ]
  },
  {
   "cell_type": "code",
   "execution_count": 6,
   "metadata": {},
   "outputs": [],
   "source": [
    "mtc_city_classification_vs=pd.Series({'Big Three': ['San Jose', 'San Francisco', 'Oakland'],\n",
    "'Bayside': ['Alameda', 'Albany', 'Atherton', 'Belmont', 'Belvedere', 'Berkeley', 'Brisbane', 'Burlingame', 'Campbell', 'Colma', 'Corte Madera', 'Cupertino', 'Daly City', 'East Palo Alto', 'El Cerrito', 'Emeryville', 'Fairfax', 'Foster City', 'Fremont', 'Hayward', 'Hercules', 'Hillsborough', 'Larkspur', 'Los Altos', 'Los Altos Hills', 'Los Gatos', 'Menlo Park', 'Mill Valley', 'Millbrae', 'Milpitas', 'Monte Sereno', 'Mountain View', 'Newark', 'Pacifica', 'Palo Alto', 'Piedmont', 'Pinole', 'Portola Valley', 'Redwood City', 'Richmond', 'Ross', 'San Anselmo', 'San Bruno', 'San Carlos', 'San Leandro', 'San Mateo', 'San Pablo', 'San Rafael', 'Santa Clara', 'Saratoga', 'Sausalito', 'South San Francisco', 'Sunnyvale', 'Tiburon', 'Union City', 'Vallejo', 'Woodside'],\n",
    "'Inland, Delta and Coastal': ['American Canyon', 'Antioch', 'Benicia', 'Brentwood', 'Calistoga', 'Clayton', 'Cloverdale', 'Concord', 'Cotati', 'Danville', 'Dixon', 'Dublin', 'Fairfield', 'Gilroy', 'Half Moon Bay', 'Healdsburg', 'Lafayette', 'Livermore', 'Martinez', 'Moraga', 'Morgan Hill', 'Napa', 'Novato', 'Oakley', 'Orinda', 'Petaluma', 'Pittsburg', 'Pleasant Hill', 'Pleasanton', 'Rio Vista', 'Rohnert Park', 'San Ramon', 'Santa Rosa', 'Sebastopol', 'Sonoma', 'St. Helena', 'Suisun City', 'Vacaville', 'Walnut Creek', 'Windsor', 'Yountville'],\n",
    "'Unincorporated': ['Unincorporated Alameda', 'Unincorporated Contra Costa', 'Unincorporated Marin',\n",
    "                   'Unincorporated Napa', 'Unincorporated San Mateo', 'Unincorporated Santa Clara',\n",
    "                   'Unincorporated Sonoma', 'Unincorporated Solano']}).apply(pd.Series).stack().reset_index(1,drop=True).reset_index(name='juris').set_index('juris')['index']"
   ]
  },
  {
   "cell_type": "code",
   "execution_count": 11,
   "metadata": {},
   "outputs": [],
   "source": [
    "city_class = mtc_city_classification_vs.to_frame().reset_index()"
   ]
  },
  {
   "cell_type": "code",
   "execution_count": 14,
   "metadata": {},
   "outputs": [],
   "source": [
    "city_class.rename(columns = {'index' : 'class'}, inplace = True)"
   ]
  },
  {
   "cell_type": "code",
   "execution_count": 17,
   "metadata": {},
   "outputs": [
    {
     "data": {
      "text/plain": [
       "(109, 2)"
      ]
     },
     "execution_count": 17,
     "metadata": {},
     "output_type": "execute_result"
    }
   ],
   "source": [
    "city_class.shape"
   ]
  },
  {
   "cell_type": "code",
   "execution_count": 16,
   "metadata": {},
   "outputs": [],
   "source": [
    "city_class.to_csv('C:/Users/blu/Documents/GitHub/petrale/utilities/mtc_city_class.csv', index = False)"
   ]
  },
  {
   "cell_type": "code",
   "execution_count": null,
   "metadata": {
    "collapsed": true
   },
   "outputs": [],
   "source": []
  }
 ],
 "metadata": {
  "kernelspec": {
   "display_name": "Python 2",
   "language": "python",
   "name": "python2"
  }
 },
 "nbformat": 4,
 "nbformat_minor": 2
}
