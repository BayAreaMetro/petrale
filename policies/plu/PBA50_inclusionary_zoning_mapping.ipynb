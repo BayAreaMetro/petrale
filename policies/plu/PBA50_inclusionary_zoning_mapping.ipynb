{
 "cells": [
  {
   "cell_type": "code",
   "execution_count": 1,
   "metadata": {},
   "outputs": [],
   "source": [
    "import pandas as pd\n",
    "import geopandas as gpd\n",
    "import fiona"
   ]
  },
  {
   "cell_type": "markdown",
   "metadata": {},
   "source": [
    "### Baseline inclusionary zoning by jurisdiction"
   ]
  },
  {
   "cell_type": "code",
   "execution_count": 2,
   "metadata": {},
   "outputs": [
    {
     "name": "stdout",
     "output_type": "stream",
     "text": [
      "read 109 rows of jurisdiction spatial data\n"
     ]
    },
    {
     "data": {
      "text/html": [
       "<div>\n",
       "<style scoped>\n",
       "    .dataframe tbody tr th:only-of-type {\n",
       "        vertical-align: middle;\n",
       "    }\n",
       "\n",
       "    .dataframe tbody tr th {\n",
       "        vertical-align: top;\n",
       "    }\n",
       "\n",
       "    .dataframe thead th {\n",
       "        text-align: right;\n",
       "    }\n",
       "</style>\n",
       "<table border=\"1\" class=\"dataframe\">\n",
       "  <thead>\n",
       "    <tr style=\"text-align: right;\">\n",
       "      <th></th>\n",
       "      <th>GEOID</th>\n",
       "      <th>county</th>\n",
       "      <th>jurisdicti</th>\n",
       "      <th>geometry</th>\n",
       "      <th>baus_output_juris_name</th>\n",
       "    </tr>\n",
       "  </thead>\n",
       "  <tbody>\n",
       "    <tr>\n",
       "      <th>0</th>\n",
       "      <td>0600562</td>\n",
       "      <td>Alameda</td>\n",
       "      <td>Alameda</td>\n",
       "      <td>MULTIPOLYGON (((568142.943 4178126.701, 568142...</td>\n",
       "      <td>Alameda</td>\n",
       "    </tr>\n",
       "    <tr>\n",
       "      <th>1</th>\n",
       "      <td>0600674</td>\n",
       "      <td>Alameda</td>\n",
       "      <td>Albany</td>\n",
       "      <td>POLYGON ((560402.861 4194645.578, 560403.046 4...</td>\n",
       "      <td>Albany</td>\n",
       "    </tr>\n",
       "    <tr>\n",
       "      <th>2</th>\n",
       "      <td>0601640</td>\n",
       "      <td>Napa</td>\n",
       "      <td>American Canyon</td>\n",
       "      <td>MULTIPOLYGON (((567595.325 4231105.647, 567595...</td>\n",
       "      <td>American Canyon</td>\n",
       "    </tr>\n",
       "    <tr>\n",
       "      <th>3</th>\n",
       "      <td>0602252</td>\n",
       "      <td>Contra Costa</td>\n",
       "      <td>Antioch</td>\n",
       "      <td>POLYGON ((600051.373 4205376.256, 600059.015 4...</td>\n",
       "      <td>Antioch</td>\n",
       "    </tr>\n",
       "    <tr>\n",
       "      <th>4</th>\n",
       "      <td>0603092</td>\n",
       "      <td>San Mateo</td>\n",
       "      <td>Atherton</td>\n",
       "      <td>POLYGON ((567789.206 4143268.637, 567808.817 4...</td>\n",
       "      <td>Atherton</td>\n",
       "    </tr>\n",
       "    <tr>\n",
       "      <th>...</th>\n",
       "      <td>...</td>\n",
       "      <td>...</td>\n",
       "      <td>...</td>\n",
       "      <td>...</td>\n",
       "      <td>...</td>\n",
       "    </tr>\n",
       "    <tr>\n",
       "      <th>104</th>\n",
       "      <td>06055UNINC</td>\n",
       "      <td>Napa</td>\n",
       "      <td>Unincorporated Napa</td>\n",
       "      <td>MULTIPOLYGON (((560568.068 4239588.189, 560569...</td>\n",
       "      <td>Napa County</td>\n",
       "    </tr>\n",
       "    <tr>\n",
       "      <th>105</th>\n",
       "      <td>06081UNINC</td>\n",
       "      <td>San Mateo</td>\n",
       "      <td>Unincorporated San Mateo</td>\n",
       "      <td>MULTIPOLYGON (((550736.615 4162211.632, 550738...</td>\n",
       "      <td>San Mateo County</td>\n",
       "    </tr>\n",
       "    <tr>\n",
       "      <th>106</th>\n",
       "      <td>06085UNINC</td>\n",
       "      <td>Santa Clara</td>\n",
       "      <td>Unincorporated Santa Clara</td>\n",
       "      <td>MULTIPOLYGON (((603203.454 4137173.323, 603192...</td>\n",
       "      <td>Santa Clara County</td>\n",
       "    </tr>\n",
       "    <tr>\n",
       "      <th>107</th>\n",
       "      <td>06095UNINC</td>\n",
       "      <td>Solano</td>\n",
       "      <td>Unincorporated Solano</td>\n",
       "      <td>MULTIPOLYGON (((556203.639 4220520.400, 556202...</td>\n",
       "      <td>Solano County</td>\n",
       "    </tr>\n",
       "    <tr>\n",
       "      <th>108</th>\n",
       "      <td>06097UNINC</td>\n",
       "      <td>Sonoma</td>\n",
       "      <td>Unincorporated Sonoma</td>\n",
       "      <td>MULTIPOLYGON (((529022.540 4258909.595, 529016...</td>\n",
       "      <td>Sonoma County</td>\n",
       "    </tr>\n",
       "  </tbody>\n",
       "</table>\n",
       "<p>109 rows × 5 columns</p>\n",
       "</div>"
      ],
      "text/plain": [
       "          GEOID        county                  jurisdicti  \\\n",
       "0       0600562       Alameda                     Alameda   \n",
       "1       0600674       Alameda                      Albany   \n",
       "2       0601640          Napa             American Canyon   \n",
       "3       0602252  Contra Costa                     Antioch   \n",
       "4       0603092     San Mateo                    Atherton   \n",
       "..          ...           ...                         ...   \n",
       "104  06055UNINC          Napa         Unincorporated Napa   \n",
       "105  06081UNINC     San Mateo    Unincorporated San Mateo   \n",
       "106  06085UNINC   Santa Clara  Unincorporated Santa Clara   \n",
       "107  06095UNINC        Solano       Unincorporated Solano   \n",
       "108  06097UNINC        Sonoma       Unincorporated Sonoma   \n",
       "\n",
       "                                              geometry baus_output_juris_name  \n",
       "0    MULTIPOLYGON (((568142.943 4178126.701, 568142...                Alameda  \n",
       "1    POLYGON ((560402.861 4194645.578, 560403.046 4...                 Albany  \n",
       "2    MULTIPOLYGON (((567595.325 4231105.647, 567595...        American Canyon  \n",
       "3    POLYGON ((600051.373 4205376.256, 600059.015 4...                Antioch  \n",
       "4    POLYGON ((567789.206 4143268.637, 567808.817 4...               Atherton  \n",
       "..                                                 ...                    ...  \n",
       "104  MULTIPOLYGON (((560568.068 4239588.189, 560569...            Napa County  \n",
       "105  MULTIPOLYGON (((550736.615 4162211.632, 550738...       San Mateo County  \n",
       "106  MULTIPOLYGON (((603203.454 4137173.323, 603192...     Santa Clara County  \n",
       "107  MULTIPOLYGON (((556203.639 4220520.400, 556202...          Solano County  \n",
       "108  MULTIPOLYGON (((529022.540 4258909.595, 529016...          Sonoma County  \n",
       "\n",
       "[109 rows x 5 columns]"
      ]
     },
     "metadata": {},
     "output_type": "display_data"
    }
   ],
   "source": [
    "# jurisdiction spatial data\n",
    "\n",
    "juris_shp = gpd.read_file(r'M:\\Data\\GIS layers\\Jurisdictions\\jurisdictions_tiger2019vintage.shp')\n",
    "\n",
    "print('read {} rows of jurisdiction spatial data'.format(juris_shp.shape[0]))\n",
    "\n",
    "# rename jurisdictions to be consistent with BAUS variale\n",
    "juris_shp['baus_output_juris_name'] = juris_shp['jurisdicti']\n",
    "juris_shp.loc[juris_shp.jurisdicti == 'Unincorporated Alameda', 'baus_output_juris_name'] = 'Alameda County'\n",
    "juris_shp.loc[juris_shp.jurisdicti == 'Unincorporated Contra Costa', 'baus_output_juris_name'] = 'Contra Costa County'\n",
    "juris_shp.loc[juris_shp.jurisdicti == 'Unincorporated Marin', 'baus_output_juris_name'] = 'Marin County'\n",
    "juris_shp.loc[juris_shp.jurisdicti == 'Unincorporated Napa', 'baus_output_juris_name'] = 'Napa County'\n",
    "juris_shp.loc[juris_shp.jurisdicti == 'Unincorporated San Mateo', 'baus_output_juris_name'] = 'San Mateo County'\n",
    "juris_shp.loc[juris_shp.jurisdicti == 'Unincorporated Santa Clara', 'baus_output_juris_name'] = 'Santa Clara County'\n",
    "juris_shp.loc[juris_shp.jurisdicti == 'Unincorporated Solano', 'baus_output_juris_name'] = 'Solano County'\n",
    "juris_shp.loc[juris_shp.jurisdicti == 'Unincorporated Sonoma', 'baus_output_juris_name'] = 'Sonoma County'\n",
    "display(juris_shp)"
   ]
  },
  {
   "cell_type": "code",
   "execution_count": 3,
   "metadata": {},
   "outputs": [
    {
     "name": "stdout",
     "output_type": "stream",
     "text": [
      "read 52 rows of baseline inclusionary zoning data\n",
      "GEOID                       object\n",
      "county                      object\n",
      "jurisdicti                  object\n",
      "geometry                  geometry\n",
      "baus_output_juris_name      object\n",
      "Jurisdictions               object\n",
      "IZ_baseline                float64\n",
      "dtype: object\n"
     ]
    },
    {
     "data": {
      "text/html": [
       "<div>\n",
       "<style scoped>\n",
       "    .dataframe tbody tr th:only-of-type {\n",
       "        vertical-align: middle;\n",
       "    }\n",
       "\n",
       "    .dataframe tbody tr th {\n",
       "        vertical-align: top;\n",
       "    }\n",
       "\n",
       "    .dataframe thead th {\n",
       "        text-align: right;\n",
       "    }\n",
       "</style>\n",
       "<table border=\"1\" class=\"dataframe\">\n",
       "  <thead>\n",
       "    <tr style=\"text-align: right;\">\n",
       "      <th></th>\n",
       "      <th>GEOID</th>\n",
       "      <th>county</th>\n",
       "      <th>jurisdicti</th>\n",
       "      <th>geometry</th>\n",
       "      <th>baus_output_juris_name</th>\n",
       "      <th>Jurisdictions</th>\n",
       "      <th>IZ_baseline</th>\n",
       "    </tr>\n",
       "  </thead>\n",
       "  <tbody>\n",
       "    <tr>\n",
       "      <th>0</th>\n",
       "      <td>0600562</td>\n",
       "      <td>Alameda</td>\n",
       "      <td>Alameda</td>\n",
       "      <td>MULTIPOLYGON (((568142.943 4178126.701, 568142...</td>\n",
       "      <td>Alameda</td>\n",
       "      <td>Alameda</td>\n",
       "      <td>0.15</td>\n",
       "    </tr>\n",
       "    <tr>\n",
       "      <th>1</th>\n",
       "      <td>0600674</td>\n",
       "      <td>Alameda</td>\n",
       "      <td>Albany</td>\n",
       "      <td>POLYGON ((560402.861 4194645.578, 560403.046 4...</td>\n",
       "      <td>Albany</td>\n",
       "      <td>NaN</td>\n",
       "      <td>NaN</td>\n",
       "    </tr>\n",
       "    <tr>\n",
       "      <th>2</th>\n",
       "      <td>0601640</td>\n",
       "      <td>Napa</td>\n",
       "      <td>American Canyon</td>\n",
       "      <td>MULTIPOLYGON (((567595.325 4231105.647, 567595...</td>\n",
       "      <td>American Canyon</td>\n",
       "      <td>NaN</td>\n",
       "      <td>NaN</td>\n",
       "    </tr>\n",
       "    <tr>\n",
       "      <th>3</th>\n",
       "      <td>0602252</td>\n",
       "      <td>Contra Costa</td>\n",
       "      <td>Antioch</td>\n",
       "      <td>POLYGON ((600051.373 4205376.256, 600059.015 4...</td>\n",
       "      <td>Antioch</td>\n",
       "      <td>NaN</td>\n",
       "      <td>NaN</td>\n",
       "    </tr>\n",
       "    <tr>\n",
       "      <th>4</th>\n",
       "      <td>0603092</td>\n",
       "      <td>San Mateo</td>\n",
       "      <td>Atherton</td>\n",
       "      <td>POLYGON ((567789.206 4143268.637, 567808.817 4...</td>\n",
       "      <td>Atherton</td>\n",
       "      <td>NaN</td>\n",
       "      <td>NaN</td>\n",
       "    </tr>\n",
       "  </tbody>\n",
       "</table>\n",
       "</div>"
      ],
      "text/plain": [
       "     GEOID        county       jurisdicti  \\\n",
       "0  0600562       Alameda          Alameda   \n",
       "1  0600674       Alameda           Albany   \n",
       "2  0601640          Napa  American Canyon   \n",
       "3  0602252  Contra Costa          Antioch   \n",
       "4  0603092     San Mateo         Atherton   \n",
       "\n",
       "                                            geometry baus_output_juris_name  \\\n",
       "0  MULTIPOLYGON (((568142.943 4178126.701, 568142...                Alameda   \n",
       "1  POLYGON ((560402.861 4194645.578, 560403.046 4...                 Albany   \n",
       "2  MULTIPOLYGON (((567595.325 4231105.647, 567595...        American Canyon   \n",
       "3  POLYGON ((600051.373 4205376.256, 600059.015 4...                Antioch   \n",
       "4  POLYGON ((567789.206 4143268.637, 567808.817 4...               Atherton   \n",
       "\n",
       "  Jurisdictions  IZ_baseline  \n",
       "0       Alameda         0.15  \n",
       "1           NaN          NaN  \n",
       "2           NaN          NaN  \n",
       "3           NaN          NaN  \n",
       "4           NaN          NaN  "
      ]
     },
     "metadata": {},
     "output_type": "display_data"
    }
   ],
   "source": [
    "# read baseline inclusionary zoning\n",
    "iz_baseline = pd.read_csv(r'C:\\Users\\ywang\\Box\\Modeling and Surveys\\Urban Modeling\\Bay Area UrbanSim\\PBA50\\Policies\\Inclusionary\\IZ_BASELINE_for_GIS.csv')\n",
    "print('read {} rows of baseline inclusionary zoning data'.format(iz_baseline.shape[0]))\n",
    "\n",
    "# merge with jurisdiction spatial data\n",
    "iz_baseline_by_juris = juris_shp.merge(iz_baseline,\n",
    "                                       left_on='baus_output_juris_name',\n",
    "                                       right_on='Jurisdictions',\n",
    "                                       how='left')\n",
    "print(iz_baseline_by_juris.dtypes)\n",
    "display(iz_baseline_by_juris.head())"
   ]
  },
  {
   "cell_type": "code",
   "execution_count": 4,
   "metadata": {},
   "outputs": [],
   "source": [
    "# export\n",
    "iz_baseline_by_juris.to_file(r'C:\\Users\\ywang\\Box\\Modeling and Surveys\\Urban Modeling\\Bay Area UrbanSim\\PBA50\\Policies\\Inclusionary\\IZ_baseline_by_juris.shp')"
   ]
  },
  {
   "cell_type": "markdown",
   "metadata": {},
   "source": [
    "### FBP inclusionary zoning by fbpchcat"
   ]
  },
  {
   "cell_type": "code",
   "execution_count": 5,
   "metadata": {},
   "outputs": [
    {
     "name": "stdout",
     "output_type": "stream",
     "text": [
      "read 1956207 rows of p10 spatial data\n",
      "PARCEL_ID       int64\n",
      "geometry     geometry\n",
      "dtype: object\n"
     ]
    },
    {
     "name": "stderr",
     "output_type": "stream",
     "text": [
      "C:\\Users\\ywang\\AppData\\Local\\Continuum\\anaconda3\\lib\\site-packages\\ipykernel_launcher.py:7: SettingWithCopyWarning: \n",
      "A value is trying to be set on a copy of a slice from a DataFrame.\n",
      "Try using .loc[row_indexer,col_indexer] = value instead\n",
      "\n",
      "See the caveats in the documentation: https://pandas.pydata.org/pandas-docs/stable/user_guide/indexing.html#returning-a-view-versus-a-copy\n",
      "  import sys\n"
     ]
    }
   ],
   "source": [
    "# read p10 spatial data\n",
    "p10 = gpd.read_file(r'M:\\Data\\GIS layers\\UrbanSim smelt\\p10_EIR\\p10_parcels.shp')\n",
    "\n",
    "p10_df = p10[['PARCEL_ID', 'geometry']]\n",
    "p10_df['PARCEL_ID'] = p10_df['PARCEL_ID'].apply(lambda x: int(round(x)))\n",
    "print('read {} rows of p10 spatial data'.format(p10_df.shape[0]))\n",
    "print(p10_df.dtypes)"
   ]
  },
  {
   "cell_type": "code",
   "execution_count": 6,
   "metadata": {},
   "outputs": [
    {
     "name": "stdout",
     "output_type": "stream",
     "text": [
      "read 1956208 rows of parcel_geography data\n",
      "PARCEL_ID           int64\n",
      "juris_name_full    object\n",
      "fbpchcat           object\n",
      "dtype: object\n"
     ]
    },
    {
     "data": {
      "text/html": [
       "<div>\n",
       "<style scoped>\n",
       "    .dataframe tbody tr th:only-of-type {\n",
       "        vertical-align: middle;\n",
       "    }\n",
       "\n",
       "    .dataframe tbody tr th {\n",
       "        vertical-align: top;\n",
       "    }\n",
       "\n",
       "    .dataframe thead th {\n",
       "        text-align: right;\n",
       "    }\n",
       "</style>\n",
       "<table border=\"1\" class=\"dataframe\">\n",
       "  <thead>\n",
       "    <tr style=\"text-align: right;\">\n",
       "      <th></th>\n",
       "      <th>PARCEL_ID</th>\n",
       "      <th>geometry</th>\n",
       "      <th>juris_name_full</th>\n",
       "      <th>fbpchcat</th>\n",
       "    </tr>\n",
       "  </thead>\n",
       "  <tbody>\n",
       "    <tr>\n",
       "      <th>0</th>\n",
       "      <td>229116</td>\n",
       "      <td>POLYGON ((605993.404 4168316.032, 605993.297 4...</td>\n",
       "      <td>livermore</td>\n",
       "      <td>NANAHRADISNAin</td>\n",
       "    </tr>\n",
       "    <tr>\n",
       "      <th>1</th>\n",
       "      <td>244166</td>\n",
       "      <td>POLYGON ((613491.065 4175262.642, 613490.995 4...</td>\n",
       "      <td>livermore</td>\n",
       "      <td>NAtra3DISNAin</td>\n",
       "    </tr>\n",
       "    <tr>\n",
       "      <th>2</th>\n",
       "      <td>202378</td>\n",
       "      <td>POLYGON ((586745.708 4168287.089, 586746.546 4...</td>\n",
       "      <td>hayward</td>\n",
       "      <td>NANANANAin</td>\n",
       "    </tr>\n",
       "    <tr>\n",
       "      <th>3</th>\n",
       "      <td>2004420</td>\n",
       "      <td>POLYGON ((520226.869 4286274.188, 520222.958 4...</td>\n",
       "      <td>unincorporated_sonoma</td>\n",
       "      <td>NANAHRADISNAout</td>\n",
       "    </tr>\n",
       "    <tr>\n",
       "      <th>4</th>\n",
       "      <td>340332</td>\n",
       "      <td>POLYGON ((590655.279 4155999.718, 590590.988 4...</td>\n",
       "      <td>fremont</td>\n",
       "      <td>NANAHRADISNAin</td>\n",
       "    </tr>\n",
       "  </tbody>\n",
       "</table>\n",
       "</div>"
      ],
      "text/plain": [
       "   PARCEL_ID                                           geometry  \\\n",
       "0     229116  POLYGON ((605993.404 4168316.032, 605993.297 4...   \n",
       "1     244166  POLYGON ((613491.065 4175262.642, 613490.995 4...   \n",
       "2     202378  POLYGON ((586745.708 4168287.089, 586746.546 4...   \n",
       "3    2004420  POLYGON ((520226.869 4286274.188, 520222.958 4...   \n",
       "4     340332  POLYGON ((590655.279 4155999.718, 590590.988 4...   \n",
       "\n",
       "         juris_name_full         fbpchcat  \n",
       "0              livermore   NANAHRADISNAin  \n",
       "1              livermore    NAtra3DISNAin  \n",
       "2                hayward       NANANANAin  \n",
       "3  unincorporated_sonoma  NANAHRADISNAout  \n",
       "4                fremont   NANAHRADISNAin  "
      ]
     },
     "metadata": {},
     "output_type": "display_data"
    },
    {
     "name": "stdout",
     "output_type": "stream",
     "text": [
      "p10 dissolved by fbpchcat results in 208 rows of data\n"
     ]
    }
   ],
   "source": [
    "# read parcel_geographic data with 'fbpchcat' label for parcels\n",
    "pz = pd.read_csv(r'C:\\Users\\ywang\\Box\\Modeling and Surveys\\Urban Modeling\\Bay Area UrbanSim\\PBA50\\Current PBA50 Large General Input Data\\2021_02_25_parcels_geography.csv',\n",
    "                 usecols = ['PARCEL_ID', 'fbpchcat', 'juris_name_full'])\n",
    "print('read {} rows of parcel_geography data'.format(pz.shape[0]))\n",
    "print(pz.dtypes)\n",
    "\n",
    "# join fbpchcat to parcel spatial data\n",
    "p10_z = p10_df.merge(pz, on='PARCEL_ID', how='left')\n",
    "display(p10_z.head())\n",
    "\n",
    "# dissolve on 'fbpchcat' and drop unecessary field\n",
    "p10_fbpchcat = p10_z.dissolve(by='fbpchcat').reset_index()\n",
    "p10_fbpchcat.drop(columns = ['PARCEL_ID'], inplace=True)\n",
    "print('p10 dissolved by fbpchcat results in {} rows of data'.format(p10_fbpchcat.shape[0]))"
   ]
  },
  {
   "cell_type": "code",
   "execution_count": 7,
   "metadata": {},
   "outputs": [
    {
     "name": "stdout",
     "output_type": "stream",
     "text": [
      "read 208 rows of FBP inclusionary zoning data\n"
     ]
    },
    {
     "data": {
      "text/plain": [
       "fbpchcat             object\n",
       "geometry           geometry\n",
       "juris_name_full      object\n",
       "IZ_FBP              float64\n",
       "dtype: object"
      ]
     },
     "metadata": {},
     "output_type": "display_data"
    }
   ],
   "source": [
    "# read FBP inclusionary zoning data (by fbpchcat) and join to fbpchcat spatial data\n",
    "iz_fbp = pd.read_csv(r'C:\\Users\\ywang\\Box\\Modeling and Surveys\\Urban Modeling\\Bay Area UrbanSim\\PBA50\\Policies\\Inclusionary\\IZ_FBP_for_GIS.csv')\n",
    "print('read {} rows of FBP inclusionary zoning data'.format(iz_fbp.shape[0]))\n",
    "\n",
    "iz_fbp_by_fbpchcat = p10_fbpchcat.merge(iz_fbp, on='fbpchcat', how='left')\n",
    "display(iz_fbp_by_fbpchcat.dtypes)"
   ]
  },
  {
   "cell_type": "code",
   "execution_count": 8,
   "metadata": {},
   "outputs": [],
   "source": [
    "# export\n",
    "iz_fbp_by_fbpchcat.to_file(r'C:\\Users\\ywang\\Box\\Modeling and Surveys\\Urban Modeling\\Bay Area UrbanSim\\PBA50\\Policies\\Inclusionary\\IZ_fbp_by_fbpchcat.shp')"
   ]
  }
 ],
 "metadata": {
  "kernelspec": {
   "display_name": "Python 3",
   "language": "python",
   "name": "python3"
  },
  "language_info": {
   "codemirror_mode": {
    "name": "ipython",
    "version": 3
   },
   "file_extension": ".py",
   "mimetype": "text/x-python",
   "name": "python",
   "nbconvert_exporter": "python",
   "pygments_lexer": "ipython3",
   "version": "3.7.4"
  }
 },
 "nbformat": 4,
 "nbformat_minor": 2
}
