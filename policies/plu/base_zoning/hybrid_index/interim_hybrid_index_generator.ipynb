{
 "cells": [
  {
   "cell_type": "code",
   "execution_count": 1,
   "metadata": {},
   "outputs": [],
   "source": [
    "import pandas as pd\n",
    "import numpy as np\n",
    "import os"
   ]
  },
  {
   "cell_type": "code",
   "execution_count": 2,
   "metadata": {},
   "outputs": [],
   "source": [
    "if os.getenv('USERNAME')=='ywang':\n",
    "    GITHUB_PETRALE_DIR  = 'C:\\\\Users\\\\{}\\\\Documents\\\\GitHub\\\\petrale\\\\'.format(os.getenv('USERNAME'))\n",
    "\n",
    "# input\n",
    "JURIS_ID_DIR = os.path.join(GITHUB_PETRALE_DIR,'zones', 'jurisdictions')\n",
    "# output\n",
    "INDEX_DIR    = os.path.join(GITHUB_PETRALE_DIR,'policies\\\\plu\\\\base_zoning\\\\hybrid_index\\\\interim')"
   ]
  },
  {
   "cell_type": "code",
   "execution_count": 3,
   "metadata": {},
   "outputs": [
    {
     "name": "stdout",
     "output_type": "stream",
     "text": [
      "Get 109 unique jurisdiction names\n"
     ]
    }
   ],
   "source": [
    "# obtain jurisdiction list\n",
    "juris_ls_file = os.path.join(JURIS_ID_DIR,'juris_county_id.csv')\n",
    "juris_ls = pd.read_csv(juris_ls_file,\n",
    "                       usecols = ['juris_name_full', 'county_name'])\n",
    "juris_ls.rename(columns = {'juris_name_full': 'juris_name'}, inplace = True)\n",
    "print('Get {} unique jurisdiction names'.format(len(juris_ls)))\n",
    "#idx.set_index('juris_id',inplace = True)"
   ]
  },
  {
   "cell_type": "code",
   "execution_count": 4,
   "metadata": {},
   "outputs": [],
   "source": [
    "# create zoning attribute fields and jurisdiction-level proportional adjustment fields\n",
    "ALLOWED_DEV_TYPE_CODES = [\"HS\",\"HT\",\"HM\",\"OF\",\"HO\",\"SC\",\"IL\",\"IW\",\"IH\",\"RS\",\"RB\",\"MR\",\"MT\",\"ME\"]\n",
    "INTENSITY_CODES        = ['MAX_DUA', 'MAX_FAR', 'MAX_HEIGHT']\n",
    "devType_attrs = [x+'_idx' for x in ALLOWED_DEV_TYPE_CODES]\n",
    "intensity_attrs = [x+'_idx' for x in INTENSITY_CODES]\n",
    "adjusts_attrs = ['proportion_adj_dua', 'proportion_adj_far','proportion_adj_height']\n",
    "\n",
    "# zoning attributes default at 0\n",
    "for attr in (devType_attrs + intensity_attrs):\n",
    "    juris_ls[attr] = 0\n",
    "\n",
    "# proportional adjustments default at 1\n",
    "for adjust in adjusts_attrs:\n",
    "    juris_ls[adjust] = 1"
   ]
  },
  {
   "cell_type": "code",
   "execution_count": 5,
   "metadata": {},
   "outputs": [],
   "source": [
    "# create indexe to isolate and evalute BASIS zoning intensity attributes\n",
    "\n",
    "idx_intensity_comp = juris_ls.copy()\n",
    "for intensity in (intensity_attrs):\n",
    "    idx_intensity_comp[intensity] = 1\n",
    "\n",
    "#display(idx_intensity_comp.dtypes)\n",
    "#display(idx_intensity_comp.describe)\n",
    "idx_intensity_comp.to_csv(os.path.join(INDEX_DIR,'idx_intensity_comp.csv'), index = False)"
   ]
  },
  {
   "cell_type": "code",
   "execution_count": 6,
   "metadata": {},
   "outputs": [],
   "source": [
    "# create indexes to isolate and evalute BASIS zoning development type attributes\n",
    "\n",
    "for devType in devType_attrs:\n",
    "    idx_comp = juris_ls.copy()\n",
    "    idx_comp[devType] = 1\n",
    "    \n",
    "    #display(idx_comp.dtypes)\n",
    "    #display(idx_comp.describe)\n",
    "    idx_comp.to_csv(os.path.join(INDEX_DIR,'idx_'+devType[:-4]+'_comp.csv'), index = False)"
   ]
  }
 ],
 "metadata": {
  "kernelspec": {
   "display_name": "Python 3",
   "language": "python",
   "name": "python3"
  },
  "language_info": {
   "codemirror_mode": {
    "name": "ipython",
    "version": 3
   },
   "file_extension": ".py",
   "mimetype": "text/x-python",
   "name": "python",
   "nbconvert_exporter": "python",
   "pygments_lexer": "ipython3",
   "version": "3.7.6"
  }
 },
 "nbformat": 4,
 "nbformat_minor": 4
}
