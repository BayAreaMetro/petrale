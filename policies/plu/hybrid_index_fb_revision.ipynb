{
 "cells": [
  {
   "cell_type": "code",
   "execution_count": 1,
   "metadata": {},
   "outputs": [],
   "source": [
    "import os\n",
    "import pandas as pd"
   ]
  },
  {
   "cell_type": "code",
   "execution_count": 2,
   "metadata": {},
   "outputs": [],
   "source": [
    "# set working directory\n",
    "working_dir = 'C:\\\\Users\\\\{}\\\\Documents\\\\GitHub\\\\petrale\\\\policies\\\\plu\\\\hybrid_index'.format(os.getenv('USERNAME'))\n",
    "os.chdir(working_dir)"
   ]
  },
  {
   "cell_type": "code",
   "execution_count": 3,
   "metadata": {},
   "outputs": [],
   "source": [
    "# read Draft Blueprint hybrid index\n",
    "db_hybrid_idx = pd.read_csv('idx_urbansim.csv')\n",
    "#display(db_hybrid_idx.head())\n",
    "fb_hybrid_idx = db_hybrid_idx.copy()\n",
    "\n",
    "# read hybrid index updating lookup\n",
    "idx_update = pd.read_csv('hybrid_idx_update_10192020.csv')\n",
    "idx_update.set_index('juris', inplace=True)"
   ]
  },
  {
   "cell_type": "code",
   "execution_count": 4,
   "metadata": {},
   "outputs": [
    {
     "name": "stdout",
     "output_type": "stream",
     "text": [
      "update max_far index for 82 jurisdictions\n",
      "update max_dua index for 82 jurisdictions\n"
     ]
    }
   ],
   "source": [
    "# update max_far_index and max_dua_index\n",
    "\n",
    "for intensity in ['max_far', 'max_dua']:\n",
    "    intensity_update = idx_update[intensity].dropna()\n",
    "    print('update {} index for {} jurisdictions'.format(intensity, intensity_update.shape[0]))\n",
    "\n",
    "    for juris in intensity_update.index:\n",
    "        fb_hybrid_idx.loc[fb_hybrid_idx.juris_name == juris, intensity+'_idx'] = intensity_update[juris]"
   ]
  },
  {
   "cell_type": "code",
   "execution_count": 5,
   "metadata": {},
   "outputs": [
    {
     "name": "stdout",
     "output_type": "stream",
     "text": [
      "update devType index for 82 jurisdictions\n"
     ]
    }
   ],
   "source": [
    "# update allowable dev type index\n",
    "\n",
    "blg_type_update = idx_update['blg_type'].dropna()\n",
    "print('update devType index for {} jurisdictions'.format(blg_type_update.shape[0]))\n",
    "\n",
    "for juris in blg_type_update.index:\n",
    "    for devType in ['HS','HT','HM','OF','HO','SC','IL','IW','IH','RS','RB','MR','MT','ME']:\n",
    "        fb_hybrid_idx.loc[fb_hybrid_idx.juris_name == juris, devType+'_idx'] = blg_type_update[juris]"
   ]
  },
  {
   "cell_type": "code",
   "execution_count": 6,
   "metadata": {},
   "outputs": [],
   "source": [
    "fb_hybrid_idx.to_csv('idx_urbansim_fb_10192020.csv', index=False)"
   ]
  }
 ],
 "metadata": {
  "kernelspec": {
   "display_name": "Python 3",
   "language": "python",
   "name": "python3"
  },
  "language_info": {
   "codemirror_mode": {
    "name": "ipython",
    "version": 3
   },
   "file_extension": ".py",
   "mimetype": "text/x-python",
   "name": "python",
   "nbconvert_exporter": "python",
   "pygments_lexer": "ipython3",
   "version": "3.7.6"
  }
 },
 "nbformat": 4,
 "nbformat_minor": 4
}
