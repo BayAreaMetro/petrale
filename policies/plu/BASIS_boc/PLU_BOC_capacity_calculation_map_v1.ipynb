{
 "cells": [
  {
   "cell_type": "code",
   "execution_count": 1,
   "metadata": {},
   "outputs": [],
   "source": [
    "import pandas as pd\n",
    "import numpy as np\n",
    "import geopandas as gpd\n",
    "import os\n",
    "import fiona"
   ]
  },
  {
   "cell_type": "code",
   "execution_count": 2,
   "metadata": {},
   "outputs": [],
   "source": [
    "cnty = {'Alameda': 1.0,\n",
    "'Contra Costa': 13.0,\n",
    "'Marin': 41.0,\n",
    "'Napa': 55.0,\n",
    "'San Francisco': 75.0,\n",
    "'San Mateo': 81.0,\n",
    "'Santa Clara': 85.0,\n",
    "'Solano': 95.0,\n",
    "'Sonoma': 97.0}\n",
    "\n",
    "ctyMap = pd.DataFrame(cnty.items(), columns=['CTYNAME', 'ctyCode'])"
   ]
  },
  {
   "cell_type": "markdown",
   "metadata": {},
   "source": [
    "## 0 Data sources"
   ]
  },
  {
   "cell_type": "code",
   "execution_count": null,
   "metadata": {},
   "outputs": [],
   "source": [
    "# Input files\n",
    "  # All input files are packed in \"PLU_BOC_capacity_calculation_map.zip\" at https://mtcdrive.app.box.com/file/651898444588\n",
    "    \n",
    "## Pacel 10\n",
    "p10_raw = gpd.read_file('inputs/PLU_analysis.gdb', layer='p10_table')\n",
    "p10_geo = gpd.read_file('inputs/p10_geo_shp.shp')\n",
    "\n",
    "## parcel10 to pba40 basezoning code\n",
    "pz10_raw = pd.read_csv('inputs/2020_03_06_zoning_parcels.csv')\n",
    "\n",
    "## pba40 basezoning plu\n",
    "plu10 = pd.read_csv('inputs/zoning_lookup.csv')\n",
    "\n",
    "## BASIS BOC\n",
    "p10_plu50_raw = gpd.read_file('inputs/PLU_analysis.gdb', layer='p10_boc_opt_b_v1d_tbl')\n",
    "\n",
    "## planned zoning scenarios\n",
    "zmods = pd.read_csv('inputs/03_06_2020_parcels_geography.csv')\n",
    "\n",
    "## Building data to decide parcel status\n",
    "blg10 = pd.read_csv('inputs/blg10.csv')"
   ]
  },
  {
   "cell_type": "markdown",
   "metadata": {},
   "source": [
    "## 1 Merge data sets"
   ]
  },
  {
   "cell_type": "markdown",
   "metadata": {},
   "source": [
    "### 1.1 P10 parcel zoining designations"
   ]
  },
  {
   "cell_type": "code",
   "execution_count": 6,
   "metadata": {},
   "outputs": [
    {
     "name": "stdout",
     "output_type": "stream",
     "text": [
      "(1956208, 8)\n",
      "(1950733, 11)\n"
     ]
    }
   ],
   "source": [
    "p10 = p10_raw[['PARCEL_ID','geom_id_s','COUNTY_ID','jurisdiction','ACRES','LAND_VALUE','pda_id','zoningmodcat']]\n",
    "print(p10.shape)\n",
    "#display(p10.head())\n",
    "\n",
    "## pacel to zoning code mapping\n",
    "print(pz10.shape)\n",
    "pz10 = pz10_raw[['PARCEL_ID','zoning_id','nodev_pba40']]\n",
    "#display(pz10.head())\n",
    "\n",
    "p10_z10 = p10.merge(pz10, on = 'PARCEL_ID', how = 'left')\n",
    "#display(p10_z10.head())\n",
    "\n",
    "## Check Number of parcels missing zoning designation\n",
    "#z10_missing = p10_z10.loc[p10_z10['nodev_pba40'].isnull()]\n",
    "#print(z10_missing.shape[0],z10_missing.shape[0]/pz10.shape[0])"
   ]
  },
  {
   "cell_type": "markdown",
   "metadata": {},
   "source": [
    "### 1.2 parcel 10 with PBA40 zoning code PLU"
   ]
  },
  {
   "cell_type": "code",
   "execution_count": 7,
   "metadata": {},
   "outputs": [
    {
     "name": "stdout",
     "output_type": "stream",
     "text": [
      "5156 5156 4536\n",
      "0.0034745793903306807\n"
     ]
    }
   ],
   "source": [
    "\n",
    "# check duplicates in zoning id\n",
    "plu10['id'] = plu10['id'].apply(lambda x: float(x))\n",
    "plu10['jz_o'] = plu10['city'].str.cat(plu10['name'],sep=\" \")\n",
    "print(plu10.shape[0], len(plu10.id.unique()), len(plu10.jz_o.unique()))\n",
    "\n",
    "# relabel p10 land plu info (used in PBA40)\n",
    "plu10.columns = [i+'_10' for i in list(plu10)]\n",
    "#display(plu10.head())\n",
    "\n",
    "# merge PBA40 plu to p10\n",
    "p10_plu10 = p10_z10.merge(plu10, left_on = 'zoning_id', right_on = 'id_10', how = 'left')\n",
    "#display(p10_plu10.head())\n",
    "\n",
    "# Check number of p10 records failed to find a matching PLU\n",
    "#display(p10_plu10.loc[p10_plu10['jz_o_10'].isnull()])\n",
    "print(p10_plu10.loc[p10_plu10['jz_o_10'].isnull()].shape[0] / p10_z10.shape[0])"
   ]
  },
  {
   "cell_type": "markdown",
   "metadata": {},
   "source": [
    "### 1.3 P10 with BASIS BOC"
   ]
  },
  {
   "cell_type": "code",
   "execution_count": 8,
   "metadata": {},
   "outputs": [],
   "source": [
    "plu50 = p10_plu50_raw[['parcel_id','me','mt', 'mr', 'rb', 'rs', 'ih', 'iw', 'il', 'sc', 'ho', 'of', 'hm', 'ht', 'hs',\n",
    "                       'max_height','max_dua','max_far','plu_id','plu_jurisdiction','plu_description','building_types_source','source']]\n",
    "\n",
    "# relabel BASIS land plu info (to use in PBA50)\n",
    "plu50.columns = ['PARCEL_ID'] + [i+'_18' for i in list(plu50)[1:]]\n",
    "#display(plu50.head())\n",
    "\n",
    "# merge PBA50 plu to p10\n",
    "p10_plus = p10_plu10.merge(plu50, on = 'PARCEL_ID', how = 'left')\n",
    "\n",
    "p10_plus.drop(columns = ['id_10','name_10','plandate_10','jz_o_10'],inplace = True)\n",
    "#display(p10_plus.head())"
   ]
  },
  {
   "cell_type": "markdown",
   "metadata": {},
   "source": [
    "### 1.4 Bring in Building data (b10) to determine parcel characteristics"
   ]
  },
  {
   "cell_type": "code",
   "execution_count": 9,
   "metadata": {},
   "outputs": [
    {
     "name": "stdout",
     "output_type": "stream",
     "text": [
      "1843351 1843351 1843292\n",
      "(1956269, 22)\n"
     ]
    },
    {
     "name": "stderr",
     "output_type": "stream",
     "text": [
      "C:\\Users\\ywang\\Anaconda3\\lib\\site-packages\\ipykernel_launcher.py:11: FutureWarning: Indexing with multiple keys (implicitly converted to a tuple of keys) will be deprecated, use a list instead.\n",
      "  # This is added back by InteractiveShellApp.init_path()\n",
      "C:\\Users\\ywang\\Anaconda3\\lib\\site-packages\\ipykernel_launcher.py:15: FutureWarning: Indexing with multiple keys (implicitly converted to a tuple of keys) will be deprecated, use a list instead.\n",
      "  from ipykernel import kernelapp as app\n",
      "C:\\Users\\ywang\\Anaconda3\\lib\\site-packages\\pandas\\core\\ops\\array_ops.py:253: FutureWarning: elementwise comparison failed; returning scalar instead, but in the future will perform elementwise comparison\n",
      "  res_values = method(rvalues)\n"
     ]
    },
    {
     "name": "stdout",
     "output_type": "stream",
     "text": [
      "(1956208, 10)\n"
     ]
    }
   ],
   "source": [
    "print(blg10.shape[0], len(blg10.building_id.unique()), len(blg10.parcel_id.unique()))\n",
    "#display(blg10.head())\n",
    "\n",
    "# Assign parcel characteristics\n",
    "\n",
    "# merge builing and parcel data w/ Outer-join\n",
    "b10_p10 = blg10.merge(p10[['PARCEL_ID']],left_on = 'parcel_id',right_on = 'PARCEL_ID', how = 'outer')\n",
    "print(b10_p10.shape)\n",
    "\n",
    "# sum all values for multiple buildings within one parcel\n",
    "pb10_v = b10_p10.groupby(['PARCEL_ID'])['improvement_value','residential_units','residential_sqft','non_residential_sqft',\n",
    "                                      'building_sqft','redfin_sale_price','costar_rent'].sum().reset_index()\n",
    "\n",
    "# chose the earliest built year for multiple buildings within one parcel\n",
    "pb10_yr = b10_p10.groupby(['PARCEL_ID'])['year_built','building_id'].min().reset_index()\n",
    "\n",
    "# parcel vacancy based on building type\n",
    "b10_p10['dType'] = b10_p10['development_type_id']\n",
    "blg10.loc[blg10['development_type_id'] == 0, 'dType'] = 'Vacant'\n",
    "blg10.loc[blg10['development_type_id'] == 15, 'dType'] = 'Vacant'\n",
    "pb10_vacent = b10_p10.loc[b10_p10['dType'] == 'Vacant'][['PARCEL_ID','dType']]\n",
    "\n",
    "# merge\n",
    "pb10_temp = pb10_v.merge(pb10_yr, on = 'PARCEL_ID', how = 'left').merge(pb10_vacent, on = 'PARCEL_ID', how = 'left')\n",
    "print(pb10_temp.shape)\n",
    "pb10_plus = p10_plus.merge(pb10_temp, on = 'PARCEL_ID', how = 'left')\n",
    "\n",
    "# Investment-land ratio\n",
    "pb10_plus['ILR'] = pb10_plus['improvement_value'] / pb10_plus['LAND_VALUE']\n",
    "pb10_plus.loc[pb10_plus['LAND_VALUE'] == 0, 'ILR'] = 'n/a'\n",
    "\n",
    "# Vacant parcels\n",
    "pb10_plus['vacant'] = np.where((pb10_plus['building_id'].isnull()) | (pb10_plus['dType'] == 'Vacant') | \n",
    "                          ((pb10_plus['improvement_value'] == 0) & (pb10_plus['residential_units'] == 0) & \n",
    "                             (pb10_plus['residential_sqft'] == 0) & (pb10_plus['non_residential_sqft'] == 0) &\n",
    "                             (pb10_plus['building_sqft'] == 0)), 'vacant', 'nonVacant')\n",
    "\n",
    "# building age by year-built\n",
    "pb10_plus['b_age'] = np.where(pb10_plus.year_built.isnull(), 'missing', \n",
    "                              np.where(pb10_plus.year_built < 1930, 'before 1930',\n",
    "                                      np.where(pb10_plus.year_built < 1980, '1930-1980',\n",
    "                                              np.where(pb10_plus.year_built < 2000, '1980-2000','after 2000'))))\n",
    "\n",
    "#display(pb10_plus.head())"
   ]
  },
  {
   "cell_type": "markdown",
   "metadata": {},
   "source": [
    "### 1.5 Bring in zoning scenarios data"
   ]
  },
  {
   "cell_type": "code",
   "execution_count": 12,
   "metadata": {},
   "outputs": [],
   "source": [
    "zmods.columns = list(zmods)[:-2] + ['nodev_pba50','jurisdiction_id']\n",
    "#display(zmods.head())\n",
    "\n",
    "# merge parcel data with zoning mods\n",
    "pb10_plus.geom_id_s = pd.to_numeric(pb10_plus.geom_id_s)\n",
    "pb10_plus_zmods = pb10_plus.merge(zmods, left_on = 'geom_id_s', right_on = 'geom_id', how = 'left')\n",
    "#display(pb10_plus_zmods.head())\n",
    "pb10_plus_zmods.columns = [x.upper() for x in pb10_plus_zmods.columns]\n",
    "pb10_plus_zmods.rename(columns = {'PARCEL_ID_X': 'PARCEL_ID',\n",
    "                                  'JURIS_ID': 'JURIS'}, inplace = True)"
   ]
  },
  {
   "cell_type": "markdown",
   "metadata": {},
   "source": [
    "### 1.6 Export PLU BOC data to csv"
   ]
  },
  {
   "cell_type": "code",
   "execution_count": 66,
   "metadata": {},
   "outputs": [],
   "source": [
    "p10_plu_boc = pb10_plus_zmods[['PARCEL_ID','COUNTY_ID','JURIS','PLU_ID_18','PLU_JURISDICTION_18','PLU_DESCRIPTION_18',\n",
    "                    'MAX_FAR_10','MAX_DUA_10','MAX_DUA_18','MAX_FAR_18', 'MAX_HEIGHT_10','MAX_HEIGHT_18',\n",
    "                    'HS_10','HT_10','HM_10','OF_10','HO_10','SC_10','IL_10','IW_10','IH_10','RS_10','RB_10','MR_10','MT_10','ME_10',\n",
    "                    'ME_18','MT_18','MR_18','RB_18','RS_18','IH_18','IW_18','IL_18','SC_18','HO_18','OF_18','HM_18','HT_18','HS_18',\n",
    "                    'BUILDING_TYPES_SOURCE_18','SOURCE_18']]\n",
    "p10_plu_boc.to_csv('outputs/p10_plu_boc_allAttrs.csv',index = False)\n",
    "\n",
    "### will visualize in Tableau"
   ]
  },
  {
   "cell_type": "markdown",
   "metadata": {},
   "source": [
    "## 2 Capacity statistics"
   ]
  },
  {
   "cell_type": "code",
   "execution_count": 68,
   "metadata": {},
   "outputs": [],
   "source": [
    "# select needed fields\n",
    "plu_main = pb10_plus_zmods.loc[pb10_plus_zmods['COUNTY_ID'] > 0][['PARCEL_ID','COUNTY_ID','JURIS','B_AGE','GEOM_ID_S','ACRES',\n",
    "                    'MAX_FAR_10','MAX_DUA_10','MAX_DUA_18','MAX_FAR_18', 'MAX_HEIGHT_10','MAX_HEIGHT_18',\n",
    "                    'HS_10','HT_10','HM_10','OF_10','HO_10','SC_10','IL_10','IW_10','IH_10','RS_10','RB_10','MR_10','MT_10','ME_10',\n",
    "                    'ME_18','MT_18','MR_18','RB_18','RS_18','IH_18','IW_18','IL_18','SC_18','HO_18','OF_18','HM_18','HT_18','HS_18',\n",
    "                    'YEAR_BUILT','ILR','VACANT','PBA50ZONINGMODCAT','NODEV_PBA40','NODEV_PBA50',\n",
    "                    'BUILDING_TYPES_SOURCE_18','SOURCE_18']]\n",
    "\n",
    "# Convert all types to numeric to enable calculation\n",
    "l = ['HS_10','HT_10','HM_10','OF_10','HO_10','SC_10','IL_10','IW_10','IH_10','RS_10','RB_10','MR_10','MT_10','ME_10',\n",
    "     'ME_18','MT_18','MR_18','RB_18','RS_18','IH_18','IW_18','IL_18','SC_18','HO_18','OF_18','HM_18','HT_18','HS_18',\n",
    "     'MAX_FAR_10','MAX_DUA_10','MAX_DUA_18','MAX_FAR_18','MAX_HEIGHT_10','MAX_HEIGHT_18']\n",
    "for i in l:\n",
    "    plu_main[i] = pd.to_numeric(plu_main[i], errors='coerce')\n",
    "\n",
    "# fill 'NaN' with 0\n",
    "plu_main_cy = plu_main.copy()\n",
    "plu_main.update(plu_main[l].fillna(0))"
   ]
  },
  {
   "cell_type": "markdown",
   "metadata": {},
   "source": [
    "### 2.1 Allowed Development Type Statistics"
   ]
  },
  {
   "cell_type": "code",
   "execution_count": 69,
   "metadata": {},
   "outputs": [],
   "source": [
    "cty = ctyMap.copy()\n",
    "cty.set_index('ctyCode',inplace = True)\n",
    "\n",
    "dfs = []\n",
    "devType = ['HM','MR','HS','RS','OF','IW','IL','IH','HT','HO','SC','RB','MT','ME']\n",
    "for i in devType:\n",
    "    plu = i+'_10'\n",
    "    boc = i+'_18'\n",
    "    df = plu_main[['COUNTY_ID']+ [plu,boc]].groupby(['COUNTY_ID']).sum().reset_index()\n",
    "    df.set_index('COUNTY_ID',inplace = True)\n",
    "    dfs.append(df)\n",
    "\n",
    "plu_boc_parcelCount_comp = pd.concat([cty] + dfs, axis=1,join='inner')\n",
    "#display(plu_boc_parcelCount_comp)\n",
    "\n",
    "for i in devType:\n",
    "    plu = i+'_10'\n",
    "    boc = i+'_18'\n",
    "    plu_boc_parcelCount_comp[i+'_diff'] = plu_boc_parcelCount_comp[boc] - plu_boc_parcelCount_comp[plu]\n",
    "    plu_boc_parcelCount_comp[i+'_diff_pct'] = plu_boc_parcelCount_comp[i+'_diff']/plu_boc_parcelCount_comp[plu]\n",
    "\n",
    "plu_boc_type_diff = plu_boc_parcelCount_comp[[x+'_diff' for x in devType] + [x+'_diff_pct' for x in devType]]\n",
    "#display(plu_boc_type_diff)"
   ]
  },
  {
   "cell_type": "markdown",
   "metadata": {},
   "source": [
    "### 2.2 Caculate Build out capacity for each parcel"
   ]
  },
  {
   "cell_type": "code",
   "execution_count": 70,
   "metadata": {},
   "outputs": [],
   "source": [
    "# Calculate capacity\n",
    "\n",
    "def cap(df,nonResLs,reLs,zoning_yr,pba):\n",
    "    \"\"\"\n",
    "    df: parcel data with PBA40 PLU (\"_10\") and BASIS BOC (\"_18\") attributes \n",
    "    nonResLs: a list of non-residential development types\n",
    "    reLs: a list of residential development types, including HS, HT, HM\n",
    "    zoning_yr: string, '_10' or '_18'\n",
    "    pba: string, '_PBA40' or '_PBA50'\n",
    "    \"\"\"\n",
    "    \n",
    "    # a parcel is 'allowNonRes' is at least one of the non-residential development types is allowed\n",
    "    df['allowNonRes'+zoning_yr] = df[nonResLs].sum(axis=1) > 0 \n",
    "\n",
    "    # a parcel is 'allowRes' is at least one of the residential development types is allowed\n",
    "    df['allowRes'+zoning_yr] = df[reLs].sum(axis=1) > 0\n",
    "    \n",
    "    # DUA calculations apply to parcels 'allowRes' and not marked as \"nodev\"\n",
    "    df['units'+zoning_yr] = df['ACRES'] * df['MAX_DUA'+zoning_yr]\n",
    "    \n",
    "    # if DUA is null or zero, calculate assuming a HU is 1200 square feet and a floor is 11 feet high\n",
    "    calUnits_idx = (df['allowRes'+zoning_yr] == True) & (df['MAX_DUA'+zoning_yr] == 0) & (df['NODEV'+pba] == 0)\n",
    "    df.loc[calUnits_idx,'units'+zoning_yr] = df.loc[calUnits_idx,'ACRES'] * 43560 / 1200\n",
    "    df.loc[calUnits_idx,'calc_unit'+zoning_yr] = 'Yuqi_calc'\n",
    "    \n",
    "    df.loc[(df['allowRes'+zoning_yr]== False) | (df['NODEV'+pba] == 1) ,'units'+zoning_yr] = 0\n",
    "\n",
    "    # FAR calculations apply to parcels 'allowNonRes' and not marked as \"nodev\"\n",
    "    df['sqft'+zoning_yr] = df['ACRES'] * df['MAX_FAR'+zoning_yr] * 43560\n",
    "    \n",
    "    # if FAR is null or zero, calculate assuming a floor is eleven feet hight to do the calc and land coverage 50%\n",
    "    calSQFT_idx = (df['allowNonRes'+zoning_yr] == True) & (df['MAX_FAR'+zoning_yr] == 0) & (df['NODEV'+pba] == 0)\n",
    "    df.loc[calSQFT_idx,'sqft'+zoning_yr] = df.loc[calSQFT_idx,'ACRES'] * 0.5 * (df.loc[calSQFT_idx,'MAX_HEIGHT'+zoning_yr] / 11)\n",
    "    df.loc[calSQFT_idx,'calc_sqft'+zoning_yr] = 'Yuqi_calc'\n",
    "    \n",
    "    df.loc[(df['allowNonRes'+zoning_yr]== False) | (df['NODEV'+pba] == 1),'sqft'+zoning_yr] = 0\n",
    "    \n",
    "    df['Ksqft'+zoning_yr] = df['sqft'+zoning_yr].apply(lambda x: x*0.001)\n",
    "    \n",
    "    # calculate non-residential capacity in employment\n",
    "    df['emp'+zoning_yr] = df['sqft'+zoning_yr].apply(lambda x: x / 350)\n",
    "    office_idx = (df['OF'+zoning_yr] == 1) & (df[['HO'+zoning_yr,'SC'+zoning_yr,'IL'+zoning_yr,'IW'+zoning_yr,\n",
    "                                                  'IH'+zoning_yr,'RS'+zoning_yr,'RB'+zoning_yr,'MR'+zoning_yr,\n",
    "                                                  'MT'+zoning_yr,'ME'+zoning_yr]].sum(axis = 1) == 0)\n",
    "    df.loc[office_idx,'emp'+zoning_yr] = df.loc[office_idx,'sqft'+zoning_yr].apply(lambda x: x / 175)\n",
    "    indus_idx = (df[['IL'+zoning_yr,'IW'+zoning_yr,'IH'+zoning_yr]].sum(axis = 1) > 0) & (\n",
    "        df[['OF'+zoning_yr,'HO'+zoning_yr,'SC'+zoning_yr,'RS'+zoning_yr,'RB'+zoning_yr,'MR'+zoning_yr,\n",
    "            'MT'+zoning_yr,'ME'+zoning_yr]].sum(axis = 1) == 0)\n",
    "    df.loc[indus_idx,'emp'+zoning_yr] = df.loc[indus_idx,'sqft'+zoning_yr].apply(lambda x: x / 500)\n",
    "\n",
    "    return df[['PARCEL_ID','allowRes'+zoning_yr,'allowNonRes'+zoning_yr,'units'+zoning_yr,'Ksqft'+zoning_yr,'emp'+zoning_yr,'calc_unit'+zoning_yr,'calc_sqft'+zoning_yr]] "
   ]
  },
  {
   "cell_type": "code",
   "execution_count": 71,
   "metadata": {
    "scrolled": true
   },
   "outputs": [],
   "source": [
    "nonRes = ['OF','HO','SC','IL','IW','IH','RS','RB','MR','MT','ME']\n",
    "Res = ['HS', 'HT', 'HM','MR']\n",
    "\n",
    "# Calculate PBA40 PLU capacity \n",
    "nonRes_10 = [x+'_10' for x in nonRes]\n",
    "Res_10 = [x+'_10' for x in Res]\n",
    "plu_main_10 = plu_main.copy()\n",
    "for i in ['allowRes_10','allowNonRes_10','units_10','sqft_10','Ksqft_10','emp_10',\n",
    "          'calc_unit_10','calc_sqft_10']:\n",
    "    plu_main_10[i] = np.nan\n",
    "cap_10 = cap(plu_main_10,nonRes_10,Res_10,'_10','_PBA40')\n",
    "\n",
    "# Calculate PBA50 BOC capacity \n",
    "nonRes_18 = [x+'_18' for x in nonRes]\n",
    "Res_18 = [x+'_18' for x in Res]\n",
    "plu_main_18 = plu_main.copy()\n",
    "for i in ['allowRes_18','allowNonRes_18','units_18','sqft_18','Ksqft_18','emp_18',\n",
    "          'calc_unit_18','calc_sqft_18']:\n",
    "    plu_main_18[i] = np.nan\n",
    "cap_18 = cap(plu_main_18,nonRes_18,Res_18,'_18','_PBA50')\n",
    "\n",
    "p10_capacity_temp = plu_main.merge(cap_10, on = 'PARCEL_ID', how = 'left').merge(\n",
    "    cap_18, on ='PARCEL_ID', how = 'left').merge(\n",
    "    ctyMap, left_on = 'COUNTY_ID', right_on = 'ctyCode', how = 'left')\n",
    "#display(p10_capacity_temp.head())"
   ]
  },
  {
   "cell_type": "code",
   "execution_count": 72,
   "metadata": {},
   "outputs": [],
   "source": [
    "## replace BOC columns with initial data that contains NaN to reflect \"real\" BASIS BOC data\n",
    "na_cols = ['ME_18','MT_18','MR_18','RB_18','RS_18','IH_18','IW_18','IL_18','SC_18','HO_18','OF_18','HM_18','HT_18','HS_18',\n",
    "           'MAX_DUA_18','MAX_FAR_18', 'MAX_HEIGHT_18','YEAR_BUILT','BUILDING_TYPES_SOURCE_18','SOURCE_18']\n",
    "boc_wNA = plu_main_cy[['PARCEL_ID'] + na_cols]\n",
    "p10_capacity = p10_capacity_temp.drop(columns = na_cols)\n",
    "p10_capacity = p10_capacity.merge(boc_wNA, on = 'PARCEL_ID', how = 'left')\n",
    "p10_capacity.drop(columns = ['ctyCode'], inplace = True)\n",
    "\n",
    "## export data // will visualize in Tableau\n",
    "p10_capacity.to_csv('outputs/devCapacity_allAttrs.csv', index = False)"
   ]
  },
  {
   "cell_type": "markdown",
   "metadata": {},
   "source": [
    "### 2.3 Zoning build-out-capacity at jurisdiction and county levels"
   ]
  },
  {
   "cell_type": "code",
   "execution_count": 16,
   "metadata": {},
   "outputs": [],
   "source": [
    "\"\"\"\n",
    "# BOC by jurisdiction function\n",
    "def boc_j(df):\n",
    "    boc_j = df.groupby(['JURIS'])['ACRES','units_10','units_18','sqft_10','sqft_18'].sum()\n",
    "\n",
    "    boc_j['unit_diff'] = boc_j['units_18'] - boc_j['units_10']\n",
    "    boc_j['sqft_diff'] = boc_j['sqft_18'] - boc_j['sqft_10']\n",
    "    boc_j['unit_diff_pct'] = boc_j['unit_diff'] / boc_j['units_10']\n",
    "    boc_j['sqft_diff_pct'] = boc_j['sqft_diff'] / boc_j['sqft_10']\n",
    "\n",
    "    for i in ['units_10','units_18','unit_diff','sqft_10','sqft_18','sqft_diff']:\n",
    "        boc_j[i] = boc_j[i].apply(lambda x: f'{int(x):,}')\n",
    "    return boc_j\n",
    "\n",
    "# BOC by county function\n",
    "def boc_c(df):\n",
    "    boc_cty = df.groupby(['COUNTY_ID'])['ACRES','units_10','units_18','sqft_10','sqft_18'].sum()\n",
    "    boc_cty['unit_diff'] = boc_cty['units_18'] - boc_cty['units_10']\n",
    "    boc_cty['sqft_diff'] = boc_cty['sqft_18'] - boc_cty['sqft_10']\n",
    "    boc_cty['unit_diff_pct'] = boc_cty['unit_diff'] / boc_cty['units_10']\n",
    "    boc_cty['sqft_diff_pct'] = boc_cty['sqft_diff'] / boc_cty['sqft_10']\n",
    "\n",
    "    for i in ['units_10','units_18','unit_diff','sqft_10','sqft_18','sqft_diff']:\n",
    "        boc_cty[i] = boc_cty[i].apply(lambda x: f'{int(x):,}')\n",
    "\n",
    "    boc_cty = boc_cty.reset_index()\n",
    "    boc_cty = boc_cty.loc[boc_cty['COUNTY_ID'] > 0]\n",
    "    return boc_cty\n",
    "\n",
    "# all parcels statistics\n",
    "all_boc_j = boc_j(p10_capacity)\n",
    "all_boc_j.to_csv('outputs/all_boc_jurisdiction.csv')\n",
    "\n",
    "all_boc_c = boc_c(p10_capacity)\n",
    "all_boc_c.to_csv('outputs/all_boc_county.csv')\n",
    "\n",
    "# vacant parcel statistics\n",
    "p_vac = p10_capacity.loc[p10_capacity.VACANT == 'vacant']\n",
    "\n",
    "vac_boc_j = boc_j(p_vac)\n",
    "vac_boc_j.to_csv('outputs/vac_boc_jurisdiction.csv')\n",
    "\n",
    "vac_boc_c = boc_c(p_vac)\n",
    "vac_boc_c.to_csv('outputs/vac_boc_county.csv')\n",
    "\n",
    "# low ILR parcel statistics (threadhold 0.2)\n",
    "p10_capacity.ILR = pd.to_numeric(p10_capacity.ILR, errors='coerce')\n",
    "p_low_ILR = p10_capacity.loc[p10_capacity.ILR < 0.2]\n",
    "\n",
    "low_ILR_boc_j = boc_j(p_low_ILR)\n",
    "low_ILR_boc_j.to_csv('outputs/low_ILR_boc_jurisdiction.csv')\n",
    "\n",
    "low_ILR_boc_c = boc_c(p_low_ILR)\n",
    "low_ILR_boc_c.to_csv('outputs/low_ILR_boc_county.csv')\n",
    "\n",
    "# Old building parcel statistics (1930-1980)\n",
    "p10_capacity.year_built = pd.to_numeric(p10_capacity.YEAR_BUILT, errors='coerce')\n",
    "p_old = p10_capacity.loc[(p10_capacity.YEAR_BUILT < 1980) & (p10_capacity.YEAR_BUILT >= 1930)]\n",
    "\n",
    "old_boc_j = boc_j(p_old)\n",
    "old_boc_j.to_csv('outputs/old_boc_jurisdiction.csv')\n",
    "\n",
    "old_boc_c = boc_c(p_old)\n",
    "old_boc_c.to_csv('outputs/old_boc_county.csv')\n",
    "\"\"\""
   ]
  },
  {
   "cell_type": "markdown",
   "metadata": {},
   "source": [
    "## 3 PLU BOC Mapping"
   ]
  },
  {
   "cell_type": "code",
   "execution_count": 73,
   "metadata": {},
   "outputs": [],
   "source": [
    "p10_pluboc_allAttrs = p10_capacity.merge(\n",
    "    p10_geo[['PARCEL_ID','geometry']], on = 'PARCEL_ID', how = 'left').merge(\n",
    "    p10_plu50_raw[['parcel_id','plu_jurisdiction','plu_code','plu_description']], left_on = 'PARCEL_ID', right_on = 'parcel_id', how = 'left')\n",
    "\n",
    "p10_pluboc_allAttrs.rename(columns={'plu_jurisdiction': 'PLU_JURIS',\n",
    "                             'plu_code': 'PLU_CODE', \n",
    "                             'plu_description': 'PLU_DESC', \n",
    "                             'geometry': 'GEOMETRY',\n",
    "                             'BUILDING_TYPES_SOURCE_18':'B_TYPE_SRC',\n",
    "                             'MAX_HEIGHT_10': 'MAX_H_10',\n",
    "                             'MAX_HEIGHT_18': 'MAX_H_18',\n",
    "                             'calc_unit_10': 'cal_u_10', \n",
    "                             'calc_unit_18': 'cal_u_18',\n",
    "                             'calc_sqft_10': 'cal_sf_10',\n",
    "                             'calc_sqft_18': 'cal_sf_18',\n",
    "                             'allowNonRes_10': 'nonRes1_10', \n",
    "                             'allowRes_10': 'res1_10',\n",
    "                             'allowNonRes_18': 'nonRes1_18', \n",
    "                             'allowRes_18': 'res1_18',\n",
    "                             'NODEV_PBA40': 'NODEV_40', \n",
    "                             'NODEV_PBA50': 'NODEV_50',\n",
    "                             'SOURCE_18': 'SRC'}, inplace = True)\n",
    "\n",
    "p10_pluboc_allAttrs = p10_pluboc_allAttrs.where(pd.notnull(p10_pluboc_allAttrs), None)\n",
    "\n",
    "pAttr = ['PARCEL_ID','ACRES','CTYNAME', 'COUNTY_ID', 'GEOMETRY','JURIS','PLU_JURIS', 'PLU_CODE', 'PLU_DESC']\n",
    "pCond = ['B_AGE', 'YEAR_BUILT', 'ILR', 'VACANT']\n",
    "devType = ['HS','HT','HM','OF','HO','SC','IL','IW','IH','RS','RB','MR','MT','ME']\n",
    "noDev = ['NODEV']\n",
    "allowType = ['res1','nonRes1']\n",
    "intens = ['MAX_H','MAX_DUA','MAX_FAR']\n",
    "capacity = ['units','sqft']\n",
    "srs = ['B_TYPE_SRC', 'SRC','cal_u_10','cal_u_18','cal_sf_10','cal_sf_18']"
   ]
  },
  {
   "cell_type": "code",
   "execution_count": 74,
   "metadata": {},
   "outputs": [],
   "source": [
    "def byCounty(df,cty_id):\n",
    "    df_cty = df.loc[df.CTYNAME == cty_id]\n",
    "    return df_cty\n",
    "\n",
    "def exportData(df,fname):\n",
    "    if (df.shape[0] > 0):\n",
    "        df_geo = gpd.GeoDataFrame(df, geometry='GEOMETRY')\n",
    "        df_geo.to_file('outputs/mapping/' + fname + '.shp')\n",
    "        df_csv = df.drop(columns = ['GEOMETRY'])\n",
    "        df_csv.to_csv('outputs/mapping/' + fname + '.csv', index = False)\n",
    "    else:\n",
    "        print('no records')"
   ]
  },
  {
   "cell_type": "markdown",
   "metadata": {},
   "source": [
    "### 3.1 Export All Attributes"
   ]
  },
  {
   "cell_type": "code",
   "execution_count": 42,
   "metadata": {},
   "outputs": [
    {
     "name": "stdout",
     "output_type": "stream",
     "text": [
      "Wall time: 1.02 ms\n"
     ]
    },
    {
     "data": {
      "text/plain": [
       "\"\\np10_pluboc_clean = p10_pluboc_allAttrs[pAttr +                               [x + '_10' for x in devType] + [x + '_18' for x in devType] +                               [x + '_10' for x in intens] + [x + '_18' for x in intens] +                               [x + '_10' for x in allowType] + [x + '_18' for x in allowType] +                               ['NODEV_40','NODEV_50'] +                               [x + '_10' for x in capacity] + [x + '_18' for x in capacity] +                               srs]\\n\\nexportData(p10_pluboc_clean,'p10_pluboc_allAttrs')\\n\\nfor i in ['Alameda', 'Contra Costa','Marin','Napa','San Francisco','San Mateo','Santa Clara','Solano', 'Sonoma']:\\n    df = byCounty(p10_pluboc_clean,i)\\n    print('exporting ' + i)\\n    fname = 'pluboc_' + i\\n    exportDate(df,fname)\\n\""
      ]
     },
     "execution_count": 42,
     "metadata": {},
     "output_type": "execute_result"
    }
   ],
   "source": [
    "%%time\n",
    "# export all attributes\n",
    "\"\"\"\n",
    "p10_pluboc_clean = p10_pluboc_allAttrs[pAttr + \\\n",
    "                              [x + '_10' for x in devType] + [x + '_18' for x in devType] + \\\n",
    "                              [x + '_10' for x in intens] + [x + '_18' for x in intens] + \\\n",
    "                              [x + '_10' for x in allowType] + [x + '_18' for x in allowType] + \\\n",
    "                              ['NODEV_40','NODEV_50'] + \\\n",
    "                              [x + '_10' for x in capacity] + [x + '_18' for x in capacity] + \\\n",
    "                              srs]\n",
    "\n",
    "exportData(p10_pluboc_clean,'p10_pluboc_allAttrs')\n",
    "\n",
    "for i in ['Alameda', 'Contra Costa','Marin','Napa','San Francisco','San Mateo','Santa Clara','Solano', 'Sonoma']:\n",
    "    df = byCounty(p10_pluboc_clean,i)\n",
    "    print('exporting ' + i)\n",
    "    fname = 'pluboc_' + i\n",
    "    exportDate(df,fname)\n",
    "\"\"\""
   ]
  },
  {
   "cell_type": "code",
   "execution_count": 21,
   "metadata": {},
   "outputs": [
    {
     "name": "stdout",
     "output_type": "stream",
     "text": [
      "Wall time: 37min 49s\n"
     ]
    },
    {
     "data": {
      "text/plain": [
       "\"\\nfor i in ['Alameda', 'Contra Costa','Marin','Napa','San Francisco','San Mateo','Santa Clara','Solano', 'Sonoma']:\\n    df = byCounty(allowDevType,i)\\n    print('exporting ' + i)\\n    fname = 'allowDevType_' + i\\n    exportData(df,fname)\\n\""
      ]
     },
     "execution_count": 21,
     "metadata": {},
     "output_type": "execute_result"
    }
   ],
   "source": [
    "%%time\n",
    "\n",
    "## export intensity by county\n",
    "intensity = p10_pluboc_allAttrs[pAttr + [x + '_10' for x in intens] + [x + '_18' for x in intens] + srs[:2]]\n",
    "exportData(intensity,'intensity')\n",
    "\n",
    "\"\"\"\n",
    "for i in ['Alameda', 'Contra Costa','Marin','Napa','San Francisco','San Mateo','Santa Clara','Solano', 'Sonoma']:\n",
    "    df = byCounty(intensity,i)\n",
    "    print('exporting ' + i)\n",
    "    fname = 'devIntensity_' + i\n",
    "    exportData(df,fname)\n",
    "\"\"\"\n",
    "# exportallowed development type by county\n",
    "allowDevType = p10_pluboc_allAttrs[pAttr + [x + '_10' for x in devType] + [x + '_18' for x in devType] + srs[:2]]\n",
    "exportData(allowDevType,'allowDevType')\n",
    "\n",
    "\"\"\"\n",
    "for i in ['Alameda', 'Contra Costa','Marin','Napa','San Francisco','San Mateo','Santa Clara','Solano', 'Sonoma']:\n",
    "    df = byCounty(allowDevType,i)\n",
    "    print('exporting ' + i)\n",
    "    fname = 'allowDevType_' + i\n",
    "    exportData(df,fname)\n",
    "\"\"\""
   ]
  },
  {
   "cell_type": "markdown",
   "metadata": {},
   "source": [
    "### 3.2 Selected Attributes"
   ]
  },
  {
   "cell_type": "code",
   "execution_count": 75,
   "metadata": {},
   "outputs": [
    {
     "name": "stdout",
     "output_type": "stream",
     "text": [
      "Wall time: 3min 54s\n"
     ]
    },
    {
     "data": {
      "text/plain": [
       "\"\\nfor i in ['Alameda', 'Contra Costa','Marin','Napa','San Francisco','San Mateo','Santa Clara','Solano', 'Sonoma']:\\n    df = byCounty(hm_boc,i)\\n    print('exporting ' + i)\\n    fname = 'HM_BOC_allow_' + i\\n    exportData(df,fname)\\n\""
      ]
     },
     "execution_count": 75,
     "metadata": {},
     "output_type": "execute_result"
    }
   ],
   "source": [
    "%%time\n",
    "## HM allowed in BASIS BOC\n",
    "hm_boc = p10_pluboc_allAttrs.loc[p10_pluboc_allAttrs.HM_18 == 1][pAttr + ['HM_18'] + srs[:2]]\n",
    "exportData(hm_boc,'HM_BOC_allow')\n",
    "\n",
    "\"\"\"\n",
    "for i in ['Alameda', 'Contra Costa','Marin','Napa','San Francisco','San Mateo','Santa Clara','Solano', 'Sonoma']:\n",
    "    df = byCounty(hm_boc,i)\n",
    "    print('exporting ' + i)\n",
    "    fname = 'HM_BOC_allow_' + i\n",
    "    exportData(df,fname)\n",
    "\"\"\""
   ]
  },
  {
   "cell_type": "code",
   "execution_count": 76,
   "metadata": {},
   "outputs": [
    {
     "name": "stdout",
     "output_type": "stream",
     "text": [
      "Wall time: 12min 7s\n"
     ]
    },
    {
     "data": {
      "text/plain": [
       "\"\\nfor i in ['Alameda', 'Contra Costa','Marin','Napa','San Francisco','San Mateo','Santa Clara','Solano', 'Sonoma']:\\n    df = byCounty(hm_comp,i)\\n    print('exporting ' + i)\\n    fname = 'HM_comp_' + i\\n    exportData(df,fname)\\n\""
      ]
     },
     "execution_count": 76,
     "metadata": {},
     "output_type": "execute_result"
    }
   ],
   "source": [
    "%%time\n",
    "## HM allowed: 4 categories, in pba40 plu only, in BASIS only, in both, in neither\n",
    "p10_pluboc_allAttrs['HM_comp'] = np.nan\n",
    "p10_pluboc_allAttrs['HM_comp'] = np.where((p10_pluboc_allAttrs.HM_10 == 1) & (p10_pluboc_allAttrs.HM_18 == 1),'both allow',np.where(\n",
    "        (p10_pluboc_allAttrs.HM_10 == 1) & (p10_pluboc_allAttrs.HM_18 == 0),'only pba40 allow',np.where(\n",
    "        (p10_pluboc_allAttrs.HM_10 == 0) & (p10_pluboc_allAttrs.HM_18 == 1),'only BASIS allow',np.where(\n",
    "        (p10_pluboc_allAttrs.HM_10 == 0) & (p10_pluboc_allAttrs.HM_18 == 0),'both not allow',np.where(\n",
    "        (p10_pluboc_allAttrs.HM_10.notnull()) & (p10_pluboc_allAttrs.HM_18.isnull()),'missing BASIS BOC','other')))))\n",
    "\n",
    "hm_comp = p10_pluboc_allAttrs[pAttr + ['HM_comp'] + srs[:2]]\n",
    "exportData(hm_comp,'HM_comp')\n",
    "\n",
    "\"\"\"\n",
    "for i in ['Alameda', 'Contra Costa','Marin','Napa','San Francisco','San Mateo','Santa Clara','Solano', 'Sonoma']:\n",
    "    df = byCounty(hm_comp,i)\n",
    "    print('exporting ' + i)\n",
    "    fname = 'HM_comp_' + i\n",
    "    exportData(df,fname)\n",
    "\"\"\""
   ]
  },
  {
   "cell_type": "code",
   "execution_count": 50,
   "metadata": {},
   "outputs": [
    {
     "name": "stdout",
     "output_type": "stream",
     "text": [
      "['PARCEL_ID', 'COUNTY_ID', 'JURIS', 'B_AGE', 'GEOM_ID_S', 'ACRES', 'MAX_FAR_10', 'MAX_DUA_10', 'MAX_DUA_18', 'MAX_FAR_18', 'MAX_H_10', 'MAX_H_18', 'HS_10', 'HT_10', 'HM_10', 'OF_10', 'HO_10', 'SC_10', 'IL_10', 'IW_10', 'IH_10', 'RS_10', 'RB_10', 'MR_10', 'MT_10', 'ME_10', 'ILR', 'VACANT', 'PBA50ZONINGMODCAT', 'NODEV_40', 'NODEV_50', 'res1_10', 'nonRes1_10', 'units_10', 'Ksqft_10', 'emp_10', 'cal_u_10', 'cal_sf_10', 'res1_18', 'nonRes1_18', 'units_18', 'Ksqft_18', 'emp_18', 'cal_u_18', 'cal_sf_18', 'CTYNAME', 'ME_18', 'MT_18', 'MR_18', 'RB_18', 'RS_18', 'IH_18', 'IW_18', 'IL_18', 'SC_18', 'HO_18', 'OF_18', 'HM_18', 'HT_18', 'HS_18', 'YEAR_BUILT', 'B_TYPE_SRC', 'SRC', 'GEOMETRY', 'parcel_id', 'PLU_JURIS', 'PLU_CODE', 'PLU_DESC', 'HM_comp']\n"
     ]
    }
   ],
   "source": [
    "print(list(p10_pluboc_allAttrs))"
   ]
  },
  {
   "cell_type": "code",
   "execution_count": 77,
   "metadata": {},
   "outputs": [
    {
     "name": "stdout",
     "output_type": "stream",
     "text": [
      "Wall time: 42.2 s\n"
     ]
    },
    {
     "data": {
      "text/plain": [
       "\"\\nfor i in ['Alameda', 'Contra Costa','Marin','Napa','San Francisco','San Mateo','Santa Clara','Solano', 'Sonoma']:\\n    df = byCounty(MR_noHM_boc,i)\\n    print('exporting ' + i)\\n    fname = 'MR_noHM_boc_' + i\\n    exportData(df,fname)\\n\""
      ]
     },
     "execution_count": 77,
     "metadata": {},
     "output_type": "execute_result"
    }
   ],
   "source": [
    "%%time\n",
    "## MR allowed but HM no allowed in BASIS BOC \n",
    "p10_pluboc_allAttrs['MR_noHM_boc'] = np.nan\n",
    "p10_pluboc_allAttrs['MR_noHM_boc'] = np.where((p10_pluboc_allAttrs.HM_18 == 0) & \n",
    "                                              (p10_pluboc_allAttrs.MR_18 == 1),'MR_noHM_boc',np.where((\n",
    "                                                  p10_pluboc_allAttrs.HM_18.isnull()) & \n",
    "                                              (p10_pluboc_allAttrs.MR_18 == 1),'MR_nanHM_boc','other'))\n",
    "\n",
    "MR_noHM_boc = p10_pluboc_allAttrs.query(\"MR_noHM_boc == 'MR_noHM_boc' | MR_noHM_boc == 'MR_nanHM_boc'\")\n",
    "MR_noHM_boc = MR_noHM_boc[pAttr + ['MR_noHM_boc'] + srs[:2]]\n",
    "exportData(MR_noHM_boc,'MR_noHM_boc')\n",
    "\n",
    "\"\"\"\n",
    "for i in ['Alameda', 'Contra Costa','Marin','Napa','San Francisco','San Mateo','Santa Clara','Solano', 'Sonoma']:\n",
    "    df = byCounty(MR_noHM_boc,i)\n",
    "    print('exporting ' + i)\n",
    "    fname = 'MR_noHM_boc_' + i\n",
    "    exportData(df,fname)\n",
    "\"\"\""
   ]
  },
  {
   "cell_type": "code",
   "execution_count": 78,
   "metadata": {},
   "outputs": [
    {
     "data": {
      "text/plain": [
       "1.0    712129\n",
       "2.0    423642\n",
       "3.0    251496\n",
       "4.0    198517\n",
       "dtype: int64"
      ]
     },
     "metadata": {},
     "output_type": "display_data"
    },
    {
     "data": {
      "text/plain": [
       "1    858003\n",
       "2    608412\n",
       "3    267332\n",
       "4     26752\n",
       "dtype: int64"
      ]
     },
     "metadata": {},
     "output_type": "display_data"
    },
    {
     "data": {
      "text/plain": [
       "(0, 70)"
      ]
     },
     "metadata": {},
     "output_type": "display_data"
    },
    {
     "data": {
      "text/plain": [
       "(0, 70)"
      ]
     },
     "metadata": {},
     "output_type": "display_data"
    },
    {
     "name": "stdout",
     "output_type": "stream",
     "text": [
      "Wall time: 2h 41min 16s\n"
     ]
    },
    {
     "data": {
      "text/plain": [
       "\"\\nfor i in ['Alameda', 'Contra Costa','Marin','Napa','San Francisco','San Mateo','Santa Clara','Solano', 'Sonoma']:\\n    df = byCounty(resOnly,i)\\n    print('exporting ' + i)\\n    fname = 'resCapacity_' + i\\n    exportData(df,fname)\\n\""
      ]
     },
     "execution_count": 78,
     "metadata": {},
     "output_type": "execute_result"
    }
   ],
   "source": [
    "%%time\n",
    "## integrated residential capacity (HM HS HT or MR allowed AND what is DUA: raw or calculated from FAR or height)\n",
    "resOnly = p10_pluboc_allAttrs.loc[(p10_pluboc_allAttrs.res1_10 == True) | (p10_pluboc_allAttrs.res1_18 == True)]\n",
    "\n",
    "## chk if correctly categorized parcels that allow residential\n",
    "display(resOnly.loc[resOnly.res1_18 == True][['HM_18','HS_18','HT_18','MR_18']].sum(axis = 1).value_counts())\n",
    "display(resOnly.loc[resOnly.res1_10 == True][['HM_10','HS_10','HT_10','MR_10']].sum(axis = 1).value_counts())\n",
    "\n",
    "## chk if missing units value\n",
    "display(resOnly.loc[(resOnly.units_18 == 0) & (resOnly.res1_18 == True) & (resOnly.NODEV_50 == 0)].shape)\n",
    "display(resOnly.loc[(resOnly.units_10 == 0) & (resOnly.res1_10 == True) & (resOnly.NODEV_40 == 0)].shape)\n",
    "\n",
    "## export\n",
    "res_cap_18 = resOnly[pAttr + ['units_18'] + pCond + srs[:2] + ['cal_u_18']]\n",
    "exportData(res_cap_18,'res_capacity_18')\n",
    "\n",
    "res_cap_10 = resOnly[pAttr + ['units_10'] + pCond + srs[:2] + ['cal_u_10']]\n",
    "exportData(res_cap_10,'res_capacity_10')\n",
    "\n",
    "res_DUA_18 = resOnly[pAttr + ['MAX_DUA_18'] + pCond + srs[:2]]\n",
    "exportData(res_DUA_18,'res_DUA_18')\n",
    "\n",
    "res_DUA_10 = resOnly[pAttr + ['MAX_DUA_10'] + pCond + srs[:2]]\n",
    "exportData(res_DUA_10,'res_DUA_10')\n",
    "\n",
    "\"\"\"\n",
    "for i in ['Alameda', 'Contra Costa','Marin','Napa','San Francisco','San Mateo','Santa Clara','Solano', 'Sonoma']:\n",
    "    df = byCounty(resOnly,i)\n",
    "    print('exporting ' + i)\n",
    "    fname = 'resCapacity_' + i\n",
    "    exportData(df,fname)\n",
    "\"\"\""
   ]
  },
  {
   "cell_type": "code",
   "execution_count": 79,
   "metadata": {},
   "outputs": [
    {
     "data": {
      "text/plain": [
       "1.0     274193\n",
       "2.0     132612\n",
       "4.0     109872\n",
       "5.0      96042\n",
       "6.0      74891\n",
       "3.0      52410\n",
       "9.0      46650\n",
       "7.0      37096\n",
       "8.0      28013\n",
       "10.0     26456\n",
       "11.0      8221\n",
       "13.0         2\n",
       "dtype: int64"
      ]
     },
     "metadata": {},
     "output_type": "display_data"
    },
    {
     "data": {
      "text/plain": [
       "1     385896\n",
       "2     346866\n",
       "3      58542\n",
       "4      23700\n",
       "5      16669\n",
       "7      14312\n",
       "6      13820\n",
       "8       2373\n",
       "9       1660\n",
       "10       224\n",
       "11        13\n",
       "dtype: int64"
      ]
     },
     "metadata": {},
     "output_type": "display_data"
    },
    {
     "data": {
      "text/plain": [
       "(157405, 70)"
      ]
     },
     "metadata": {},
     "output_type": "display_data"
    },
    {
     "data": {
      "text/plain": [
       "(44662, 70)"
      ]
     },
     "metadata": {},
     "output_type": "display_data"
    },
    {
     "data": {
      "text/plain": [
       "0.0    116\n",
       "Name: MAX_H_18, dtype: int64"
      ]
     },
     "metadata": {},
     "output_type": "display_data"
    },
    {
     "data": {
      "text/plain": [
       "0.0    44662\n",
       "Name: MAX_H_10, dtype: int64"
      ]
     },
     "metadata": {},
     "output_type": "display_data"
    },
    {
     "name": "stdout",
     "output_type": "stream",
     "text": [
      "Wall time: 1h 2min 27s\n"
     ]
    }
   ],
   "source": [
    "%%time\n",
    "## Employment capacity in thousands of square feet: calculate for all categories that allow employment \n",
    "## Employment capacity in employees\n",
    "    ## Assume a parcel that only allows office is 175 sqft per employee; \n",
    "    ## Assume a parcel that only allows IH IL or IW is 500 sqft per employee; \n",
    "    ## assume any other parcels with comm is 350 per employee\n",
    "\n",
    "nonResOnly = p10_pluboc_allAttrs.query('nonRes1_10 == True | nonRes1_18 == True')\n",
    "\n",
    "## chk if correctly categorized parcels that allow non-residential\n",
    "display(nonResOnly.loc[nonResOnly.nonRes1_18 == True][[x + '_18' for x in nonRes]].sum(axis = 1).value_counts())\n",
    "display(nonResOnly.loc[nonResOnly.nonRes1_10 == True][[x + '_10' for x in nonRes]].sum(axis = 1).value_counts())\n",
    "\n",
    "## chk: if missing sqft value\n",
    "display(nonResOnly.loc[(nonResOnly.Ksqft_18 == 0) & (nonResOnly.nonRes1_18 == True) & (nonResOnly.NODEV_50 == 0)].shape)\n",
    "display(nonResOnly.loc[(nonResOnly.Ksqft_10 == 0) & (nonResOnly.nonRes1_10 == True) & (nonResOnly.NODEV_40 == 0)].shape)\n",
    "\n",
    "display(nonResOnly.loc[(nonResOnly.Ksqft_18 == 0) & (nonResOnly.nonRes1_18 == True) & (nonResOnly.NODEV_50 == 0)]['MAX_H_18'].value_counts())\n",
    "display(nonResOnly.loc[(nonResOnly.Ksqft_10 == 0) & (nonResOnly.nonRes1_10 == True) & (nonResOnly.NODEV_40 == 0)]['MAX_H_10'].value_counts())\n",
    "\n",
    "## export\n",
    "nonRes_cap_18 = nonResOnly[pAttr + ['Ksqft_18'] + pCond + srs[:2] + ['cal_sf_18']]\n",
    "exportData(nonRes_cap_18,'nonRes_capacity_18')\n",
    "\n",
    "nonRes_cap_10 = nonResOnly[pAttr + ['Ksqft_10'] + pCond + srs[:2] + ['cal_sf_10']]\n",
    "exportData(nonRes_cap_10,'nonRes_capacity_10')\n",
    "\n",
    "nonRes_emp_18 = nonResOnly[pAttr + ['emp_18'] + pCond + srs[:2] + ['cal_sf_18']]\n",
    "exportData(nonRes_emp_18,'nonRes_emp_18')\n",
    "\n",
    "nonRes_emp_10 = nonResOnly[pAttr + ['emp_10'] + pCond + srs[:2] + ['cal_sf_10']]\n",
    "exportData(nonRes_emp_10,'nonRes_emp_10')"
   ]
  }
 ],
 "metadata": {
  "kernelspec": {
   "display_name": "Python 3",
   "language": "python",
   "name": "python3"
  },
  "language_info": {
   "codemirror_mode": {
    "name": "ipython",
    "version": 3
   },
   "file_extension": ".py",
   "mimetype": "text/x-python",
   "name": "python",
   "nbconvert_exporter": "python",
   "pygments_lexer": "ipython3",
   "version": "3.7.6"
  }
 },
 "nbformat": 4,
 "nbformat_minor": 2
}
