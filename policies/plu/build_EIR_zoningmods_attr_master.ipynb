{
 "cells": [
  {
   "cell_type": "markdown",
   "id": "independent-strengthening",
   "metadata": {},
   "source": [
    "Create parcel-level zoningmods master file."
   ]
  },
  {
   "cell_type": "code",
   "execution_count": 1,
   "id": "noble-cooler",
   "metadata": {},
   "outputs": [],
   "source": [
    "import pandas as pd\n",
    "import numpy as np\n",
    "import time\n",
    "\n",
    "today = time.strftime('%Y%m%d')"
   ]
  },
  {
   "cell_type": "code",
   "execution_count": 2,
   "id": "worth-chrome",
   "metadata": {},
   "outputs": [
    {
     "name": "stderr",
     "output_type": "stream",
     "text": [
      "C:\\Users\\ywang\\Anaconda3\\lib\\site-packages\\IPython\\core\\interactiveshell.py:3147: DtypeWarning: Columns (23) have mixed types.Specify dtype option on import or set low_memory=False.\n",
      "  interactivity=interactivity, compiler=compiler, result=result)\n"
     ]
    },
    {
     "name": "stdout",
     "output_type": "stream",
     "text": [
      "p10_pba50_FBP_attr has 1956208 rows, 1956208 unique PARCEL_IDs\n",
      "p10_pba50_FBP_attr fields: ['OBJECTID', 'PARCEL_ID', 'DEVELOPMEN', 'LAND_VALUE', 'ACRES', 'COUNTY_ID', 'ZONE_ID', 'PROPORTION', 'TAX_EXEMPT', 'APN', 'GEOM_ID', 'IMPUTATION', 'ID', 'CENTROID', 'X', 'Y', 'geom_id_s', 'manual_cou', 'jurisdicti', 'pda_id', 'tpp_id', 'exp_id', 'exp_score', 'opp_id', 'zoningmodc', 'perffoot', 'perfarea', 'mapshell', 'tpa_id', 'perfarea2', 'alt_zoning', 'zonetype', 'pubopp_id', 'puboppuse', 'juris_id', 'hra_id', 'trich_id', 'cat_id', 'chcat', 'zoninghzca', 'gg_id', 'tra_id', 'sesit_id', 'ppa_id', 'exp2020_id', 'pba50chcat', 'exsfd_id', 'chcatwsfd', 'pba50zonin', 'nodev', 'juris', 'fbp_gg_id', 'fbp_tra_id', 'fbp_sesit_', 'fbp_ppa_id', 'fbp_exp202', 'fbpchcat', 'fbp_exsfd_', 'fbpchcatws', 'fbpzoningm', 'Shape_Leng', 'Shape_Area']\n"
     ]
    }
   ],
   "source": [
    "p10_pba50_FBP_attr = pd.read_csv(r'C:\\Users\\ywang\\Box\\Modeling and Surveys\\Urban Modeling\\Bay Area UrbanSim\\PBA50\\Policies\\Zoning Modifications\\p10_pba50_FBP_attr_20201110.csv')\n",
    "\n",
    "print('p10_pba50_FBP_attr has {} rows, {} unique PARCEL_IDs'.format(p10_pba50_FBP_attr.shape[0],\n",
    "                                                                    len(p10_pba50_FBP_attr.PARCEL_ID.unique())))\n",
    "print('p10_pba50_FBP_attr fields: {}'.format(list(p10_pba50_FBP_attr)))"
   ]
  },
  {
   "cell_type": "code",
   "execution_count": 3,
   "id": "engaged-vinyl",
   "metadata": {},
   "outputs": [
    {
     "name": "stdout",
     "output_type": "stream",
     "text": [
      "p10_pba50_EIR_attr has 1956208 rows, 1956208 unique PARCEL_IDs\n",
      "p10_pba50_EIR_attr has 1956208 rows, 1956208 unique PARCEL_IDs\n"
     ]
    }
   ],
   "source": [
    "# create \"p10_pba50_EIR_attr\", starting with copying \"p10_pba50_FBP_attr\" \n",
    "p10_pba50_EIR_attr = p10_pba50_FBP_attr.copy()\n",
    "p10_pba50_EIR_attr['PARCEL_ID'] = p10_pba50_EIR_attr['PARCEL_ID'].apply(lambda x: int(round(x)))\n",
    "\n",
    "# create columns for EIR variables, starting with copying values from correponding FBP fields\n",
    "\n",
    "fbp_cols = ['fbp_gg_id', 'fbp_tra_id', 'fbp_sesit_',\n",
    "            'fbp_ppa_id', 'fbp_exp202']\n",
    "\n",
    "for colname_fbp in fbp_cols:\n",
    "    colname_eir = colname_fbp.replace('fbp','eir')\n",
    "    p10_pba50_EIR_attr[colname_eir] = p10_pba50_EIR_attr[colname_fbp]\n",
    "\n",
    "\n",
    "# read p10-CoC tagging and merge into p10_pba50_EIR_attr\n",
    "p10_cocid = pd.read_csv(r'C:\\Users\\ywang\\Box\\Modeling and Surveys\\Urban Modeling\\Bay Area UrbanSim\\PBA50\\Policies\\Zoning Modifications\\p10_pba50_cocid.csv')\n",
    "\n",
    "# merge \"coc_id\" field to \"p10_pba50_EIR_attr\"\n",
    "p10_pba50_EIR_attr = p10_pba50_EIR_attr.merge(p10_cocid, on='PARCEL_ID', how='outer')\n",
    "p10_pba50_EIR_attr.rename(columns={'coc_id':'eir_coc_id'}, inplace=True)\n",
    "print('p10_pba50_EIR_attr has {} rows, {} unique PARCEL_IDs'.format(p10_pba50_EIR_attr.shape[0],\n",
    "                                                                    len(p10_pba50_EIR_attr.PARCEL_ID.unique())))\n",
    "\n",
    "# read existing_res_bldg tagging and merge into p10_pba50_EIR_attr\n",
    "p10_ex_res = pd.read_csv(r'C:\\Users\\ywang\\Box\\Modeling and Surveys\\Urban Modeling\\Bay Area UrbanSim\\PBA50\\Policies\\Zoning Modifications\\p10_existing_res_bldg.csv')\n",
    "p10_pba50_EIR_attr = p10_pba50_EIR_attr.merge(p10_ex_res, on='PARCEL_ID', how='outer')\n",
    "print('p10_pba50_EIR_attr has {} rows, {} unique PARCEL_IDs'.format(p10_pba50_EIR_attr.shape[0],\n",
    "                                                                    len(p10_pba50_EIR_attr.PARCEL_ID.unique())))"
   ]
  },
  {
   "cell_type": "code",
   "execution_count": 4,
   "id": "sunrise-cinema",
   "metadata": {},
   "outputs": [
    {
     "name": "stdout",
     "output_type": "stream",
     "text": [
      "3535 unique eirzoningmod:\n"
     ]
    },
    {
     "data": {
      "text/plain": [
       "array(['livermoreNANAHRADISNANAinNA', 'livermoreNAtra3DISNANAinNA',\n",
       "       'haywardNANANANANAinres', ..., 'napaNANANANANAexp1res',\n",
       "       'unincorporated_napaNANANANAppainunNA',\n",
       "       'unincorporated_marinNANADISNANAubz_npNA'], dtype=object)"
      ]
     },
     "metadata": {},
     "output_type": "display_data"
    },
    {
     "name": "stdout",
     "output_type": "stream",
     "text": [
      "p10_pba50_EIR_attr has the following fields: ['OBJECTID', 'PARCEL_ID', 'DEVELOPMEN', 'LAND_VALUE', 'ACRES', 'COUNTY_ID', 'ZONE_ID', 'PROPORTION', 'TAX_EXEMPT', 'APN', 'GEOM_ID', 'IMPUTATION', 'ID', 'CENTROID', 'X', 'Y', 'geom_id_s', 'manual_cou', 'jurisdicti', 'pda_id', 'tpp_id', 'exp_id', 'exp_score', 'opp_id', 'zoningmodc', 'perffoot', 'perfarea', 'mapshell', 'tpa_id', 'perfarea2', 'alt_zoning', 'zonetype', 'pubopp_id', 'puboppuse', 'juris_id', 'hra_id', 'trich_id', 'cat_id', 'chcat', 'zoninghzca', 'gg_id', 'tra_id', 'sesit_id', 'ppa_id', 'exp2020_id', 'pba50chcat', 'exsfd_id', 'chcatwsfd', 'pba50zonin', 'nodev', 'juris', 'fbp_gg_id', 'fbp_tra_id', 'fbp_sesit_', 'fbp_ppa_id', 'fbp_exp202', 'fbpchcat', 'fbp_exsfd_', 'fbpchcatws', 'fbpzoningm', 'Shape_Leng', 'Shape_Area', 'eir_gg_id', 'eir_tra_id', 'eir_sesit_', 'eir_ppa_id', 'eir_exp202', 'eir_coc_id', 'ex_res_bldg', 'eirzoningm']\n"
     ]
    }
   ],
   "source": [
    "# add \"eirzoningm\" field using the new concatenation\n",
    "\n",
    "eir_zmodcat_cols = ['juris','eir_gg_id', 'eir_tra_id', 'eir_sesit_', 'eir_coc_id', 'eir_ppa_id', 'eir_exp202', 'ex_res_bldg']\n",
    "\n",
    "p10_pba50_EIR_attr[eir_zmodcat_cols] = p10_pba50_EIR_attr[eir_zmodcat_cols].apply(lambda x: x.fillna('NA'))\n",
    "p10_pba50_EIR_attr['eirzoningm'] = p10_pba50_EIR_attr[eir_zmodcat_cols].apply(lambda row: ''.join(row.values.astype(str)), axis=1)\n",
    "print('{} unique eirzoningmod:'.format(len(p10_pba50_EIR_attr.eirzoningm.unique())))\n",
    "display(p10_pba50_EIR_attr.eirzoningm.unique())\n",
    "\n",
    "print('p10_pba50_EIR_attr has the following fields: {}'.format(list(p10_pba50_EIR_attr)))"
   ]
  },
  {
   "cell_type": "code",
   "execution_count": 5,
   "id": "smooth-tokyo",
   "metadata": {},
   "outputs": [],
   "source": [
    "# export\n",
    "p10_pba50_EIR_attr.to_csv('C:\\\\Users\\\\ywang\\\\Box\\\\Modeling and Surveys\\\\Urban Modeling\\\\Bay Area UrbanSim\\\\PBA50\\\\Policies\\\\Zoning Modifications\\\\p10_pba50_EIR_attr_{}.csv'.format(today), index=False)"
   ]
  }
 ],
 "metadata": {
  "kernelspec": {
   "display_name": "Python 3",
   "language": "python",
   "name": "python3"
  },
  "language_info": {
   "codemirror_mode": {
    "name": "ipython",
    "version": 3
   },
   "file_extension": ".py",
   "mimetype": "text/x-python",
   "name": "python",
   "nbconvert_exporter": "python",
   "pygments_lexer": "ipython3",
   "version": "3.7.6"
  }
 },
 "nbformat": 4,
 "nbformat_minor": 5
}
