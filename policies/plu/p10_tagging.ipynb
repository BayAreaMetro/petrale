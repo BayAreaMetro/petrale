{
 "cells": [
  {
   "cell_type": "markdown",
   "metadata": {},
   "source": [
    "1. Tag p10 parcels by if falling into Communities of Concern (convert FileGDB to .csv)\n",
    "2. Tag p10 parcels by if residential building is present on the parcel"
   ]
  },
  {
   "cell_type": "code",
   "execution_count": 1,
   "metadata": {},
   "outputs": [],
   "source": [
    "import fiona\n",
    "import geopandas as gpd\n",
    "import pandas as pd"
   ]
  },
  {
   "cell_type": "markdown",
   "metadata": {},
   "source": [
    "### p10 parcel-coc tagging"
   ]
  },
  {
   "cell_type": "code",
   "execution_count": 2,
   "metadata": {},
   "outputs": [
    {
     "data": {
      "text/plain": [
       "['CoC_only_2020_acs2018',\n",
       " 'p10_pba50_CoC',\n",
       " 'p10_pba50_CoC_2020_acs2018',\n",
       " 'p10_pba50_CoC_2020_acs2018_tbl',\n",
       " 'p10_pba50_coc_tbl_v1_02122021',\n",
       " 'p10_pba50_coc_tbl_v2_02172021']"
      ]
     },
     "metadata": {},
     "output_type": "display_data"
    },
    {
     "name": "stdout",
     "output_type": "stream",
     "text": [
      "read 1956208 rows from parcel_coc tagging file\n"
     ]
    },
    {
     "name": "stderr",
     "output_type": "stream",
     "text": [
      "C:\\Users\\ywang\\AppData\\Local\\Continuum\\anaconda3\\lib\\site-packages\\pandas\\core\\indexing.py:1720: SettingWithCopyWarning: \n",
      "A value is trying to be set on a copy of a slice from a DataFrame.\n",
      "Try using .loc[row_indexer,col_indexer] = value instead\n",
      "\n",
      "See the caveats in the documentation: https://pandas.pydata.org/pandas-docs/stable/user_guide/indexing.html#returning-a-view-versus-a-copy\n",
      "  self._setitem_single_column(loc, value, pi)\n",
      "C:\\Users\\ywang\\AppData\\Local\\Continuum\\anaconda3\\lib\\site-packages\\ipykernel_launcher.py:13: SettingWithCopyWarning: \n",
      "A value is trying to be set on a copy of a slice from a DataFrame.\n",
      "Try using .loc[row_indexer,col_indexer] = value instead\n",
      "\n",
      "See the caveats in the documentation: https://pandas.pydata.org/pandas-docs/stable/user_guide/indexing.html#returning-a-view-versus-a-copy\n",
      "  del sys.path[0]\n"
     ]
    },
    {
     "name": "stdout",
     "output_type": "stream",
     "text": [
      "299664 parcels fall into CoC\n"
     ]
    }
   ],
   "source": [
    "f = (r'C:\\Users\\ywang\\Documents\\ArcGIS\\Projects\\EIR_zoningmods\\EIR_zoningmods.gdb')\n",
    "layers = fiona.listlayers(f)\n",
    "display(layers)\n",
    "\n",
    "df =  gpd.read_file(f,\n",
    "                     driver='FileGDB',\n",
    "                     layer='p10_pba50_coc_tbl_v2_02172021')\n",
    "print('read {} rows from parcel_coc tagging file'.format(df.shape[0]))\n",
    "\n",
    "p10_pba50_cocid = df[['PARCEL_ID', 'coc_id']]\n",
    "p10_pba50_cocid.loc[p10_pba50_cocid.coc_id != 'CoC', 'coc_id'] = 'NA'\n",
    "\n",
    "p10_pba50_cocid['PARCEL_ID'] = p10_pba50_cocid['PARCEL_ID'].apply(lambda x: int(round(x)))\n",
    "\n",
    "print('{} parcels fall into CoC'.format(p10_pba50_cocid.loc[p10_pba50_cocid.coc_id == 'CoC'].shape[0]))\n",
    "\n",
    "# export \n",
    "p10_pba50_cocid.to_csv('C:\\\\Users\\\\ywang\\\\Box\\\\Modeling and Surveys\\\\Urban Modeling\\\\Bay Area UrbanSim\\\\PBA50\\\\Policies\\\\Zoning Modifications\\\\p10_pba50_cocid.csv', index=False)"
   ]
  },
  {
   "cell_type": "markdown",
   "metadata": {},
   "source": [
    "### p10 existing residential present"
   ]
  },
  {
   "cell_type": "code",
   "execution_count": 3,
   "metadata": {},
   "outputs": [
    {
     "name": "stderr",
     "output_type": "stream",
     "text": [
      "C:\\Users\\ywang\\AppData\\Local\\Continuum\\anaconda3\\lib\\site-packages\\IPython\\core\\interactiveshell.py:3058: DtypeWarning: Columns (23) have mixed types.Specify dtype option on import or set low_memory=False.\n",
      "  interactivity=interactivity, compiler=compiler, result=result)\n"
     ]
    },
    {
     "name": "stdout",
     "output_type": "stream",
     "text": [
      "Read 1956208 rows from p10, with 1956208 unique PARCEL_IDs\n",
      "Read 1843351 rows from b10, with 1843292 unique PARCEL_IDs\n"
     ]
    }
   ],
   "source": [
    "# read basemap p10 and b10 data\n",
    "p10 = pd.read_csv(r'M:\\Data\\GIS layers\\UrbanSim smelt\\2020 03 12\\p10.csv')\n",
    "b10 = pd.read_csv(r'M:\\Data\\GIS layers\\UrbanSim smelt\\2020 03 12\\b10.csv')\n",
    "\n",
    "# make sure PARCEL_ID is integer\n",
    "p10['PARCEL_ID'] = p10['PARCEL_ID'].apply(lambda x: int(round(x)))\n",
    "print('Read {} rows from p10, with {} unique PARCEL_IDs'.format(p10.shape[0], len(p10.PARCEL_ID.unique())))\n",
    "\n",
    "b10['parcel_id'] = b10['parcel_id'].apply(lambda x: int(round(x)))\n",
    "print('Read {} rows from b10, with {} unique PARCEL_IDs'.format(b10.shape[0], len(b10.parcel_id.unique())))"
   ]
  },
  {
   "cell_type": "code",
   "execution_count": 4,
   "metadata": {},
   "outputs": [
    {
     "name": "stdout",
     "output_type": "stream",
     "text": [
      "1696059 parcels have positive residential_units\n",
      "1696008 parcels have positive residential_sqft\n"
     ]
    }
   ],
   "source": [
    "# merge parcels to buildings \n",
    "building_parcel = b10.merge(p10[['PARCEL_ID','LAND_VALUE','ACRES']],\n",
    "                            left_on='parcel_id', \n",
    "                            right_on='PARCEL_ID', \n",
    "                            how='outer')\n",
    "\n",
    "# aggregate building data by parcel\n",
    "building_groupby_parcel = building_parcel.groupby(['PARCEL_ID']).agg({\n",
    "    'improvement_value'   :'sum',\n",
    "    'residential_units'   :'sum',\n",
    "    'residential_sqft'    :'sum',\n",
    "    'non_residential_sqft':'sum',\n",
    "    'building_sqft'       :'sum',\n",
    "    'year_built'          :'min',\n",
    "    'building_id'         :'min'}).reset_index()\n",
    "\n",
    "\n",
    "# tag \n",
    "building_groupby_parcel['ex_res_bldg'] = 'NA'\n",
    "\n",
    "has_res1 = building_groupby_parcel.loc[building_groupby_parcel.residential_units > 0]\n",
    "print('{} parcels have positive residential_units'.format(has_res1.shape[0]))\n",
    "\n",
    "has_res2 = building_groupby_parcel.loc[building_groupby_parcel.residential_sqft > 0]\n",
    "print('{} parcels have positive residential_sqft'.format(has_res2.shape[0]))\n",
    "\n",
    "building_groupby_parcel.loc[building_groupby_parcel.residential_sqft > 0, 'ex_res_bldg'] = 'res'"
   ]
  },
  {
   "cell_type": "code",
   "execution_count": 5,
   "metadata": {},
   "outputs": [
    {
     "name": "stdout",
     "output_type": "stream",
     "text": [
      "export 1956208 rows\n"
     ]
    }
   ],
   "source": [
    "# export\n",
    "\n",
    "print('export {} rows'.format(building_groupby_parcel.shape[0]))\n",
    "\n",
    "building_groupby_parcel[['PARCEL_ID', 'ex_res_bldg']].to_csv('C:\\\\Users\\\\ywang\\\\Box\\\\Modeling and Surveys\\\\Urban Modeling\\\\Bay Area UrbanSim\\\\PBA50\\\\Policies\\\\Zoning Modifications\\\\p10_existing_res_bldg.csv', index=False)"
   ]
  }
 ],
 "metadata": {
  "kernelspec": {
   "display_name": "Python 3",
   "language": "python",
   "name": "python3"
  },
  "language_info": {
   "codemirror_mode": {
    "name": "ipython",
    "version": 3
   },
   "file_extension": ".py",
   "mimetype": "text/x-python",
   "name": "python",
   "nbconvert_exporter": "python",
   "pygments_lexer": "ipython3",
   "version": "3.7.4"
  }
 },
 "nbformat": 4,
 "nbformat_minor": 2
}
