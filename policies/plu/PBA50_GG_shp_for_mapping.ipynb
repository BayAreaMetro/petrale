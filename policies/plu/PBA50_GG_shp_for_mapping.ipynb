{
 "cells": [
  {
   "cell_type": "code",
   "execution_count": 1,
   "metadata": {},
   "outputs": [],
   "source": [
    "import pandas as pd\n",
    "import geopandas as gpd"
   ]
  },
  {
   "cell_type": "code",
   "execution_count": 2,
   "metadata": {},
   "outputs": [
    {
     "name": "stdout",
     "output_type": "stream",
     "text": [
      "read 1956207 rows of p10 spatial data\n",
      "PARCEL_ID       int64\n",
      "geometry     geometry\n",
      "dtype: object\n"
     ]
    },
    {
     "name": "stderr",
     "output_type": "stream",
     "text": [
      "C:\\Users\\ywang\\AppData\\Local\\Continuum\\anaconda3\\lib\\site-packages\\ipykernel_launcher.py:5: SettingWithCopyWarning: \n",
      "A value is trying to be set on a copy of a slice from a DataFrame.\n",
      "Try using .loc[row_indexer,col_indexer] = value instead\n",
      "\n",
      "See the caveats in the documentation: https://pandas.pydata.org/pandas-docs/stable/user_guide/indexing.html#returning-a-view-versus-a-copy\n",
      "  \"\"\"\n"
     ]
    }
   ],
   "source": [
    "# read p10 spatial data\n",
    "p10 = gpd.read_file(r'M:\\Data\\GIS layers\\UrbanSim smelt\\p10_EIR\\p10_parcels.shp')\n",
    "\n",
    "p10_df = p10[['PARCEL_ID', 'geometry']]\n",
    "p10_df['PARCEL_ID'] = p10_df['PARCEL_ID'].apply(lambda x: int(round(x)))\n",
    "print('read {} rows of p10 spatial data'.format(p10_df.shape[0]))\n",
    "print(p10_df.dtypes)"
   ]
  },
  {
   "cell_type": "code",
   "execution_count": 15,
   "metadata": {},
   "outputs": [
    {
     "name": "stdout",
     "output_type": "stream",
     "text": [
      "read 1956208 rows of parcel_geography data\n",
      "PARCEL_ID      int64\n",
      "hra_id        object\n",
      "fbp_gg_id     object\n",
      "fbp_tra_id    object\n",
      "dtype: object\n"
     ]
    },
    {
     "data": {
      "text/html": [
       "<div>\n",
       "<style scoped>\n",
       "    .dataframe tbody tr th:only-of-type {\n",
       "        vertical-align: middle;\n",
       "    }\n",
       "\n",
       "    .dataframe tbody tr th {\n",
       "        vertical-align: top;\n",
       "    }\n",
       "\n",
       "    .dataframe thead th {\n",
       "        text-align: right;\n",
       "    }\n",
       "</style>\n",
       "<table border=\"1\" class=\"dataframe\">\n",
       "  <thead>\n",
       "    <tr style=\"text-align: right;\">\n",
       "      <th></th>\n",
       "      <th>PARCEL_ID</th>\n",
       "      <th>geometry</th>\n",
       "      <th>hra_id</th>\n",
       "      <th>fbp_gg_id</th>\n",
       "      <th>fbp_tra_id</th>\n",
       "    </tr>\n",
       "  </thead>\n",
       "  <tbody>\n",
       "    <tr>\n",
       "      <th>0</th>\n",
       "      <td>229116</td>\n",
       "      <td>POLYGON ((605993.404 4168316.032, 605993.297 4...</td>\n",
       "      <td>HRA</td>\n",
       "      <td>NaN</td>\n",
       "      <td>NaN</td>\n",
       "    </tr>\n",
       "    <tr>\n",
       "      <th>1</th>\n",
       "      <td>244166</td>\n",
       "      <td>POLYGON ((613491.065 4175262.642, 613490.995 4...</td>\n",
       "      <td>NaN</td>\n",
       "      <td>NaN</td>\n",
       "      <td>tra3</td>\n",
       "    </tr>\n",
       "    <tr>\n",
       "      <th>2</th>\n",
       "      <td>202378</td>\n",
       "      <td>POLYGON ((586745.708 4168287.089, 586746.546 4...</td>\n",
       "      <td>NaN</td>\n",
       "      <td>NaN</td>\n",
       "      <td>NaN</td>\n",
       "    </tr>\n",
       "    <tr>\n",
       "      <th>3</th>\n",
       "      <td>2004420</td>\n",
       "      <td>POLYGON ((520226.869 4286274.188, 520222.958 4...</td>\n",
       "      <td>NaN</td>\n",
       "      <td>NaN</td>\n",
       "      <td>NaN</td>\n",
       "    </tr>\n",
       "    <tr>\n",
       "      <th>4</th>\n",
       "      <td>340332</td>\n",
       "      <td>POLYGON ((590655.279 4155999.718, 590590.988 4...</td>\n",
       "      <td>HRA</td>\n",
       "      <td>NaN</td>\n",
       "      <td>NaN</td>\n",
       "    </tr>\n",
       "  </tbody>\n",
       "</table>\n",
       "</div>"
      ],
      "text/plain": [
       "   PARCEL_ID                                           geometry hra_id  \\\n",
       "0     229116  POLYGON ((605993.404 4168316.032, 605993.297 4...    HRA   \n",
       "1     244166  POLYGON ((613491.065 4175262.642, 613490.995 4...    NaN   \n",
       "2     202378  POLYGON ((586745.708 4168287.089, 586746.546 4...    NaN   \n",
       "3    2004420  POLYGON ((520226.869 4286274.188, 520222.958 4...    NaN   \n",
       "4     340332  POLYGON ((590655.279 4155999.718, 590590.988 4...    HRA   \n",
       "\n",
       "  fbp_gg_id fbp_tra_id  \n",
       "0       NaN        NaN  \n",
       "1       NaN       tra3  \n",
       "2       NaN        NaN  \n",
       "3       NaN        NaN  \n",
       "4       NaN        NaN  "
      ]
     },
     "metadata": {},
     "output_type": "display_data"
    },
    {
     "name": "stdout",
     "output_type": "stream",
     "text": [
      "unique gg_cat:\n",
      "['NonGG/HRA/NonTRA' 'NonGG/NonHRA/tra3' 'NonGG/NonHRA/NonTRA'\n",
      " 'NonGG/HRA/tra3' 'GG/HRA/NonTRA' 'GG/NonHRA/tra2' 'GG/HRA/tra2'\n",
      " 'GG/HRA/tra3' 'GG/NonHRA/NonTRA' 'GG/NonHRA/tra3' 'GG/HRA/tra1'\n",
      " 'NonGG/HRA/tra2' 'NonGG/NonHRA/tra2' 'GG/NonHRA/tra1' 'NonGG/HRA/tra1'\n",
      " 'NonGG/NonHRA/tra1']\n"
     ]
    }
   ],
   "source": [
    "# read parcel_geographic data with 'fbpchcat' label for parcels\n",
    "pz = pd.read_csv(r'C:\\Users\\ywang\\Box\\Modeling and Surveys\\Urban Modeling\\Bay Area UrbanSim\\PBA50\\Current PBA50 Large General Input Data\\2021_02_25_parcels_geography.csv',\n",
    "                 usecols = ['PARCEL_ID', 'fbp_gg_id', 'hra_id', 'fbp_tra_id'])\n",
    "print('read {} rows of parcel_geography data'.format(pz.shape[0]))\n",
    "print(pz.dtypes)\n",
    "\n",
    "# join fbpchcat to parcel spatial data\n",
    "p10_z = p10_df.merge(pz, on='PARCEL_ID', how='left')\n",
    "display(p10_z.head())\n",
    "\n",
    "# consolidate categories\n",
    "tra_dict = {'tra3' : 'tra3',\n",
    "            'tra2c': 'tra2', \n",
    "            'tra2a': 'tra2', \n",
    "            'tra1' : 'tra1', \n",
    "            'tra2b': 'tra2'}\n",
    "p10_z['fbp_tra_id'] = p10_z['fbp_tra_id'].map(tra_dict)\n",
    "\n",
    "# fill NAs and create growth geography categories\n",
    "p10_z['fbp_gg_id'].fillna('NonGG', inplace=True)\n",
    "p10_z['hra_id'].fillna('NonHRA', inplace=True)\n",
    "p10_z['fbp_tra_id'].fillna('NonTRA', inplace=True)\n",
    "\n",
    "p10_z['gg_cat'] = p10_z['fbp_gg_id'] + '/' + p10_z['hra_id'] + '/' + p10_z['fbp_tra_id']\n",
    "print('unique gg_cat:')\n",
    "print(p10_z.gg_cat.unique())"
   ]
  },
  {
   "cell_type": "code",
   "execution_count": 16,
   "metadata": {},
   "outputs": [
    {
     "name": "stdout",
     "output_type": "stream",
     "text": [
      "['GG/HRA/NonTRA' 'GG/NonHRA/tra2' 'GG/HRA/tra2' 'GG/HRA/tra3'\n",
      " 'GG/NonHRA/NonTRA' 'GG/NonHRA/tra3' 'GG/HRA/tra1' 'GG/NonHRA/tra1']\n",
      "export 543921 rows of p10_fbp_gg\n"
     ]
    }
   ],
   "source": [
    "# select GG parcels and export\n",
    "p10_gg = p10_z.loc[p10_z.fbp_gg_id == 'GG']\n",
    "print(p10_gg.gg_cat.unique())\n",
    "print('export {} rows of p10_fbp_gg'.format(p10_gg.shape[0]))\n",
    "p10_gg.to_file(r'M:\\Data\\GIS layers\\Blueprint Land Use Strategies\\FBP_GG\\p10_fbp_gg_categories.shp')"
   ]
  },
  {
   "cell_type": "code",
   "execution_count": null,
   "metadata": {},
   "outputs": [],
   "source": []
  }
 ],
 "metadata": {
  "kernelspec": {
   "display_name": "Python 3",
   "language": "python",
   "name": "python3"
  },
  "language_info": {
   "codemirror_mode": {
    "name": "ipython",
    "version": 3
   },
   "file_extension": ".py",
   "mimetype": "text/x-python",
   "name": "python",
   "nbconvert_exporter": "python",
   "pygments_lexer": "ipython3",
   "version": "3.7.4"
  }
 },
 "nbformat": 4,
 "nbformat_minor": 2
}
