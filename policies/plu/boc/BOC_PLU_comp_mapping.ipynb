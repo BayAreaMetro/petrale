{
 "cells": [
  {
   "cell_type": "code",
   "execution_count": 3,
   "metadata": {},
   "outputs": [],
   "source": [
    "import pandas as pd\n",
    "import numpy as np\n",
    "import geopandas as gpd\n",
    "import os\n",
    "import fiona"
   ]
  },
  {
   "cell_type": "code",
   "execution_count": 4,
   "metadata": {},
   "outputs": [
    {
     "name": "stdout",
     "output_type": "stream",
     "text": [
      "['p10_boc_opt_B_v3_geo_yq']\n"
     ]
    }
   ],
   "source": [
    "# p10 geography\n",
    "p10 = gpd.read_file(r'C:\\Users\\ywang\\Documents\\ArcGIS\\Projects\\UrbanSim Data Review Option B v1c\\p10_geo_shp_yq.shp')\n",
    "\n",
    "## parcel10 to pba40 basezoning code\n",
    "pz10_raw = pd.read_csv(r'C:\\Users\\ywang\\Box\\Mine\\1_UrbanSim\\2020_03_06_zoning_parcels.csv')\n",
    "\n",
    "# pba40 basezoning plu\n",
    "plu10 = pd.read_csv('C:/Users/ywang/Documents/GitHub/bayarea_urbansim/data/zoning_lookup.csv')\n",
    "\n",
    "# pba50 basezoning PLU\n",
    "print(fiona.listlayers(r'C:\\Users\\ywang\\Documents\\ArcGIS\\Projects\\UrbanSim Data Review Option B v1c\\UrbanSim Data Review Option B v1c.gdb'))\n",
    "p10_plu50_raw = gpd.read_file(r'C:\\Users\\ywang\\Documents\\ArcGIS\\Projects\\UrbanSim Data Review Option B v1c\\UrbanSim Data Review Option B v1c.gdb', layer='p10_boc_opt_B_v3_geo_yq')\n",
    "#plu50 = pd.read_csv(r'C:\\Users\\ywang\\Box\\Mine\\3_BASIS\\urbansim_boc_2010_mod.csv')"
   ]
  },
  {
   "cell_type": "code",
   "execution_count": 5,
   "metadata": {},
   "outputs": [
    {
     "name": "stdout",
     "output_type": "stream",
     "text": [
      "(1956208, 14)\n",
      "(1950733, 3)\n",
      "(1956208, 16)\n",
      "5476\n",
      "0.002807149927745109\n"
     ]
    }
   ],
   "source": [
    "# parcel geometry\n",
    "#p10 = p10_raw[['PARCEL_ID','APN','geom_id_s','COUNTY_ID','jurisdiction',\n",
    "#                          'ACRES','LAND_VALUE','pda_id','zoningmodcat']]\n",
    "print(p10.shape)\n",
    "#display(p10.head())\n",
    "\n",
    "# pacel to zoning code mapping\n",
    "pz10 = pz10_raw[['PARCEL_ID','zoning_id','nodev_pba40']]\n",
    "print(pz10.shape)\n",
    "#display(pz10.head())\n",
    "\n",
    "p10_z10 = p10.merge(pz10, on = 'PARCEL_ID', how = 'left')\n",
    "print(p10_z10.shape)\n",
    "#display(p10_z10.head())\n",
    "\n",
    "# Check Number of parcels missing zoning designation\n",
    "z10_missing = p10_z10.loc[p10_z10['nodev_pba40'].isnull()]\n",
    "print(z10_missing.shape[0])\n",
    "print(z10_missing.shape[0]/pz10.shape[0])"
   ]
  },
  {
   "cell_type": "code",
   "execution_count": 6,
   "metadata": {},
   "outputs": [
    {
     "name": "stdout",
     "output_type": "stream",
     "text": [
      "5156 5156 4536\n",
      "0.0034745793903306807\n"
     ]
    }
   ],
   "source": [
    "## pba50 PLU\n",
    "\n",
    "# check duplicates in zoning id\n",
    "plu10 = pd.read_csv('C:/Users/ywang/Documents/GitHub/bayarea_urbansim/data/zoning_lookup.csv')\n",
    "plu10['id'] = plu10['id'].apply(lambda x: float(x))\n",
    "plu10['jz_o'] = plu10['city'].str.cat(plu10['name'],sep=\" \")\n",
    "print(plu10.shape[0], len(plu10.id.unique()), len(plu10.jz_o.unique()))\n",
    "\n",
    "# relabel p10 land plu info (used in PBA40)\n",
    "cols = [i+'_10' for i in list(plu10)]\n",
    "plu10.columns = cols\n",
    "#display(plu10.head())\n",
    "\n",
    "# merge PBA40 plu to p10\n",
    "p10_plu10 = p10_z10.merge(plu10, left_on = 'zoning_id', right_on = 'id_10', how = 'left')\n",
    "#display(p10_plu10.head())\n",
    "\n",
    "# Check number of p10 records failed to find a matching PLU\n",
    "#display(p10_plu10.loc[p10_plu10['jz_o_10'].isnull()])\n",
    "print(p10_plu10.loc[p10_plu10['jz_o_10'].isnull()].shape[0] / p10_z10.shape[0])"
   ]
  },
  {
   "cell_type": "code",
   "execution_count": 15,
   "metadata": {},
   "outputs": [
    {
     "name": "stdout",
     "output_type": "stream",
     "text": [
      "(1956208, 21)\n",
      "(1956208, 61)\n"
     ]
    }
   ],
   "source": [
    "## p10 w/ BASIS BOC\n",
    "plu50 = p10_plu50_raw.loc[:,['PARCEL_ID','me','mt', 'mr', 'rb', 'rs', 'ih', 'iw', 'il', 'sc', 'ho', 'of', 'hm', 'ht', 'hs',\n",
    "                       'max_height','max_dua','max_far','plu_id','plu_jurisdiction','plu_description']]\n",
    "\n",
    "print(plu50.shape)\n",
    "\n",
    "# relabel BASIS land plu info (to use in PBA50)\n",
    "cols2 = [i+'_18' for i in list(plu50)]\n",
    "plu50.columns = cols2\n",
    "#display(plu50.head())\n",
    "\n",
    "# merge PBA50 plu to p10\n",
    "p10_plus = p10_plu10.merge(plu50, left_on = 'PARCEL_ID', right_on = 'PARCEL_ID_18', how = 'left')\n",
    "print(p10_plus.shape)\n",
    "\n",
    "#p10_plus.drop(columns = ['zoning','tablename','Unnamed: 0','id_10','name_10','plandate_10','jz_o_10','PARCEL_ID_18'],inplace = True)\n",
    "p10_plus.columns = [x.upper() for x in p10_plus.columns]\n",
    "#display(p10_plus.head())"
   ]
  },
  {
   "cell_type": "code",
   "execution_count": 16,
   "metadata": {},
   "outputs": [],
   "source": [
    "for i in ['HS','HT','HM','OF','HO','SC','IL','IW','IH','RS','RB','MR','MT','ME']:\n",
    "    plu = i+'_10'\n",
    "    boc = i+'_18'\n",
    "    p10_plus[i+'_chk'] = np.where((p10_plus[plu] == 1) & (p10_plus[boc] == 1),'both allow',np.where(\n",
    "        (p10_plus[plu] == 1) & (p10_plus[boc] == 0),'only pba40 allow',np.where(\n",
    "        (p10_plus[plu] == 0) & (p10_plus[boc] == 1),'only basis allow',np.where(\n",
    "        (p10_plus[plu] == 0) & (p10_plus[boc] == 0),'both not allow',np.where(\n",
    "        (p10_plus[plu].notnull()) & (p10_plus[boc].isnull()),'missing BASIS BOC','other')))))"
   ]
  },
  {
   "cell_type": "code",
   "execution_count": 27,
   "metadata": {},
   "outputs": [],
   "source": [
    "ls_new = ['PARCEL_ID','PLU_ID_18', 'PLU_JURISDICTION_18','PLU_DESCRIPTION_18'] + [\n",
    "    x + '_chk' for x in ['HS','HT','HM','OF','HO','SC','IL','IW','IH','RS','RB','MR','MT','ME']]\n",
    "p10_plus_map = p10_plus[ls_new]"
   ]
  },
  {
   "cell_type": "code",
   "execution_count": 35,
   "metadata": {},
   "outputs": [],
   "source": [
    "dfs = []\n",
    "ls2 = [x + '_chk' for x in ['HS','HT','HM','OF','HO','SC','IL','IW','IH','RS','RB','MR','MT','ME']]\n",
    "for i in ls2:\n",
    "    df = p10_plus[['PARCEL_ID','PLU_ID_18','PLU_DESCRIPTION_18'] + [i]]\n",
    "    dfs.append(df)\n",
    "    df.to_csv(i+'.csv')"
   ]
  },
  {
   "cell_type": "code",
   "execution_count": 30,
   "metadata": {},
   "outputs": [],
   "source": [
    "p10_plus_map.to_csv('p10_plus_map.csv')"
   ]
  },
  {
   "cell_type": "code",
   "execution_count": 25,
   "metadata": {},
   "outputs": [],
   "source": [
    "#gdf = gpd.GeoDataFrame(p10_plus_map, geometry='GEOMETRY')\n",
    "#gdf.to_file('p10_plus_map.shp')"
   ]
  }
 ],
 "metadata": {
  "kernelspec": {
   "display_name": "Python 3",
   "language": "python",
   "name": "python3"
  },
  "language_info": {
   "codemirror_mode": {
    "name": "ipython",
    "version": 3
   },
   "file_extension": ".py",
   "mimetype": "text/x-python",
   "name": "python",
   "nbconvert_exporter": "python",
   "pygments_lexer": "ipython3",
   "version": "3.7.6"
  }
 },
 "nbformat": 4,
 "nbformat_minor": 4
}
