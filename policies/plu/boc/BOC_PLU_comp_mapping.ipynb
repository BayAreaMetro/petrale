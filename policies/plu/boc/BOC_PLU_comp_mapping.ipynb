{
 "cells": [
  {
   "cell_type": "code",
   "execution_count": 3,
   "metadata": {},
   "outputs": [],
   "source": [
    "import pandas as pd\n",
    "import numpy as np\n",
    "import geopandas as gpd\n",
    "import os\n",
    "import fiona"
   ]
  },
  {
   "cell_type": "code",
   "execution_count": 4,
   "metadata": {},
   "outputs": [
    {
     "name": "stdout",
     "output_type": "stream",
     "text": [
      "['p10_boc_opt_B_v3_geo_yq']\n"
     ]
    }
   ],
   "source": [
    "# p10 geography\n",
    "p10 = gpd.read_file(r'C:\\Users\\ywang\\Documents\\ArcGIS\\Projects\\UrbanSim Data Review Option B v1c\\p10_geo_shp_yq.shp')\n",
    "\n",
    "## parcel10 to pba40 basezoning code\n",
    "pz10_raw = pd.read_csv(r'C:\\Users\\ywang\\Box\\Mine\\1_UrbanSim\\2020_03_06_zoning_parcels.csv')\n",
    "\n",
    "# pba40 basezoning plu\n",
    "plu10 = pd.read_csv('C:/Users/ywang/Documents/GitHub/bayarea_urbansim/data/zoning_lookup.csv')\n",
    "\n",
    "# pba50 basezoning PLU\n",
    "print(fiona.listlayers(r'C:\\Users\\ywang\\Documents\\ArcGIS\\Projects\\UrbanSim Data Review Option B v1c\\UrbanSim Data Review Option B v1c.gdb'))\n",
    "p10_plu50_raw = gpd.read_file(r'C:\\Users\\ywang\\Documents\\ArcGIS\\Projects\\UrbanSim Data Review Option B v1c\\UrbanSim Data Review Option B v1c.gdb', layer='p10_boc_opt_B_v3_geo_yq')\n",
    "#plu50 = pd.read_csv(r'C:\\Users\\ywang\\Box\\Mine\\3_BASIS\\urbansim_boc_2010_mod.csv')"
   ]
  },
  {
   "cell_type": "code",
   "execution_count": 5,
   "metadata": {},
   "outputs": [
    {
     "name": "stdout",
     "output_type": "stream",
     "text": [
      "(1956208, 14)\n",
      "(1950733, 3)\n",
      "(1956208, 16)\n",
      "5476\n",
      "0.002807149927745109\n"
     ]
    }
   ],
   "source": [
    "# parcel geometry\n",
    "#p10 = p10_raw[['PARCEL_ID','APN','geom_id_s','COUNTY_ID','jurisdiction',\n",
    "#                          'ACRES','LAND_VALUE','pda_id','zoningmodcat']]\n",
    "print(p10.shape)\n",
    "#display(p10.head())\n",
    "\n",
    "# pacel to zoning code mapping\n",
    "pz10 = pz10_raw[['PARCEL_ID','zoning_id','nodev_pba40']]\n",
    "print(pz10.shape)\n",
    "#display(pz10.head())\n",
    "\n",
    "p10_z10 = p10.merge(pz10, on = 'PARCEL_ID', how = 'left')\n",
    "print(p10_z10.shape)\n",
    "#display(p10_z10.head())\n",
    "\n",
    "# Check Number of parcels missing zoning designation\n",
    "z10_missing = p10_z10.loc[p10_z10['nodev_pba40'].isnull()]\n",
    "print(z10_missing.shape[0])\n",
    "print(z10_missing.shape[0]/pz10.shape[0])"
   ]
  },
  {
   "cell_type": "code",
   "execution_count": 6,
   "metadata": {},
   "outputs": [
    {
     "name": "stdout",
     "output_type": "stream",
     "text": [
      "5156 5156 4536\n",
      "0.0034745793903306807\n"
     ]
    }
   ],
   "source": [
    "## pba50 PLU\n",
    "\n",
    "# check duplicates in zoning id\n",
    "plu10 = pd.read_csv('C:/Users/ywang/Documents/GitHub/bayarea_urbansim/data/zoning_lookup.csv')\n",
    "plu10['id'] = plu10['id'].apply(lambda x: float(x))\n",
    "plu10['jz_o'] = plu10['city'].str.cat(plu10['name'],sep=\" \")\n",
    "print(plu10.shape[0], len(plu10.id.unique()), len(plu10.jz_o.unique()))\n",
    "\n",
    "# relabel p10 land plu info (used in PBA40)\n",
    "cols = [i+'_10' for i in list(plu10)]\n",
    "plu10.columns = cols\n",
    "#display(plu10.head())\n",
    "\n",
    "# merge PBA40 plu to p10\n",
    "p10_plu10 = p10_z10.merge(plu10, left_on = 'zoning_id', right_on = 'id_10', how = 'left')\n",
    "#display(p10_plu10.head())\n",
    "\n",
    "# Check number of p10 records failed to find a matching PLU\n",
    "#display(p10_plu10.loc[p10_plu10['jz_o_10'].isnull()])\n",
    "print(p10_plu10.loc[p10_plu10['jz_o_10'].isnull()].shape[0] / p10_z10.shape[0])"
   ]
  },
  {
   "cell_type": "code",
   "execution_count": 7,
   "metadata": {},
   "outputs": [
    {
     "name": "stdout",
     "output_type": "stream",
     "text": [
      "(1956208, 21)\n",
      "(1956208, 61)\n"
     ]
    }
   ],
   "source": [
    "## p10 w/ BASIS BOC\n",
    "plu50 = p10_plu50_raw.loc[:,['PARCEL_ID','me','mt', 'mr', 'rb', 'rs', 'ih', 'iw', 'il', 'sc', 'ho', 'of', 'hm', 'ht', 'hs',\n",
    "                       'max_height','max_dua','max_far','plu_id','plu_jurisdiction','plu_description']]\n",
    "\n",
    "print(plu50.shape)\n",
    "\n",
    "# relabel BASIS land plu info (to use in PBA50)\n",
    "cols2 = [i+'_18' for i in list(plu50)]\n",
    "plu50.columns = cols2\n",
    "#display(plu50.head())\n",
    "\n",
    "# merge PBA50 plu to p10\n",
    "p10_plus = p10_plu10.merge(plu50, left_on = 'PARCEL_ID', right_on = 'PARCEL_ID_18', how = 'left')\n",
    "print(p10_plus.shape)\n",
    "\n",
    "#p10_plus.drop(columns = ['zoning','tablename','Unnamed: 0','id_10','name_10','plandate_10','jz_o_10','PARCEL_ID_18'],inplace = True)\n",
    "p10_plus.columns = [x.upper() for x in p10_plus.columns]\n",
    "#display(p10_plus.head())"
   ]
  },
  {
   "cell_type": "code",
   "execution_count": 8,
   "metadata": {},
   "outputs": [],
   "source": [
    "for i in ['HS','HT','HM','OF','HO','SC','IL','IW','IH','RS','RB','MR','MT','ME']:\n",
    "    plu = i+'_10'\n",
    "    boc = i+'_18'\n",
    "    p10_plus[i+'_chk'] = np.where((p10_plus[plu] == 1) & (p10_plus[boc] == 1),'both allow',np.where(\n",
    "        (p10_plus[plu] == 1) & (p10_plus[boc] == 0),'only pba40 allow',np.where(\n",
    "        (p10_plus[plu] == 0) & (p10_plus[boc] == 1),'only basis allow',np.where(\n",
    "        (p10_plus[plu] == 0) & (p10_plus[boc] == 0),'both not allow',np.where(\n",
    "        (p10_plus[plu].notnull()) & (p10_plus[boc].isnull()),'missing BASIS BOC','other')))))"
   ]
  },
  {
   "cell_type": "code",
   "execution_count": 9,
   "metadata": {},
   "outputs": [],
   "source": [
    "ls_new = ['PARCEL_ID','PLU_ID_18', 'PLU_JURISDICTION_18','PLU_DESCRIPTION_18'] + [\n",
    "    x + '_chk' for x in ['HS','HT','HM','OF','HO','SC','IL','IW','IH','RS','RB','MR','MT','ME']]\n",
    "p10_plus_map = p10_plus[ls_new]\n",
    "p10_plus_map.to_csv('p10_plus_map.csv')"
   ]
  },
  {
   "cell_type": "code",
   "execution_count": 10,
   "metadata": {},
   "outputs": [
    {
     "name": "stdout",
     "output_type": "stream",
     "text": [
      "HS_chk\n",
      "HT_chk\n",
      "HM_chk\n",
      "OF_chk\n",
      "HO_chk\n",
      "SC_chk\n",
      "IL_chk\n",
      "IW_chk\n",
      "IH_chk\n",
      "RS_chk\n",
      "RB_chk\n",
      "MR_chk\n",
      "MT_chk\n",
      "ME_chk\n"
     ]
    }
   ],
   "source": [
    "dfs = []\n",
    "dfs_diff = []\n",
    "ls2 = [x + '_chk' for x in ['HS','HT','HM','OF','HO','SC','IL','IW','IH','RS','RB','MR','MT','ME']]\n",
    "for i in ls2:\n",
    "    print(i)\n",
    "    df = p10_plus[['PARCEL_ID','PLU_ID_18','PLU_DESCRIPTION_18'] + [i]]\n",
    "    df1 = p10_plus[['PARCEL_ID','PLU_ID_18','PLU_DESCRIPTION_18','GEOMETRY'] + [i]]\n",
    "    df_diff = df1.loc[(df1[i] == 'only pba40 allow') | (df1[i] == 'only basis allow') | (df1[i] == 'missing BASIS BOC')]\n",
    "    dfs.append(df)\n",
    "    dfs_diff.append(df_diff)\n",
    "    df.to_csv(i+'.csv',index = False)\n",
    "    df_diff_geo = gpd.GeoDataFrame(df_diff, geometry='GEOMETRY')\n",
    "    df_diff.to_csv(i + '_diff.csv',index = False)\n",
    "    df_diff_geo.to_file(i + 'diff_geo.shp')"
   ]
  },
  {
   "cell_type": "code",
   "execution_count": 11,
   "metadata": {},
   "outputs": [],
   "source": [
    "ls_geo = ['PARCEL_ID','GEOMETRY','PLU_ID_18', 'PLU_JURISDICTION_18','PLU_DESCRIPTION_18'] + [\n",
    "    x + '_chk' for x in ['HS','HT','HM','OF','HO','SC','IL','IW','IH','RS','RB','MR','MT','ME']]\n",
    "p10_plus_geo = p10_plus[ls_geo]\n",
    "gdf = gpd.GeoDataFrame(p10_plus_geo, geometry='GEOMETRY')\n",
    "gdf.to_file('p10_plus_map.shp')"
   ]
  },
  {
   "cell_type": "code",
   "execution_count": null,
   "metadata": {},
   "outputs": [],
   "source": []
  },
  {
   "cell_type": "code",
   "execution_count": null,
   "metadata": {},
   "outputs": [],
   "source": [
    "#import matplotlib.pyplot as plt\n",
    "#fig, ax = plt.subplots(1, figsize=(10, 6))\n",
    "#gdf.plot(column='MR_chk', cmap='Blues', linewidth=0.8, ax=ax, edgecolor='0.8')"
   ]
  },
  {
   "cell_type": "code",
   "execution_count": 17,
   "metadata": {},
   "outputs": [
    {
     "ename": "ValueError",
     "evalue": "The truth value of a Series is ambiguous. Use a.empty, a.bool(), a.item(), a.any() or a.all().",
     "output_type": "error",
     "traceback": [
      "\u001b[1;31m---------------------------------------------------------------------------\u001b[0m",
      "\u001b[1;31mValueError\u001b[0m                                Traceback (most recent call last)",
      "\u001b[1;32m<ipython-input-17-646d15c13be4>\u001b[0m in \u001b[0;36m<module>\u001b[1;34m\u001b[0m\n\u001b[0;32m      1\u001b[0m \u001b[0mMR\u001b[0m \u001b[1;33m=\u001b[0m \u001b[0mgdf\u001b[0m\u001b[1;33m[\u001b[0m\u001b[1;33m[\u001b[0m\u001b[1;34m'PARCEL_ID'\u001b[0m\u001b[1;33m,\u001b[0m\u001b[1;34m'GEOMETRY'\u001b[0m\u001b[1;33m,\u001b[0m\u001b[1;34m'PLU_ID_18'\u001b[0m\u001b[1;33m,\u001b[0m \u001b[1;34m'PLU_JURISDICTION_18'\u001b[0m\u001b[1;33m,\u001b[0m\u001b[1;34m'PLU_DESCRIPTION_18'\u001b[0m\u001b[1;33m,\u001b[0m\u001b[1;34m'MR_chk'\u001b[0m\u001b[1;33m]\u001b[0m\u001b[1;33m]\u001b[0m\u001b[1;33m\u001b[0m\u001b[1;33m\u001b[0m\u001b[0m\n\u001b[1;32m----> 2\u001b[1;33m \u001b[0mMR_diff\u001b[0m \u001b[1;33m=\u001b[0m \u001b[0mMR\u001b[0m\u001b[1;33m.\u001b[0m\u001b[0mloc\u001b[0m\u001b[1;33m[\u001b[0m\u001b[0mMR\u001b[0m\u001b[1;33m.\u001b[0m\u001b[0mMR_chk\u001b[0m \u001b[1;32min\u001b[0m \u001b[1;33m(\u001b[0m\u001b[1;34m'only pba40 allow'\u001b[0m\u001b[1;33m,\u001b[0m\u001b[1;34m'only basis allow'\u001b[0m\u001b[1;33m,\u001b[0m\u001b[1;34m'missing BASIS BOC'\u001b[0m\u001b[1;33m)\u001b[0m\u001b[1;33m]\u001b[0m\u001b[1;33m\u001b[0m\u001b[1;33m\u001b[0m\u001b[0m\n\u001b[0m",
      "\u001b[1;32m~\\Anaconda3\\lib\\site-packages\\pandas\\core\\generic.py\u001b[0m in \u001b[0;36m__nonzero__\u001b[1;34m(self)\u001b[0m\n\u001b[0;32m   1477\u001b[0m     \u001b[1;32mdef\u001b[0m \u001b[0m__nonzero__\u001b[0m\u001b[1;33m(\u001b[0m\u001b[0mself\u001b[0m\u001b[1;33m)\u001b[0m\u001b[1;33m:\u001b[0m\u001b[1;33m\u001b[0m\u001b[1;33m\u001b[0m\u001b[0m\n\u001b[0;32m   1478\u001b[0m         raise ValueError(\n\u001b[1;32m-> 1479\u001b[1;33m             \u001b[1;34mf\"The truth value of a {type(self).__name__} is ambiguous. \"\u001b[0m\u001b[1;33m\u001b[0m\u001b[1;33m\u001b[0m\u001b[0m\n\u001b[0m\u001b[0;32m   1480\u001b[0m             \u001b[1;34m\"Use a.empty, a.bool(), a.item(), a.any() or a.all().\"\u001b[0m\u001b[1;33m\u001b[0m\u001b[1;33m\u001b[0m\u001b[0m\n\u001b[0;32m   1481\u001b[0m         )\n",
      "\u001b[1;31mValueError\u001b[0m: The truth value of a Series is ambiguous. Use a.empty, a.bool(), a.item(), a.any() or a.all()."
     ]
    }
   ],
   "source": [
    "#MR = gdf[['PARCEL_ID','GEOMETRY','PLU_ID_18', 'PLU_JURISDICTION_18','PLU_DESCRIPTION_18','MR_chk']]\n",
    "#MR_diff = MR.loc[(MR.MR_chk == 'only pba40 allow') | (MR.MR_chk == 'only basis allow') | (MR.MR_chk == 'missing BASIS BOC')]\n",
    "#MR_diff.to_file('MR_chk_test.shp')\n",
    "#MR_diff.shape"
   ]
  }
 ],
 "metadata": {
  "kernelspec": {
   "display_name": "Python 3",
   "language": "python",
   "name": "python3"
  },
  "language_info": {
   "codemirror_mode": {
    "name": "ipython",
    "version": 3
   },
   "file_extension": ".py",
   "mimetype": "text/x-python",
   "name": "python",
   "nbconvert_exporter": "python",
   "pygments_lexer": "ipython3",
   "version": "3.7.6"
  }
 },
 "nbformat": 4,
 "nbformat_minor": 4
}
