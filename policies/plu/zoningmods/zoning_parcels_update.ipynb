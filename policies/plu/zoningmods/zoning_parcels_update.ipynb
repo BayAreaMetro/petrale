{
 "cells": [
  {
   "cell_type": "code",
   "execution_count": 1,
   "metadata": {},
   "outputs": [],
   "source": [
    "import pandas as pd\n",
    "import geopandas as gpd\n",
    "import os\n",
    "import fiona\n",
    "import numpy as np\n",
    "from datetime import datetime"
   ]
  },
  {
   "cell_type": "code",
   "execution_count": 2,
   "metadata": {},
   "outputs": [],
   "source": [
    "if os.getenv('USERNAME')=='ywang':\n",
    "    folder      = 'C:\\\\Users\\\\ywang\\\\Documents\\\\Files_for_Py\\\\UrbanSim_input_Zoning'\n",
    "    input_dir   = os.path.join(folder, 'inputs')\n",
    "    output_dir  = os.path.join(folder, 'outputs')"
   ]
  },
  {
   "cell_type": "code",
   "execution_count": 3,
   "metadata": {},
   "outputs": [],
   "source": [
    "## Input\n",
    "pz10 = pd.read_csv(input_dir + '\\\\2015_12_21_zoning_parcels.csv')\n",
    "pz50 = pd.read_csv(input_dir + '\\\\\\p10_pba50_attr_20200407.csv',usecols=['PARCEL_ID','geom_id_s','nodev','juris_id'])"
   ]
  },
  {
   "cell_type": "code",
   "execution_count": 4,
   "metadata": {},
   "outputs": [
    {
     "name": "stdout",
     "output_type": "stream",
     "text": [
      "(1950733, 8)\n",
      "3241\n",
      "(1956208, 4)\n"
     ]
    }
   ],
   "source": [
    "print(pz10.shape)\n",
    "print(len(pz10.zoning_id.unique()))\n",
    "pz10.rename(columns={'nodev':'nodev_pba40'},inplace = True)\n",
    "#display(pz10.loc[pz10.zoning_id.isnull()])\n",
    "\n",
    "print(pz50.shape)\n",
    "pz50['geom_id_s'] = pd.to_numeric(pz50['geom_id_s'])\n",
    "pz50.rename(columns = {'geom_id_s':'geom_id'},inplace = True)"
   ]
  },
  {
   "cell_type": "code",
   "execution_count": 5,
   "metadata": {},
   "outputs": [
    {
     "data": {
      "text/plain": [
       "geom_id         int64\n",
       "zoning_id       int64\n",
       "zoning         object\n",
       "juris           int64\n",
       "prop            int64\n",
       "tablename      object\n",
       "nodev_pba40     int64\n",
       "PARCEL_ID       int64\n",
       "juris_id       object\n",
       "nodev           int64\n",
       "dtype: object"
      ]
     },
     "metadata": {},
     "output_type": "display_data"
    }
   ],
   "source": [
    "merg = pz10[['geom_id','zoning_id','zoning','juris','prop','tablename','nodev_pba40']].merge(pz50, on = 'geom_id', how = 'left')\n",
    "#display(merg.dtypes)\n",
    "\n",
    "for i in ['zoning_id','PARCEL_ID','nodev']:\n",
    "    try:\n",
    "        merg[i] = merg[i].fillna(-1).astype(np.int64)\n",
    "        merg[i].replace(-1, None, inplace = True)\n",
    "    except:\n",
    "        print(i)\n",
    "        pass\n",
    "display(merg.dtypes)"
   ]
  },
  {
   "cell_type": "code",
   "execution_count": 6,
   "metadata": {},
   "outputs": [],
   "source": [
    "today = datetime.today().strftime('%Y_%m_%d')\n",
    "merg.to_csv(output_dir + '\\\\'+today+'_zoning_parcels.csv')"
   ]
  },
  {
   "cell_type": "code",
   "execution_count": 7,
   "metadata": {},
   "outputs": [
    {
     "name": "stderr",
     "output_type": "stream",
     "text": [
      "C:\\Users\\ywang\\Anaconda3\\lib\\site-packages\\pandas\\core\\frame.py:3997: SettingWithCopyWarning: \n",
      "A value is trying to be set on a copy of a slice from a DataFrame\n",
      "\n",
      "See the caveats in the documentation: https://pandas.pydata.org/pandas-docs/stable/user_guide/indexing.html#returning-a-view-versus-a-copy\n",
      "  errors=errors,\n"
     ]
    }
   ],
   "source": [
    "nodev_pba40_1_pba50_0 = merg.loc[(merg['nodev_pba40'] == 1) & (merg['nodev'] == 0)]\n",
    "#nodev_pba40_1_pba50_0\n",
    "nodev_pba40_1_pba50_0.drop(columns = 'geom_id',inplace = True)\n",
    "nodev_pba40_1_pba50_0.to_csv(output_dir + '\\\\'+today+'nodev_pba40_1_pba50_0.csv')"
   ]
  },
  {
   "cell_type": "code",
   "execution_count": 8,
   "metadata": {},
   "outputs": [],
   "source": [
    "nodev_pba40_0_pba50_1 = merg.loc[(merg['nodev_pba40'] == 0) & (merg['nodev'] == 1)]\n",
    "#nodev_pba40_0_pba50_1\n",
    "nodev_pba40_0_pba50_1.drop(columns = 'geom_id',inplace = True)\n",
    "nodev_pba40_0_pba50_1.to_csv(output_dir + '\\\\'+today+'nodev_pba40_0_pba50_1.csv')"
   ]
  }
 ],
 "metadata": {
  "kernelspec": {
   "display_name": "Python 3",
   "language": "python",
   "name": "python3"
  },
  "language_info": {
   "codemirror_mode": {
    "name": "ipython",
    "version": 3
   },
   "file_extension": ".py",
   "mimetype": "text/x-python",
   "name": "python",
   "nbconvert_exporter": "python",
   "pygments_lexer": "ipython3",
   "version": "3.7.6"
  }
 },
 "nbformat": 4,
 "nbformat_minor": 2
}
