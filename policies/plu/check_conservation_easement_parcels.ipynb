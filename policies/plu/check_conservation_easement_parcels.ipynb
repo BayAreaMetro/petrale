{
 "cells": [
  {
   "cell_type": "code",
   "execution_count": 1,
   "metadata": {},
   "outputs": [],
   "source": [
    "import pandas as pd"
   ]
  },
  {
   "cell_type": "code",
   "execution_count": 2,
   "metadata": {},
   "outputs": [
    {
     "name": "stderr",
     "output_type": "stream",
     "text": [
      "C:\\Users\\ywang\\Anaconda3\\lib\\site-packages\\IPython\\core\\interactiveshell.py:3063: DtypeWarning: Columns (10,20) have mixed types.Specify dtype option on import or set low_memory=False.\n",
      "  interactivity=interactivity, compiler=compiler, result=result)\n"
     ]
    }
   ],
   "source": [
    "# read parcels_geography input\n",
    "\n",
    "p_g = pd.read_csv(r'C:\\Users\\ywang\\Box\\Modeling and Surveys\\Urban Modeling\\Bay Area UrbanSim\\PBA50\\PBA50 Final Blueprint Large General Input Data\\2020_11_10_parcels_geography.csv')"
   ]
  },
  {
   "cell_type": "code",
   "execution_count": 3,
   "metadata": {},
   "outputs": [
    {
     "name": "stdout",
     "output_type": "stream",
     "text": [
      "3201 parcels are within conservation easement\n"
     ]
    }
   ],
   "source": [
    "# read parcels what fall into California Conservation Easement: \n",
    "# https://arcgis.ad.mtc.ca.gov/portal/home/webmap/viewer.html?layers=60d2f1935c3a466ea7113de2a3295292\n",
    "# this data is created in ArcGIS by \"select by location - p10 parcels whose centroid is within conservation easement\"\n",
    "\n",
    "cons_easement = pd.read_csv(r'M:\\Data\\Urban\\BAUS\\PBA50\\Final_Blueprint\\Zoning Modifications\\p10_within_conservation_easement.csv') \n",
    "# only keep 'PARCEL_ID' and make sure it's integer\n",
    "cons_easement = cons_easement[['PARCEL_ID']]\n",
    "cons_easement.PARCEL_ID = cons_easement.PARCEL_ID.apply(lambda x: int(round(x)))\n",
    "cons_easement.columns = ['PARCEL_ID_cons_easement']\n",
    "print('{} parcels are within conservation easement'.format(len(cons_easement.PARCEL_ID_cons_easement.unique())))"
   ]
  },
  {
   "cell_type": "code",
   "execution_count": 4,
   "metadata": {},
   "outputs": [
    {
     "data": {
      "text/html": [
       "<div>\n",
       "<style scoped>\n",
       "    .dataframe tbody tr th:only-of-type {\n",
       "        vertical-align: middle;\n",
       "    }\n",
       "\n",
       "    .dataframe tbody tr th {\n",
       "        vertical-align: top;\n",
       "    }\n",
       "\n",
       "    .dataframe thead th {\n",
       "        text-align: right;\n",
       "    }\n",
       "</style>\n",
       "<table border=\"1\" class=\"dataframe\">\n",
       "  <thead>\n",
       "    <tr style=\"text-align: right;\">\n",
       "      <th></th>\n",
       "      <th>PARCEL_ID</th>\n",
       "      <th>nodev</th>\n",
       "      <th>cons_easement</th>\n",
       "      <th>compare</th>\n",
       "    </tr>\n",
       "  </thead>\n",
       "  <tbody>\n",
       "    <tr>\n",
       "      <th>0</th>\n",
       "      <td>229116</td>\n",
       "      <td>0.0</td>\n",
       "      <td>not cons_easement</td>\n",
       "      <td>other</td>\n",
       "    </tr>\n",
       "    <tr>\n",
       "      <th>1</th>\n",
       "      <td>244166</td>\n",
       "      <td>0.0</td>\n",
       "      <td>not cons_easement</td>\n",
       "      <td>other</td>\n",
       "    </tr>\n",
       "    <tr>\n",
       "      <th>2</th>\n",
       "      <td>202378</td>\n",
       "      <td>0.0</td>\n",
       "      <td>not cons_easement</td>\n",
       "      <td>other</td>\n",
       "    </tr>\n",
       "    <tr>\n",
       "      <th>3</th>\n",
       "      <td>2004420</td>\n",
       "      <td>0.0</td>\n",
       "      <td>not cons_easement</td>\n",
       "      <td>other</td>\n",
       "    </tr>\n",
       "    <tr>\n",
       "      <th>4</th>\n",
       "      <td>340332</td>\n",
       "      <td>1.0</td>\n",
       "      <td>not cons_easement</td>\n",
       "      <td>not cons_easement but nodev</td>\n",
       "    </tr>\n",
       "  </tbody>\n",
       "</table>\n",
       "</div>"
      ],
      "text/plain": [
       "   PARCEL_ID  nodev      cons_easement                      compare\n",
       "0     229116    0.0  not cons_easement                        other\n",
       "1     244166    0.0  not cons_easement                        other\n",
       "2     202378    0.0  not cons_easement                        other\n",
       "3    2004420    0.0  not cons_easement                        other\n",
       "4     340332    1.0  not cons_easement  not cons_easement but nodev"
      ]
     },
     "metadata": {},
     "output_type": "display_data"
    }
   ],
   "source": [
    "# merge\n",
    "nodev_comp = p_g.merge(cons_easement, \n",
    "                       left_on='PARCEL_ID',\n",
    "                       right_on='PARCEL_ID_cons_easement',\n",
    "                       how='left')\n",
    "\n",
    "# create a field 'cons_easement' to label parcels within conservation easement\n",
    "nodev_comp['cons_easement'] = 'not cons_easement'\n",
    "nodev_comp.loc[nodev_comp.PARCEL_ID_cons_easement.notnull(), 'cons_easement'] = 'cons_easement'\n",
    "\n",
    "# create a field 'compare' to categorize parcels into the following groups:\n",
    "#  - 'cons_easement but developable': parcels within conservation easement but still 'developable' in urbansim\n",
    "#  - 'not cons_easement but nodev': parcels outside of conservation easement but still not developable in urbansim\n",
    "#  - 'other': other parcels\n",
    "\n",
    "nodev_comp = nodev_comp[['PARCEL_ID', 'nodev', 'cons_easement']]\n",
    "nodev_comp['compare'] = 'other'\n",
    "nodev_comp.loc[(nodev_comp.nodev == 0) & (nodev_comp.cons_easement == 'cons_easement'), \n",
    "               'compare'] = 'cons_easement but developable'\n",
    "nodev_comp.loc[(nodev_comp.nodev == 1) & (nodev_comp.cons_easement == 'not cons_easement'),\n",
    "               'compare'] = 'not cons_easement but nodev'\n",
    "display(nodev_comp.head())"
   ]
  },
  {
   "cell_type": "code",
   "execution_count": 5,
   "metadata": {},
   "outputs": [
    {
     "data": {
      "text/plain": [
       "other                            1896127\n",
       "not cons_easement but nodev        60025\n",
       "cons_easement but developable         56\n",
       "Name: compare, dtype: int64"
      ]
     },
     "execution_count": 5,
     "metadata": {},
     "output_type": "execute_result"
    }
   ],
   "source": [
    "# statistics of 'compare'\n",
    "nodev_comp['compare'].value_counts()"
   ]
  },
  {
   "cell_type": "code",
   "execution_count": 6,
   "metadata": {},
   "outputs": [],
   "source": [
    "# read Urbansim no-project run parcel-level output\n",
    "\n",
    "p50_np = pd.read_csv(r'C:\\Users\\ywang\\Box\\Modeling and Surveys\\Urban Modeling\\Bay Area UrbanSim\\PBA50\\EIR runs\\Baseline Large (s25) runs\\NP_v5\\run188_parcel_data_2050.csv',\n",
    "                     usecols = ['parcel_id', 'residential_units', 'totemp'])\n",
    "p50_np.columns = [x+'_50' for x in list(p50_np)]\n",
    "\n",
    "p15_np = pd.read_csv(r'C:\\Users\\ywang\\Box\\Modeling and Surveys\\Urban Modeling\\Bay Area UrbanSim\\PBA50\\EIR runs\\Baseline Large (s25) runs\\NP_v5\\run188_parcel_data_2015.csv',\n",
    "                     usecols = ['parcel_id', 'residential_units', 'totemp'])\n",
    "p15_np.columns = [x+'_15' for x in list(p15_np)]"
   ]
  },
  {
   "cell_type": "code",
   "execution_count": 7,
   "metadata": {},
   "outputs": [],
   "source": [
    "# join to parcels within conversation easement but still developable\n",
    "cons_dev_sub = nodev_comp.loc[nodev_comp.compare == 'cons_easement but developable']\n",
    "cons_dev = cons_dev_sub.merge(p50_np,\n",
    "                              left_on='PARCEL_ID', \n",
    "                              right_on='parcel_id_50', \n",
    "                              how='left').merge(p15_np,\n",
    "                                                left_on='PARCEL_ID',\n",
    "                                                right_on='parcel_id_15',\n",
    "                                                how='left')"
   ]
  },
  {
   "cell_type": "code",
   "execution_count": 8,
   "metadata": {},
   "outputs": [],
   "source": [
    "# fill na and calculate 2015-2050 growth\n",
    "\n",
    "cons_dev.fillna({'residential_units_50':0,\n",
    "                 'residential_units_15':0,\n",
    "                 'totemp_50':0,\n",
    "                 'totemp_15':0}, inplace=True)\n",
    "cons_dev['residential_units_add'] = cons_dev['residential_units_50'] - cons_dev['residential_units_15']\n",
    "cons_dev['totemp_add'] = cons_dev['totemp_50'] - cons_dev['totemp_15']"
   ]
  },
  {
   "cell_type": "code",
   "execution_count": 9,
   "metadata": {},
   "outputs": [
    {
     "name": "stdout",
     "output_type": "stream",
     "text": [
      "residential_units_50    47.0\n",
      "residential_units_15    20.0\n",
      "dtype: float64\n"
     ]
    },
    {
     "data": {
      "text/html": [
       "<div>\n",
       "<style scoped>\n",
       "    .dataframe tbody tr th:only-of-type {\n",
       "        vertical-align: middle;\n",
       "    }\n",
       "\n",
       "    .dataframe tbody tr th {\n",
       "        vertical-align: top;\n",
       "    }\n",
       "\n",
       "    .dataframe thead th {\n",
       "        text-align: right;\n",
       "    }\n",
       "</style>\n",
       "<table border=\"1\" class=\"dataframe\">\n",
       "  <thead>\n",
       "    <tr style=\"text-align: right;\">\n",
       "      <th></th>\n",
       "      <th>PARCEL_ID</th>\n",
       "      <th>residential_units_50</th>\n",
       "      <th>residential_units_15</th>\n",
       "      <th>residential_units_add</th>\n",
       "    </tr>\n",
       "  </thead>\n",
       "  <tbody>\n",
       "    <tr>\n",
       "      <th>27</th>\n",
       "      <td>388858</td>\n",
       "      <td>28.0</td>\n",
       "      <td>1.0</td>\n",
       "      <td>27.0</td>\n",
       "    </tr>\n",
       "  </tbody>\n",
       "</table>\n",
       "</div>"
      ],
      "text/plain": [
       "    PARCEL_ID  residential_units_50  residential_units_15  \\\n",
       "27     388858                  28.0                   1.0   \n",
       "\n",
       "    residential_units_add  \n",
       "27                   27.0  "
      ]
     },
     "execution_count": 9,
     "metadata": {},
     "output_type": "execute_result"
    }
   ],
   "source": [
    "# check these parcels that had residential growth\n",
    "\n",
    "print(cons_dev[['residential_units_50','residential_units_15']].sum())\n",
    "cons_dev.loc[cons_dev.residential_units_add>0][['PARCEL_ID','residential_units_50','residential_units_15','residential_units_add']]"
   ]
  },
  {
   "cell_type": "code",
   "execution_count": 10,
   "metadata": {},
   "outputs": [
    {
     "name": "stdout",
     "output_type": "stream",
     "text": [
      "totemp_50    21.0\n",
      "totemp_15    13.0\n",
      "dtype: float64\n"
     ]
    },
    {
     "data": {
      "text/html": [
       "<div>\n",
       "<style scoped>\n",
       "    .dataframe tbody tr th:only-of-type {\n",
       "        vertical-align: middle;\n",
       "    }\n",
       "\n",
       "    .dataframe tbody tr th {\n",
       "        vertical-align: top;\n",
       "    }\n",
       "\n",
       "    .dataframe thead th {\n",
       "        text-align: right;\n",
       "    }\n",
       "</style>\n",
       "<table border=\"1\" class=\"dataframe\">\n",
       "  <thead>\n",
       "    <tr style=\"text-align: right;\">\n",
       "      <th></th>\n",
       "      <th>PARCEL_ID</th>\n",
       "      <th>totemp_50</th>\n",
       "      <th>totemp_15</th>\n",
       "      <th>totemp_add</th>\n",
       "    </tr>\n",
       "  </thead>\n",
       "  <tbody>\n",
       "    <tr>\n",
       "      <th>2</th>\n",
       "      <td>1904139</td>\n",
       "      <td>3.0</td>\n",
       "      <td>2.0</td>\n",
       "      <td>1.0</td>\n",
       "    </tr>\n",
       "    <tr>\n",
       "      <th>7</th>\n",
       "      <td>358206</td>\n",
       "      <td>3.0</td>\n",
       "      <td>0.0</td>\n",
       "      <td>3.0</td>\n",
       "    </tr>\n",
       "    <tr>\n",
       "      <th>21</th>\n",
       "      <td>239675</td>\n",
       "      <td>5.0</td>\n",
       "      <td>0.0</td>\n",
       "      <td>5.0</td>\n",
       "    </tr>\n",
       "  </tbody>\n",
       "</table>\n",
       "</div>"
      ],
      "text/plain": [
       "    PARCEL_ID  totemp_50  totemp_15  totemp_add\n",
       "2     1904139        3.0        2.0         1.0\n",
       "7      358206        3.0        0.0         3.0\n",
       "21     239675        5.0        0.0         5.0"
      ]
     },
     "execution_count": 10,
     "metadata": {},
     "output_type": "execute_result"
    }
   ],
   "source": [
    "print(cons_dev[['totemp_50','totemp_15']].sum())\n",
    "cons_dev.loc[cons_dev.totemp_add>0][['PARCEL_ID','totemp_50','totemp_15','totemp_add']]"
   ]
  },
  {
   "cell_type": "code",
   "execution_count": 11,
   "metadata": {},
   "outputs": [
    {
     "name": "stdout",
     "output_type": "stream",
     "text": [
      "export 56 records for parcels within cons_easement but were labeled as developable\n"
     ]
    },
    {
     "name": "stderr",
     "output_type": "stream",
     "text": [
      "C:\\Users\\ywang\\Anaconda3\\lib\\site-packages\\ipykernel_launcher.py:3: SettingWithCopyWarning: \n",
      "A value is trying to be set on a copy of a slice from a DataFrame.\n",
      "Try using .loc[row_indexer,col_indexer] = value instead\n",
      "\n",
      "See the caveats in the documentation: https://pandas.pydata.org/pandas-docs/stable/user_guide/indexing.html#returning-a-view-versus-a-copy\n",
      "  This is separate from the ipykernel package so we can avoid doing imports until\n"
     ]
    },
    {
     "data": {
      "text/html": [
       "<div>\n",
       "<style scoped>\n",
       "    .dataframe tbody tr th:only-of-type {\n",
       "        vertical-align: middle;\n",
       "    }\n",
       "\n",
       "    .dataframe tbody tr th {\n",
       "        vertical-align: top;\n",
       "    }\n",
       "\n",
       "    .dataframe thead th {\n",
       "        text-align: right;\n",
       "    }\n",
       "</style>\n",
       "<table border=\"1\" class=\"dataframe\">\n",
       "  <thead>\n",
       "    <tr style=\"text-align: right;\">\n",
       "      <th></th>\n",
       "      <th>PARCEL_ID</th>\n",
       "      <th>nodev</th>\n",
       "    </tr>\n",
       "  </thead>\n",
       "  <tbody>\n",
       "    <tr>\n",
       "      <th>0</th>\n",
       "      <td>388856</td>\n",
       "      <td>1</td>\n",
       "    </tr>\n",
       "    <tr>\n",
       "      <th>1</th>\n",
       "      <td>794431</td>\n",
       "      <td>1</td>\n",
       "    </tr>\n",
       "    <tr>\n",
       "      <th>2</th>\n",
       "      <td>1904139</td>\n",
       "      <td>1</td>\n",
       "    </tr>\n",
       "    <tr>\n",
       "      <th>3</th>\n",
       "      <td>662723</td>\n",
       "      <td>1</td>\n",
       "    </tr>\n",
       "    <tr>\n",
       "      <th>4</th>\n",
       "      <td>855699</td>\n",
       "      <td>1</td>\n",
       "    </tr>\n",
       "  </tbody>\n",
       "</table>\n",
       "</div>"
      ],
      "text/plain": [
       "   PARCEL_ID  nodev\n",
       "0     388856      1\n",
       "1     794431      1\n",
       "2    1904139      1\n",
       "3     662723      1\n",
       "4     855699      1"
      ]
     },
     "metadata": {},
     "output_type": "display_data"
    }
   ],
   "source": [
    "# export the 'cons_easement but developable' parcels in order to update the 'parcels_geography' table\n",
    "cons_dev_export = cons_dev[['PARCEL_ID']]\n",
    "cons_dev_export['nodev'] = 1\n",
    "print('export {} records for parcels within cons_easement but were labeled as developable'.format(cons_dev_export.shape[0]))\n",
    "display(cons_dev_export.head())\n",
    "cons_dev_export.to_csv(r'M:\\Data\\Urban\\BAUS\\PBA50\\Final_Blueprint\\Zoning Modifications\\noDev_parcels_conservation_easement.csv', index=False)"
   ]
  }
 ],
 "metadata": {
  "kernelspec": {
   "display_name": "Python 3",
   "language": "python",
   "name": "python3"
  },
  "language_info": {
   "codemirror_mode": {
    "name": "ipython",
    "version": 3
   },
   "file_extension": ".py",
   "mimetype": "text/x-python",
   "name": "python",
   "nbconvert_exporter": "python",
   "pygments_lexer": "ipython3",
   "version": "3.7.6"
  }
 },
 "nbformat": 4,
 "nbformat_minor": 4
}
