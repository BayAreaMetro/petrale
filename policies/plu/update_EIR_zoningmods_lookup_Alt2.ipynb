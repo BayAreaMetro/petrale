{
 "cells": [
  {
   "cell_type": "code",
   "execution_count": 1,
   "metadata": {
    "collapsed": true
   },
   "outputs": [],
   "source": [
    "import pandas as pd\n",
    "import numpy as np\n",
    "import time\n",
    "\n",
    "today = time.strftime('%Y%m%d')"
   ]
  },
  {
   "cell_type": "code",
   "execution_count": 2,
   "metadata": {},
   "outputs": [
    {
     "name": "stdout",
     "output_type": "stream",
     "text": [
      "zoning_mods_24 has 2970 unique fbpzoningmodcat\n"
     ]
    },
    {
     "data": {
      "text/html": [
       "<div>\n",
       "<style>\n",
       "    .dataframe thead tr:only-child th {\n",
       "        text-align: right;\n",
       "    }\n",
       "\n",
       "    .dataframe thead th {\n",
       "        text-align: left;\n",
       "    }\n",
       "\n",
       "    .dataframe tbody tr th {\n",
       "        vertical-align: top;\n",
       "    }\n",
       "</style>\n",
       "<table border=\"1\" class=\"dataframe\">\n",
       "  <thead>\n",
       "    <tr style=\"text-align: right;\">\n",
       "      <th></th>\n",
       "      <th>fbpzoningmodcat</th>\n",
       "      <th>add_bldg</th>\n",
       "      <th>drop_bldg</th>\n",
       "      <th>dua_up</th>\n",
       "      <th>far_up</th>\n",
       "      <th>dua_down</th>\n",
       "      <th>far_down</th>\n",
       "      <th>subsidy</th>\n",
       "      <th>notes</th>\n",
       "      <th>res_rent_cat</th>\n",
       "      <th>job_out_cat</th>\n",
       "    </tr>\n",
       "  </thead>\n",
       "  <tbody>\n",
       "    <tr>\n",
       "      <th>0</th>\n",
       "      <td>alamedaGGNADISNAinNA</td>\n",
       "      <td>NaN</td>\n",
       "      <td>NaN</td>\n",
       "      <td>25.0</td>\n",
       "      <td>NaN</td>\n",
       "      <td>NaN</td>\n",
       "      <td>NaN</td>\n",
       "      <td>NaN</td>\n",
       "      <td>NaN</td>\n",
       "      <td>NaN</td>\n",
       "      <td>NaN</td>\n",
       "    </tr>\n",
       "    <tr>\n",
       "      <th>1</th>\n",
       "      <td>alamedaGGNADISNAinsfd</td>\n",
       "      <td>NaN</td>\n",
       "      <td>NaN</td>\n",
       "      <td>25.0</td>\n",
       "      <td>NaN</td>\n",
       "      <td>NaN</td>\n",
       "      <td>NaN</td>\n",
       "      <td>NaN</td>\n",
       "      <td>NaN</td>\n",
       "      <td>NaN</td>\n",
       "      <td>NaN</td>\n",
       "    </tr>\n",
       "    <tr>\n",
       "      <th>2</th>\n",
       "      <td>alamedaGGNAHRADISNAinNA</td>\n",
       "      <td>HM</td>\n",
       "      <td>NaN</td>\n",
       "      <td>35.0</td>\n",
       "      <td>NaN</td>\n",
       "      <td>NaN</td>\n",
       "      <td>NaN</td>\n",
       "      <td>NaN</td>\n",
       "      <td>NaN</td>\n",
       "      <td>NaN</td>\n",
       "      <td>NaN</td>\n",
       "    </tr>\n",
       "    <tr>\n",
       "      <th>3</th>\n",
       "      <td>alamedaGGNAHRADISNAinsfd</td>\n",
       "      <td>HM</td>\n",
       "      <td>NaN</td>\n",
       "      <td>35.0</td>\n",
       "      <td>NaN</td>\n",
       "      <td>NaN</td>\n",
       "      <td>NaN</td>\n",
       "      <td>NaN</td>\n",
       "      <td>NaN</td>\n",
       "      <td>NaN</td>\n",
       "      <td>NaN</td>\n",
       "    </tr>\n",
       "    <tr>\n",
       "      <th>4</th>\n",
       "      <td>alamedaGGNAHRANAinNA</td>\n",
       "      <td>HM</td>\n",
       "      <td>NaN</td>\n",
       "      <td>35.0</td>\n",
       "      <td>NaN</td>\n",
       "      <td>NaN</td>\n",
       "      <td>NaN</td>\n",
       "      <td>NaN</td>\n",
       "      <td>NaN</td>\n",
       "      <td>NaN</td>\n",
       "      <td>NaN</td>\n",
       "    </tr>\n",
       "  </tbody>\n",
       "</table>\n",
       "</div>"
      ],
      "text/plain": [
       "            fbpzoningmodcat add_bldg drop_bldg  dua_up  far_up  dua_down  \\\n",
       "0      alamedaGGNADISNAinNA      NaN       NaN    25.0     NaN       NaN   \n",
       "1     alamedaGGNADISNAinsfd      NaN       NaN    25.0     NaN       NaN   \n",
       "2   alamedaGGNAHRADISNAinNA       HM       NaN    35.0     NaN       NaN   \n",
       "3  alamedaGGNAHRADISNAinsfd       HM       NaN    35.0     NaN       NaN   \n",
       "4      alamedaGGNAHRANAinNA       HM       NaN    35.0     NaN       NaN   \n",
       "\n",
       "   far_down  subsidy notes  res_rent_cat job_out_cat  \n",
       "0       NaN      NaN   NaN           NaN         NaN  \n",
       "1       NaN      NaN   NaN           NaN         NaN  \n",
       "2       NaN      NaN   NaN           NaN         NaN  \n",
       "3       NaN      NaN   NaN           NaN         NaN  \n",
       "4       NaN      NaN   NaN           NaN         NaN  "
      ]
     },
     "metadata": {},
     "output_type": "display_data"
    },
    {
     "name": "stdout",
     "output_type": "stream",
     "text": [
      "dua_up has the following values: [25.0, 35.0, 75.0, 50.0, nan, 100.0, 200.0, 150.0, 2.75, 1.5]\n",
      "dua_down has the following values: [nan, 0.0]\n",
      "far_up has the following values: [nan, 2.0, 9.0, 3.0]\n",
      "far_down has the following values: [nan, 0.0]\n",
      "add_bldg has the following values: [nan, 'HM', 'IW', 'HS']\n",
      "drop_bldg has the following values: [nan, 'HM']\n"
     ]
    }
   ],
   "source": [
    "# bring in zoningmods fields from FBP as place holders\n",
    "\n",
    "# read these fields in s24\n",
    "lookup_fbp = pd.read_csv(r'C:\\Users\\blu\\Documents\\GitHub\\bayarea_urbansim\\data\\zoning_mods_24.csv',\n",
    "                         usecols = ['fbpzoningmodcat', 'add_bldg', 'drop_bldg', 'dua_up', 'far_up', \n",
    "                                    'dua_down', 'far_down', 'subsidy', 'notes', 'res_rent_cat', 'job_out_cat'])\n",
    "\n",
    "print('zoning_mods_24 has {} unique fbpzoningmodcat'.format(lookup_fbp.shape[0]))\n",
    "display(lookup_fbp.head())\n",
    "#print(list(lookup_fbp))\n",
    "print('dua_up has the following values: {}'.format(list(lookup_fbp.dua_up.unique())))\n",
    "print('dua_down has the following values: {}'.format(list(lookup_fbp.dua_down.unique())))\n",
    "print('far_up has the following values: {}'.format(list(lookup_fbp.far_up.unique())))\n",
    "print('far_down has the following values: {}'.format(list(lookup_fbp.far_down.unique())))\n",
    "print('add_bldg has the following values: {}'.format(list(lookup_fbp.add_bldg.unique())))\n",
    "print('drop_bldg has the following values: {}'.format(list(lookup_fbp.drop_bldg.unique())))"
   ]
  },
  {
   "cell_type": "code",
   "execution_count": 3,
   "metadata": {},
   "outputs": [
    {
     "name": "stderr",
     "output_type": "stream",
     "text": [
      "C:\\Users\\blu\\Apps\\lib\\site-packages\\IPython\\core\\interactiveshell.py:2718: DtypeWarning: Columns (23,32) have mixed types. Specify dtype option on import or set low_memory=False.\n",
      "  interactivity=interactivity, compiler=compiler, result=result)\n"
     ]
    },
    {
     "name": "stdout",
     "output_type": "stream",
     "text": [
      "p10_pba50_EIR_attr_modcat has 1956208 rows\n"
     ]
    }
   ],
   "source": [
    "# read parcel-level EIR zoningmods master file\n",
    "p10_pba50_EIR_attr = pd.read_csv('C:\\\\Users\\\\blu\\\\Box\\\\Modeling and Surveys\\\\Urban Modeling\\\\Bay Area UrbanSim\\\\PBA50\\\\Policies\\\\Zoning Modifications\\\\p10_pba50_EIR_attr_20210224.csv')\n",
    "p10_pba50_EIR_attr_modcat = p10_pba50_EIR_attr.merge(lookup_fbp, \n",
    "                                                     left_on='fbpzoningm',\n",
    "                                                     right_on='fbpzoningmodcat', how='left')\n",
    "print('p10_pba50_EIR_attr_modcat has {} rows'.format(p10_pba50_EIR_attr_modcat.shape[0]))"
   ]
  },
  {
   "cell_type": "code",
   "execution_count": 5,
   "metadata": {
    "collapsed": true
   },
   "outputs": [],
   "source": [
    "# collapsed to lookup table based on 'eirzoningm' and EIR geography fields, 'fbpzoningmodcat'\n",
    "#      was kept to inherent Final Blueprint values \n",
    "\n",
    "EIR_modcat_df = p10_pba50_EIR_attr_modcat[['ACRES', 'fbpzoningmodcat', 'eirzoningm', 'juris',\n",
    "                                           'eir_gg_id', 'eir_tra_id', 'eir_sesit_', 'eir_coc_id', \n",
    "                                           'eir_ppa_id', 'eir_exp202', 'ex_res_bldg',\n",
    "                                           'add_bldg', 'drop_bldg', 'dua_up', 'far_up', \n",
    "                                           'dua_down', 'far_down', 'subsidy', 'res_rent_cat', 'job_out_cat']]\n",
    "\n",
    "EIR_modcat_df = EIR_modcat_df[['eirzoningm', 'juris',\n",
    "                               'eir_gg_id', 'eir_tra_id', 'eir_sesit_', 'eir_coc_id', \n",
    "                               'eir_ppa_id', 'eir_exp202', 'ex_res_bldg',\n",
    "                               'add_bldg', 'drop_bldg', 'dua_up', 'far_up', \n",
    "                               'dua_down', 'far_down', 'subsidy','res_rent_cat', 'job_out_cat']].drop_duplicates()\n",
    "\n",
    "# rename columns\n",
    "EIR_modcat_df.rename(columns = {'eir_gg_id': 'gg_id',\n",
    "                                'eir_tra_id': 'tra_id',\n",
    "                                'eir_sesit_': 'sesit_id',\n",
    "                                'eir_coc_id': 'coc_id',\n",
    "                                'eir_ppa_id': 'ppa_id',\n",
    "                                'eir_exp202': 'exp2020_id'}, inplace=True)\n",
    "\n",
    "# add 'manual_county' column\n",
    "juris_county = pd.read_csv(r'C:\\Users\\blu\\Documents\\GitHub\\petrale\\zones\\jurisdictions\\juris_county_id.csv',\n",
    "                           usecols = ['juris_name_full', 'county_id'])\n",
    "juris_county.columns = ['juris','manual_county']\n",
    "\n",
    "EIR_modcat_df = EIR_modcat_df.merge(juris_county, on='juris', how='left')"
   ]
  },
  {
   "cell_type": "markdown",
   "metadata": {},
   "source": [
    "## create zoning_mods lookup table for Alt2 (repeat steps above)"
   ]
  },
  {
   "cell_type": "markdown",
   "metadata": {},
   "source": [
    "### Major changes in EIR Alt2 H3 strategy:\n",
    "#### 1. allow residential development in GGs for res and non_res parcels\n",
    "#### 2. change upzoning levels for different jurisdiction categories\n",
    "#### 3. don't allow upzoning for res parcels in CoCs"
   ]
  },
  {
   "cell_type": "code",
   "execution_count": 6,
   "metadata": {
    "collapsed": true
   },
   "outputs": [],
   "source": [
    "#list of job Job-Rich & High-Resource Juris and Adjacent Juris\n",
    "jlist = ['menlo_park', 'palo_alto', 'cupertino', 'milpitas',\n",
    "         'atherton', 'belmont', 'campbell', 'east_palo_alto',\n",
    "         'fremont', 'hayward', 'los_altos', 'los_altos_hills', \n",
    "         'los_gatos', 'monte_sereno', 'mountain_view', 'newark', \n",
    "         'redwood_city', 'portola_valley', 'san_carlos', 'san_jose', \n",
    "         'santa_clara', 'saratoga', 'sunnyvale', 'union_city', 'woodside']"
   ]
  },
  {
   "cell_type": "code",
   "execution_count": 7,
   "metadata": {
    "collapsed": true
   },
   "outputs": [],
   "source": [
    "EIR_modcat_alt2 = EIR_modcat_df.copy()\n",
    "\n",
    "# first, set to nan\n",
    "EIR_modcat_alt2.dua_up = np.nan\n",
    "EIR_modcat_alt2.far_up = np.nan\n",
    "EIR_modcat_alt2.add_bldg = np.nan\n",
    "\n",
    "# create an HRA list\n",
    "hra_list = ['HRA','HRADIS']\n",
    "\n",
    "# update values for Residential zoning change\n",
    "\n",
    "#tra1\n",
    "## no difference among juris categories in tra1\n",
    "EIR_modcat_alt2.loc[(EIR_modcat_alt2.gg_id=='GG') & (\n",
    "                     EIR_modcat_alt2.tra_id=='tra1'), 'add_bldg'] = 'HM'\n",
    "EIR_modcat_alt2.loc[(EIR_modcat_alt2.gg_id=='GG') & (\n",
    "                     EIR_modcat_alt2.tra_id=='tra1'), 'dua_up'] = 125\n",
    "\n",
    "#tra2\n",
    "## first add HM to all parcels in tra2\n",
    "EIR_modcat_alt2.loc[(EIR_modcat_alt2.gg_id=='GG') & (\n",
    "                     EIR_modcat_alt2.tra_id.str.contains('tra2', na = False)), 'add_bldg'] = 'HM'\n",
    "## HRA upzoning\n",
    "EIR_modcat_alt2.loc[(EIR_modcat_alt2.gg_id=='GG') & (\n",
    "                     EIR_modcat_alt2.tra_id.str.contains('tra2', na = False)) & (\n",
    "                     EIR_modcat_alt2.sesit_id.isin(hra_list)), 'dua_up'] = 75\n",
    "\n",
    "## adjust for juris in the list\n",
    "### note: the following code doesn't differentiate HRA or nonHRA, because in the next step\n",
    "### nonHRA gets lower upzoning, so the nonHRA in this juris list would get\n",
    "### revised from 100 to 55 too\n",
    "EIR_modcat_alt2.loc[(EIR_modcat_alt2.gg_id=='GG') & (\n",
    "                     EIR_modcat_alt2.tra_id.str.contains('tra2', na = False)) & (\n",
    "                    EIR_modcat_alt2.juris.isin(jlist)), 'dua_up'] = 100\n",
    "\n",
    "## nonHRA upzoning\n",
    "EIR_modcat_alt2.loc[(EIR_modcat_alt2.gg_id=='GG') & (\n",
    "                     EIR_modcat_alt2.tra_id.str.contains('tra2', na = False)) & (\n",
    "                    (EIR_modcat_alt2.sesit_id=='DIS') | (\n",
    "                     EIR_modcat_alt2.sesit_id.isnull())), 'dua_up'] = 55\n",
    "\n",
    "#tra3\n",
    "## first add HM to all parcels in tra2\n",
    "EIR_modcat_alt2.loc[(EIR_modcat_alt2.gg_id=='GG') & (\n",
    "                     EIR_modcat_alt2.tra_id=='tra3'), 'add_bldg'] = 'HM'\n",
    "## HRA upzoning\n",
    "EIR_modcat_alt2.loc[(EIR_modcat_alt2.gg_id=='GG') & (\n",
    "                     EIR_modcat_alt2.tra_id == 'tra3') & (\n",
    "                     EIR_modcat_alt2.sesit_id.isin(hra_list)), 'dua_up'] = 50\n",
    "\n",
    "## adjust for juris in the list\n",
    "### note: the following code doesn't differentiate HRA or nonHRA, because in the next step\n",
    "### nonHRA gets lower upzoning, so the nonHRA in this juris list would get\n",
    "### revised from 75 to 50 too\n",
    "EIR_modcat_alt2.loc[(EIR_modcat_alt2.gg_id=='GG') & (\n",
    "                     EIR_modcat_alt2.tra_id == 'tra3') & (\n",
    "                     EIR_modcat_alt2.juris.isin(jlist)), 'dua_up'] = 75\n",
    "\n",
    "## nonHRA upzoning\n",
    "EIR_modcat_alt2.loc[(EIR_modcat_alt2.gg_id=='GG') & (\n",
    "                     EIR_modcat_alt2.tra_id == 'tra3') & (\n",
    "                    (EIR_modcat_alt2.sesit_id=='DIS') | (\n",
    "                     EIR_modcat_alt2.sesit_id.isnull())), 'dua_up'] = 35\n",
    "\n",
    "# non-TRA\n",
    "EIR_modcat_alt2.loc[(EIR_modcat_alt2.gg_id=='GG') & (\n",
    "                     EIR_modcat_alt2.tra_id.isnull()) & (\n",
    "                     EIR_modcat_alt2.sesit_id.isin(hra_list)), 'add_bldg'] = 'HM'\n",
    "## HRA upzoning\n",
    "EIR_modcat_alt2.loc[(EIR_modcat_alt2.gg_id=='GG') & (\n",
    "                     EIR_modcat_alt2.tra_id.isnull()) & (\n",
    "                     EIR_modcat_alt2.sesit_id.isin(hra_list)), 'dua_up'] = 50\n",
    "\n",
    "## adjust for juris in the list\n",
    "### note: the following code doesn't differentiate HRA or nonHRA, because in the next step\n",
    "### nonHRA gets lower upzoning, so the nonHRA in this juris list would get\n",
    "### revised from 75 to 50 too\n",
    "EIR_modcat_alt2.loc[(EIR_modcat_alt2.gg_id=='GG') & (\n",
    "                     EIR_modcat_alt2.tra_id.isnull()) & (\n",
    "                     EIR_modcat_alt2.juris.isin(jlist)), 'dua_up'] = 75\n",
    "\n",
    "## nonHRA upzoning\n",
    "EIR_modcat_alt2.loc[(EIR_modcat_alt2.gg_id=='GG') & (\n",
    "                     EIR_modcat_alt2.tra_id.isnull()) & (\n",
    "                    (EIR_modcat_alt2.sesit_id=='DIS') | (\n",
    "                     EIR_modcat_alt2.sesit_id.isnull())), 'dua_up'] = 35"
   ]
  },
  {
   "cell_type": "code",
   "execution_count": 8,
   "metadata": {
    "collapsed": true
   },
   "outputs": [],
   "source": [
    "#Unincorporated w/in UGB upzoning\n",
    "EIR_modcat_alt2.loc[EIR_modcat_alt2.exp2020_id == 'inun', 'dua_up'] = 2\n",
    "EIR_modcat_alt2.loc[EIR_modcat_alt2.exp2020_id == 'inun', 'add_bldg'] = 'HS'"
   ]
  },
  {
   "cell_type": "code",
   "execution_count": 9,
   "metadata": {
    "collapsed": true
   },
   "outputs": [],
   "source": [
    "# adjustment for PPA\n",
    "#1) dua_up and add_bldg = HM  doesn't apply PPAs; \n",
    "#2) all parcels within PPAs have drop_bldg = HM\n",
    "EIR_modcat_alt2.loc[EIR_modcat_alt2.ppa_id=='ppa', 'dua_up'] = np.nan\n",
    "EIR_modcat_alt2.loc[EIR_modcat_alt2.ppa_id=='ppa', 'add_bldg'] = np.nan\n",
    "EIR_modcat_alt2.loc[EIR_modcat_alt2.ppa_id=='ppa', 'drop_bldg'] = 'HM'\n",
    "\n",
    "# Then maintain PPA zoning changes in FBP\n",
    "# for now remove this one below to make sure housing gets built in core area first given the lower upzoning\n",
    "# EIR_modcat_alt2.loc[(EIR_modcat_alt2.gg_id=='GG') & (EIR_modcat_alt2.tra_id=='tra1'), 'far_up'] = 9 \n",
    "\n",
    "EIR_modcat_alt2.loc[(EIR_modcat_alt2.gg_id=='GG') & (\n",
    "                     EIR_modcat_alt2.ppa_id=='ppa') & (\n",
    "                     EIR_modcat_alt2.tra_id != 'tra1'), 'far_up'] = 2\n",
    "\n",
    "EIR_modcat_alt2.loc[(EIR_modcat_alt2.gg_id=='GG') & (\n",
    "                     EIR_modcat_alt2.ppa_id=='ppa') & (\n",
    "                     EIR_modcat_alt2.tra_id != 'tra1'), 'add_bldg'] = 'IW'"
   ]
  },
  {
   "cell_type": "code",
   "execution_count": 10,
   "metadata": {
    "collapsed": true
   },
   "outputs": [],
   "source": [
    "# limit development in CoCs\n",
    "EIR_modcat_alt2.loc[(EIR_modcat_alt2.coc_id=='CoC') & (\n",
    "                     EIR_modcat_alt2.ex_res_bldg =='res'), 'dua_up'] = np.nan\n",
    "EIR_modcat_alt2.loc[(EIR_modcat_alt2.coc_id=='CoC') & (\n",
    "                     EIR_modcat_alt2.ex_res_bldg =='res'), 'add_bldg'] = np.nan"
   ]
  },
  {
   "cell_type": "code",
   "execution_count": 11,
   "metadata": {},
   "outputs": [
    {
     "name": "stdout",
     "output_type": "stream",
     "text": [
      "EIR_modcat_alt2 has 3535 rows\n",
      "EIR_modcat_stats has 3535 rows\n",
      "p10_pba50_EIR_modcat_df has 3535 rows\n"
     ]
    }
   ],
   "source": [
    "# drop duplicates\n",
    "EIR_modcat_alt2 = EIR_modcat_alt2.drop_duplicates()\n",
    "print('EIR_modcat_alt2 has {} rows'.format(EIR_modcat_alt2.shape[0]))\n",
    "\n",
    "# add 'FREQUENCE', 'SUM_ACRES' columns\n",
    "EIR_modcat_stats = p10_pba50_EIR_attr_modcat.groupby('eirzoningm').agg({'ACRES': ['count','sum']}).reset_index()\n",
    "EIR_modcat_stats.columns = ['eirzoningm', 'FREQUENCY', 'SUM_ACRES']\n",
    "print('EIR_modcat_stats has {} rows'.format(EIR_modcat_stats.shape[0]))\n",
    "\n",
    "EIR_modcat_alt2 = EIR_modcat_alt2.merge(EIR_modcat_stats, on='eirzoningm', how='left')\n",
    "print('p10_pba50_EIR_modcat_df has {} rows'.format(EIR_modcat_alt2.shape[0]))\n",
    "\n",
    "# add 'modcat_id' column\n",
    "EIR_modcat_alt2['modcat_id'] = EIR_modcat_alt2.index + 1\n",
    "\n",
    "# recoder the fields\n",
    "EIR_modcat_alt2 = EIR_modcat_alt2[['eirzoningm', 'modcat_id', 'FREQUENCY', 'SUM_ACRES', 'manual_county', 'juris', \n",
    "                                   'gg_id', 'tra_id', 'sesit_id', 'coc_id', 'ppa_id', 'exp2020_id', 'ex_res_bldg', \n",
    "                                   'add_bldg', 'drop_bldg', 'dua_up', 'far_up', 'dua_down', 'far_down', 'subsidy', 'res_rent_cat', 'job_out_cat']]"
   ]
  },
  {
   "cell_type": "code",
   "execution_count": 13,
   "metadata": {},
   "outputs": [
    {
     "data": {
      "text/plain": [
       "array([ nan])"
      ]
     },
     "metadata": {},
     "output_type": "display_data"
    },
    {
     "data": {
      "text/plain": [
       "array(['HM'], dtype=object)"
      ]
     },
     "metadata": {},
     "output_type": "display_data"
    }
   ],
   "source": [
    "#check\n",
    "# PPA parcels should have no dua_up\n",
    "ppa_chk = EIR_modcat_alt2.loc[EIR_modcat_alt2.ppa_id == 'ppa']\n",
    "display(ppa_chk.dua_up.unique())  # should only contain nan\n",
    "\n",
    "# PPA parcels should have drop_bldg = HM\n",
    "display(ppa_chk.drop_bldg.unique())  # should only contain 'HM'"
   ]
  },
  {
   "cell_type": "code",
   "execution_count": 14,
   "metadata": {},
   "outputs": [
    {
     "name": "stdout",
     "output_type": "stream",
     "text": [
      "export zoning_mods lookup table of 3535 rows\n"
     ]
    }
   ],
   "source": [
    "# export\n",
    "EIR_modcat_alt2.rename(columns={'eirzoningm': 'eirzoningmodcat'}, inplace=True)\n",
    "print('export zoning_mods lookup table of {} rows'.format(EIR_modcat_alt2.shape[0]))\n",
    "EIR_modcat_alt2.to_csv('C:\\\\Users\\\\blu\\\\Box\\\\Modeling and Surveys\\\\Urban Modeling\\\\Bay Area UrbanSim\\\\PBA50\\\\Policies\\\\Zoning Modifications\\\\BAUS input files\\\\zoning_mods_28_{}.csv'.format(today), index=False)"
   ]
  },
  {
   "cell_type": "code",
   "execution_count": null,
   "metadata": {
    "collapsed": true
   },
   "outputs": [],
   "source": []
  }
 ],
 "metadata": {
  "kernelspec": {
   "display_name": "Python 2",
   "language": "python",
   "name": "python2"
  },
  "language_info": {
   "codemirror_mode": {
    "name": "ipython",
    "version": 2
   },
   "file_extension": ".py",
   "mimetype": "text/x-python",
   "name": "python",
   "nbconvert_exporter": "python",
   "pygments_lexer": "ipython2",
   "version": "2.7.14"
  }
 },
 "nbformat": 4,
 "nbformat_minor": 2
}
