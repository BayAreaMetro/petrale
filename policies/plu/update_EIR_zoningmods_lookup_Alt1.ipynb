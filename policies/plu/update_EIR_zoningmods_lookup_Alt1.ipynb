{
 "cells": [
  {
   "cell_type": "markdown",
   "id": "convertible-witness",
   "metadata": {},
   "source": [
    "Based on parcel-level EIR zoningmods master file and EIR Alt1 strategies, update s24 zoningmods lookup table to s26."
   ]
  },
  {
   "cell_type": "code",
   "execution_count": 1,
   "id": "spatial-cache",
   "metadata": {},
   "outputs": [],
   "source": [
    "import pandas as pd\n",
    "import numpy as np\n",
    "import time\n",
    "\n",
    "today = time.strftime('%Y%m%d')"
   ]
  },
  {
   "cell_type": "code",
   "execution_count": 2,
   "id": "disturbed-equity",
   "metadata": {},
   "outputs": [
    {
     "name": "stdout",
     "output_type": "stream",
     "text": [
      "zoning_mods_24 has 2970 unique fbpzoningmodcat\n"
     ]
    },
    {
     "data": {
      "text/html": [
       "<div>\n",
       "<style scoped>\n",
       "    .dataframe tbody tr th:only-of-type {\n",
       "        vertical-align: middle;\n",
       "    }\n",
       "\n",
       "    .dataframe tbody tr th {\n",
       "        vertical-align: top;\n",
       "    }\n",
       "\n",
       "    .dataframe thead th {\n",
       "        text-align: right;\n",
       "    }\n",
       "</style>\n",
       "<table border=\"1\" class=\"dataframe\">\n",
       "  <thead>\n",
       "    <tr style=\"text-align: right;\">\n",
       "      <th></th>\n",
       "      <th>fbpzoningmodcat</th>\n",
       "      <th>add_bldg</th>\n",
       "      <th>drop_bldg</th>\n",
       "      <th>dua_up</th>\n",
       "      <th>far_up</th>\n",
       "      <th>dua_down</th>\n",
       "      <th>far_down</th>\n",
       "      <th>subsidy</th>\n",
       "      <th>notes</th>\n",
       "      <th>res_rent_cat</th>\n",
       "      <th>job_out_cat</th>\n",
       "    </tr>\n",
       "  </thead>\n",
       "  <tbody>\n",
       "    <tr>\n",
       "      <th>0</th>\n",
       "      <td>alamedaGGNADISNAinNA</td>\n",
       "      <td>NaN</td>\n",
       "      <td>NaN</td>\n",
       "      <td>25.0</td>\n",
       "      <td>NaN</td>\n",
       "      <td>NaN</td>\n",
       "      <td>NaN</td>\n",
       "      <td>NaN</td>\n",
       "      <td>NaN</td>\n",
       "      <td>NaN</td>\n",
       "      <td>NaN</td>\n",
       "    </tr>\n",
       "    <tr>\n",
       "      <th>1</th>\n",
       "      <td>alamedaGGNADISNAinsfd</td>\n",
       "      <td>NaN</td>\n",
       "      <td>NaN</td>\n",
       "      <td>25.0</td>\n",
       "      <td>NaN</td>\n",
       "      <td>NaN</td>\n",
       "      <td>NaN</td>\n",
       "      <td>NaN</td>\n",
       "      <td>NaN</td>\n",
       "      <td>NaN</td>\n",
       "      <td>NaN</td>\n",
       "    </tr>\n",
       "    <tr>\n",
       "      <th>2</th>\n",
       "      <td>alamedaGGNAHRADISNAinNA</td>\n",
       "      <td>HM</td>\n",
       "      <td>NaN</td>\n",
       "      <td>35.0</td>\n",
       "      <td>NaN</td>\n",
       "      <td>NaN</td>\n",
       "      <td>NaN</td>\n",
       "      <td>NaN</td>\n",
       "      <td>NaN</td>\n",
       "      <td>NaN</td>\n",
       "      <td>NaN</td>\n",
       "    </tr>\n",
       "    <tr>\n",
       "      <th>3</th>\n",
       "      <td>alamedaGGNAHRADISNAinsfd</td>\n",
       "      <td>HM</td>\n",
       "      <td>NaN</td>\n",
       "      <td>35.0</td>\n",
       "      <td>NaN</td>\n",
       "      <td>NaN</td>\n",
       "      <td>NaN</td>\n",
       "      <td>NaN</td>\n",
       "      <td>NaN</td>\n",
       "      <td>NaN</td>\n",
       "      <td>NaN</td>\n",
       "    </tr>\n",
       "    <tr>\n",
       "      <th>4</th>\n",
       "      <td>alamedaGGNAHRANAinNA</td>\n",
       "      <td>HM</td>\n",
       "      <td>NaN</td>\n",
       "      <td>35.0</td>\n",
       "      <td>NaN</td>\n",
       "      <td>NaN</td>\n",
       "      <td>NaN</td>\n",
       "      <td>NaN</td>\n",
       "      <td>NaN</td>\n",
       "      <td>NaN</td>\n",
       "      <td>NaN</td>\n",
       "    </tr>\n",
       "  </tbody>\n",
       "</table>\n",
       "</div>"
      ],
      "text/plain": [
       "            fbpzoningmodcat add_bldg drop_bldg  dua_up  far_up  dua_down  \\\n",
       "0      alamedaGGNADISNAinNA      NaN       NaN    25.0     NaN       NaN   \n",
       "1     alamedaGGNADISNAinsfd      NaN       NaN    25.0     NaN       NaN   \n",
       "2   alamedaGGNAHRADISNAinNA       HM       NaN    35.0     NaN       NaN   \n",
       "3  alamedaGGNAHRADISNAinsfd       HM       NaN    35.0     NaN       NaN   \n",
       "4      alamedaGGNAHRANAinNA       HM       NaN    35.0     NaN       NaN   \n",
       "\n",
       "   far_down  subsidy notes  res_rent_cat job_out_cat  \n",
       "0       NaN      NaN   NaN           NaN         NaN  \n",
       "1       NaN      NaN   NaN           NaN         NaN  \n",
       "2       NaN      NaN   NaN           NaN         NaN  \n",
       "3       NaN      NaN   NaN           NaN         NaN  \n",
       "4       NaN      NaN   NaN           NaN         NaN  "
      ]
     },
     "metadata": {},
     "output_type": "display_data"
    },
    {
     "name": "stdout",
     "output_type": "stream",
     "text": [
      "dua_up has the following values: [25.0, 35.0, 75.0, 50.0, nan, 100.0, 200.0, 150.0, 2.75, 1.5]\n",
      "dua_down has the following values: [nan, 0.0]\n",
      "far_up has the following values: [nan, 2.0, 9.0, 3.0]\n",
      "far_down has the following values: [nan, 0.0]\n",
      "add_bldg has the following values: [nan, 'HM', 'IW', 'HS']\n",
      "drop_bldg has the following values: [nan, 'HM']\n"
     ]
    }
   ],
   "source": [
    "# bring in zoningmods fields from FBP as place holders\n",
    "\n",
    "# read these fields in s24\n",
    "lookup_fbp = pd.read_csv(r'C:\\Users\\ywang\\Documents\\GitHub\\bayarea_urbansim\\data\\zoning_mods_24.csv',\n",
    "                         usecols = ['fbpzoningmodcat', 'add_bldg', 'drop_bldg', 'dua_up', 'far_up', \n",
    "                                    'dua_down', 'far_down', 'subsidy', 'notes', 'res_rent_cat', 'job_out_cat'])\n",
    "\n",
    "print('zoning_mods_24 has {} unique fbpzoningmodcat'.format(lookup_fbp.shape[0]))\n",
    "display(lookup_fbp.head())\n",
    "#print(list(lookup_fbp))\n",
    "print('dua_up has the following values: {}'.format(list(lookup_fbp.dua_up.unique())))\n",
    "print('dua_down has the following values: {}'.format(list(lookup_fbp.dua_down.unique())))\n",
    "print('far_up has the following values: {}'.format(list(lookup_fbp.far_up.unique())))\n",
    "print('far_down has the following values: {}'.format(list(lookup_fbp.far_down.unique())))\n",
    "print('add_bldg has the following values: {}'.format(list(lookup_fbp.add_bldg.unique())))\n",
    "print('drop_bldg has the following values: {}'.format(list(lookup_fbp.drop_bldg.unique())))"
   ]
  },
  {
   "cell_type": "code",
   "execution_count": 3,
   "id": "circular-chemistry",
   "metadata": {},
   "outputs": [
    {
     "name": "stderr",
     "output_type": "stream",
     "text": [
      "C:\\Users\\ywang\\Anaconda3\\lib\\site-packages\\IPython\\core\\interactiveshell.py:3147: DtypeWarning: Columns (23,32) have mixed types.Specify dtype option on import or set low_memory=False.\n",
      "  interactivity=interactivity, compiler=compiler, result=result)\n"
     ]
    },
    {
     "name": "stdout",
     "output_type": "stream",
     "text": [
      "p10_pba50_EIR_attr_modcat has 1956208 rows\n"
     ]
    }
   ],
   "source": [
    "# read parcel-level EIR zoningmods master file\n",
    "\n",
    "p10_pba50_EIR_attr = pd.read_csv('C:\\\\Users\\\\ywang\\\\Box\\\\Modeling and Surveys\\\\Urban Modeling\\\\Bay Area UrbanSim\\\\PBA50\\\\Policies\\\\Zoning Modifications\\\\p10_pba50_EIR_attr_20210224.csv')\n",
    "\n",
    "p10_pba50_EIR_attr_modcat = p10_pba50_EIR_attr.merge(lookup_fbp, \n",
    "                                                     left_on='fbpzoningm',\n",
    "                                                     right_on='fbpzoningmodcat', how='left')\n",
    "print('p10_pba50_EIR_attr_modcat has {} rows'.format(p10_pba50_EIR_attr_modcat.shape[0]))"
   ]
  },
  {
   "cell_type": "code",
   "execution_count": 4,
   "id": "faced-significance",
   "metadata": {},
   "outputs": [],
   "source": [
    "# collapsed to lookup table based on 'eirzoningm' and EIR geography fields, 'fbpzoningmodcat'\n",
    "#      was kept to inherent Final Blueprint values \n",
    "\n",
    "EIR_modcat_df = p10_pba50_EIR_attr_modcat[['ACRES', 'fbpzoningmodcat', 'eirzoningm', 'juris',\n",
    "                                           'eir_gg_id', 'eir_tra_id', 'eir_sesit_', 'eir_coc_id', \n",
    "                                           'eir_ppa_id', 'eir_exp202', 'ex_res_bldg',\n",
    "                                           'add_bldg', 'drop_bldg', 'dua_up', 'far_up', \n",
    "                                           'dua_down', 'far_down', 'subsidy', 'res_rent_cat', 'job_out_cat']]\n",
    "\n",
    "EIR_modcat_df = EIR_modcat_df[['eirzoningm', 'juris',\n",
    "                               'eir_gg_id', 'eir_tra_id', 'eir_sesit_', 'eir_coc_id', \n",
    "                               'eir_ppa_id', 'eir_exp202', 'ex_res_bldg',\n",
    "                               'add_bldg', 'drop_bldg', 'dua_up', 'far_up', \n",
    "                               'dua_down', 'far_down', 'subsidy','res_rent_cat', 'job_out_cat']].drop_duplicates()\n",
    "\n",
    "# rename columns\n",
    "EIR_modcat_df.rename(columns = {'eir_gg_id': 'gg_id',\n",
    "                                'eir_tra_id': 'tra_id',\n",
    "                                'eir_sesit_': 'sesit_id',\n",
    "                                'eir_coc_id': 'coc_id',\n",
    "                                'eir_ppa_id': 'ppa_id',\n",
    "                                'eir_exp202': 'exp2020_id'}, inplace=True)\n",
    "\n",
    "# add 'manual_county' column\n",
    "juris_county = pd.read_csv(r'C:\\Users\\ywang\\Documents\\GitHub\\petrale\\zones\\jurisdictions\\juris_county_id.csv',\n",
    "                           usecols = ['juris_name_full', 'county_id'])\n",
    "juris_county.columns = ['juris','manual_county']\n",
    "\n",
    "EIR_modcat_df = EIR_modcat_df.merge(juris_county, on='juris', how='left')"
   ]
  },
  {
   "cell_type": "code",
   "execution_count": 5,
   "id": "pending-broadway",
   "metadata": {},
   "outputs": [],
   "source": [
    "## Update \"dua_up\" and \"add_bldg\" for residential - EIR Alt1 H3 strategy\n",
    "\n",
    "EIR_modcat_alt1 = EIR_modcat_df.copy()\n",
    "\n",
    "# first, set to nan\n",
    "EIR_modcat_alt1.dua_up = np.nan\n",
    "EIR_modcat_alt1.loc[(EIR_modcat_alt1.add_bldg == 'HM') | (EIR_modcat_alt1.add_bldg == 'HS'), 'add_bldg'] = np.nan\n",
    "\n",
    "# update values\n",
    "\n",
    "gg_tra1_idx = (EIR_modcat_alt1.gg_id == 'GG') & (\n",
    "               EIR_modcat_alt1.tra_id == 'tra1') & (\n",
    "               EIR_modcat_alt1.ppa_id != 'ppa')\n",
    "EIR_modcat_alt1.loc[gg_tra1_idx, 'dua_up'] = 300\n",
    "EIR_modcat_alt1.loc[gg_tra1_idx, 'add_bldg'] = 'HM'\n",
    "\n",
    "gg_tra2a_idx = (EIR_modcat_alt1.gg_id == 'GG') & (\n",
    "                EIR_modcat_alt1.tra_id == 'tra2a') & (\n",
    "                EIR_modcat_alt1.ppa_id != 'ppa')\n",
    "EIR_modcat_alt1.loc[gg_tra2a_idx, 'dua_up'] = 250\n",
    "EIR_modcat_alt1.loc[gg_tra2a_idx, 'add_bldg'] = 'HM'\n",
    "\n",
    "gg_tra2b_idx = (EIR_modcat_alt1.gg_id == 'GG') & (\n",
    "                EIR_modcat_alt1.tra_id == 'tra2b') & (\n",
    "                EIR_modcat_alt1.ppa_id != 'ppa')\n",
    "\n",
    "EIR_modcat_alt1.loc[gg_tra2b_idx, 'dua_up'] = 200\n",
    "EIR_modcat_alt1.loc[gg_tra2b_idx, 'add_bldg'] = 'HM'\n",
    "\n",
    "gg_tra2c_idx = (EIR_modcat_alt1.gg_id == 'GG') & (\n",
    "                EIR_modcat_alt1.tra_id == 'tra2c') & (\n",
    "                EIR_modcat_alt1.ppa_id != 'ppa')\n",
    "\n",
    "EIR_modcat_alt1.loc[gg_tra2c_idx, 'dua_up'] = 150\n",
    "EIR_modcat_alt1.loc[gg_tra2c_idx, 'add_bldg'] = 'HM'\n",
    "\n",
    "gg_tra3_idx = (EIR_modcat_alt1.gg_id == 'GG') & (\n",
    "               EIR_modcat_alt1.tra_id == 'tra3') & (\n",
    "               EIR_modcat_alt1.ppa_id != 'ppa')\n",
    "\n",
    "EIR_modcat_alt1.loc[gg_tra3_idx, 'dua_up'] = 100\n",
    "EIR_modcat_alt1.loc[gg_tra3_idx, 'add_bldg'] = 'HM'"
   ]
  },
  {
   "cell_type": "code",
   "execution_count": 6,
   "id": "representative-endorsement",
   "metadata": {},
   "outputs": [],
   "source": [
    "## if within PPA, drop_bldg is HM\n",
    "\n",
    "EIR_modcat_alt1.loc[EIR_modcat_alt1.ppa_id == 'ppa', 'drop_bldg'] = 'HM'"
   ]
  },
  {
   "cell_type": "code",
   "execution_count": 7,
   "id": "unavailable-inspector",
   "metadata": {},
   "outputs": [
    {
     "data": {
      "text/plain": [
       "in      2526\n",
       "inun     393\n",
       "Name: exp2020_id, dtype: int64"
      ]
     },
     "metadata": {},
     "output_type": "display_data"
    }
   ],
   "source": [
    "## Update \"dua_down\" for residential - EIR Alt1 UGB strategy\n",
    "\n",
    "no_dua_down_fbp = EIR_modcat_alt1.loc[EIR_modcat_alt1.dua_down.isnull()]\n",
    "display(no_dua_down_fbp.exp2020_id.value_counts())\n",
    "\n",
    "# zoningmods with 'inun' is the 'exp2020_id' field should have 'dua_down = 0'\n",
    "EIR_modcat_alt1.loc[EIR_modcat_alt1.exp2020_id == 'inun', 'dua_down'] = 0\n",
    "\n",
    "# finally, where dua_down==0, dua_up should be nan, add_bldg should be nan\n",
    "EIR_modcat_alt1.loc[EIR_modcat_alt1.dua_down == 0, 'dua_up'] = np.nan\n",
    "EIR_modcat_alt1.loc[EIR_modcat_alt1.dua_down == 0, 'add_bldg'] = np.nan"
   ]
  },
  {
   "cell_type": "code",
   "execution_count": 8,
   "id": "binding-lithuania",
   "metadata": {},
   "outputs": [],
   "source": [
    "# Update \"far_up\" and \"add_bldg\" for non-residential - EIR Alt1 H3 strategy\n",
    "\n",
    "# first, set to nan\n",
    "EIR_modcat_alt1.far_up = np.nan\n",
    "EIR_modcat_alt1.loc[EIR_modcat_alt1.add_bldg == 'IW', 'add_bldg'] = np.nan\n",
    "\n",
    "# update values\n",
    "EIR_modcat_alt1.loc[(EIR_modcat_alt1.gg_id=='GG') & (EIR_modcat_alt1.tra_id=='tra1'), 'far_up'] = 12\n",
    "\n",
    "EIR_modcat_alt1.loc[(EIR_modcat_alt1.gg_id=='GG') & (\n",
    "                     EIR_modcat_alt1.ppa_id=='ppa') & (\n",
    "                     EIR_modcat_alt1.tra_id != 'tra1'), 'far_up'] = 2\n",
    "\n",
    "EIR_modcat_alt1.loc[(EIR_modcat_alt1.gg_id=='GG') & (\n",
    "                     EIR_modcat_alt1.ppa_id=='ppa') & (\n",
    "                     EIR_modcat_alt1.tra_id != 'tra1'), 'add_bldg'] = 'IW'"
   ]
  },
  {
   "cell_type": "code",
   "execution_count": 9,
   "id": "convinced-canadian",
   "metadata": {},
   "outputs": [
    {
     "data": {
      "text/plain": [
       "in      2526\n",
       "inun     393\n",
       "Name: exp2020_id, dtype: int64"
      ]
     },
     "metadata": {},
     "output_type": "display_data"
    }
   ],
   "source": [
    "# Update \"far_down\" for non-residential - EIR Alt1 UGB strategy\n",
    "\n",
    "no_far_down_fbp = EIR_modcat_alt1.loc[EIR_modcat_alt1.far_down.isnull()]\n",
    "display(no_far_down_fbp.exp2020_id.value_counts())\n",
    "\n",
    "# zoningmods with 'inun' is the 'exp2020_id' field should have 'dua_down = 0'\n",
    "EIR_modcat_alt1.loc[EIR_modcat_alt1.exp2020_id == 'inun', 'far_down'] = 0\n",
    "\n",
    "# finally, where far_down==0, far_up should be nan\n",
    "EIR_modcat_alt1.loc[EIR_modcat_alt1.far_down == 0, 'far_up'] = np.nan"
   ]
  },
  {
   "cell_type": "code",
   "execution_count": 10,
   "id": "stunning-branch",
   "metadata": {},
   "outputs": [
    {
     "name": "stdout",
     "output_type": "stream",
     "text": [
      "EIR_modcat_alt1 has 3535 rows\n",
      "EIR_modcat_stats has 3535 rows\n",
      "p10_pba50_EIR_modcat_df has 3535 rows\n"
     ]
    }
   ],
   "source": [
    "# drop duplicates\n",
    "EIR_modcat_alt1 = EIR_modcat_alt1.drop_duplicates()\n",
    "print('EIR_modcat_alt1 has {} rows'.format(EIR_modcat_alt1.shape[0]))\n",
    "\n",
    "# add 'FREQUENCE', 'SUM_ACRES' columns\n",
    "EIR_modcat_stats = p10_pba50_EIR_attr_modcat.groupby('eirzoningm').agg({'ACRES': ['count','sum']}).reset_index()\n",
    "EIR_modcat_stats.columns = ['eirzoningm', 'FREQUENCY', 'SUM_ACRES']\n",
    "print('EIR_modcat_stats has {} rows'.format(EIR_modcat_stats.shape[0]))\n",
    "\n",
    "EIR_modcat_alt1 = EIR_modcat_alt1.merge(EIR_modcat_stats, on='eirzoningm', how='left')\n",
    "print('p10_pba50_EIR_modcat_df has {} rows'.format(EIR_modcat_alt1.shape[0]))\n",
    "\n",
    "# add 'modcat_id' column\n",
    "EIR_modcat_alt1['modcat_id'] = EIR_modcat_alt1.index + 1\n",
    "\n",
    "# recoder the fields\n",
    "EIR_modcat_alt1 = EIR_modcat_alt1[['eirzoningm', 'modcat_id', 'FREQUENCY', 'SUM_ACRES', 'manual_county', 'juris', \n",
    "                                   'gg_id', 'tra_id', 'sesit_id', 'coc_id', 'ppa_id', 'exp2020_id', 'ex_res_bldg', \n",
    "                                   'add_bldg', 'drop_bldg', 'dua_up', 'far_up', 'dua_down', 'far_down', 'subsidy', 'res_rent_cat', 'job_out_cat']]"
   ]
  },
  {
   "cell_type": "code",
   "execution_count": 11,
   "id": "advanced-cradle",
   "metadata": {},
   "outputs": [
    {
     "data": {
      "text/plain": [
       "array([nan])"
      ]
     },
     "metadata": {},
     "output_type": "display_data"
    },
    {
     "data": {
      "text/plain": [
       "array(['HM'], dtype=object)"
      ]
     },
     "metadata": {},
     "output_type": "display_data"
    },
    {
     "data": {
      "text/plain": [
       "array(['in'], dtype=object)"
      ]
     },
     "metadata": {},
     "output_type": "display_data"
    },
    {
     "data": {
      "text/plain": [
       "array(['in'], dtype=object)"
      ]
     },
     "metadata": {},
     "output_type": "display_data"
    },
    {
     "name": "stdout",
     "output_type": "stream",
     "text": [
      "0\n",
      "0\n"
     ]
    },
    {
     "data": {
      "text/plain": [
       "array([nan], dtype=object)"
      ]
     },
     "metadata": {},
     "output_type": "display_data"
    }
   ],
   "source": [
    "# check\n",
    "\n",
    "# PPA parcels should have no dua_up\n",
    "ppa_chk = EIR_modcat_alt1.loc[EIR_modcat_alt1.ppa_id == 'ppa']\n",
    "display(ppa_chk.dua_up.unique())  # should only contain nan\n",
    "\n",
    "# PPA parcels should have drop_bldg = HM\n",
    "display(ppa_chk.drop_bldg.unique())  # should only contain 'HM'\n",
    "\n",
    "# only parcels with value 'in' in field 'exp2020_id' don't have dua_down=0\n",
    "display(EIR_modcat_alt1.loc[EIR_modcat_alt1.dua_down.isnull()].exp2020_id.unique()) # should only contain 'in'\n",
    "\n",
    "# only parcels with value 'in' in field 'exp2020_id' don't have far_down=0\n",
    "display(EIR_modcat_alt1.loc[EIR_modcat_alt1.far_down.isnull()].exp2020_id.unique()) # should only contain 'in'\n",
    "\n",
    "# there should be no overlap between dua_up and dua_down, between far_up and far_down\n",
    "dua_chk = EIR_modcat_alt1.loc[(EIR_modcat_alt1.dua_down == 0) & \n",
    "                               EIR_modcat_alt1.dua_up.notnull()]\n",
    "print(dua_chk.shape[0])     # should be 0\n",
    "\n",
    "far_chk = EIR_modcat_alt1.loc[(EIR_modcat_alt1.far_down == 0) & \n",
    "                               EIR_modcat_alt1.far_up.notnull()]\n",
    "print(far_chk.shape[0])     # should be 0\n",
    "\n",
    "# parcels outside of 'in' in field 'exp2020_id' should not have add_blg\n",
    "add_bldg_chk = EIR_modcat_alt1.loc[EIR_modcat_alt1.exp2020_id != 'in']  # should only contain nan\n",
    "display(add_bldg_chk.add_bldg.unique())"
   ]
  },
  {
   "cell_type": "code",
   "execution_count": 12,
   "id": "popular-mattress",
   "metadata": {},
   "outputs": [
    {
     "name": "stdout",
     "output_type": "stream",
     "text": [
      "export zoning_mods lookup table of 3535 rows\n"
     ]
    }
   ],
   "source": [
    "# export\n",
    "EIR_modcat_alt1.rename(columns={'eirzoningm': 'eirzoningmodcat'}, inplace=True)\n",
    "print('export zoning_mods lookup table of {} rows'.format(EIR_modcat_alt1.shape[0]))\n",
    "#EIR_modcat_alt1.to_csv('C:\\\\Users\\\\ywang\\\\Box\\\\Modeling and Surveys\\\\Urban Modeling\\\\Bay Area UrbanSim\\\\PBA50\\\\Policies\\\\Zoning Modifications\\\\BAUS input files\\\\zoning_mods_26_{}.csv'.format(today), index=False)"
   ]
  }
 ],
 "metadata": {
  "kernelspec": {
   "display_name": "Python 3",
   "language": "python",
   "name": "python3"
  },
  "language_info": {
   "codemirror_mode": {
    "name": "ipython",
    "version": 3
   },
   "file_extension": ".py",
   "mimetype": "text/x-python",
   "name": "python",
   "nbconvert_exporter": "python",
   "pygments_lexer": "ipython3",
   "version": "3.7.6"
  }
 },
 "nbformat": 4,
 "nbformat_minor": 5
}
