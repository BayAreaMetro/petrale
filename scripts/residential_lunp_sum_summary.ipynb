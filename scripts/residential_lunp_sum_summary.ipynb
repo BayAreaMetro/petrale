{
 "cells": [
  {
   "cell_type": "code",
   "execution_count": 1,
   "metadata": {},
   "outputs": [],
   "source": [
    "import pandas as pd"
   ]
  },
  {
   "cell_type": "code",
   "execution_count": 2,
   "metadata": {},
   "outputs": [],
   "source": [
    "# set up file directory and run_id\n",
    "\n",
    "run_dir = ''\n",
    "run_id = ''"
   ]
  },
  {
   "cell_type": "code",
   "execution_count": 3,
   "metadata": {},
   "outputs": [],
   "source": [
    "# summarize residential lump sum acctlog\n",
    "\n",
    "all_data = pd.DataFrame(columns = ['amount', 'year', 'county', 'residential_units',\n",
    "                                   'subsidized_units', 'inclusionary_units', 'deed_restricted_units'])\n",
    "subsidized_units = 0\n",
    "inclusionary_units = 0\n",
    "deed_restricted_units = 0\n",
    "residential_units = 0\n",
    "\n",
    "for county in ['Alameda', 'Contra Costa', 'Marin', 'Napa', 'San Francisco',\n",
    "               'San Mateo', 'Santa Clara', 'Solano', 'Sonoma']:\n",
    "\n",
    "    print(county)\n",
    "    df = pd.read_csv('{}\\\\run{}_acctlog_{} Affordable Housing Bond_2050.csv'.format(run_dir, run_id, county))\n",
    "\n",
    "    df['county'] = county\n",
    "\n",
    "    if 'subsidized_units' in df.columns:\n",
    "        subsidized = df.subsidized_units.sum()\n",
    "        print('Number of subsizided units: {:,}'.format(int(subsidized)))\n",
    "        subsidized_units += subsidized\n",
    "        \n",
    "        inclusionary = df.inclusionary_units.sum()\n",
    "        inclusionary_units += inclusionary\n",
    "\n",
    "        deed_restricted = df.deed_restricted_units.sum()\n",
    "        deed_restricted_units += deed_restricted\n",
    "        \n",
    "        residential = df.residential_units.sum()\n",
    "        residential_units += residential\n",
    "        \n",
    "        fee_used = (df.loc[df.amount < 0].amount.sum()) * -1\n",
    "        print('Amount of funding used: {}'.format(fee_used))\n",
    "        fee_left = df.amount.sum()\n",
    "        print('Amount of funding left: {}'.format(fee_left))\n",
    "\n",
    "        first = df.loc[df.residential_units > 0].year.min()\n",
    "        print('First round a building is subsidized: {}'.format(first))\n",
    "        print('Subsidized_units built by year: \\n{}\\n'.format(\n",
    "            df.loc[df.residential_units > 0].groupby(['year'])['subsidized_units'].sum()))\n",
    "\n",
    "        all_data = pd.concat([all_data, df])\n",
    "\n",
    "    else:\n",
    "        print('No subsidized units.')\n",
    "        fee_left = df.amount.sum()\n",
    "        print('Amount of funding left: {} \\n'.format(fee_left))\n",
    "        all_data = pd.concat([all_data, df])\n",
    "    \n",
    "print('Total number of subsidized_units: {:,}'.format(int(subsidized_units)))\n",
    "print('Number of inclusionary_units could not have been created without the subsidy: {:,}'.format(int(inclusionary_units)))\n",
    "print('Number of residential_units could not have been created without the subsidy: {:,}'.format(int(residential_units)))"
   ]
  },
  {
   "cell_type": "code",
   "execution_count": 4,
   "metadata": {},
   "outputs": [],
   "source": [
    "# export the aggregated file if needed\n",
    "\n",
    "all_data.drop(columns = ['Unnamed: 0'], inplace = True)\n",
    "all_data.to_csv('residential_lump_sum_acct_summary.csv', index=False)"
   ]
  }
 ],
 "metadata": {
  "kernelspec": {
   "display_name": "Python 3",
   "language": "python",
   "name": "python3"
  },
  "language_info": {
   "codemirror_mode": {
    "name": "ipython",
    "version": 3
   },
   "file_extension": ".py",
   "mimetype": "text/x-python",
   "name": "python",
   "nbconvert_exporter": "python",
   "pygments_lexer": "ipython3",
   "version": "3.7.6"
  }
 },
 "nbformat": 4,
 "nbformat_minor": 4
}
