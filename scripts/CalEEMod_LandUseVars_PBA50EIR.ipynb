{
 "cells": [
  {
   "cell_type": "code",
   "execution_count": 1,
   "metadata": {},
   "outputs": [],
   "source": [
    "import pandas as pd"
   ]
  },
  {
   "cell_type": "code",
   "execution_count": 2,
   "metadata": {},
   "outputs": [],
   "source": [
    "# establish excel writer / workbook (and don't re-run)\n",
    "writer = pd.ExcelWriter(\"C:/Users/etheocharides/Box/Modeling and Surveys/Urban Modeling/Bay Area UrbanSim/PBA50/CalEEMod/CalEEMod_LandUseVars_PBA50EIR.xlsx\")"
   ]
  },
  {
   "cell_type": "code",
   "execution_count": 67,
   "metadata": {},
   "outputs": [],
   "source": [
    "# select input file for summarization- will be an EIR run + year (2015 or 2050)\n",
    "file = \"run314_building_data_2050_NP.csv\"\n",
    "# name output excel sheet \n",
    "sheet = \"NP 2050\""
   ]
  },
  {
   "cell_type": "code",
   "execution_count": 68,
   "metadata": {},
   "outputs": [],
   "source": [
    "#import building data and subset columns\n",
    "b = pd.read_csv(\"C:/Users/etheocharides/Box/Modeling and Surveys/Urban Modeling/Bay Area UrbanSim/PBA50/CalEEMod/\"+file)\n",
    "b = b[['zone_id', 'building_id', 'parcel_id', 'source', 'building_type', 'residential_units', 'non_residential_sqft']]"
   ]
  },
  {
   "cell_type": "code",
   "execution_count": 69,
   "metadata": {},
   "outputs": [],
   "source": [
    "# import parcel info and subset columns\n",
    "p = pd.read_csv(\"C:/Users/etheocharides/Box/Modeling and Surveys/Urban Modeling/Bay Area UrbanSim/PBA50/CalEEMod/2021_02_25_parcels_geography.csv\")\n",
    "p = p[['PARCEL_ID', 'ACRES']]"
   ]
  },
  {
   "cell_type": "code",
   "execution_count": 70,
   "metadata": {},
   "outputs": [],
   "source": [
    "# import TAZ-county crosswalk\n",
    "xwalk = pd.read_csv(\"C:/Users/etheocharides/Box/Modeling and Surveys/Urban Modeling/Bay Area UrbanSim/PBA50/CalEEMod/taz_geography.csv\")\n",
    "xwalk = xwalk[['zone', 'county']]"
   ]
  },
  {
   "cell_type": "code",
   "execution_count": 71,
   "metadata": {},
   "outputs": [],
   "source": [
    "# replace county numbers with county names\n",
    "xwalk.loc[xwalk.county == 1, \"county\"] = \"San Francisco\"\n",
    "xwalk.loc[xwalk.county == 2, \"county\"] = \"San Mateo\"\n",
    "xwalk.loc[xwalk.county == 3, \"county\"] = \"Santa Clara\"\n",
    "xwalk.loc[xwalk.county == 4, \"county\"] = \"Alameda\"\n",
    "xwalk.loc[xwalk.county == 5, \"county\"] = \"Contra Costa\"\n",
    "xwalk.loc[xwalk.county == 6, \"county\"] = \"Solano\"\n",
    "xwalk.loc[xwalk.county == 7, \"county\"] = \"Napa\"\n",
    "xwalk.loc[xwalk.county == 8, \"county\"] = \"Sonoma\"\n",
    "xwalk.loc[xwalk.county == 9, \"county\"] = \"Marin\""
   ]
  },
  {
   "cell_type": "code",
   "execution_count": 72,
   "metadata": {},
   "outputs": [],
   "source": [
    "# join parcel acres to buildings\n",
    "b = b.merge(p, left_on='parcel_id', right_on='PARCEL_ID', how='left')"
   ]
  },
  {
   "cell_type": "code",
   "execution_count": 73,
   "metadata": {},
   "outputs": [],
   "source": [
    "# join county to buildings using zone_id\n",
    "b = b.merge(xwalk, left_on='zone_id', right_on='zone', how='left')"
   ]
  },
  {
   "cell_type": "code",
   "execution_count": 74,
   "metadata": {},
   "outputs": [],
   "source": [
    "# create DUA column from building and parcel data\n",
    "b[\"dua\"] = b.residential_units / b.ACRES"
   ]
  },
  {
   "cell_type": "code",
   "execution_count": 75,
   "metadata": {},
   "outputs": [],
   "source": [
    "# building types\n",
    "#HS: single family residential\n",
    "#HT: townhomes\n",
    "#HM: multi family residential\n",
    "#OF: office\n",
    "#HO: hotel\n",
    "#SC: school\n",
    "#IL: light industrial\n",
    "#IW: warehouse\n",
    "#IH: heavy industrial\n",
    "#RS: retail general\n",
    "#RB: retail big box\n",
    "#MR: mixed use residential focused\n",
    "#MT: mixed use industiral focused\n",
    "#ME: mixed use employment focused"
   ]
  },
  {
   "cell_type": "code",
   "execution_count": 76,
   "metadata": {},
   "outputs": [],
   "source": [
    "# add single family and multifamily building vars\n",
    "b.loc[(b.building_type == 'HS') | (b.building_type == 'HT'), 'SF'] = b.residential_units\n",
    "b.loc[(b.building_type == 'HM') | (b.building_type == 'MR') | (b.building_type == 'PA2') | (b.building_type == 'RS') |\n",
    "      (b.building_type == 'OF') | (b.building_type == 'IL') | (b.building_type == 'HO') | (b.building_type == 'SC'), \n",
    "      'MF'] = b.residential_units"
   ]
  },
  {
   "cell_type": "code",
   "execution_count": 77,
   "metadata": {},
   "outputs": [],
   "source": [
    "# add multifamily low, mid, and high rise building vars\n",
    "b.loc[(b.MF > 0) & (b.dua < 32), 'MF_low'] = b.residential_units\n",
    "b.loc[(b.MF > 0) & (b.dua >= 32)& (b.dua < 50), 'MF_mid'] = b.residential_units\n",
    "b.loc[(b.MF > 0) & (b.dua >= 50), 'MF_high'] = b.residential_units"
   ]
  },
  {
   "cell_type": "code",
   "execution_count": 78,
   "metadata": {},
   "outputs": [],
   "source": [
    "# add office, retail, industrial, and commercial_other building vars\n",
    "b.loc[(b.building_type == 'OF') | (b.building_type == 'ME'), 'office'] = b.non_residential_sqft\n",
    "b.loc[(b.building_type == 'RS') | (b.building_type == 'RB')| (b.building_type == 'MR'), \n",
    "      'retail'] = b.non_residential_sqft\n",
    "b.loc[(b.building_type == 'IL') | (b.building_type == 'IH') | (b.building_type == 'IW') | (b.building_type == 'MT'), \n",
    "      'industrial'] = b.non_residential_sqft\n",
    "b.loc[(b.building_type == 'HO') | (b.building_type == 'SC'), 'commercial_other'] = b.non_residential_sqft"
   ]
  },
  {
   "cell_type": "code",
   "execution_count": 79,
   "metadata": {},
   "outputs": [],
   "source": [
    "county_summary = b[[\"SF\", 'MF', \"MF_low\", \"MF_mid\", \"MF_high\", \"office\", \"retail\", \"industrial\", \n",
    "                        \"commercial_other\", \"county\"]].groupby('county').sum()"
   ]
  },
  {
   "cell_type": "code",
   "execution_count": 80,
   "metadata": {},
   "outputs": [
    {
     "data": {
      "text/html": [
       "<div>\n",
       "<style scoped>\n",
       "    .dataframe tbody tr th:only-of-type {\n",
       "        vertical-align: middle;\n",
       "    }\n",
       "\n",
       "    .dataframe tbody tr th {\n",
       "        vertical-align: top;\n",
       "    }\n",
       "\n",
       "    .dataframe thead th {\n",
       "        text-align: right;\n",
       "    }\n",
       "</style>\n",
       "<table border=\"1\" class=\"dataframe\">\n",
       "  <thead>\n",
       "    <tr style=\"text-align: right;\">\n",
       "      <th></th>\n",
       "      <th>SF</th>\n",
       "      <th>MF</th>\n",
       "      <th>MF_low</th>\n",
       "      <th>MF_mid</th>\n",
       "      <th>MF_high</th>\n",
       "      <th>office</th>\n",
       "      <th>retail</th>\n",
       "      <th>industrial</th>\n",
       "      <th>commercial_other</th>\n",
       "    </tr>\n",
       "    <tr>\n",
       "      <th>county</th>\n",
       "      <th></th>\n",
       "      <th></th>\n",
       "      <th></th>\n",
       "      <th></th>\n",
       "      <th></th>\n",
       "      <th></th>\n",
       "      <th></th>\n",
       "      <th></th>\n",
       "      <th></th>\n",
       "    </tr>\n",
       "  </thead>\n",
       "  <tbody>\n",
       "    <tr>\n",
       "      <td>Alameda</td>\n",
       "      <td>420305.0</td>\n",
       "      <td>420748.0</td>\n",
       "      <td>99211.0</td>\n",
       "      <td>59970.0</td>\n",
       "      <td>261567.0</td>\n",
       "      <td>1.807284e+08</td>\n",
       "      <td>9.708574e+07</td>\n",
       "      <td>204154857.0</td>\n",
       "      <td>32303114.0</td>\n",
       "    </tr>\n",
       "    <tr>\n",
       "      <td>Contra Costa</td>\n",
       "      <td>498344.0</td>\n",
       "      <td>211507.0</td>\n",
       "      <td>41942.0</td>\n",
       "      <td>69507.0</td>\n",
       "      <td>100058.0</td>\n",
       "      <td>7.773761e+07</td>\n",
       "      <td>5.901131e+07</td>\n",
       "      <td>51874952.0</td>\n",
       "      <td>21488970.0</td>\n",
       "    </tr>\n",
       "    <tr>\n",
       "      <td>Marin</td>\n",
       "      <td>92460.0</td>\n",
       "      <td>41967.0</td>\n",
       "      <td>21657.0</td>\n",
       "      <td>9789.0</td>\n",
       "      <td>10521.0</td>\n",
       "      <td>2.859852e+07</td>\n",
       "      <td>1.108992e+07</td>\n",
       "      <td>4427530.0</td>\n",
       "      <td>2986257.0</td>\n",
       "    </tr>\n",
       "    <tr>\n",
       "      <td>Napa</td>\n",
       "      <td>51215.0</td>\n",
       "      <td>15520.0</td>\n",
       "      <td>8416.0</td>\n",
       "      <td>3635.0</td>\n",
       "      <td>3469.0</td>\n",
       "      <td>3.480191e+06</td>\n",
       "      <td>1.252862e+07</td>\n",
       "      <td>25248262.0</td>\n",
       "      <td>1752606.0</td>\n",
       "    </tr>\n",
       "    <tr>\n",
       "      <td>San Francisco</td>\n",
       "      <td>116480.0</td>\n",
       "      <td>405905.0</td>\n",
       "      <td>28202.0</td>\n",
       "      <td>46519.0</td>\n",
       "      <td>331184.0</td>\n",
       "      <td>2.013830e+08</td>\n",
       "      <td>1.029818e+08</td>\n",
       "      <td>29963292.0</td>\n",
       "      <td>32354619.0</td>\n",
       "    </tr>\n",
       "    <tr>\n",
       "      <td>San Mateo</td>\n",
       "      <td>210612.0</td>\n",
       "      <td>194335.0</td>\n",
       "      <td>31616.0</td>\n",
       "      <td>55248.0</td>\n",
       "      <td>107471.0</td>\n",
       "      <td>1.086084e+08</td>\n",
       "      <td>3.384808e+07</td>\n",
       "      <td>44081895.0</td>\n",
       "      <td>23852232.0</td>\n",
       "    </tr>\n",
       "    <tr>\n",
       "      <td>Santa Clara</td>\n",
       "      <td>499778.0</td>\n",
       "      <td>617680.0</td>\n",
       "      <td>73740.0</td>\n",
       "      <td>64405.0</td>\n",
       "      <td>477880.0</td>\n",
       "      <td>2.915838e+08</td>\n",
       "      <td>1.736567e+08</td>\n",
       "      <td>216044678.0</td>\n",
       "      <td>19777770.0</td>\n",
       "    </tr>\n",
       "    <tr>\n",
       "      <td>Solano</td>\n",
       "      <td>152705.0</td>\n",
       "      <td>47532.0</td>\n",
       "      <td>24286.0</td>\n",
       "      <td>5895.0</td>\n",
       "      <td>17351.0</td>\n",
       "      <td>1.770721e+07</td>\n",
       "      <td>2.794568e+07</td>\n",
       "      <td>44623827.0</td>\n",
       "      <td>3015491.0</td>\n",
       "    </tr>\n",
       "    <tr>\n",
       "      <td>Sonoma</td>\n",
       "      <td>178936.0</td>\n",
       "      <td>78219.0</td>\n",
       "      <td>39462.0</td>\n",
       "      <td>8101.0</td>\n",
       "      <td>30656.0</td>\n",
       "      <td>5.861363e+07</td>\n",
       "      <td>2.870629e+07</td>\n",
       "      <td>32147996.0</td>\n",
       "      <td>5174078.0</td>\n",
       "    </tr>\n",
       "  </tbody>\n",
       "</table>\n",
       "</div>"
      ],
      "text/plain": [
       "                     SF        MF   MF_low   MF_mid   MF_high        office  \\\n",
       "county                                                                        \n",
       "Alameda        420305.0  420748.0  99211.0  59970.0  261567.0  1.807284e+08   \n",
       "Contra Costa   498344.0  211507.0  41942.0  69507.0  100058.0  7.773761e+07   \n",
       "Marin           92460.0   41967.0  21657.0   9789.0   10521.0  2.859852e+07   \n",
       "Napa            51215.0   15520.0   8416.0   3635.0    3469.0  3.480191e+06   \n",
       "San Francisco  116480.0  405905.0  28202.0  46519.0  331184.0  2.013830e+08   \n",
       "San Mateo      210612.0  194335.0  31616.0  55248.0  107471.0  1.086084e+08   \n",
       "Santa Clara    499778.0  617680.0  73740.0  64405.0  477880.0  2.915838e+08   \n",
       "Solano         152705.0   47532.0  24286.0   5895.0   17351.0  1.770721e+07   \n",
       "Sonoma         178936.0   78219.0  39462.0   8101.0   30656.0  5.861363e+07   \n",
       "\n",
       "                     retail   industrial  commercial_other  \n",
       "county                                                      \n",
       "Alameda        9.708574e+07  204154857.0        32303114.0  \n",
       "Contra Costa   5.901131e+07   51874952.0        21488970.0  \n",
       "Marin          1.108992e+07    4427530.0         2986257.0  \n",
       "Napa           1.252862e+07   25248262.0         1752606.0  \n",
       "San Francisco  1.029818e+08   29963292.0        32354619.0  \n",
       "San Mateo      3.384808e+07   44081895.0        23852232.0  \n",
       "Santa Clara    1.736567e+08  216044678.0        19777770.0  \n",
       "Solano         2.794568e+07   44623827.0         3015491.0  \n",
       "Sonoma         2.870629e+07   32147996.0         5174078.0  "
      ]
     },
     "execution_count": 80,
     "metadata": {},
     "output_type": "execute_result"
    }
   ],
   "source": [
    "county_summary"
   ]
  },
  {
   "cell_type": "code",
   "execution_count": 81,
   "metadata": {},
   "outputs": [
    {
     "name": "stdout",
     "output_type": "stream",
     "text": [
      "compare total res units to SF + MF\n",
      "4254248.0\n",
      "4254248.0\n",
      "compare total MF units to low/mid/high\n",
      "2033413.0\n",
      "2031758.0\n",
      "compare total non-res sqft to non-res sqft by category\n",
      "2437371936.0\n",
      "2820429470.0\n"
     ]
    }
   ],
   "source": [
    "# run checks\n",
    "print(\"compare total res units to SF + MF\")\n",
    "print(b.residential_units.sum())\n",
    "print(county_summary.SF.sum() + county_summary.MF.sum())\n",
    "print(\"compare total MF units to low/mid/high\")\n",
    "print(b.MF.sum())\n",
    "print(county_summary.MF_low.sum() + county_summary.MF_mid.sum() + county_summary.MF_high.sum())\n",
    "print(\"compare total non-res sqft to non-res sqft by category\")\n",
    "print(round(b.non_residential_sqft.sum()))\n",
    "print(round(county_summary.office.sum() + county_summary.retail.sum() + county_summary.industrial.sum() + \n",
    "            county_summary.industrial.sum()))"
   ]
  },
  {
   "cell_type": "code",
   "execution_count": 82,
   "metadata": {},
   "outputs": [
    {
     "data": {
      "text/plain": [
       "Series([], Name: building_type, dtype: int64)"
      ]
     },
     "execution_count": 82,
     "metadata": {},
     "output_type": "execute_result"
    }
   ],
   "source": [
    "# debug check- res\n",
    "debug_res = b[(b.residential_units > 0) & (b.SF.isnull()) & (b.MF.isnull())]\n",
    "debug_res.building_type.value_counts()"
   ]
  },
  {
   "cell_type": "code",
   "execution_count": 83,
   "metadata": {},
   "outputs": [
    {
     "data": {
      "text/html": [
       "<div>\n",
       "<style scoped>\n",
       "    .dataframe tbody tr th:only-of-type {\n",
       "        vertical-align: middle;\n",
       "    }\n",
       "\n",
       "    .dataframe tbody tr th {\n",
       "        vertical-align: top;\n",
       "    }\n",
       "\n",
       "    .dataframe thead th {\n",
       "        text-align: right;\n",
       "    }\n",
       "</style>\n",
       "<table border=\"1\" class=\"dataframe\">\n",
       "  <thead>\n",
       "    <tr style=\"text-align: right;\">\n",
       "      <th></th>\n",
       "      <th>zone_id</th>\n",
       "      <th>building_id</th>\n",
       "      <th>parcel_id</th>\n",
       "      <th>source</th>\n",
       "      <th>building_type</th>\n",
       "      <th>residential_units</th>\n",
       "      <th>non_residential_sqft</th>\n",
       "      <th>PARCEL_ID</th>\n",
       "      <th>ACRES</th>\n",
       "      <th>zone</th>\n",
       "      <th>...</th>\n",
       "      <th>dua</th>\n",
       "      <th>SF</th>\n",
       "      <th>MF</th>\n",
       "      <th>MF_low</th>\n",
       "      <th>MF_mid</th>\n",
       "      <th>MF_high</th>\n",
       "      <th>office</th>\n",
       "      <th>retail</th>\n",
       "      <th>industrial</th>\n",
       "      <th>commercial_other</th>\n",
       "    </tr>\n",
       "  </thead>\n",
       "  <tbody>\n",
       "    <tr>\n",
       "      <td>1821000</td>\n",
       "      <td>353</td>\n",
       "      <td>1843295</td>\n",
       "      <td>2054505</td>\n",
       "      <td>h5_inputs</td>\n",
       "      <td>HM</td>\n",
       "      <td>1655.0</td>\n",
       "      <td>0.0</td>\n",
       "      <td>NaN</td>\n",
       "      <td>NaN</td>\n",
       "      <td>353</td>\n",
       "      <td>...</td>\n",
       "      <td>NaN</td>\n",
       "      <td>NaN</td>\n",
       "      <td>1655.0</td>\n",
       "      <td>NaN</td>\n",
       "      <td>NaN</td>\n",
       "      <td>NaN</td>\n",
       "      <td>NaN</td>\n",
       "      <td>NaN</td>\n",
       "      <td>NaN</td>\n",
       "      <td>NaN</td>\n",
       "    </tr>\n",
       "  </tbody>\n",
       "</table>\n",
       "<p>1 rows × 21 columns</p>\n",
       "</div>"
      ],
      "text/plain": [
       "         zone_id  building_id  parcel_id     source building_type  \\\n",
       "1821000      353      1843295    2054505  h5_inputs            HM   \n",
       "\n",
       "         residential_units  non_residential_sqft  PARCEL_ID  ACRES  zone  ...  \\\n",
       "1821000             1655.0                   0.0        NaN    NaN   353  ...   \n",
       "\n",
       "        dua  SF      MF  MF_low  MF_mid  MF_high  office  retail  industrial  \\\n",
       "1821000 NaN NaN  1655.0     NaN     NaN      NaN     NaN     NaN         NaN   \n",
       "\n",
       "         commercial_other  \n",
       "1821000               NaN  \n",
       "\n",
       "[1 rows x 21 columns]"
      ]
     },
     "execution_count": 83,
     "metadata": {},
     "output_type": "execute_result"
    }
   ],
   "source": [
    "# debug check- multifamlily \n",
    "debug_mf = b[(b.MF > 0) & (b.MF_low.isnull()) & (b.MF_mid.isnull()) & (b.MF_high.isnull())]\n",
    "debug_mf"
   ]
  },
  {
   "cell_type": "code",
   "execution_count": 84,
   "metadata": {},
   "outputs": [
    {
     "data": {
      "text/html": [
       "<div>\n",
       "<style scoped>\n",
       "    .dataframe tbody tr th:only-of-type {\n",
       "        vertical-align: middle;\n",
       "    }\n",
       "\n",
       "    .dataframe tbody tr th {\n",
       "        vertical-align: top;\n",
       "    }\n",
       "\n",
       "    .dataframe thead th {\n",
       "        text-align: right;\n",
       "    }\n",
       "</style>\n",
       "<table border=\"1\" class=\"dataframe\">\n",
       "  <thead>\n",
       "    <tr style=\"text-align: right;\">\n",
       "      <th></th>\n",
       "      <th>zone_id</th>\n",
       "      <th>building_id</th>\n",
       "      <th>parcel_id</th>\n",
       "      <th>source</th>\n",
       "      <th>building_type</th>\n",
       "      <th>residential_units</th>\n",
       "      <th>non_residential_sqft</th>\n",
       "      <th>PARCEL_ID</th>\n",
       "      <th>ACRES</th>\n",
       "      <th>zone</th>\n",
       "      <th>...</th>\n",
       "      <th>dua</th>\n",
       "      <th>SF</th>\n",
       "      <th>MF</th>\n",
       "      <th>MF_low</th>\n",
       "      <th>MF_mid</th>\n",
       "      <th>MF_high</th>\n",
       "      <th>office</th>\n",
       "      <th>retail</th>\n",
       "      <th>industrial</th>\n",
       "      <th>commercial_other</th>\n",
       "    </tr>\n",
       "  </thead>\n",
       "  <tbody>\n",
       "  </tbody>\n",
       "</table>\n",
       "<p>0 rows × 21 columns</p>\n",
       "</div>"
      ],
      "text/plain": [
       "Empty DataFrame\n",
       "Columns: [zone_id, building_id, parcel_id, source, building_type, residential_units, non_residential_sqft, PARCEL_ID, ACRES, zone, county, dua, SF, MF, MF_low, MF_mid, MF_high, office, retail, industrial, commercial_other]\n",
       "Index: []\n",
       "\n",
       "[0 rows x 21 columns]"
      ]
     },
     "execution_count": 84,
     "metadata": {},
     "output_type": "execute_result"
    }
   ],
   "source": [
    "# move building without a PARCEL_ID/ACRES to MF_high manually\n",
    "b.loc[(b.building_id == 1843295), 'MF_high'] = b.residential_units\n",
    "# re-check\n",
    "debug_mf = b[(b.MF > 0) & (b.MF_low.isnull()) & (b.MF_mid.isnull()) & (b.MF_high.isnull())]\n",
    "debug_mf"
   ]
  },
  {
   "cell_type": "code",
   "execution_count": 85,
   "metadata": {},
   "outputs": [
    {
     "data": {
      "text/plain": [
       "HS    19519\n",
       "HM     4851\n",
       "HT       12\n",
       "Name: building_type, dtype: int64"
      ]
     },
     "execution_count": 85,
     "metadata": {},
     "output_type": "execute_result"
    }
   ],
   "source": [
    "# debug check- nonres\n",
    "debug_nonres = b[(b.non_residential_sqft > 0) & (b.retail.isnull()) & (b.office.isnull()) & (b.industrial.isnull()) & \n",
    "           (b.commercial_other.isnull())]\n",
    "debug_nonres.building_type.value_counts()\n",
    "# remaining non res sqft are in HS, HM, HT"
   ]
  },
  {
   "cell_type": "code",
   "execution_count": 86,
   "metadata": {},
   "outputs": [],
   "source": [
    "# write to excel workbook\n",
    "county_summary.to_excel(writer, sheet_name=sheet)\n",
    "writer.save()"
   ]
  },
  {
   "cell_type": "code",
   "execution_count": null,
   "metadata": {},
   "outputs": [],
   "source": []
  }
 ],
 "metadata": {
  "kernelspec": {
   "display_name": "Python 3",
   "language": "python",
   "name": "python3"
  },
  "language_info": {
   "codemirror_mode": {
    "name": "ipython",
    "version": 3
   },
   "file_extension": ".py",
   "mimetype": "text/x-python",
   "name": "python",
   "nbconvert_exporter": "python",
   "pygments_lexer": "ipython3",
   "version": "3.6.9"
  }
 },
 "nbformat": 4,
 "nbformat_minor": 2
}
