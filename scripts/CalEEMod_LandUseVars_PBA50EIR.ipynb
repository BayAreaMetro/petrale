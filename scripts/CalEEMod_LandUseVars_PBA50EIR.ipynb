{
 "cells": [
  {
   "cell_type": "code",
   "execution_count": 1,
   "metadata": {},
   "outputs": [],
   "source": [
    "import pandas as pd"
   ]
  },
  {
   "cell_type": "code",
   "execution_count": 2,
   "metadata": {},
   "outputs": [],
   "source": [
    "# establish excel writer / workbook (and don't re-run)\n",
    "writer = pd.ExcelWriter(\"C:/Users/etheocharides/Box/Modeling and Surveys/Urban Modeling/Bay Area UrbanSim/PBA50/CalEEMod/CalEEMod_LandUseVars_PBA50EIR.xlsx\")"
   ]
  },
  {
   "cell_type": "code",
   "execution_count": 63,
   "metadata": {},
   "outputs": [],
   "source": [
    "# select input file for summarization- will be an EIR run + year (2015 or 2050)\n",
    "file = \"run182_building_data_2050_FBP.csv\"\n",
    "# name output excel sheet \n",
    "sheet = \"FBP 2050\""
   ]
  },
  {
   "cell_type": "code",
   "execution_count": 64,
   "metadata": {},
   "outputs": [],
   "source": [
    "#import building data and subset columns\n",
    "b = pd.read_csv(\"C:/Users/etheocharides/Box/Modeling and Surveys/Urban Modeling/Bay Area UrbanSim/PBA50/CalEEMod/\"+file)\n",
    "b = b[['zone_id', 'building_id', 'parcel_id', 'source', 'building_type', 'residential_units', 'non_residential_sqft']]"
   ]
  },
  {
   "cell_type": "code",
   "execution_count": 65,
   "metadata": {},
   "outputs": [],
   "source": [
    "# import parcel info and subset columns\n",
    "p = pd.read_csv(\"C:/Users/etheocharides/Box/Modeling and Surveys/Urban Modeling/Bay Area UrbanSim/PBA50/CalEEMod/2021_02_25_parcels_geography.csv\")\n",
    "p = p[['PARCEL_ID', 'ACRES']]"
   ]
  },
  {
   "cell_type": "code",
   "execution_count": 66,
   "metadata": {},
   "outputs": [],
   "source": [
    "# import TAZ-county crosswalk\n",
    "xwalk = pd.read_csv(\"C:/Users/etheocharides/Box/Modeling and Surveys/Urban Modeling/Bay Area UrbanSim/PBA50/CalEEMod/taz_geography.csv\")\n",
    "xwalk = xwalk[['zone', 'county']]"
   ]
  },
  {
   "cell_type": "code",
   "execution_count": 67,
   "metadata": {},
   "outputs": [],
   "source": [
    "# replace county numbers with county names\n",
    "xwalk.loc[xwalk.county == 1, \"county\"] = \"San Francisco\"\n",
    "xwalk.loc[xwalk.county == 2, \"county\"] = \"San Mateo\"\n",
    "xwalk.loc[xwalk.county == 3, \"county\"] = \"Santa Clara\"\n",
    "xwalk.loc[xwalk.county == 4, \"county\"] = \"Alameda\"\n",
    "xwalk.loc[xwalk.county == 5, \"county\"] = \"Contra Costa\"\n",
    "xwalk.loc[xwalk.county == 6, \"county\"] = \"Solano\"\n",
    "xwalk.loc[xwalk.county == 7, \"county\"] = \"Napa\"\n",
    "xwalk.loc[xwalk.county == 8, \"county\"] = \"Sonoma\"\n",
    "xwalk.loc[xwalk.county == 9, \"county\"] = \"Marin\""
   ]
  },
  {
   "cell_type": "code",
   "execution_count": 68,
   "metadata": {},
   "outputs": [],
   "source": [
    "# join parcel acres to buildings\n",
    "b = b.merge(p, left_on='parcel_id', right_on='PARCEL_ID', how='left')"
   ]
  },
  {
   "cell_type": "code",
   "execution_count": 69,
   "metadata": {},
   "outputs": [],
   "source": [
    "# join county to buildings using zone_id\n",
    "b = b.merge(xwalk, left_on='zone_id', right_on='zone', how='left')"
   ]
  },
  {
   "cell_type": "code",
   "execution_count": 70,
   "metadata": {},
   "outputs": [],
   "source": [
    "# create DUA column from building and parcel data\n",
    "b[\"dua\"] = b.residential_units / b.ACRES"
   ]
  },
  {
   "cell_type": "code",
   "execution_count": 71,
   "metadata": {},
   "outputs": [],
   "source": [
    "# building types\n",
    "#HS: single family residential\n",
    "#HT: townhomes\n",
    "#HM: multi family residential\n",
    "#OF: office\n",
    "#HO: hotel\n",
    "#SC: school\n",
    "#IL: light industrial\n",
    "#IW: warehouse\n",
    "#IH: heavy industrial\n",
    "#RS: retail general\n",
    "#RB: retail big box\n",
    "#MR: mixed use residential focused\n",
    "#MT: mixed use industiral focused\n",
    "#ME: mixed use employment focused"
   ]
  },
  {
   "cell_type": "code",
   "execution_count": 72,
   "metadata": {},
   "outputs": [],
   "source": [
    "# add single family and multifamily building vars\n",
    "b.loc[(b.building_type == 'HS') | (b.building_type == 'HT'), 'SF'] = b.residential_units\n",
    "b.loc[(b.building_type == 'HM') | (b.building_type == 'MR') | (b.building_type == 'PA2') | (b.building_type == 'RS') |\n",
    "      (b.building_type == 'OF') | (b.building_type == 'IL') | (b.building_type == 'HO') | (b.building_type == 'SC'), \n",
    "      'MF'] = b.residential_units"
   ]
  },
  {
   "cell_type": "code",
   "execution_count": 73,
   "metadata": {},
   "outputs": [],
   "source": [
    "# add multifamily low, mid, and high rise building vars\n",
    "b.loc[(b.MF > 0) & (b.dua < 32), 'MF_low'] = b.residential_units\n",
    "b.loc[(b.MF > 0) & (b.dua >= 32)& (b.dua < 50), 'MF_mid'] = b.residential_units\n",
    "b.loc[(b.MF > 0) & (b.dua >= 50), 'MF_high'] = b.residential_units"
   ]
  },
  {
   "cell_type": "code",
   "execution_count": 74,
   "metadata": {},
   "outputs": [],
   "source": [
    "# add office, retail, industrial, and commercial_other building vars\n",
    "b.loc[(b.building_type == 'OF') | (b.building_type == 'ME'), 'office'] = b.non_residential_sqft\n",
    "b.loc[(b.building_type == 'RS') | (b.building_type == 'RB')| (b.building_type == 'MR'), \n",
    "      'retail'] = b.non_residential_sqft\n",
    "b.loc[(b.building_type == 'IL') | (b.building_type == 'IH') | (b.building_type == 'IW') | (b.building_type == 'MT'), \n",
    "      'industrial'] = b.non_residential_sqft\n",
    "b.loc[(b.building_type == 'HO') | (b.building_type == 'SC'), 'commercial_other'] = b.non_residential_sqft"
   ]
  },
  {
   "cell_type": "code",
   "execution_count": 75,
   "metadata": {},
   "outputs": [
    {
     "data": {
      "text/plain": [
       "Series([], Name: building_type, dtype: int64)"
      ]
     },
     "execution_count": 75,
     "metadata": {},
     "output_type": "execute_result"
    }
   ],
   "source": [
    "# debug check- res\n",
    "debug_res = b[(b.residential_units > 0) & (b.SF.isnull()) & (b.MF.isnull())]\n",
    "debug_res.building_type.value_counts()"
   ]
  },
  {
   "cell_type": "code",
   "execution_count": 76,
   "metadata": {},
   "outputs": [
    {
     "data": {
      "text/html": [
       "<div>\n",
       "<style scoped>\n",
       "    .dataframe tbody tr th:only-of-type {\n",
       "        vertical-align: middle;\n",
       "    }\n",
       "\n",
       "    .dataframe tbody tr th {\n",
       "        vertical-align: top;\n",
       "    }\n",
       "\n",
       "    .dataframe thead th {\n",
       "        text-align: right;\n",
       "    }\n",
       "</style>\n",
       "<table border=\"1\" class=\"dataframe\">\n",
       "  <thead>\n",
       "    <tr style=\"text-align: right;\">\n",
       "      <th></th>\n",
       "      <th>zone_id</th>\n",
       "      <th>building_id</th>\n",
       "      <th>parcel_id</th>\n",
       "      <th>source</th>\n",
       "      <th>building_type</th>\n",
       "      <th>residential_units</th>\n",
       "      <th>non_residential_sqft</th>\n",
       "      <th>PARCEL_ID</th>\n",
       "      <th>ACRES</th>\n",
       "      <th>zone</th>\n",
       "      <th>...</th>\n",
       "      <th>dua</th>\n",
       "      <th>SF</th>\n",
       "      <th>MF</th>\n",
       "      <th>MF_low</th>\n",
       "      <th>MF_mid</th>\n",
       "      <th>MF_high</th>\n",
       "      <th>office</th>\n",
       "      <th>retail</th>\n",
       "      <th>industrial</th>\n",
       "      <th>commercial_other</th>\n",
       "    </tr>\n",
       "  </thead>\n",
       "  <tbody>\n",
       "    <tr>\n",
       "      <td>1807128</td>\n",
       "      <td>353</td>\n",
       "      <td>1843295</td>\n",
       "      <td>2054505</td>\n",
       "      <td>h5_inputs</td>\n",
       "      <td>HM</td>\n",
       "      <td>1655.0</td>\n",
       "      <td>0.0</td>\n",
       "      <td>NaN</td>\n",
       "      <td>NaN</td>\n",
       "      <td>353</td>\n",
       "      <td>...</td>\n",
       "      <td>NaN</td>\n",
       "      <td>NaN</td>\n",
       "      <td>1655.0</td>\n",
       "      <td>NaN</td>\n",
       "      <td>NaN</td>\n",
       "      <td>NaN</td>\n",
       "      <td>NaN</td>\n",
       "      <td>NaN</td>\n",
       "      <td>NaN</td>\n",
       "      <td>NaN</td>\n",
       "    </tr>\n",
       "  </tbody>\n",
       "</table>\n",
       "<p>1 rows × 21 columns</p>\n",
       "</div>"
      ],
      "text/plain": [
       "         zone_id  building_id  parcel_id     source building_type  \\\n",
       "1807128      353      1843295    2054505  h5_inputs            HM   \n",
       "\n",
       "         residential_units  non_residential_sqft  PARCEL_ID  ACRES  zone  ...  \\\n",
       "1807128             1655.0                   0.0        NaN    NaN   353  ...   \n",
       "\n",
       "        dua  SF      MF  MF_low  MF_mid  MF_high  office  retail  industrial  \\\n",
       "1807128 NaN NaN  1655.0     NaN     NaN      NaN     NaN     NaN         NaN   \n",
       "\n",
       "         commercial_other  \n",
       "1807128               NaN  \n",
       "\n",
       "[1 rows x 21 columns]"
      ]
     },
     "execution_count": 76,
     "metadata": {},
     "output_type": "execute_result"
    }
   ],
   "source": [
    "# debug check- multifamlily \n",
    "debug_mf = b[(b.MF > 0) & (b.MF_low.isnull()) & (b.MF_mid.isnull()) & (b.MF_high.isnull())]\n",
    "debug_mf"
   ]
  },
  {
   "cell_type": "code",
   "execution_count": 77,
   "metadata": {},
   "outputs": [
    {
     "data": {
      "text/html": [
       "<div>\n",
       "<style scoped>\n",
       "    .dataframe tbody tr th:only-of-type {\n",
       "        vertical-align: middle;\n",
       "    }\n",
       "\n",
       "    .dataframe tbody tr th {\n",
       "        vertical-align: top;\n",
       "    }\n",
       "\n",
       "    .dataframe thead th {\n",
       "        text-align: right;\n",
       "    }\n",
       "</style>\n",
       "<table border=\"1\" class=\"dataframe\">\n",
       "  <thead>\n",
       "    <tr style=\"text-align: right;\">\n",
       "      <th></th>\n",
       "      <th>zone_id</th>\n",
       "      <th>building_id</th>\n",
       "      <th>parcel_id</th>\n",
       "      <th>source</th>\n",
       "      <th>building_type</th>\n",
       "      <th>residential_units</th>\n",
       "      <th>non_residential_sqft</th>\n",
       "      <th>PARCEL_ID</th>\n",
       "      <th>ACRES</th>\n",
       "      <th>zone</th>\n",
       "      <th>...</th>\n",
       "      <th>dua</th>\n",
       "      <th>SF</th>\n",
       "      <th>MF</th>\n",
       "      <th>MF_low</th>\n",
       "      <th>MF_mid</th>\n",
       "      <th>MF_high</th>\n",
       "      <th>office</th>\n",
       "      <th>retail</th>\n",
       "      <th>industrial</th>\n",
       "      <th>commercial_other</th>\n",
       "    </tr>\n",
       "  </thead>\n",
       "  <tbody>\n",
       "  </tbody>\n",
       "</table>\n",
       "<p>0 rows × 21 columns</p>\n",
       "</div>"
      ],
      "text/plain": [
       "Empty DataFrame\n",
       "Columns: [zone_id, building_id, parcel_id, source, building_type, residential_units, non_residential_sqft, PARCEL_ID, ACRES, zone, county, dua, SF, MF, MF_low, MF_mid, MF_high, office, retail, industrial, commercial_other]\n",
       "Index: []\n",
       "\n",
       "[0 rows x 21 columns]"
      ]
     },
     "execution_count": 77,
     "metadata": {},
     "output_type": "execute_result"
    }
   ],
   "source": [
    "# move building without a PARCEL_ID/ACRES to MF_high manually\n",
    "b.loc[(b.building_id == 1843295), 'MF_high'] = b.residential_units\n",
    "# re-check\n",
    "debug_mf = b[(b.MF > 0) & (b.MF_low.isnull()) & (b.MF_mid.isnull()) & (b.MF_high.isnull())]\n",
    "debug_mf"
   ]
  },
  {
   "cell_type": "code",
   "execution_count": 78,
   "metadata": {},
   "outputs": [
    {
     "data": {
      "text/plain": [
       "HS    18404\n",
       "HM     3441\n",
       "HT       12\n",
       "Name: building_type, dtype: int64"
      ]
     },
     "execution_count": 78,
     "metadata": {},
     "output_type": "execute_result"
    }
   ],
   "source": [
    "# debug check- nonres\n",
    "debug_nonres = b[(b.non_residential_sqft > 0) & (b.retail.isnull()) & (b.office.isnull()) & (b.industrial.isnull()) & \n",
    "                 (b.commercial_other.isnull())]\n",
    "debug_nonres.building_type.value_counts()\n",
    "# remaining non res sqft are in HS, HM, HT"
   ]
  },
  {
   "cell_type": "code",
   "execution_count": 79,
   "metadata": {},
   "outputs": [],
   "source": [
    "county_summary = b[[\"SF\", 'MF', \"MF_low\", \"MF_mid\", \"MF_high\", \"office\", \"retail\", \"industrial\", \n",
    "                        \"commercial_other\", \"county\"]].groupby('county').sum()"
   ]
  },
  {
   "cell_type": "code",
   "execution_count": 80,
   "metadata": {},
   "outputs": [
    {
     "data": {
      "text/html": [
       "<div>\n",
       "<style scoped>\n",
       "    .dataframe tbody tr th:only-of-type {\n",
       "        vertical-align: middle;\n",
       "    }\n",
       "\n",
       "    .dataframe tbody tr th {\n",
       "        vertical-align: top;\n",
       "    }\n",
       "\n",
       "    .dataframe thead th {\n",
       "        text-align: right;\n",
       "    }\n",
       "</style>\n",
       "<table border=\"1\" class=\"dataframe\">\n",
       "  <thead>\n",
       "    <tr style=\"text-align: right;\">\n",
       "      <th></th>\n",
       "      <th>SF</th>\n",
       "      <th>MF</th>\n",
       "      <th>MF_low</th>\n",
       "      <th>MF_mid</th>\n",
       "      <th>MF_high</th>\n",
       "      <th>office</th>\n",
       "      <th>retail</th>\n",
       "      <th>industrial</th>\n",
       "      <th>commercial_other</th>\n",
       "    </tr>\n",
       "    <tr>\n",
       "      <th>county</th>\n",
       "      <th></th>\n",
       "      <th></th>\n",
       "      <th></th>\n",
       "      <th></th>\n",
       "      <th></th>\n",
       "      <th></th>\n",
       "      <th></th>\n",
       "      <th></th>\n",
       "      <th></th>\n",
       "    </tr>\n",
       "  </thead>\n",
       "  <tbody>\n",
       "    <tr>\n",
       "      <td>Alameda</td>\n",
       "      <td>370969.0</td>\n",
       "      <td>522819.0</td>\n",
       "      <td>116356.0</td>\n",
       "      <td>89996.0</td>\n",
       "      <td>316467.0</td>\n",
       "      <td>1.903835e+08</td>\n",
       "      <td>8.894687e+07</td>\n",
       "      <td>218557442.0</td>\n",
       "      <td>32319994.0</td>\n",
       "    </tr>\n",
       "    <tr>\n",
       "      <td>Contra Costa</td>\n",
       "      <td>379336.0</td>\n",
       "      <td>206268.0</td>\n",
       "      <td>44445.0</td>\n",
       "      <td>44800.0</td>\n",
       "      <td>117023.0</td>\n",
       "      <td>8.588448e+07</td>\n",
       "      <td>5.525271e+07</td>\n",
       "      <td>66609065.0</td>\n",
       "      <td>21488970.0</td>\n",
       "    </tr>\n",
       "    <tr>\n",
       "      <td>Marin</td>\n",
       "      <td>91410.0</td>\n",
       "      <td>58978.0</td>\n",
       "      <td>21941.0</td>\n",
       "      <td>20497.0</td>\n",
       "      <td>16540.0</td>\n",
       "      <td>2.792993e+07</td>\n",
       "      <td>1.101816e+07</td>\n",
       "      <td>4832766.0</td>\n",
       "      <td>3728370.0</td>\n",
       "    </tr>\n",
       "    <tr>\n",
       "      <td>Napa</td>\n",
       "      <td>47255.0</td>\n",
       "      <td>15086.0</td>\n",
       "      <td>8275.0</td>\n",
       "      <td>3298.0</td>\n",
       "      <td>3513.0</td>\n",
       "      <td>3.151911e+06</td>\n",
       "      <td>1.135979e+07</td>\n",
       "      <td>25675618.0</td>\n",
       "      <td>1752606.0</td>\n",
       "    </tr>\n",
       "    <tr>\n",
       "      <td>San Francisco</td>\n",
       "      <td>107850.0</td>\n",
       "      <td>488245.0</td>\n",
       "      <td>25899.0</td>\n",
       "      <td>29599.0</td>\n",
       "      <td>432747.0</td>\n",
       "      <td>1.922238e+08</td>\n",
       "      <td>8.024733e+07</td>\n",
       "      <td>26814261.0</td>\n",
       "      <td>32354619.0</td>\n",
       "    </tr>\n",
       "    <tr>\n",
       "      <td>San Mateo</td>\n",
       "      <td>189842.0</td>\n",
       "      <td>218669.0</td>\n",
       "      <td>36884.0</td>\n",
       "      <td>47546.0</td>\n",
       "      <td>134239.0</td>\n",
       "      <td>1.066167e+08</td>\n",
       "      <td>3.553793e+07</td>\n",
       "      <td>49474813.0</td>\n",
       "      <td>24959594.0</td>\n",
       "    </tr>\n",
       "    <tr>\n",
       "      <td>Santa Clara</td>\n",
       "      <td>429596.0</td>\n",
       "      <td>695590.0</td>\n",
       "      <td>93268.0</td>\n",
       "      <td>96893.0</td>\n",
       "      <td>505429.0</td>\n",
       "      <td>2.640671e+08</td>\n",
       "      <td>1.637494e+08</td>\n",
       "      <td>224286545.0</td>\n",
       "      <td>19777770.0</td>\n",
       "    </tr>\n",
       "    <tr>\n",
       "      <td>Solano</td>\n",
       "      <td>144378.0</td>\n",
       "      <td>50649.0</td>\n",
       "      <td>26856.0</td>\n",
       "      <td>8845.0</td>\n",
       "      <td>14948.0</td>\n",
       "      <td>2.159006e+07</td>\n",
       "      <td>2.999812e+07</td>\n",
       "      <td>61065926.0</td>\n",
       "      <td>3121510.0</td>\n",
       "    </tr>\n",
       "    <tr>\n",
       "      <td>Sonoma</td>\n",
       "      <td>166240.0</td>\n",
       "      <td>76438.0</td>\n",
       "      <td>42563.0</td>\n",
       "      <td>14088.0</td>\n",
       "      <td>19787.0</td>\n",
       "      <td>6.227287e+07</td>\n",
       "      <td>2.837380e+07</td>\n",
       "      <td>34999892.0</td>\n",
       "      <td>5393279.0</td>\n",
       "    </tr>\n",
       "  </tbody>\n",
       "</table>\n",
       "</div>"
      ],
      "text/plain": [
       "                     SF        MF    MF_low   MF_mid   MF_high        office  \\\n",
       "county                                                                         \n",
       "Alameda        370969.0  522819.0  116356.0  89996.0  316467.0  1.903835e+08   \n",
       "Contra Costa   379336.0  206268.0   44445.0  44800.0  117023.0  8.588448e+07   \n",
       "Marin           91410.0   58978.0   21941.0  20497.0   16540.0  2.792993e+07   \n",
       "Napa            47255.0   15086.0    8275.0   3298.0    3513.0  3.151911e+06   \n",
       "San Francisco  107850.0  488245.0   25899.0  29599.0  432747.0  1.922238e+08   \n",
       "San Mateo      189842.0  218669.0   36884.0  47546.0  134239.0  1.066167e+08   \n",
       "Santa Clara    429596.0  695590.0   93268.0  96893.0  505429.0  2.640671e+08   \n",
       "Solano         144378.0   50649.0   26856.0   8845.0   14948.0  2.159006e+07   \n",
       "Sonoma         166240.0   76438.0   42563.0  14088.0   19787.0  6.227287e+07   \n",
       "\n",
       "                     retail   industrial  commercial_other  \n",
       "county                                                      \n",
       "Alameda        8.894687e+07  218557442.0        32319994.0  \n",
       "Contra Costa   5.525271e+07   66609065.0        21488970.0  \n",
       "Marin          1.101816e+07    4832766.0         3728370.0  \n",
       "Napa           1.135979e+07   25675618.0         1752606.0  \n",
       "San Francisco  8.024733e+07   26814261.0        32354619.0  \n",
       "San Mateo      3.553793e+07   49474813.0        24959594.0  \n",
       "Santa Clara    1.637494e+08  224286545.0        19777770.0  \n",
       "Solano         2.999812e+07   61065926.0         3121510.0  \n",
       "Sonoma         2.837380e+07   34999892.0         5393279.0  "
      ]
     },
     "execution_count": 80,
     "metadata": {},
     "output_type": "execute_result"
    }
   ],
   "source": [
    "county_summary"
   ]
  },
  {
   "cell_type": "code",
   "execution_count": 81,
   "metadata": {},
   "outputs": [
    {
     "name": "stdout",
     "output_type": "stream",
     "text": [
      "compare total res units to SF + MF\n",
      "4259618.0\n",
      "4259618.0\n",
      "compare total MF units to low/mid/high\n",
      "2332742.0\n",
      "2332742.0\n",
      "compare total non-res sqft to non-res sqft by category\n",
      "2432883388.0\n",
      "2315817516.0\n"
     ]
    }
   ],
   "source": [
    "# run checks\n",
    "print(\"compare total res units to SF + MF\")\n",
    "print(b.residential_units.sum())\n",
    "print(county_summary.SF.sum() + county_summary.MF.sum())\n",
    "print(\"compare total MF units to low/mid/high\")\n",
    "print(b.MF.sum())\n",
    "print(county_summary.MF_low.sum() + county_summary.MF_mid.sum() + county_summary.MF_high.sum())\n",
    "print(\"compare total non-res sqft to non-res sqft by category\")\n",
    "print(round(b.non_residential_sqft.sum()))\n",
    "print(round(county_summary.office.sum() + county_summary.retail.sum() + county_summary.industrial.sum() + \n",
    "            county_summary.commercial_other.sum()))"
   ]
  },
  {
   "cell_type": "code",
   "execution_count": 82,
   "metadata": {},
   "outputs": [],
   "source": [
    "# write to excel workbook\n",
    "county_summary.to_excel(writer, sheet_name=sheet)\n",
    "writer.save()"
   ]
  },
  {
   "cell_type": "code",
   "execution_count": null,
   "metadata": {},
   "outputs": [],
   "source": []
  }
 ],
 "metadata": {
  "kernelspec": {
   "display_name": "Python 3",
   "language": "python",
   "name": "python3"
  },
  "language_info": {
   "codemirror_mode": {
    "name": "ipython",
    "version": 3
   },
   "file_extension": ".py",
   "mimetype": "text/x-python",
   "name": "python",
   "nbconvert_exporter": "python",
   "pygments_lexer": "ipython3",
   "version": "3.6.9"
  }
 },
 "nbformat": 4,
 "nbformat_minor": 2
}
