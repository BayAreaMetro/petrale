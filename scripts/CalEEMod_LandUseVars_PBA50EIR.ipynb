{
 "cells": [
  {
   "cell_type": "code",
   "execution_count": 1,
   "metadata": {},
   "outputs": [],
   "source": [
    "import pandas as pd"
   ]
  },
  {
   "cell_type": "markdown",
   "metadata": {},
   "source": [
    "#### 1) Establish excel writer/workbook- only run once"
   ]
  },
  {
   "cell_type": "code",
   "execution_count": 2,
   "metadata": {},
   "outputs": [],
   "source": [
    "writer = pd.ExcelWriter(\"C:/Users/etheocharides/Box/Modeling and Surveys/Urban Modeling/Bay Area UrbanSim/PBA50/CalEEMod/CalEEMod_LandUseVars_PBA50EIR.xlsx\")"
   ]
  },
  {
   "cell_type": "markdown",
   "metadata": {},
   "source": [
    "#### 2) Loop through remaining cells (informal loop helps debug)"
   ]
  },
  {
   "cell_type": "markdown",
   "metadata": {},
   "source": [
    "##### a) select file to summarize"
   ]
  },
  {
   "cell_type": "code",
   "execution_count": 150,
   "metadata": {},
   "outputs": [],
   "source": [
    "# select input file for summarization- will be an EIR run + year (2015 or 2050)\n",
    "np_2015 = \"run314_building_data_2015_NP.csv\"\n",
    "np_2050 = \"run314_building_data_2050_NP.csv\"\n",
    "fbp_2015 = \"run182_building_data_2015_FBP.csv\"\n",
    "fbp_2050 = \"run182_building_data_2050_FBP.csv\"\n",
    "alt1_2015 = \"run375_building_data_2015_ALT1.csv\"\n",
    "alt1_2050 = \"run375_building_data_2050_ALT1.csv\"\n",
    "alt2_2015 = \"run374_building_data_2015_ALT2.csv\"\n",
    "alt2_2050 = \"run374_building_data_2050_ALT2.csv\"\n",
    "file = alt2_2050\n",
    "# name output excel sheet \n",
    "sheet = \"ALT2 2050\""
   ]
  },
  {
   "cell_type": "markdown",
   "metadata": {},
   "source": [
    "##### b) continue running"
   ]
  },
  {
   "cell_type": "code",
   "execution_count": 151,
   "metadata": {},
   "outputs": [],
   "source": [
    "#import building data and subset columns\n",
    "b = pd.read_csv(\"C:/Users/etheocharides/Box/Modeling and Surveys/Urban Modeling/Bay Area UrbanSim/PBA50/CalEEMod/\"+file)\n",
    "b = b[['zone_id', 'building_id', 'parcel_id', 'source', 'building_type', 'residential_units', 'non_residential_sqft']]"
   ]
  },
  {
   "cell_type": "code",
   "execution_count": 152,
   "metadata": {},
   "outputs": [],
   "source": [
    "# import parcel info and subset columns\n",
    "p = pd.read_csv(\"C:/Users/etheocharides/Box/Modeling and Surveys/Urban Modeling/Bay Area UrbanSim/PBA50/CalEEMod/2021_02_25_parcels_geography.csv\")\n",
    "p = p[['PARCEL_ID', 'ACRES']]"
   ]
  },
  {
   "cell_type": "code",
   "execution_count": 153,
   "metadata": {},
   "outputs": [],
   "source": [
    "# import TAZ-county crosswalk\n",
    "xwalk = pd.read_csv(\"C:/Users/etheocharides/Box/Modeling and Surveys/Urban Modeling/Bay Area UrbanSim/PBA50/CalEEMod/taz_geography.csv\")\n",
    "xwalk = xwalk[['zone', 'county']]"
   ]
  },
  {
   "cell_type": "code",
   "execution_count": 154,
   "metadata": {},
   "outputs": [],
   "source": [
    "# replace county numbers with county names\n",
    "xwalk.loc[xwalk.county == 1, \"county\"] = \"San Francisco\"\n",
    "xwalk.loc[xwalk.county == 2, \"county\"] = \"San Mateo\"\n",
    "xwalk.loc[xwalk.county == 3, \"county\"] = \"Santa Clara\"\n",
    "xwalk.loc[xwalk.county == 4, \"county\"] = \"Alameda\"\n",
    "xwalk.loc[xwalk.county == 5, \"county\"] = \"Contra Costa\"\n",
    "xwalk.loc[xwalk.county == 6, \"county\"] = \"Solano\"\n",
    "xwalk.loc[xwalk.county == 7, \"county\"] = \"Napa\"\n",
    "xwalk.loc[xwalk.county == 8, \"county\"] = \"Sonoma\"\n",
    "xwalk.loc[xwalk.county == 9, \"county\"] = \"Marin\""
   ]
  },
  {
   "cell_type": "code",
   "execution_count": 155,
   "metadata": {},
   "outputs": [],
   "source": [
    "# join parcel acres to buildings\n",
    "b = b.merge(p, left_on='parcel_id', right_on='PARCEL_ID', how='left')"
   ]
  },
  {
   "cell_type": "code",
   "execution_count": 156,
   "metadata": {},
   "outputs": [],
   "source": [
    "# join county to buildings using zone_id\n",
    "b = b.merge(xwalk, left_on='zone_id', right_on='zone', how='left')"
   ]
  },
  {
   "cell_type": "code",
   "execution_count": 157,
   "metadata": {},
   "outputs": [],
   "source": [
    "# create DUA column from building and parcel data\n",
    "b[\"dua\"] = b.residential_units / b.ACRES"
   ]
  },
  {
   "cell_type": "code",
   "execution_count": 158,
   "metadata": {},
   "outputs": [],
   "source": [
    "# building types\n",
    "#HS: single family residential\n",
    "#HT: townhomes\n",
    "#HM: multi family residential\n",
    "#OF: office\n",
    "#HO: hotel\n",
    "#SC: school\n",
    "#IL: light industrial\n",
    "#IW: warehouse\n",
    "#IH: heavy industrial\n",
    "#RS: retail general\n",
    "#RB: retail big box\n",
    "#MR: mixed use residential focused\n",
    "#MT: mixed use industiral focused\n",
    "#ME: mixed use employment focused"
   ]
  },
  {
   "cell_type": "code",
   "execution_count": 159,
   "metadata": {},
   "outputs": [],
   "source": [
    "# add single family and multifamily building vars\n",
    "b.loc[(b.building_type == 'HS') | (b.building_type == 'HT'), 'SF'] = b.residential_units\n",
    "b.loc[(b.building_type == 'HM') | (b.building_type == 'MR') | (b.building_type == 'PA2') | (b.building_type == 'RS') |\n",
    "      (b.building_type == 'OF') | (b.building_type == 'IL') | (b.building_type == 'HO') | (b.building_type == 'SC'), \n",
    "      'MF'] = b.residential_units"
   ]
  },
  {
   "cell_type": "code",
   "execution_count": 160,
   "metadata": {},
   "outputs": [],
   "source": [
    "# add multifamily low, mid, and high rise building vars\n",
    "b.loc[(b.MF > 0) & (b.dua < 32), 'MF_low'] = b.residential_units\n",
    "b.loc[(b.MF > 0) & (b.dua >= 32)& (b.dua < 50), 'MF_mid'] = b.residential_units\n",
    "b.loc[(b.MF > 0) & (b.dua >= 50), 'MF_high'] = b.residential_units"
   ]
  },
  {
   "cell_type": "code",
   "execution_count": 161,
   "metadata": {},
   "outputs": [],
   "source": [
    "# add office, retail, industrial, and commercial_other building vars\n",
    "b.loc[(b.building_type == 'OF'), 'office'] = b.non_residential_sqft\n",
    "b.loc[(b.building_type == 'ME'), 'mixed_use_emp'] = b.non_residential_sqft\n",
    "b.loc[(b.building_type == 'RS'), 'retail_general'] = b.non_residential_sqft\n",
    "b.loc[(b.building_type == 'RB'), 'retail_big_box'] = b.non_residential_sqft\n",
    "b.loc[(b.building_type == 'MR'), 'mixed_use_res'] = b.non_residential_sqft\n",
    "b.loc[(b.building_type == 'IL'), 'industrial_light'] = b.non_residential_sqft\n",
    "b.loc[(b.building_type == 'IH'), 'industrial_heavy'] = b.non_residential_sqft\n",
    "b.loc[(b.building_type == 'IW'), 'warehouse'] = b.non_residential_sqft\n",
    "b.loc[(b.building_type == 'MT'), 'mixed_use_industrial'] = b.non_residential_sqft\n",
    "b.loc[(b.building_type == 'HO'), 'hotel'] = b.non_residential_sqft\n",
    "b.loc[(b.building_type == 'SC'), 'school'] = b.non_residential_sqft"
   ]
  },
  {
   "cell_type": "code",
   "execution_count": 162,
   "metadata": {},
   "outputs": [
    {
     "data": {
      "text/plain": [
       "Series([], Name: building_type, dtype: int64)"
      ]
     },
     "execution_count": 162,
     "metadata": {},
     "output_type": "execute_result"
    }
   ],
   "source": [
    "# debug check- res\n",
    "debug_res = b[(b.residential_units > 0) & (b.SF.isnull()) & (b.MF.isnull())]\n",
    "debug_res.building_type.value_counts()"
   ]
  },
  {
   "cell_type": "code",
   "execution_count": 163,
   "metadata": {},
   "outputs": [
    {
     "data": {
      "text/html": [
       "<div>\n",
       "<style scoped>\n",
       "    .dataframe tbody tr th:only-of-type {\n",
       "        vertical-align: middle;\n",
       "    }\n",
       "\n",
       "    .dataframe tbody tr th {\n",
       "        vertical-align: top;\n",
       "    }\n",
       "\n",
       "    .dataframe thead th {\n",
       "        text-align: right;\n",
       "    }\n",
       "</style>\n",
       "<table border=\"1\" class=\"dataframe\">\n",
       "  <thead>\n",
       "    <tr style=\"text-align: right;\">\n",
       "      <th></th>\n",
       "      <th>zone_id</th>\n",
       "      <th>building_id</th>\n",
       "      <th>parcel_id</th>\n",
       "      <th>source</th>\n",
       "      <th>building_type</th>\n",
       "      <th>residential_units</th>\n",
       "      <th>non_residential_sqft</th>\n",
       "      <th>PARCEL_ID</th>\n",
       "      <th>ACRES</th>\n",
       "      <th>zone</th>\n",
       "      <th>...</th>\n",
       "      <th>mixed_use_emp</th>\n",
       "      <th>retail_general</th>\n",
       "      <th>retail_big_box</th>\n",
       "      <th>mixed_use_res</th>\n",
       "      <th>industrial_light</th>\n",
       "      <th>industrial_heavy</th>\n",
       "      <th>warehouse</th>\n",
       "      <th>mixed_use_industrial</th>\n",
       "      <th>hotel</th>\n",
       "      <th>school</th>\n",
       "    </tr>\n",
       "  </thead>\n",
       "  <tbody>\n",
       "    <tr>\n",
       "      <td>1812737</td>\n",
       "      <td>353</td>\n",
       "      <td>1843295</td>\n",
       "      <td>2054505</td>\n",
       "      <td>h5_inputs</td>\n",
       "      <td>HM</td>\n",
       "      <td>1655.0</td>\n",
       "      <td>0.0</td>\n",
       "      <td>NaN</td>\n",
       "      <td>NaN</td>\n",
       "      <td>353</td>\n",
       "      <td>...</td>\n",
       "      <td>NaN</td>\n",
       "      <td>NaN</td>\n",
       "      <td>NaN</td>\n",
       "      <td>NaN</td>\n",
       "      <td>NaN</td>\n",
       "      <td>NaN</td>\n",
       "      <td>NaN</td>\n",
       "      <td>NaN</td>\n",
       "      <td>NaN</td>\n",
       "      <td>NaN</td>\n",
       "    </tr>\n",
       "  </tbody>\n",
       "</table>\n",
       "<p>1 rows × 28 columns</p>\n",
       "</div>"
      ],
      "text/plain": [
       "         zone_id  building_id  parcel_id     source building_type  \\\n",
       "1812737      353      1843295    2054505  h5_inputs            HM   \n",
       "\n",
       "         residential_units  non_residential_sqft  PARCEL_ID  ACRES  zone  ...  \\\n",
       "1812737             1655.0                   0.0        NaN    NaN   353  ...   \n",
       "\n",
       "        mixed_use_emp  retail_general  retail_big_box  mixed_use_res  \\\n",
       "1812737           NaN             NaN             NaN            NaN   \n",
       "\n",
       "         industrial_light  industrial_heavy  warehouse  mixed_use_industrial  \\\n",
       "1812737               NaN               NaN        NaN                   NaN   \n",
       "\n",
       "         hotel  school  \n",
       "1812737    NaN     NaN  \n",
       "\n",
       "[1 rows x 28 columns]"
      ]
     },
     "execution_count": 163,
     "metadata": {},
     "output_type": "execute_result"
    }
   ],
   "source": [
    "# debug check- multifamlily \n",
    "debug_mf = b[(b.MF > 0) & (b.MF_low.isnull()) & (b.MF_mid.isnull()) & (b.MF_high.isnull())]\n",
    "debug_mf"
   ]
  },
  {
   "cell_type": "code",
   "execution_count": 164,
   "metadata": {},
   "outputs": [
    {
     "data": {
      "text/html": [
       "<div>\n",
       "<style scoped>\n",
       "    .dataframe tbody tr th:only-of-type {\n",
       "        vertical-align: middle;\n",
       "    }\n",
       "\n",
       "    .dataframe tbody tr th {\n",
       "        vertical-align: top;\n",
       "    }\n",
       "\n",
       "    .dataframe thead th {\n",
       "        text-align: right;\n",
       "    }\n",
       "</style>\n",
       "<table border=\"1\" class=\"dataframe\">\n",
       "  <thead>\n",
       "    <tr style=\"text-align: right;\">\n",
       "      <th></th>\n",
       "      <th>zone_id</th>\n",
       "      <th>building_id</th>\n",
       "      <th>parcel_id</th>\n",
       "      <th>source</th>\n",
       "      <th>building_type</th>\n",
       "      <th>residential_units</th>\n",
       "      <th>non_residential_sqft</th>\n",
       "      <th>PARCEL_ID</th>\n",
       "      <th>ACRES</th>\n",
       "      <th>zone</th>\n",
       "      <th>...</th>\n",
       "      <th>mixed_use_emp</th>\n",
       "      <th>retail_general</th>\n",
       "      <th>retail_big_box</th>\n",
       "      <th>mixed_use_res</th>\n",
       "      <th>industrial_light</th>\n",
       "      <th>industrial_heavy</th>\n",
       "      <th>warehouse</th>\n",
       "      <th>mixed_use_industrial</th>\n",
       "      <th>hotel</th>\n",
       "      <th>school</th>\n",
       "    </tr>\n",
       "  </thead>\n",
       "  <tbody>\n",
       "  </tbody>\n",
       "</table>\n",
       "<p>0 rows × 28 columns</p>\n",
       "</div>"
      ],
      "text/plain": [
       "Empty DataFrame\n",
       "Columns: [zone_id, building_id, parcel_id, source, building_type, residential_units, non_residential_sqft, PARCEL_ID, ACRES, zone, county, dua, SF, MF, MF_low, MF_mid, MF_high, office, mixed_use_emp, retail_general, retail_big_box, mixed_use_res, industrial_light, industrial_heavy, warehouse, mixed_use_industrial, hotel, school]\n",
       "Index: []\n",
       "\n",
       "[0 rows x 28 columns]"
      ]
     },
     "execution_count": 164,
     "metadata": {},
     "output_type": "execute_result"
    }
   ],
   "source": [
    "# move building without a PARCEL_ID/ACRES to MF_high manually\n",
    "b.loc[(b.building_id == 1843295), 'MF_high'] = b.residential_units\n",
    "# re-check\n",
    "debug_mf = b[(b.MF > 0) & (b.MF_low.isnull()) & (b.MF_mid.isnull()) & (b.MF_high.isnull())]\n",
    "debug_mf"
   ]
  },
  {
   "cell_type": "code",
   "execution_count": 165,
   "metadata": {},
   "outputs": [
    {
     "name": "stdout",
     "output_type": "stream",
     "text": [
      "HS    18716\n",
      "HM     4178\n",
      "HT       12\n",
      "Name: building_type, dtype: int64\n"
     ]
    }
   ],
   "source": [
    "# debug check- nonres\n",
    "debug_nonres = b[(b.non_residential_sqft > 0) & (b.office.isnull()) & (b.mixed_use_emp.isnull()) & \n",
    "                 (b.retail_general.isnull()) & (b.retail_big_box.isnull()) & (b.mixed_use_res.isnull()) & \n",
    "                 (b.industrial_light.isnull()) & (b.industrial_heavy.isnull()) & (b.warehouse.isnull()) & \n",
    "                 (b.mixed_use_industrial.isnull()) & (b.hotel.isnull()) & (b.school.isnull())]\n",
    "print(debug_nonres.building_type.value_counts())\n",
    "# remaining non res sqft are in HS, HM, HT"
   ]
  },
  {
   "cell_type": "code",
   "execution_count": 166,
   "metadata": {},
   "outputs": [],
   "source": [
    "county_summary = b[[\"SF\", 'MF', \"MF_low\", \"MF_mid\", \"MF_high\", \"office\", \"mixed_use_emp\", \"retail_general\", \n",
    "                    \"retail_big_box\", \"mixed_use_res\", \"industrial_light\", \"industrial_heavy\",\n",
    "                    \"warehouse\", \"mixed_use_industrial\", \"hotel\", \"school\", \"county\"]].groupby('county').sum()"
   ]
  },
  {
   "cell_type": "code",
   "execution_count": 167,
   "metadata": {},
   "outputs": [
    {
     "data": {
      "text/html": [
       "<div>\n",
       "<style scoped>\n",
       "    .dataframe tbody tr th:only-of-type {\n",
       "        vertical-align: middle;\n",
       "    }\n",
       "\n",
       "    .dataframe tbody tr th {\n",
       "        vertical-align: top;\n",
       "    }\n",
       "\n",
       "    .dataframe thead th {\n",
       "        text-align: right;\n",
       "    }\n",
       "</style>\n",
       "<table border=\"1\" class=\"dataframe\">\n",
       "  <thead>\n",
       "    <tr style=\"text-align: right;\">\n",
       "      <th></th>\n",
       "      <th>SF</th>\n",
       "      <th>MF</th>\n",
       "      <th>MF_low</th>\n",
       "      <th>MF_mid</th>\n",
       "      <th>MF_high</th>\n",
       "      <th>office</th>\n",
       "      <th>mixed_use_emp</th>\n",
       "      <th>retail_general</th>\n",
       "      <th>retail_big_box</th>\n",
       "      <th>mixed_use_res</th>\n",
       "      <th>industrial_light</th>\n",
       "      <th>industrial_heavy</th>\n",
       "      <th>warehouse</th>\n",
       "      <th>mixed_use_industrial</th>\n",
       "      <th>hotel</th>\n",
       "      <th>school</th>\n",
       "    </tr>\n",
       "    <tr>\n",
       "      <th>county</th>\n",
       "      <th></th>\n",
       "      <th></th>\n",
       "      <th></th>\n",
       "      <th></th>\n",
       "      <th></th>\n",
       "      <th></th>\n",
       "      <th></th>\n",
       "      <th></th>\n",
       "      <th></th>\n",
       "      <th></th>\n",
       "      <th></th>\n",
       "      <th></th>\n",
       "      <th></th>\n",
       "      <th></th>\n",
       "      <th></th>\n",
       "      <th></th>\n",
       "    </tr>\n",
       "  </thead>\n",
       "  <tbody>\n",
       "    <tr>\n",
       "      <td>Alameda</td>\n",
       "      <td>371109.0</td>\n",
       "      <td>515367.0</td>\n",
       "      <td>116392.0</td>\n",
       "      <td>84936.0</td>\n",
       "      <td>314039.0</td>\n",
       "      <td>1.941867e+08</td>\n",
       "      <td>1247090.0</td>\n",
       "      <td>65303910.0</td>\n",
       "      <td>6.830582e+06</td>\n",
       "      <td>14660522.0</td>\n",
       "      <td>76246706.0</td>\n",
       "      <td>10073884.0</td>\n",
       "      <td>134346201.0</td>\n",
       "      <td>0.0</td>\n",
       "      <td>11163305.0</td>\n",
       "      <td>21156689.0</td>\n",
       "    </tr>\n",
       "    <tr>\n",
       "      <td>Contra Costa</td>\n",
       "      <td>363234.0</td>\n",
       "      <td>205387.0</td>\n",
       "      <td>45392.0</td>\n",
       "      <td>60753.0</td>\n",
       "      <td>99242.0</td>\n",
       "      <td>8.337490e+07</td>\n",
       "      <td>0.0</td>\n",
       "      <td>52026879.0</td>\n",
       "      <td>1.834749e+06</td>\n",
       "      <td>1786589.0</td>\n",
       "      <td>34773719.0</td>\n",
       "      <td>6469603.0</td>\n",
       "      <td>25614776.0</td>\n",
       "      <td>0.0</td>\n",
       "      <td>4571760.0</td>\n",
       "      <td>16917210.0</td>\n",
       "    </tr>\n",
       "    <tr>\n",
       "      <td>Marin</td>\n",
       "      <td>86599.0</td>\n",
       "      <td>54092.0</td>\n",
       "      <td>21818.0</td>\n",
       "      <td>19708.0</td>\n",
       "      <td>12566.0</td>\n",
       "      <td>2.867272e+07</td>\n",
       "      <td>0.0</td>\n",
       "      <td>9367341.0</td>\n",
       "      <td>1.596710e+05</td>\n",
       "      <td>1625493.0</td>\n",
       "      <td>0.0</td>\n",
       "      <td>0.0</td>\n",
       "      <td>5199275.0</td>\n",
       "      <td>0.0</td>\n",
       "      <td>834981.0</td>\n",
       "      <td>2893389.0</td>\n",
       "    </tr>\n",
       "    <tr>\n",
       "      <td>Napa</td>\n",
       "      <td>45860.0</td>\n",
       "      <td>15642.0</td>\n",
       "      <td>8642.0</td>\n",
       "      <td>3342.0</td>\n",
       "      <td>3658.0</td>\n",
       "      <td>3.213548e+06</td>\n",
       "      <td>0.0</td>\n",
       "      <td>11645532.0</td>\n",
       "      <td>0.000000e+00</td>\n",
       "      <td>235444.0</td>\n",
       "      <td>16074505.0</td>\n",
       "      <td>5050.0</td>\n",
       "      <td>9596063.0</td>\n",
       "      <td>0.0</td>\n",
       "      <td>1752606.0</td>\n",
       "      <td>0.0</td>\n",
       "    </tr>\n",
       "    <tr>\n",
       "      <td>San Francisco</td>\n",
       "      <td>112451.0</td>\n",
       "      <td>419371.0</td>\n",
       "      <td>27215.0</td>\n",
       "      <td>34354.0</td>\n",
       "      <td>357802.0</td>\n",
       "      <td>2.008662e+08</td>\n",
       "      <td>2121450.0</td>\n",
       "      <td>28550487.0</td>\n",
       "      <td>2.956105e+06</td>\n",
       "      <td>64130462.0</td>\n",
       "      <td>1643409.0</td>\n",
       "      <td>0.0</td>\n",
       "      <td>32333295.0</td>\n",
       "      <td>0.0</td>\n",
       "      <td>21278428.0</td>\n",
       "      <td>11076191.0</td>\n",
       "    </tr>\n",
       "    <tr>\n",
       "      <td>San Mateo</td>\n",
       "      <td>191297.0</td>\n",
       "      <td>213770.0</td>\n",
       "      <td>34355.0</td>\n",
       "      <td>36714.0</td>\n",
       "      <td>142701.0</td>\n",
       "      <td>9.665014e+07</td>\n",
       "      <td>0.0</td>\n",
       "      <td>28777441.0</td>\n",
       "      <td>2.380407e+06</td>\n",
       "      <td>4326616.0</td>\n",
       "      <td>12550747.0</td>\n",
       "      <td>1014535.0</td>\n",
       "      <td>34478532.0</td>\n",
       "      <td>0.0</td>\n",
       "      <td>10518816.0</td>\n",
       "      <td>14440778.0</td>\n",
       "    </tr>\n",
       "    <tr>\n",
       "      <td>Santa Clara</td>\n",
       "      <td>428564.0</td>\n",
       "      <td>791521.0</td>\n",
       "      <td>85401.0</td>\n",
       "      <td>99621.0</td>\n",
       "      <td>606499.0</td>\n",
       "      <td>2.379538e+08</td>\n",
       "      <td>9820000.0</td>\n",
       "      <td>115615420.0</td>\n",
       "      <td>1.745055e+07</td>\n",
       "      <td>24971262.0</td>\n",
       "      <td>176542539.0</td>\n",
       "      <td>729796.0</td>\n",
       "      <td>42574761.0</td>\n",
       "      <td>0.0</td>\n",
       "      <td>467922.0</td>\n",
       "      <td>19309848.0</td>\n",
       "    </tr>\n",
       "    <tr>\n",
       "      <td>Solano</td>\n",
       "      <td>131235.0</td>\n",
       "      <td>66688.0</td>\n",
       "      <td>25480.0</td>\n",
       "      <td>26089.0</td>\n",
       "      <td>15119.0</td>\n",
       "      <td>2.096367e+07</td>\n",
       "      <td>0.0</td>\n",
       "      <td>27955521.0</td>\n",
       "      <td>3.062300e+04</td>\n",
       "      <td>629870.0</td>\n",
       "      <td>37853122.0</td>\n",
       "      <td>0.0</td>\n",
       "      <td>23255941.0</td>\n",
       "      <td>0.0</td>\n",
       "      <td>2398765.0</td>\n",
       "      <td>722745.0</td>\n",
       "    </tr>\n",
       "    <tr>\n",
       "      <td>Sonoma</td>\n",
       "      <td>165209.0</td>\n",
       "      <td>82458.0</td>\n",
       "      <td>41792.0</td>\n",
       "      <td>19958.0</td>\n",
       "      <td>20708.0</td>\n",
       "      <td>6.218853e+07</td>\n",
       "      <td>96278.0</td>\n",
       "      <td>26832611.0</td>\n",
       "      <td>3.424137e+05</td>\n",
       "      <td>1761346.0</td>\n",
       "      <td>1190180.0</td>\n",
       "      <td>5509.0</td>\n",
       "      <td>33651226.0</td>\n",
       "      <td>0.0</td>\n",
       "      <td>4420954.0</td>\n",
       "      <td>972325.0</td>\n",
       "    </tr>\n",
       "  </tbody>\n",
       "</table>\n",
       "</div>"
      ],
      "text/plain": [
       "                     SF        MF    MF_low   MF_mid   MF_high        office  \\\n",
       "county                                                                         \n",
       "Alameda        371109.0  515367.0  116392.0  84936.0  314039.0  1.941867e+08   \n",
       "Contra Costa   363234.0  205387.0   45392.0  60753.0   99242.0  8.337490e+07   \n",
       "Marin           86599.0   54092.0   21818.0  19708.0   12566.0  2.867272e+07   \n",
       "Napa            45860.0   15642.0    8642.0   3342.0    3658.0  3.213548e+06   \n",
       "San Francisco  112451.0  419371.0   27215.0  34354.0  357802.0  2.008662e+08   \n",
       "San Mateo      191297.0  213770.0   34355.0  36714.0  142701.0  9.665014e+07   \n",
       "Santa Clara    428564.0  791521.0   85401.0  99621.0  606499.0  2.379538e+08   \n",
       "Solano         131235.0   66688.0   25480.0  26089.0   15119.0  2.096367e+07   \n",
       "Sonoma         165209.0   82458.0   41792.0  19958.0   20708.0  6.218853e+07   \n",
       "\n",
       "               mixed_use_emp  retail_general  retail_big_box  mixed_use_res  \\\n",
       "county                                                                        \n",
       "Alameda            1247090.0      65303910.0    6.830582e+06     14660522.0   \n",
       "Contra Costa             0.0      52026879.0    1.834749e+06      1786589.0   \n",
       "Marin                    0.0       9367341.0    1.596710e+05      1625493.0   \n",
       "Napa                     0.0      11645532.0    0.000000e+00       235444.0   \n",
       "San Francisco      2121450.0      28550487.0    2.956105e+06     64130462.0   \n",
       "San Mateo                0.0      28777441.0    2.380407e+06      4326616.0   \n",
       "Santa Clara        9820000.0     115615420.0    1.745055e+07     24971262.0   \n",
       "Solano                   0.0      27955521.0    3.062300e+04       629870.0   \n",
       "Sonoma               96278.0      26832611.0    3.424137e+05      1761346.0   \n",
       "\n",
       "               industrial_light  industrial_heavy    warehouse  \\\n",
       "county                                                           \n",
       "Alameda              76246706.0        10073884.0  134346201.0   \n",
       "Contra Costa         34773719.0         6469603.0   25614776.0   \n",
       "Marin                       0.0               0.0    5199275.0   \n",
       "Napa                 16074505.0            5050.0    9596063.0   \n",
       "San Francisco         1643409.0               0.0   32333295.0   \n",
       "San Mateo            12550747.0         1014535.0   34478532.0   \n",
       "Santa Clara         176542539.0          729796.0   42574761.0   \n",
       "Solano               37853122.0               0.0   23255941.0   \n",
       "Sonoma                1190180.0            5509.0   33651226.0   \n",
       "\n",
       "               mixed_use_industrial       hotel      school  \n",
       "county                                                       \n",
       "Alameda                         0.0  11163305.0  21156689.0  \n",
       "Contra Costa                    0.0   4571760.0  16917210.0  \n",
       "Marin                           0.0    834981.0   2893389.0  \n",
       "Napa                            0.0   1752606.0         0.0  \n",
       "San Francisco                   0.0  21278428.0  11076191.0  \n",
       "San Mateo                       0.0  10518816.0  14440778.0  \n",
       "Santa Clara                     0.0    467922.0  19309848.0  \n",
       "Solano                          0.0   2398765.0    722745.0  \n",
       "Sonoma                          0.0   4420954.0    972325.0  "
      ]
     },
     "execution_count": 167,
     "metadata": {},
     "output_type": "execute_result"
    }
   ],
   "source": [
    "county_summary"
   ]
  },
  {
   "cell_type": "code",
   "execution_count": 168,
   "metadata": {},
   "outputs": [
    {
     "name": "stdout",
     "output_type": "stream",
     "text": [
      "compare total res units to SF + MF\n",
      "4259854.0\n",
      "4259854.0\n",
      "compare total MF units to low/mid/high\n",
      "2364296.0\n",
      "2364296.0\n",
      "compare total non-res sqft to non-res sqft by category\n",
      "2435636296.0\n",
      "2314663009.0\n"
     ]
    }
   ],
   "source": [
    "# run checks\n",
    "print(\"compare total res units to SF + MF\")\n",
    "print(b.residential_units.sum())\n",
    "print(county_summary.SF.sum() + county_summary.MF.sum())\n",
    "print(\"compare total MF units to low/mid/high\")\n",
    "print(b.MF.sum())\n",
    "print(county_summary.MF_low.sum() + county_summary.MF_mid.sum() + county_summary.MF_high.sum())\n",
    "print(\"compare total non-res sqft to non-res sqft by category\")\n",
    "print(round(b.non_residential_sqft.sum()))\n",
    "print(round(county_summary.office.sum() + county_summary.mixed_use_emp.sum() + county_summary.retail_general.sum() + \n",
    "            county_summary.retail_big_box.sum() + county_summary.mixed_use_res.sum() + \n",
    "            county_summary.industrial_light.sum() + county_summary.industrial_heavy.sum() + \n",
    "            county_summary.warehouse.sum() + county_summary.mixed_use_industrial.sum() + county_summary.hotel.sum() + \n",
    "            county_summary.school.sum()))"
   ]
  },
  {
   "cell_type": "code",
   "execution_count": 169,
   "metadata": {},
   "outputs": [
    {
     "name": "stdout",
     "output_type": "stream",
     "text": [
      "120973287.0\n",
      "120973287.0\n"
     ]
    }
   ],
   "source": [
    "# confirm that the non-res sqft discrepancy matches the residential non-res sqft\n",
    "print(debug_nonres.non_residential_sqft.sum())\n",
    "print(round(b.non_residential_sqft.sum()) - round(county_summary.office.sum() + county_summary.mixed_use_emp.sum() + \n",
    "      county_summary.retail_general.sum() + county_summary.retail_big_box.sum() + county_summary.mixed_use_res.sum() + \n",
    "      county_summary.industrial_light.sum() + county_summary.industrial_heavy.sum() + county_summary.warehouse.sum() + \n",
    "      county_summary.mixed_use_industrial.sum() + county_summary.hotel.sum() + county_summary.school.sum()))"
   ]
  },
  {
   "cell_type": "markdown",
   "metadata": {},
   "source": [
    "##### c) add as a sheet to workbook"
   ]
  },
  {
   "cell_type": "code",
   "execution_count": 170,
   "metadata": {},
   "outputs": [],
   "source": [
    "# write to excel workbook\n",
    "county_summary.to_excel(writer, sheet_name=sheet)\n",
    "writer.save()"
   ]
  },
  {
   "cell_type": "code",
   "execution_count": null,
   "metadata": {},
   "outputs": [],
   "source": []
  },
  {
   "cell_type": "code",
   "execution_count": null,
   "metadata": {},
   "outputs": [],
   "source": []
  }
 ],
 "metadata": {
  "kernelspec": {
   "display_name": "Python 3",
   "language": "python",
   "name": "python3"
  },
  "language_info": {
   "codemirror_mode": {
    "name": "ipython",
    "version": 3
   },
   "file_extension": ".py",
   "mimetype": "text/x-python",
   "name": "python",
   "nbconvert_exporter": "python",
   "pygments_lexer": "ipython3",
   "version": "3.6.9"
  }
 },
 "nbformat": 4,
 "nbformat_minor": 2
}
