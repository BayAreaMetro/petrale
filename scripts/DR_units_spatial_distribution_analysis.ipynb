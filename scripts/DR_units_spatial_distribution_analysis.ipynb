{
 "cells": [
  {
   "cell_type": "code",
   "execution_count": 1,
   "metadata": {},
   "outputs": [],
   "source": [
    "import glob, os\n",
    "import pandas as pd\n",
    "import numpy as np\n",
    "import plotly.graph_objects as go"
   ]
  },
  {
   "cell_type": "code",
   "execution_count": 2,
   "metadata": {},
   "outputs": [],
   "source": [
    "# set up file directory and run_id\n",
    "# when we have new runs, copy the 'building_data_2050.csv' output to this directory\n",
    "\n",
    "run_dir = 'M:\\\\Data\\\\Urban\\\\BAUS\\\\PBA50\\\\Final_Blueprint\\\\run_analysis\\\\DR analysis'\n",
    "os.chdir(run_dir)\n",
    "\n",
    "# run_id dictionary\n",
    "runid = {'run325': 'v2.2.1'}"
   ]
  },
  {
   "cell_type": "code",
   "execution_count": 3,
   "metadata": {},
   "outputs": [],
   "source": [
    "# get parcel_id - geographies mapping\n",
    "p_geo = pd.read_csv(r'M:\\Data\\Urban\\BAUS\\PBA50\\Final_Blueprint\\Large General Input Data\\2020_09_21_parcels_geography.csv',\n",
    "                    usecols = ['PARCEL_ID', 'juris',\n",
    "                               #'fbpzoningm', 'fbp_gg_id', 'pda_id_pba50_fb', 'fbp_tra_id', \n",
    "                               'fbp_sesit_id'])\n",
    "juris_county = pd.read_csv(r'C:\\Users\\ywang\\Documents\\GitHub\\petrale\\zones\\jurisdictions\\juris_county_id.csv',\n",
    "                           usecols = ['juris_name_full', 'county_name'])"
   ]
  },
  {
   "cell_type": "code",
   "execution_count": 4,
   "metadata": {},
   "outputs": [],
   "source": [
    "juris = list(p_geo.juris.unique())\n",
    "hra = ['HRA','non-HRA']\n",
    "dis = ['DIS','non-DIS']\n",
    "\n",
    "dr_juris_all = pd.Series(np.nan, index =juris, name='temp')\n",
    "dr_hra_all = pd.Series(np.nan, index = hra, name='temp')\n",
    "dr_dis_all = pd.Series(np.nan, index = dis, name='temp')\n",
    "dr_juris_pub_all = pd.Series(np.nan, index =juris, name='temp')\n",
    "\n",
    "writer = pd.ExcelWriter('deed_restricted_units_summary.xlsx', engine='xlsxwriter')\n",
    "files = dict()"
   ]
  },
  {
   "cell_type": "code",
   "execution_count": 5,
   "metadata": {},
   "outputs": [
    {
     "name": "stdout",
     "output_type": "stream",
     "text": [
      "v2.2.1\n"
     ]
    }
   ],
   "source": [
    "for file in list(glob.glob('*.csv')):\n",
    "    print(runid[file.split('_')[0]])\n",
    "    if 'building_data_2050.csv' in file:\n",
    "        df = pd.read_csv(file,\n",
    "                         usecols = ['parcel_id','source','residential_units','deed_restricted_units',\n",
    "                                    'inclusionary_units','preserved_units', 'subsidized_units'])\n",
    "        df = df.merge(p_geo, left_on='parcel_id', right_on='PARCEL_ID', how='left')\n",
    "        \n",
    "        # code HRA/non-HRA and DIS/non-DIS\n",
    "        df['HRA'] = 'HRA'\n",
    "        df.loc[(df.fbp_sesit_id == 'DIS') | (df.fbp_sesit_id.isnull()), 'HRA'] = 'non-HRA'\n",
    "        df['DIS'] = 'DIS'\n",
    "        df.loc[(df.fbp_sesit_id == 'HRA') | (df.fbp_sesit_id.isnull()), 'DIS'] = 'non-DIS'\n",
    "        \n",
    "        # visualize DR counts by jurisdiction\n",
    "        dr_juris = df.groupby(['juris'])['deed_restricted_units'].sum()\n",
    "        dr_juris.rename('dr_units_'+file.split('_')[0]+'_'+runid[file.split('_')[0]], inplace=True)\n",
    "        #display(dr_juris)\n",
    "        dr_juris_all = pd.concat([dr_juris_all, dr_juris], axis=1)\n",
    "        \n",
    "        dr_hra = df.groupby(['HRA'])['deed_restricted_units'].sum()\n",
    "        dr_hra.rename('dr_units_'+file.split('_')[0]+'_'+runid[file.split('_')[0]], inplace=True)\n",
    "        #display(dr_hra)\n",
    "        dr_hra_all = pd.concat([dr_hra_all, dr_hra], axis=1)\n",
    "        \n",
    "        dr_dis = df.groupby(['DIS'])['deed_restricted_units'].sum()\n",
    "        dr_dis.rename('dr_units_'+file.split('_')[0]+'_'+runid[file.split('_')[0]], inplace=True)\n",
    "        #display(dr_dis)\n",
    "        dr_dis_all = pd.concat([dr_dis_all, dr_dis], axis=1)\n",
    "        \n",
    "        dr_juris_pub = df.loc[df.source == 'pub'].groupby(['juris'])['deed_restricted_units'].sum()\n",
    "        dr_juris_pub.rename('dr_units_publicLand_'+file.split('_')[0]+'_'+runid[file.split('_')[0]], inplace=True)\n",
    "        #display(dr_juris_pub)\n",
    "        dr_juris_pub_all = pd.concat([dr_juris_pub_all, dr_juris_pub], axis=1)\n",
    "\n",
    "#         fig = go.Figure(go.Bar(\n",
    "#             x = dr_juris['deed_restricted_units'],\n",
    "#             y = ['giraffes', 'orangutans', 'monkeys'],\n",
    "#             orientation='h'))\n",
    "\n",
    "#         fig.show()"
   ]
  },
  {
   "cell_type": "code",
   "execution_count": 6,
   "metadata": {},
   "outputs": [],
   "source": [
    "dr_juris_all.reset_index(inplace=True)\n",
    "dr_juris_all.drop(columns=['temp'], inplace=True)\n",
    "dr_juris_all = dr_juris_all.merge(juris_county, left_on='index', right_on='juris_name_full', how='left')\n",
    "dr_juris_all.drop(columns = ['juris_name_full'], inplace=True)\n",
    "dr_juris_all.sort_values(by=['county_name', 'index'], inplace=True)\n",
    "files['dr_juris'] = dr_juris_all\n",
    "\n",
    "dr_hra_all.reset_index(inplace=True)\n",
    "dr_hra_all.drop(columns=['temp'], inplace=True)\n",
    "#display(dr_hra_all)\n",
    "files['dr_hra'] = dr_hra_all\n",
    "\n",
    "dr_dis_all.reset_index(inplace=True)\n",
    "dr_dis_all.drop(columns=['temp'], inplace=True)\n",
    "#display(dr_dis_all)\n",
    "files['dr_dis'] = dr_dis_all\n",
    "\n",
    "dr_juris_pub_all.reset_index(inplace=True)\n",
    "dr_juris_pub_all.drop(columns=['temp'], inplace=True)\n",
    "dr_juris_pub_all.fillna(0, inplace=True)\n",
    "dr_juris_pub_all = dr_juris_pub_all.merge(juris_county, left_on='index', right_on='juris_name_full', how='left')\n",
    "dr_juris_pub_all.drop(columns = ['juris_name_full'], inplace=True)\n",
    "dr_juris_pub_all.sort_values(by=['county_name', 'index'], inplace=True)\n",
    "#display(dr_juris_pub_all)\n",
    "files['dr_juris_pub'] = dr_juris_pub_all\n",
    "\n",
    "for name in files.keys():\n",
    "    files[name].to_excel(writer, sheet_name=name, index=False)\n",
    "\n",
    "writer.save()"
   ]
  },
  {
   "cell_type": "code",
   "execution_count": null,
   "metadata": {},
   "outputs": [],
   "source": []
  }
 ],
 "metadata": {
  "kernelspec": {
   "display_name": "Python 3",
   "language": "python",
   "name": "python3"
  },
  "language_info": {
   "codemirror_mode": {
    "name": "ipython",
    "version": 3
   },
   "file_extension": ".py",
   "mimetype": "text/x-python",
   "name": "python",
   "nbconvert_exporter": "python",
   "pygments_lexer": "ipython3",
   "version": "3.7.6"
  }
 },
 "nbformat": 4,
 "nbformat_minor": 4
}
