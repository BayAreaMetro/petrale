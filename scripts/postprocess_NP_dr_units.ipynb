{
 "cells": [
  {
   "cell_type": "code",
   "execution_count": 1,
   "metadata": {},
   "outputs": [],
   "source": [
    "import pandas as pd\n",
    "import numpy as np"
   ]
  },
  {
   "cell_type": "markdown",
   "metadata": {},
   "source": [
    "#### Parcel Inputs"
   ]
  },
  {
   "cell_type": "code",
   "execution_count": 2,
   "metadata": {},
   "outputs": [],
   "source": [
    "parcel_data_path = \"C:/Users/etheocharides/Box/Modeling and Surveys/Urban Modeling/Bay Area UrbanSim/PBA50/EIR runs/Baseline Large (s25) runs/NP_v8_FINAL/\"\n",
    "parcel_data_file = \"run314_parcel_data_2050.csv\"\n",
    "parcel_data = pd.read_csv(parcel_data_path+parcel_data_file)"
   ]
  },
  {
   "cell_type": "code",
   "execution_count": 3,
   "metadata": {},
   "outputs": [],
   "source": [
    "# join county col\n",
    "parcel_xwalk = pd.read_csv(\"D:/w/bayarea_urbansim/data/2018_10_17_parcel_to_taz1454sub.csv\")\n",
    "parcel_xwalk.PARCEL_ID = parcel_xwalk.PARCEL_ID.round().astype(int)\n",
    "parcel_data = parcel_data.merge(parcel_xwalk, left_on='parcel_id', right_on='PARCEL_ID', how='left')"
   ]
  },
  {
   "cell_type": "code",
   "execution_count": 4,
   "metadata": {},
   "outputs": [
    {
     "name": "stdout",
     "output_type": "stream",
     "text": [
      "total number of residential units is 4,254,248.0\n",
      "total number of DR units is 264,630.0\n",
      "number of preserved units is 0.0\n",
      "number of subsidized units is 0.0\n",
      "number of inclusionary units is 130,329.0\n"
     ]
    }
   ],
   "source": [
    "print(\"total number of residential units is {:,}\".format(parcel_data.residential_units.sum()))\n",
    "print(\"total number of DR units is {:,}\".format(parcel_data.deed_restricted_units.sum()))\n",
    "print(\"number of preserved units is {:,}\".format(parcel_data.preserved_units.sum()))\n",
    "print(\"number of subsidized units is {:,}\".format(parcel_data.subsidized_units.sum()))\n",
    "print(\"number of inclusionary units is {:,}\".format(parcel_data.inclusionary_units.sum()))"
   ]
  },
  {
   "cell_type": "markdown",
   "metadata": {},
   "source": [
    "#### Preservation"
   ]
  },
  {
   "cell_type": "code",
   "execution_count": 5,
   "metadata": {},
   "outputs": [],
   "source": [
    "# preservation units are typically randomly added to buildings \n",
    "# they can be added to any unit that is not already deed restricted "
   ]
  },
  {
   "cell_type": "code",
   "execution_count": 6,
   "metadata": {},
   "outputs": [],
   "source": [
    "counties = ['ala', 'cnc', 'mar', 'nap', 'sfr', 'smt', 'scl', 'sol', 'son']\n",
    "num_pres = [22600, 15000, 3150, 1650, 14950, 13500, 28150, 5150, 5900]\n",
    "\n",
    "for county, num in zip(counties, num_pres):\n",
    "    parcels_juris = parcel_data.loc[parcel_data.county == county]\n",
    "    # only add preserved units to parcels with non-DR units\n",
    "    parcels_for_pres = parcels_juris.loc[(parcels_juris.residential_units) > (parcels_juris.deed_restricted_units)]\n",
    "    # at the moment only allow ONE UNIT PER PARCEL\n",
    "    ids_to_pres = np.random.choice(parcels_for_pres.parcel_id, num, replace=False)\n",
    "\n",
    "    # make units preserved and add to deed restricted total\n",
    "    parcel_data.loc[parcel_data.parcel_id.isin(ids_to_pres), \"preserved_units\"] = \\\n",
    "        parcel_data.preserved_units.fillna(0) + 1\n",
    "    parcel_data.loc[parcel_data.parcel_id.isin(ids_to_pres), \"deed_restricted_units\"] = \\\n",
    "        parcel_data.deed_restricted_units.fillna(0) + 1"
   ]
  },
  {
   "cell_type": "code",
   "execution_count": 7,
   "metadata": {},
   "outputs": [
    {
     "name": "stdout",
     "output_type": "stream",
     "text": [
      "total number of residential units is 4,254,248.0\n",
      "total number of DR units is 374,680.0\n",
      "number of preserved units is 110,050.0\n",
      "number of subsidized units is 0.0\n",
      "number of inclusionary units is 130,329.0\n"
     ]
    }
   ],
   "source": [
    "print(\"total number of residential units is {:,}\".format(parcel_data.residential_units.sum()))\n",
    "print(\"total number of DR units is {:,}\".format(parcel_data.deed_restricted_units.sum()))\n",
    "print(\"number of preserved units is {:,}\".format(parcel_data.preserved_units.sum()))\n",
    "print(\"number of subsidized units is {:,}\".format(parcel_data.subsidized_units.sum()))\n",
    "print(\"number of inclusionary units is {:,}\".format(parcel_data.inclusionary_units.sum()))"
   ]
  },
  {
   "cell_type": "markdown",
   "metadata": {},
   "source": [
    "#### Production"
   ]
  },
  {
   "cell_type": "code",
   "execution_count": 8,
   "metadata": {},
   "outputs": [],
   "source": [
    "# production units are typically added by funding buildings and making them feasible\n",
    "# here they can be added to parcels with existing buildings (as a \"project\") \n",
    "# or to new buildings (these were feasible, but could have been infeasible in a prior iteration and thus eligible)\n",
    "# they can be added to any unit that is not already deed restricted \n",
    "# NOTE: we likely undercount inclusionary and overcount preservation a bit this way"
   ]
  },
  {
   "cell_type": "code",
   "execution_count": 9,
   "metadata": {},
   "outputs": [],
   "source": [
    "counties = ['ala', 'cnc', 'mar', 'nap', 'sfr', 'smt', 'scl', 'sol', 'son']\n",
    "num_prod = [24100, 15900, 3300, 1800, 15900, 14300, 29900, 5400, 6400]\n",
    "\n",
    "for county, num in zip(counties, num_prod):\n",
    "    parcels_juris = parcel_data.loc[parcel_data.county == county]\n",
    "    # only add preserved units to parcels with non-DR units\n",
    "    parcels_for_prod = parcels_juris.loc[(parcels_juris.residential_units) > (parcels_juris.deed_restricted_units)]\n",
    "    # at the moment only allow ONE UNIT PER PARCEL\n",
    "    ids_to_prod = np.random.choice(parcels_for_prod.parcel_id, num, replace=False)\n",
    "\n",
    "    # make units preserved and add to deed restricted total\n",
    "    parcel_data.loc[parcel_data.parcel_id.isin(ids_to_prod), \"subsidized_units\"] = \\\n",
    "        parcel_data.subsidized_units.fillna(0) + 1\n",
    "    parcel_data.loc[parcel_data.parcel_id.isin(ids_to_prod), \"deed_restricted_units\"] = \\\n",
    "        parcel_data.deed_restricted_units.fillna(0) + 1"
   ]
  },
  {
   "cell_type": "code",
   "execution_count": 10,
   "metadata": {},
   "outputs": [
    {
     "name": "stdout",
     "output_type": "stream",
     "text": [
      "total number of residential units is 4,254,248.0\n",
      "total number of DR units is 491,680.0\n",
      "number of preserved units is 110,050.0\n",
      "number of subsidized units is 117,000.0\n",
      "number of inclusionary units is 130,329.0\n"
     ]
    }
   ],
   "source": [
    "print(\"total number of residential units is {:,}\".format(parcel_data.residential_units.sum()))\n",
    "print(\"total number of DR units is {:,}\".format(parcel_data.deed_restricted_units.sum()))\n",
    "print(\"number of preserved units is {:,}\".format(parcel_data.preserved_units.sum()))\n",
    "print(\"number of subsidized units is {:,}\".format(parcel_data.subsidized_units.sum()))\n",
    "print(\"number of inclusionary units is {:,}\".format(parcel_data.inclusionary_units.sum()))"
   ]
  },
  {
   "cell_type": "markdown",
   "metadata": {},
   "source": [
    "#### Output"
   ]
  },
  {
   "cell_type": "code",
   "execution_count": 11,
   "metadata": {},
   "outputs": [],
   "source": [
    "# save a copy of the data in the output folder, manually make it the master file as needed\n",
    "# don't want to risk overwriting the master file (runX_parcel_data_2050_AH.csv)\n",
    "new_parcel_data_file = \"run314_parcel_data_2050_add_AH_output.csv\"\n",
    "parcel_data.to_csv(parcel_data_path+new_parcel_data_file)"
   ]
  }
 ],
 "metadata": {
  "kernelspec": {
   "display_name": "Python 3",
   "language": "python",
   "name": "python3"
  },
  "language_info": {
   "codemirror_mode": {
    "name": "ipython",
    "version": 3
   },
   "file_extension": ".py",
   "mimetype": "text/x-python",
   "name": "python",
   "nbconvert_exporter": "python",
   "pygments_lexer": "ipython3",
   "version": "3.6.9"
  }
 },
 "nbformat": 4,
 "nbformat_minor": 2
}
