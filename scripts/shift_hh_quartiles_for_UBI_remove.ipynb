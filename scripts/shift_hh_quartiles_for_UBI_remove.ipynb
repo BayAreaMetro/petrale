{
 "cells": [
  {
   "cell_type": "code",
   "execution_count": 1,
   "metadata": {},
   "outputs": [],
   "source": [
    "import pandas as pd\n",
    "import numpy as np"
   ]
  },
  {
   "cell_type": "markdown",
   "metadata": {},
   "source": [
    "#### Parcel File"
   ]
  },
  {
   "cell_type": "code",
   "execution_count": 2,
   "metadata": {},
   "outputs": [],
   "source": [
    "parcel_data_path = \"C:/Users/etheocharides/Box/Modeling and Surveys/Urban Modeling/Bay Area UrbanSim/PBA50/EIR runs/Alt2 (s28) runs/Alt2_v1_FINAL_EIR_ALT/\"\n",
    "parcel_data_file = \"run374_parcel_data_2050.csv\"\n",
    "parcel_data = pd.read_csv(parcel_data_path+parcel_data_file)"
   ]
  },
  {
   "cell_type": "code",
   "execution_count": 3,
   "metadata": {},
   "outputs": [
    {
     "name": "stdout",
     "output_type": "stream",
     "text": [
      "number of q1 households is 1009965.0\n",
      "number of q2 households is 920534.0\n"
     ]
    }
   ],
   "source": [
    "print(\"number of q1 households is {}\".format(parcel_data.hhq1.sum()))\n",
    "print(\"number of q2 households is {}\".format(parcel_data.hhq2.sum()))"
   ]
  },
  {
   "cell_type": "code",
   "execution_count": 4,
   "metadata": {},
   "outputs": [],
   "source": [
    "num_hh_to_move = 132529"
   ]
  },
  {
   "cell_type": "code",
   "execution_count": 5,
   "metadata": {},
   "outputs": [],
   "source": [
    "# randomly select a set of parcels\n",
    "ids_to_move = np.random.choice(parcel_data.loc[parcel_data.hhq2 > 0].parcel_id, num_hh_to_move, replace=False)"
   ]
  },
  {
   "cell_type": "code",
   "execution_count": 6,
   "metadata": {},
   "outputs": [],
   "source": [
    "# make Q1 HHs Q2 HHs \n",
    "parcel_data.loc[parcel_data.parcel_id.isin(ids_to_move), \"hhq2\"] = parcel_data.hhq2 - 1\n",
    "parcel_data.loc[parcel_data.parcel_id.isin(ids_to_move), \"hhq1\"] = parcel_data.hhq1.fillna(0) + 1"
   ]
  },
  {
   "cell_type": "code",
   "execution_count": 7,
   "metadata": {},
   "outputs": [
    {
     "name": "stdout",
     "output_type": "stream",
     "text": [
      "number of q1 households is 1142494.0\n",
      "number of q2 households is 788005.0\n"
     ]
    }
   ],
   "source": [
    "print(\"number of q1 households is {}\".format(parcel_data.hhq1.sum()))\n",
    "print(\"number of q2 households is {}\".format(parcel_data.hhq2.sum()))"
   ]
  },
  {
   "cell_type": "code",
   "execution_count": 8,
   "metadata": {},
   "outputs": [],
   "source": [
    "# save a copy of the data in the output folder, manually make it the master file as needed\n",
    "# don't want to risk overwriting the master file (runX_parcel_data_2050_no_UBI.csv)\n",
    "new_parcel_data_file = \"run374_parcel_data_2050_no_UBI_output.csv\"\n",
    "parcel_data.to_csv(parcel_data_path+new_parcel_data_file)"
   ]
  }
 ],
 "metadata": {
  "kernelspec": {
   "display_name": "Python 3",
   "language": "python",
   "name": "python3"
  },
  "language_info": {
   "codemirror_mode": {
    "name": "ipython",
    "version": 3
   },
   "file_extension": ".py",
   "mimetype": "text/x-python",
   "name": "python",
   "nbconvert_exporter": "python",
   "pygments_lexer": "ipython3",
   "version": "3.6.9"
  }
 },
 "nbformat": 4,
 "nbformat_minor": 2
}
