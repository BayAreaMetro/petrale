{
 "cells": [
  {
   "cell_type": "code",
   "execution_count": 1,
   "id": "595fba80",
   "metadata": {},
   "outputs": [],
   "source": [
    "import pandas as pd\n",
    "import geopandas as gpd\n",
    "import os\n",
    "# user = 'aolsen'"
   ]
  },
  {
   "cell_type": "code",
   "execution_count": 2,
   "id": "0baa781b",
   "metadata": {},
   "outputs": [],
   "source": [
    "bayareafips_full = {'06001': 'Alameda', '06013': 'Contra Costa', '06041': 'Marin', '06055': 'Napa',\n",
    "                    '06075': 'San Francisco', '06081': 'San Mateo', '06085': 'Santa Clara',\n",
    "                    '06097': 'Sonoma', '06095': 'Solano'}"
   ]
  },
  {
   "cell_type": "code",
   "execution_count": 3,
   "id": "9c6c54d2",
   "metadata": {},
   "outputs": [],
   "source": [
    "PBA50_output_folder = 'C:/Users/{}/Box/Modeling and Surveys/Urban Modeling/Bay Area UrbanSim/PBA50'.format(os.getenv('USERNAME'))\n",
    "validation_folder = 'M:/Data/Urban/BAUS/pba50plus_validation'"
   ]
  },
  {
   "cell_type": "markdown",
   "id": "6ed5ec5b",
   "metadata": {},
   "source": [
    "# Load data"
   ]
  },
  {
   "cell_type": "code",
   "execution_count": 4,
   "id": "8f284883",
   "metadata": {},
   "outputs": [],
   "source": [
    "# tazs\n",
    "ZONES_PATH = 'C:/Users/{}/Box/Modeling and Surveys/Urban Modeling/Spatial/Zones/TAZ1454/zones1454.shp'.format(os.getenv('USERNAME'))\n",
    "\n",
    "zones = gpd.read_file(ZONES_PATH).to_crs('EPSG:26910')\n",
    "zones['geom_pt'] = zones.representative_point()"
   ]
  },
  {
   "cell_type": "code",
   "execution_count": 5,
   "id": "cd55daca",
   "metadata": {},
   "outputs": [],
   "source": [
    "superdistricts = zones.dissolve('superdistr')"
   ]
  },
  {
   "cell_type": "code",
   "execution_count": 6,
   "id": "c22ae963",
   "metadata": {},
   "outputs": [],
   "source": [
    "# get mapping - surely we have this somewhere in a text file\n",
    "\n",
    "superdistrict_to_county_map = zones.groupby(\n",
    "    ['superdistr', 'fipsstco']).size().reset_index(1).fipsstco.map(bayareafips_full)"
   ]
  },
  {
   "cell_type": "markdown",
   "id": "df797690",
   "metadata": {},
   "source": [
    "## Observed data / Shimon"
   ]
  },
  {
   "cell_type": "code",
   "execution_count": 7,
   "id": "96eee112",
   "metadata": {},
   "outputs": [],
   "source": [
    "taz_2020 = pd.read_csv(\n",
    "    'https://raw.githubusercontent.com/BayAreaMetro/petrale/main/applications/travel_model_lu_inputs/2020/TAZ1454_2020_long.csv')\n",
    "taz_2023 = pd.read_csv(\n",
    "    'https://raw.githubusercontent.com/BayAreaMetro/petrale/main/applications/travel_model_lu_inputs/2023/TAZ1454_2023_long.csv')"
   ]
  },
  {
   "cell_type": "code",
   "execution_count": 8,
   "id": "44d06e5a",
   "metadata": {},
   "outputs": [],
   "source": [
    "# taz_2020['SD'] = taz_2020.ZONE.map(zones.set_index('taz1454').superdistr)\n",
    "# taz_2023['SD'] = taz_2023.ZONE.map(zones.set_index('taz1454').superdistr)"
   ]
  },
  {
   "cell_type": "markdown",
   "id": "7987c8c5",
   "metadata": {},
   "source": [
    "## PBA 50 data - taz"
   ]
  },
  {
   "cell_type": "code",
   "execution_count": 9,
   "id": "089c2302",
   "metadata": {},
   "outputs": [],
   "source": [
    "tazdata_2010 = pd.read_csv(\n",
    "    os.path.join(PBA50_output_folder, \n",
    "                 'Final Blueprint runs/Final Blueprint (s24)/BAUS v2.25 - FINAL VERSION/run182_taz_summaries_2010.csv'))\n",
    "\n",
    "tazdata_2010['superdistrict'] = tazdata_2010.SD"
   ]
  },
  {
   "cell_type": "code",
   "execution_count": 10,
   "id": "ce1e9657",
   "metadata": {},
   "outputs": [],
   "source": [
    "tazdata_2020 = pd.read_csv(\n",
    "    os.path.join(PBA50_output_folder, \n",
    "                 'Final Blueprint runs/Final Blueprint (s24)/BAUS v2.25 - FINAL VERSION/run182_taz_summaries_2020.csv'))\n",
    "tazdata_2020['superdistrict'] = tazdata_2020.SD"
   ]
  },
  {
   "cell_type": "markdown",
   "id": "f9380cb2",
   "metadata": {},
   "source": [
    "## Census 2010"
   ]
  },
  {
   "cell_type": "code",
   "execution_count": 11,
   "id": "e94e5ceb",
   "metadata": {},
   "outputs": [],
   "source": [
    "census2010_block = gpd.read_file('C:/Users/{}/Box/Modeling and Surveys/Census/censusblocks2010_w_dat.gpkg'.format(os.getenv('USERNAME')))\n",
    "census2010_block['geom_pt'] = census2010_block.representative_point()"
   ]
  },
  {
   "cell_type": "code",
   "execution_count": 12,
   "id": "6d5ef592",
   "metadata": {},
   "outputs": [],
   "source": [
    "# assign containing zone to census block\n",
    "bayarea_blocks_2010_x_zones = gpd.sjoin(\n",
    "    census2010_block[['GEOID10','geom_pt']].set_geometry('geom_pt'), zones)\n"
   ]
  },
  {
   "cell_type": "code",
   "execution_count": 13,
   "id": "4244551e",
   "metadata": {},
   "outputs": [],
   "source": [
    "census2010_block['zone_id'] = census2010_block.GEOID10.map(bayarea_blocks_2010_x_zones.groupby(['GEOID10']).taz1454.first())\n",
    "census2010_block['superdistrict'] = census2010_block.GEOID10.map(bayarea_blocks_2010_x_zones.groupby(['GEOID10']).superdistr.first())"
   ]
  },
  {
   "cell_type": "markdown",
   "id": "5906bcfb",
   "metadata": {},
   "source": [
    "## Census 2020"
   ]
  },
  {
   "cell_type": "code",
   "execution_count": 14,
   "id": "b86f40b7",
   "metadata": {},
   "outputs": [],
   "source": [
    "census2020_block = gpd.read_file('C:/Users/{}/Box/Modeling and Surveys/Census/censusblocks2020_w_dat.gpkg'.format(os.getenv('USERNAME')))"
   ]
  },
  {
   "cell_type": "code",
   "execution_count": 15,
   "id": "955080ad",
   "metadata": {},
   "outputs": [],
   "source": [
    "#census_2020_data = pd.read_excel('/Users/{user}/Downloads/census_2020_dhc_block_vars.xlsx')"
   ]
  },
  {
   "cell_type": "code",
   "execution_count": 16,
   "id": "3c34f058",
   "metadata": {},
   "outputs": [],
   "source": [
    "census2020_block['superdistrict'] = census2020_block.zone_id.map(zones.set_index('taz1454').superdistr)"
   ]
  },
  {
   "cell_type": "code",
   "execution_count": 17,
   "id": "2b28efe5",
   "metadata": {},
   "outputs": [
    {
     "data": {
      "text/html": [
       "<div>\n",
       "<style scoped>\n",
       "    .dataframe tbody tr th:only-of-type {\n",
       "        vertical-align: middle;\n",
       "    }\n",
       "\n",
       "    .dataframe tbody tr th {\n",
       "        vertical-align: top;\n",
       "    }\n",
       "\n",
       "    .dataframe thead th {\n",
       "        text-align: right;\n",
       "    }\n",
       "</style>\n",
       "<table border=\"1\" class=\"dataframe\">\n",
       "  <thead>\n",
       "    <tr style=\"text-align: right;\">\n",
       "      <th></th>\n",
       "      <th>population</th>\n",
       "      <th>households</th>\n",
       "    </tr>\n",
       "    <tr>\n",
       "      <th>superdistrict</th>\n",
       "      <th></th>\n",
       "      <th></th>\n",
       "    </tr>\n",
       "  </thead>\n",
       "  <tbody>\n",
       "    <tr>\n",
       "      <th>1.0</th>\n",
       "      <td>139649</td>\n",
       "      <td>75771</td>\n",
       "    </tr>\n",
       "    <tr>\n",
       "      <th>2.0</th>\n",
       "      <td>206581</td>\n",
       "      <td>101971</td>\n",
       "    </tr>\n",
       "    <tr>\n",
       "      <th>3.0</th>\n",
       "      <td>324381</td>\n",
       "      <td>118333</td>\n",
       "    </tr>\n",
       "    <tr>\n",
       "      <th>4.0</th>\n",
       "      <td>134624</td>\n",
       "      <td>49736</td>\n",
       "    </tr>\n",
       "    <tr>\n",
       "      <th>5.0</th>\n",
       "      <td>290434</td>\n",
       "      <td>98382</td>\n",
       "    </tr>\n",
       "  </tbody>\n",
       "</table>\n",
       "</div>"
      ],
      "text/plain": [
       "               population  households\n",
       "superdistrict                        \n",
       "1.0                139649       75771\n",
       "2.0                206581      101971\n",
       "3.0                324381      118333\n",
       "4.0                134624       49736\n",
       "5.0                290434       98382"
      ]
     },
     "execution_count": 17,
     "metadata": {},
     "output_type": "execute_result"
    }
   ],
   "source": [
    "census2010_block.groupby(['superdistrict'])[['population','households']].sum().head()"
   ]
  },
  {
   "cell_type": "code",
   "execution_count": 18,
   "id": "ada35df5",
   "metadata": {},
   "outputs": [
    {
     "data": {
      "text/plain": [
       "what               superdistrict\n",
       "baseyear2010_BAUS  1                 80012.0\n",
       "                   2                105018.0\n",
       "                   3                116392.0\n",
       "                   4                 48566.0\n",
       "                   5                 94463.0\n",
       "                                      ...   \n",
       "estim_acs2023      30                92804.0\n",
       "                   31                32297.0\n",
       "                   32                23258.0\n",
       "                   33                42563.0\n",
       "                   34                37862.0\n",
       "Length: 204, dtype: float64"
      ]
     },
     "execution_count": 18,
     "metadata": {},
     "output_type": "execute_result"
    }
   ],
   "source": [
    "valid_2020 = pd.concat([\n",
    "    tazdata_2010.groupby(['superdistrict']).TOTHH.sum(),\n",
    "    tazdata_2020.groupby(['superdistrict']).TOTHH.sum(),\n",
    "    census2010_block.groupby(['superdistrict']).households.sum(),\n",
    "    census2020_block.groupby(['superdistrict']).households.sum(),\n",
    "    taz_2020.query('Variable==\"TOTHH\" & Year==2020').groupby(\n",
    "        ['DISTRICT']).Value.sum(),\n",
    "    taz_2023.query('Variable==\"TOTHH\" & Year==2023').groupby(\n",
    "        ['DISTRICT']).Value.sum()\n",
    "],  # check, then double check the ordering matches the above list\n",
    "    keys=['baseyear2010_BAUS', \n",
    "          'modeled2020_BAUS',\n",
    "          'observed_census2010',\n",
    "          'observed_census2020',\n",
    "          'observed_acs2020',\n",
    "          'estim_acs2023'],\n",
    "    names=['what'])\n",
    "valid_2020"
   ]
  },
  {
   "cell_type": "markdown",
   "id": "8d999ac4",
   "metadata": {},
   "source": [
    "# Comparisons"
   ]
  },
  {
   "cell_type": "code",
   "execution_count": 19,
   "id": "04dcef52",
   "metadata": {},
   "outputs": [],
   "source": [
    "# 2020 observations\n",
    "\n",
    "valid_2020 = pd.concat([\n",
    "    tazdata_2010.groupby(['superdistrict']).TOTHH.sum(),\n",
    "    tazdata_2020.groupby(['superdistrict']).TOTHH.sum(),\n",
    "    census2010_block.groupby(['superdistrict']).households.sum(),\n",
    "    census2020_block.groupby(['superdistrict']).households.sum(),\n",
    "    taz_2020.query('Variable==\"TOTHH\" & Year==2020').groupby(\n",
    "        ['DISTRICT']).Value.sum(),\n",
    "    taz_2023.query('Variable==\"TOTHH\" & Year==2023').groupby(\n",
    "        ['DISTRICT']).Value.sum()\n",
    "],  # check, then double check the ordering matches the above list\n",
    "    keys=['baseyear2010_BAUS', \n",
    "          'modeled2020_BAUS',\n",
    "          'observed_census2010',\n",
    "          'observed_census2020',\n",
    "          'observed_acs2020',\n",
    "          'estim_acs2023'],\n",
    "    names=['what'])\n",
    "valid_2020 = valid_2020.unstack([0])  # .reset_index(name='value')"
   ]
  },
  {
   "cell_type": "code",
   "execution_count": 20,
   "id": "25ba367f",
   "metadata": {},
   "outputs": [],
   "source": [
    "# store comparison expressions in a dict for better readability\n",
    "\n",
    "comparisons = {\n",
    "    # model growth relative to *census* 2010\n",
    "    'ch_BAUS_minus_c2010': 'modeled2020_BAUS - observed_census2010',\n",
    "    # model growth relative to *model* 2010\n",
    "    'ch_BAUS2020_minus_BAUS2010': 'modeled2020_BAUS - baseyear2010_BAUS',\n",
    "\n",
    "    # growth 2010-2020 per census data\n",
    "    'ch_c2020_minus_c2010': 'observed_census2020 - observed_census2010',\n",
    "\n",
    "    # growth 2010-2023 per census data\n",
    "    'ch_acs2023_minus_c2010': 'estim_acs2023 - observed_census2010',\n",
    "\n",
    "    # ratio of model growth to observed growth\n",
    "    'rat_modelgr_vs_obsgr': 'ch_BAUS2020_minus_BAUS2010 / ch_c2020_minus_c2010'}"
   ]
  },
  {
   "cell_type": "code",
   "execution_count": 21,
   "id": "8f872ca6",
   "metadata": {},
   "outputs": [
    {
     "name": "stdout",
     "output_type": "stream",
     "text": [
      "-0.0017301432654833679\n",
      "-0.0017301432654833586\n"
     ]
    }
   ],
   "source": [
    "# Mean average percentage error\n",
    "\n",
    "# manual approach\n",
    "mean_MAPE = ((valid_2020.modeled2020_BAUS - valid_2020.observed_census2020) / \\\n",
    "    valid_2020.observed_census2020)\n",
    "print(mean_MAPE.mean())\n",
    "\n",
    "# vectorized approach\n",
    "model_var = 'modeled2020_BAUS'\n",
    "reference_var = 'observed_census2020'\n",
    "print(valid_2020[[reference_var,model_var]].pct_change(axis=1)[model_var].mean())"
   ]
  },
  {
   "cell_type": "code",
   "execution_count": 22,
   "id": "c9bb8af2",
   "metadata": {},
   "outputs": [],
   "source": [
    "# turn into df\n",
    "valid_2020_df = valid_2020.reset_index()\n",
    "valid_2020_df['county'] = valid_2020_df.superdistrict.map(\n",
    "    superdistrict_to_county_map)\n",
    "valid_2020_df['geometry'] = valid_2020_df.superdistrict.map(\n",
    "    superdistricts.geometry)\n",
    "valid_2020_df = valid_2020_df.set_geometry('geometry')"
   ]
  },
  {
   "cell_type": "code",
   "execution_count": 23,
   "id": "b04a4217",
   "metadata": {},
   "outputs": [
    {
     "name": "stdout",
     "output_type": "stream",
     "text": [
      "ch_BAUS_minus_c2010 modeled2020_BAUS - observed_census2010\n",
      "ch_BAUS2020_minus_BAUS2010 modeled2020_BAUS - baseyear2010_BAUS\n",
      "ch_c2020_minus_c2010 observed_census2020 - observed_census2010\n",
      "ch_acs2023_minus_c2010 estim_acs2023 - observed_census2010\n",
      "rat_modelgr_vs_obsgr ch_BAUS2020_minus_BAUS2010 / ch_c2020_minus_c2010\n"
     ]
    }
   ],
   "source": [
    "# loop through comparison expresions; assign to dataframe\n",
    "for var, expr in comparisons.items():\n",
    "    print(var, expr)\n",
    "    valid_2020_df[var] = valid_2020_df.eval(expr)\n",
    "    valid_2020_df[var]"
   ]
  },
  {
   "cell_type": "code",
   "execution_count": 24,
   "id": "be656ba0",
   "metadata": {},
   "outputs": [],
   "source": [
    "# add run_id\n",
    "valid_2020_df['run_id'] = 'PBA50-FBP'"
   ]
  },
  {
   "cell_type": "markdown",
   "id": "095d8bd4",
   "metadata": {},
   "source": [
    "# Output\n",
    "Write out to tableau"
   ]
  },
  {
   "cell_type": "code",
   "execution_count": 25,
   "id": "793577eb",
   "metadata": {},
   "outputs": [],
   "source": [
    "# only need to write out the spatial file once\n",
    "geo_out_path = os.path.join(validation_folder, 'baus_2020_validation_geo.geojson')\n",
    "\n",
    "valid_2020_df[['superdistrict', 'geometry']].to_file(geo_out_path,driver='GeoJSON')\n"
   ]
  },
  {
   "cell_type": "code",
   "execution_count": 26,
   "id": "f98031a5",
   "metadata": {},
   "outputs": [],
   "source": [
    "# write out the validation metrics for one model run\n",
    "csv_out_path = os.path.join(validation_folder, 'baus_2020_validation_{}.csv'.format('PBA50-FBP'))\n",
    "\n",
    "valid_2020_df.drop(['geometry'], axis=1).to_csv(csv_out_path, index=False)"
   ]
  },
  {
   "cell_type": "code",
   "execution_count": 27,
   "id": "b804c535",
   "metadata": {},
   "outputs": [
    {
     "name": "stdout",
     "output_type": "stream",
     "text": [
      "['superdistrict', 'baseyear2010_BAUS', 'modeled2020_BAUS', 'observed_census2010', 'observed_census2020', 'observed_acs2020', 'estim_acs2023', 'county', 'geometry', 'ch_BAUS_minus_c2010', 'ch_BAUS2020_minus_BAUS2010', 'ch_c2020_minus_c2010', 'ch_acs2023_minus_c2010', 'rat_modelgr_vs_obsgr', 'run_id']\n"
     ]
    }
   ],
   "source": [
    "print(list\n",
    "(valid_2020_df))"
   ]
  }
 ],
 "metadata": {
  "kernelspec": {
   "display_name": "Python 3 (ipykernel)",
   "language": "python",
   "name": "python3"
  },
  "language_info": {
   "codemirror_mode": {
    "name": "ipython",
    "version": 3
   },
   "file_extension": ".py",
   "mimetype": "text/x-python",
   "name": "python",
   "nbconvert_exporter": "python",
   "pygments_lexer": "ipython3",
   "version": "3.8.15"
  },
  "toc": {
   "base_numbering": 1,
   "nav_menu": {},
   "number_sections": true,
   "sideBar": true,
   "skip_h1_title": false,
   "title_cell": "Table of Contents",
   "title_sidebar": "Contents",
   "toc_cell": false,
   "toc_position": {},
   "toc_section_display": true,
   "toc_window_display": true
  }
 },
 "nbformat": 4,
 "nbformat_minor": 5
}
