{
 "cells": [
  {
   "cell_type": "code",
   "execution_count": 1,
   "id": "595fba80",
   "metadata": {},
   "outputs": [
    {
     "name": "stderr",
     "output_type": "stream",
     "text": [
      "/Users/aolsen/opt/anaconda3/envs/geo_env_2/lib/python3.10/site-packages/geopandas/_compat.py:123: UserWarning: The Shapely GEOS version (3.11.1-CAPI-1.17.1) is incompatible with the GEOS version PyGEOS was compiled with (3.10.4-CAPI-1.16.2). Conversions between both will be slow.\n",
      "  warnings.warn(\n",
      "/var/folders/x8/3_n775lx7zq1nv3mddc7vmlh0000gp/T/ipykernel_35726/215051122.py:2: UserWarning: Shapely 2.0 is installed, but because PyGEOS is also installed, GeoPandas will still use PyGEOS by default for now. To force to use and test Shapely 2.0, you have to set the environment variable USE_PYGEOS=0. You can do this before starting the Python process, or in your code before importing geopandas:\n",
      "\n",
      "import os\n",
      "os.environ['USE_PYGEOS'] = '0'\n",
      "import geopandas\n",
      "\n",
      "In a future release, GeoPandas will switch to using Shapely by default. If you are using PyGEOS directly (calling PyGEOS functions on geometries from GeoPandas), this will then stop working and you are encouraged to migrate from PyGEOS to Shapely 2.0 (https://shapely.readthedocs.io/en/latest/migration_pygeos.html).\n",
      "  import geopandas as gpd\n"
     ]
    }
   ],
   "source": [
    "import pandas as pd\n",
    "import geopandas as gpd\n",
    "user = 'aolsen'"
   ]
  },
  {
   "cell_type": "code",
   "execution_count": 2,
   "id": "0baa781b",
   "metadata": {},
   "outputs": [],
   "source": [
    "bayareafips_full = {'06001': 'Alameda', '06013': 'Contra Costa', '06041': 'Marin', '06055': 'Napa',\n",
    "                    '06075': 'San Francisco', '06081': 'San Mateo', '06085': 'Santa Clara',\n",
    "                    '06097': 'Sonoma', '06095': 'Solano'}"
   ]
  },
  {
   "cell_type": "markdown",
   "id": "6ed5ec5b",
   "metadata": {},
   "source": [
    "# Load data"
   ]
  },
  {
   "cell_type": "code",
   "execution_count": 3,
   "id": "8f284883",
   "metadata": {},
   "outputs": [],
   "source": [
    "# tazs\n",
    "ZONES_PATH = f'/Users/{user}/Box/Modeling and Surveys/Urban Modeling/Spatial/Zones/TAZ1454/zones1454.shp'\n",
    "\n",
    "zones = gpd.read_file(ZONES_PATH).to_crs('EPSG:26910')\n",
    "zones['geom_pt'] = zones.representative_point()"
   ]
  },
  {
   "cell_type": "markdown",
   "id": "df797690",
   "metadata": {},
   "source": [
    "## Observed data / Shimon"
   ]
  },
  {
   "cell_type": "code",
   "execution_count": 4,
   "id": "96eee112",
   "metadata": {},
   "outputs": [],
   "source": [
    "taz_2020 = pd.read_csv(\n",
    "    'https://raw.githubusercontent.com/BayAreaMetro/petrale/main/applications/travel_model_lu_inputs/2020/TAZ1454_2020_long.csv')\n",
    "taz_2023 = pd.read_csv(\n",
    "    'https://raw.githubusercontent.com/BayAreaMetro/petrale/main/applications/travel_model_lu_inputs/2023/TAZ1454_2023_long.csv')"
   ]
  },
  {
   "cell_type": "code",
   "execution_count": 5,
   "id": "44d06e5a",
   "metadata": {},
   "outputs": [],
   "source": [
    "# taz_2020['SD'] = taz_2020.ZONE.map(zones.set_index('taz1454').superdistr)\n",
    "# taz_2023['SD'] = taz_2023.ZONE.map(zones.set_index('taz1454').superdistr)"
   ]
  },
  {
   "cell_type": "markdown",
   "id": "7987c8c5",
   "metadata": {},
   "source": [
    "## PBA 50 data - taz"
   ]
  },
  {
   "cell_type": "code",
   "execution_count": 6,
   "id": "089c2302",
   "metadata": {},
   "outputs": [],
   "source": [
    "tazdata_2010 = pd.read_csv(f'/Users/{user}/Box/Modeling and Surveys/Urban Modeling/Bay Area UrbanSim/PBA50/Final Blueprint runs/Final Blueprint (s24)/BAUS v2.25 - FINAL VERSION/run182_taz_summaries_2010.csv')\n",
    "tazdata_2010['superdistrict'] = tazdata_2010.SD"
   ]
  },
  {
   "cell_type": "code",
   "execution_count": 7,
   "id": "ce1e9657",
   "metadata": {},
   "outputs": [],
   "source": [
    "tazdata_2020 = pd.read_csv(f'/Users/{user}/Box/Modeling and Surveys/Urban Modeling/Bay Area UrbanSim/PBA50/Final Blueprint runs/Final Blueprint (s24)/BAUS v2.25 - FINAL VERSION/run182_taz_summaries_2020.csv')\n",
    "tazdata_2020['superdistrict'] = tazdata_2020.SD"
   ]
  },
  {
   "cell_type": "code",
   "execution_count": 8,
   "id": "cd55daca",
   "metadata": {},
   "outputs": [],
   "source": [
    "superdistricts = zones.dissolve('superdistr')"
   ]
  },
  {
   "cell_type": "code",
   "execution_count": 9,
   "id": "c22ae963",
   "metadata": {},
   "outputs": [],
   "source": [
    "# get mapping - surely we have this somewhere in a text file\n",
    "\n",
    "superdistrict_to_county_map = zones.groupby(\n",
    "    ['superdistr', 'fipsstco']).size().reset_index(1).fipsstco.map(bayareafips_full)"
   ]
  },
  {
   "cell_type": "markdown",
   "id": "f9380cb2",
   "metadata": {},
   "source": [
    "## Census 2010"
   ]
  },
  {
   "cell_type": "code",
   "execution_count": 10,
   "id": "e94e5ceb",
   "metadata": {},
   "outputs": [],
   "source": [
    "census2010_block = gpd.read_file(f'/Users/{user}/Box/Modeling and Surveys/Census/censusblocks2010_w_dat.gpkg')\n",
    "census2010_block['geom_pt'] = census2010_block.representative_point()"
   ]
  },
  {
   "cell_type": "code",
   "execution_count": 11,
   "id": "6d5ef592",
   "metadata": {},
   "outputs": [],
   "source": [
    "# assign containing zone to census block\n",
    "bayarea_blocks_2010_x_zones = gpd.sjoin(\n",
    "    census2010_block[['GEOID10','geom_pt']].set_geometry('geom_pt'), zones)\n"
   ]
  },
  {
   "cell_type": "code",
   "execution_count": 12,
   "id": "4244551e",
   "metadata": {},
   "outputs": [],
   "source": [
    "census2010_block['zone_id'] = census2010_block.GEOID10.map(bayarea_blocks_2010_x_zones.groupby(['GEOID10']).taz1454.first())\n",
    "census2010_block['superdistrict'] = census2010_block.GEOID10.map(bayarea_blocks_2010_x_zones.groupby(['GEOID10']).superdistr.first())"
   ]
  },
  {
   "cell_type": "markdown",
   "id": "5906bcfb",
   "metadata": {},
   "source": [
    "## Census 2020"
   ]
  },
  {
   "cell_type": "code",
   "execution_count": 13,
   "id": "b86f40b7",
   "metadata": {},
   "outputs": [],
   "source": [
    "census2020_block = gpd.read_file(f'/Users/{user}/Box/Modeling and Surveys/Census/censusblocks2020_w_dat.gpkg')"
   ]
  },
  {
   "cell_type": "code",
   "execution_count": 14,
   "id": "955080ad",
   "metadata": {},
   "outputs": [],
   "source": [
    "#census_2020_data = pd.read_excel('/Users/{user}/Downloads/census_2020_dhc_block_vars.xlsx')"
   ]
  },
  {
   "cell_type": "code",
   "execution_count": 15,
   "id": "3c34f058",
   "metadata": {},
   "outputs": [],
   "source": [
    "census2020_block['superdistrict'] = census2020_block.zone_id.map(zones.set_index('taz1454').superdistr)"
   ]
  },
  {
   "cell_type": "code",
   "execution_count": 16,
   "id": "2b28efe5",
   "metadata": {},
   "outputs": [
    {
     "data": {
      "text/html": [
       "<div>\n",
       "<style scoped>\n",
       "    .dataframe tbody tr th:only-of-type {\n",
       "        vertical-align: middle;\n",
       "    }\n",
       "\n",
       "    .dataframe tbody tr th {\n",
       "        vertical-align: top;\n",
       "    }\n",
       "\n",
       "    .dataframe thead th {\n",
       "        text-align: right;\n",
       "    }\n",
       "</style>\n",
       "<table border=\"1\" class=\"dataframe\">\n",
       "  <thead>\n",
       "    <tr style=\"text-align: right;\">\n",
       "      <th></th>\n",
       "      <th>population</th>\n",
       "      <th>households</th>\n",
       "    </tr>\n",
       "    <tr>\n",
       "      <th>superdistrict</th>\n",
       "      <th></th>\n",
       "      <th></th>\n",
       "    </tr>\n",
       "  </thead>\n",
       "  <tbody>\n",
       "    <tr>\n",
       "      <th>1.0</th>\n",
       "      <td>139649</td>\n",
       "      <td>75771</td>\n",
       "    </tr>\n",
       "    <tr>\n",
       "      <th>2.0</th>\n",
       "      <td>206581</td>\n",
       "      <td>101971</td>\n",
       "    </tr>\n",
       "    <tr>\n",
       "      <th>3.0</th>\n",
       "      <td>324381</td>\n",
       "      <td>118333</td>\n",
       "    </tr>\n",
       "    <tr>\n",
       "      <th>4.0</th>\n",
       "      <td>134624</td>\n",
       "      <td>49736</td>\n",
       "    </tr>\n",
       "    <tr>\n",
       "      <th>5.0</th>\n",
       "      <td>290434</td>\n",
       "      <td>98382</td>\n",
       "    </tr>\n",
       "  </tbody>\n",
       "</table>\n",
       "</div>"
      ],
      "text/plain": [
       "               population  households\n",
       "superdistrict                        \n",
       "1.0                139649       75771\n",
       "2.0                206581      101971\n",
       "3.0                324381      118333\n",
       "4.0                134624       49736\n",
       "5.0                290434       98382"
      ]
     },
     "execution_count": 16,
     "metadata": {},
     "output_type": "execute_result"
    }
   ],
   "source": [
    "census2010_block.groupby(['superdistrict'])[['population','households']].sum().head()"
   ]
  },
  {
   "cell_type": "markdown",
   "id": "8d999ac4",
   "metadata": {},
   "source": [
    "# Comparisons"
   ]
  },
  {
   "cell_type": "code",
   "execution_count": 23,
   "id": "04dcef52",
   "metadata": {},
   "outputs": [],
   "source": [
    "# 2020 observations\n",
    "\n",
    "valid_2020 = pd.concat([\n",
    "    tazdata_2010.groupby(['superdistrict']).TOTHH.sum(),\n",
    "    tazdata_2020.groupby(['superdistrict']).TOTHH.sum(),\n",
    "    census2010_block.groupby(['superdistrict']).households.sum(),\n",
    "    census2020_block.groupby(['superdistrict']).households.sum(),\n",
    "    taz_2020.query('Variable==\"TOTHH\" & Year==2020').groupby(\n",
    "        ['DISTRICT']).Value.sum(),\n",
    "    taz_2023.query('Variable==\"TOTHH\" & Year==2023').groupby(\n",
    "        ['DISTRICT']).Value.sum()\n",
    "],  # check, then double check the ordering matches the above list\n",
    "    keys=['baseyear2010_run182', \n",
    "          'modeled2020_run182',\n",
    "          'observed_census2010',\n",
    "          'observed_census2020',\n",
    "          'observed_acs2020',\n",
    "          'estim_acs2023'],\n",
    "    names=['what'])\n",
    "valid_2020 = valid_2020.unstack([0])  # .reset_index(name='value')"
   ]
  },
  {
   "cell_type": "code",
   "execution_count": 24,
   "id": "25ba367f",
   "metadata": {},
   "outputs": [],
   "source": [
    "# store comparison expressions in a dict for better readability\n",
    "\n",
    "comparisons = {\n",
    "    # model growth relative to *census* 2010\n",
    "    'ch_182_minus_c2010': 'modeled2020_run182 - observed_census2010',\n",
    "    # model growth relative to *model* 2010\n",
    "    'ch_182_minus_182': 'modeled2020_run182 - baseyear2010_run182',\n",
    "\n",
    "    # growth 2010-2020 per census data\n",
    "    'ch_c2020_minus_c2010': 'observed_census2020 - observed_census2010',\n",
    "\n",
    "    # growth 2010-2023 per census data\n",
    "    'ch_acs2023_minus_c2010': 'estim_acs2023 - observed_census2010',\n",
    "\n",
    "    # ratio of model growth to observed growth\n",
    "    'rat_modelgr_vs_obsgr': 'ch_182_minus_182 / ch_c2020_minus_c2010'}"
   ]
  },
  {
   "cell_type": "code",
   "execution_count": 25,
   "id": "8f872ca6",
   "metadata": {},
   "outputs": [
    {
     "name": "stdout",
     "output_type": "stream",
     "text": [
      "-0.0017301432654833679\n",
      "-0.0017301432654833586\n"
     ]
    }
   ],
   "source": [
    "# Mean average percentage error\n",
    "\n",
    "# manual approach\n",
    "mean_MAPE = ((valid_2020.modeled2020_run182 - valid_2020.observed_census2020) / \\\n",
    "    valid_2020.observed_census2020)\n",
    "print(mean_MAPE.mean())\n",
    "\n",
    "# vectorized approach\n",
    "model_var = 'modeled2020_run182'\n",
    "reference_var = 'observed_census2020'\n",
    "print(valid_2020[[reference_var,model_var]].pct_change(axis=1)[model_var].mean())"
   ]
  },
  {
   "cell_type": "code",
   "execution_count": 26,
   "id": "c9bb8af2",
   "metadata": {},
   "outputs": [],
   "source": [
    "# turn into df\n",
    "valid_2020_df = valid_2020.reset_index()\n",
    "valid_2020_df['county'] = valid_2020_df.superdistrict.map(\n",
    "    superdistrict_to_county_map)\n",
    "valid_2020_df['geometry'] = valid_2020_df.superdistrict.map(\n",
    "    superdistricts.geometry)\n",
    "valid_2020_df = valid_2020_df.set_geometry('geometry')"
   ]
  },
  {
   "cell_type": "code",
   "execution_count": 27,
   "id": "b04a4217",
   "metadata": {},
   "outputs": [
    {
     "name": "stdout",
     "output_type": "stream",
     "text": [
      "ch_182_minus_c2010 modeled2020_run182 - observed_census2010\n",
      "ch_182_minus_182 modeled2020_run182 - baseyear2010_run182\n",
      "ch_c2020_minus_c2010 observed_census2020 - observed_census2010\n",
      "ch_acs2023_minus_c2010 estim_acs2023 - observed_census2010\n",
      "rat_modelgr_vs_obsgr ch_182_minus_182 / ch_c2020_minus_c2010\n"
     ]
    }
   ],
   "source": [
    "# loop through comparison expresions; assign to dataframe\n",
    "for var, expr in comparisons.items():\n",
    "    print(var, expr)\n",
    "    valid_2020_df[var] = valid_2020_df.eval(expr)\n",
    "    valid_2020_df[var]"
   ]
  },
  {
   "cell_type": "markdown",
   "id": "095d8bd4",
   "metadata": {},
   "source": [
    "# Output\n",
    "Write out to tableau"
   ]
  },
  {
   "cell_type": "code",
   "execution_count": 30,
   "id": "793577eb",
   "metadata": {},
   "outputs": [],
   "source": [
    "out_path = f'/Users/{user}/Downloads/baus_2020_validation.geojson'\n",
    "\n",
    "valid_2020_df.to_file(out_path,driver='GeoJSON')"
   ]
  },
  {
   "cell_type": "code",
   "execution_count": null,
   "id": "f98031a5",
   "metadata": {},
   "outputs": [],
   "source": []
  }
 ],
 "metadata": {
  "kernelspec": {
   "display_name": "Python 3 (ipykernel)",
   "language": "python",
   "name": "python3"
  },
  "language_info": {
   "codemirror_mode": {
    "name": "ipython",
    "version": 3
   },
   "file_extension": ".py",
   "mimetype": "text/x-python",
   "name": "python",
   "nbconvert_exporter": "python",
   "pygments_lexer": "ipython3",
   "version": "3.10.8"
  },
  "toc": {
   "base_numbering": 1,
   "nav_menu": {},
   "number_sections": true,
   "sideBar": true,
   "skip_h1_title": false,
   "title_cell": "Table of Contents",
   "title_sidebar": "Contents",
   "toc_cell": false,
   "toc_position": {},
   "toc_section_display": true,
   "toc_window_display": true
  }
 },
 "nbformat": 4,
 "nbformat_minor": 5
}
