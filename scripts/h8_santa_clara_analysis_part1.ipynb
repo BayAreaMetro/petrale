{
 "cells": [
  {
   "cell_type": "code",
   "execution_count": 1,
   "metadata": {},
   "outputs": [],
   "source": [
    "import os\n",
    "import pandas as pd\n",
    "import numpy as np"
   ]
  },
  {
   "cell_type": "code",
   "execution_count": 2,
   "metadata": {},
   "outputs": [],
   "source": [
    "runs = {'v2.1':   'run144',\n",
    "        'v2.2.1 (growth summary updates)': 'run325',\n",
    "        'v2.3':   'run241',\n",
    "        'v2.3.1 (devproj updates)': 'run242',\n",
    "        'v2.4':   'run152',\n",
    "        'v2.5':   'run327',\n",
    "        'v2.6':   'run243',\n",
    "        'v2.7':   'run158',\n",
    "        'v2.8':   'run335',\n",
    "        'v2.9':   'run160'}\n",
    "\n",
    "if os.getenv('USERNAME')=='ywang':\n",
    "    input_folder = 'C:\\\\Users\\\\{}\\\\Box\\\\Modeling and Surveys\\\\Urban Modeling\\\\Bay Area UrbanSim\\\\PBA50\\\\Final Blueprint runs\\\\Final Blueprint (s24)'.format(os.getenv('USERNAME'))\n",
    "    working_dir = 'M:\\\\Data\\\\Urban\\\\BAUS\\\\PBA50\\\\Final_Blueprint\\\\run_analysis\\\\SantaClara_county_subsidized_strategy'\n",
    "\n",
    "os.chdir(working_dir)\n",
    "\n",
    "def version_name(x):\n",
    "    if '(' in x:\n",
    "        return x.split(' ')[0]\n",
    "    else:\n",
    "        return x"
   ]
  },
  {
   "cell_type": "code",
   "execution_count": 3,
   "metadata": {},
   "outputs": [
    {
     "name": "stdout",
     "output_type": "stream",
     "text": [
      "Santa Clara County has 436449 parcels\n"
     ]
    },
    {
     "data": {
      "text/html": [
       "<div>\n",
       "<style scoped>\n",
       "    .dataframe tbody tr th:only-of-type {\n",
       "        vertical-align: middle;\n",
       "    }\n",
       "\n",
       "    .dataframe tbody tr th {\n",
       "        vertical-align: top;\n",
       "    }\n",
       "\n",
       "    .dataframe thead th {\n",
       "        text-align: right;\n",
       "    }\n",
       "</style>\n",
       "<table border=\"1\" class=\"dataframe\">\n",
       "  <thead>\n",
       "    <tr style=\"text-align: right;\">\n",
       "      <th></th>\n",
       "      <th>PARCEL_ID</th>\n",
       "      <th>juris</th>\n",
       "      <th>juris_name_full</th>\n",
       "      <th>county_name</th>\n",
       "    </tr>\n",
       "  </thead>\n",
       "  <tbody>\n",
       "    <tr>\n",
       "      <th>143</th>\n",
       "      <td>1440230</td>\n",
       "      <td>sunnyvale</td>\n",
       "      <td>sunnyvale</td>\n",
       "      <td>Santa Clara</td>\n",
       "    </tr>\n",
       "    <tr>\n",
       "      <th>483</th>\n",
       "      <td>1412789</td>\n",
       "      <td>san_jose</td>\n",
       "      <td>san_jose</td>\n",
       "      <td>Santa Clara</td>\n",
       "    </tr>\n",
       "    <tr>\n",
       "      <th>538</th>\n",
       "      <td>1408883</td>\n",
       "      <td>san_jose</td>\n",
       "      <td>san_jose</td>\n",
       "      <td>Santa Clara</td>\n",
       "    </tr>\n",
       "    <tr>\n",
       "      <th>549</th>\n",
       "      <td>1309312</td>\n",
       "      <td>palo_alto</td>\n",
       "      <td>palo_alto</td>\n",
       "      <td>Santa Clara</td>\n",
       "    </tr>\n",
       "    <tr>\n",
       "      <th>583</th>\n",
       "      <td>1648785</td>\n",
       "      <td>san_jose</td>\n",
       "      <td>san_jose</td>\n",
       "      <td>Santa Clara</td>\n",
       "    </tr>\n",
       "    <tr>\n",
       "      <th>...</th>\n",
       "      <td>...</td>\n",
       "      <td>...</td>\n",
       "      <td>...</td>\n",
       "      <td>...</td>\n",
       "    </tr>\n",
       "    <tr>\n",
       "      <th>1956189</th>\n",
       "      <td>1417339</td>\n",
       "      <td>san_jose</td>\n",
       "      <td>san_jose</td>\n",
       "      <td>Santa Clara</td>\n",
       "    </tr>\n",
       "    <tr>\n",
       "      <th>1956190</th>\n",
       "      <td>1417349</td>\n",
       "      <td>san_jose</td>\n",
       "      <td>san_jose</td>\n",
       "      <td>Santa Clara</td>\n",
       "    </tr>\n",
       "    <tr>\n",
       "      <th>1956191</th>\n",
       "      <td>1417392</td>\n",
       "      <td>san_jose</td>\n",
       "      <td>san_jose</td>\n",
       "      <td>Santa Clara</td>\n",
       "    </tr>\n",
       "    <tr>\n",
       "      <th>1956192</th>\n",
       "      <td>1417403</td>\n",
       "      <td>san_jose</td>\n",
       "      <td>san_jose</td>\n",
       "      <td>Santa Clara</td>\n",
       "    </tr>\n",
       "    <tr>\n",
       "      <th>1956193</th>\n",
       "      <td>1417449</td>\n",
       "      <td>san_jose</td>\n",
       "      <td>san_jose</td>\n",
       "      <td>Santa Clara</td>\n",
       "    </tr>\n",
       "  </tbody>\n",
       "</table>\n",
       "<p>436449 rows × 4 columns</p>\n",
       "</div>"
      ],
      "text/plain": [
       "         PARCEL_ID      juris juris_name_full  county_name\n",
       "143        1440230  sunnyvale       sunnyvale  Santa Clara\n",
       "483        1412789   san_jose        san_jose  Santa Clara\n",
       "538        1408883   san_jose        san_jose  Santa Clara\n",
       "549        1309312  palo_alto       palo_alto  Santa Clara\n",
       "583        1648785   san_jose        san_jose  Santa Clara\n",
       "...            ...        ...             ...          ...\n",
       "1956189    1417339   san_jose        san_jose  Santa Clara\n",
       "1956190    1417349   san_jose        san_jose  Santa Clara\n",
       "1956191    1417392   san_jose        san_jose  Santa Clara\n",
       "1956192    1417403   san_jose        san_jose  Santa Clara\n",
       "1956193    1417449   san_jose        san_jose  Santa Clara\n",
       "\n",
       "[436449 rows x 4 columns]"
      ]
     },
     "metadata": {},
     "output_type": "display_data"
    }
   ],
   "source": [
    "parcel_geo = pd.read_csv(r'M:\\Data\\Urban\\BAUS\\PBA50\\Final_Blueprint\\Large General Input Data\\2020_10_27_parcels_geography.csv',\n",
    "                         usecols = ['PARCEL_ID', 'juris'])\n",
    "\n",
    "juris_county = pd.read_csv(os.path.join('util','juris_county_id.csv'),\n",
    "                           usecols = ['juris_name_full', 'county_name'])\n",
    "\n",
    "parcel_geo = parcel_geo.merge(juris_county, left_on='juris', right_on='juris_name_full', how='left')\n",
    "parcel_geo_scl = parcel_geo.loc[parcel_geo.county_name == 'Santa Clara']\n",
    "print('Santa Clara County has {} parcels'.format(parcel_geo_scl.shape[0]))\n",
    "\n",
    "display(parcel_geo_scl)"
   ]
  },
  {
   "cell_type": "code",
   "execution_count": 4,
   "metadata": {
    "scrolled": false
   },
   "outputs": [
    {
     "name": "stdout",
     "output_type": "stream",
     "text": [
      "v2.1\n",
      "4832 subsidized buildings on 4832 parcels\n",
      "total res units from acct: 57862.0\n",
      "total subsidized units from acct: 16007.0\n"
     ]
    },
    {
     "name": "stderr",
     "output_type": "stream",
     "text": [
      "C:\\Users\\ywang\\Anaconda3\\lib\\site-packages\\ipykernel_launcher.py:51: FutureWarning: Indexing with multiple keys (implicitly converted to a tuple of keys) will be deprecated, use a list instead.\n",
      "C:\\Users\\ywang\\Anaconda3\\lib\\site-packages\\ipykernel_launcher.py:57: FutureWarning: Indexing with multiple keys (implicitly converted to a tuple of keys) will be deprecated, use a list instead.\n"
     ]
    },
    {
     "name": "stdout",
     "output_type": "stream",
     "text": [
      "422255 parcels have buildings\n"
     ]
    },
    {
     "data": {
      "text/plain": [
       "array(['has res_blg but no subsidized', 'only non-res blg',\n",
       "       'has subsidized res_blg', 'no blg'], dtype=object)"
      ]
     },
     "metadata": {},
     "output_type": "display_data"
    },
    {
     "name": "stdout",
     "output_type": "stream",
     "text": [
      "export 436449 records of parcel_summary for v2.1\n",
      "\n",
      "v2.2.1 (growth summary updates)\n",
      "total subsidized units of subsidiezed buildings from blg output: 6406.0\n",
      "1889 subsidized buildings on 1889 parcels\n",
      "total res units from acct: 22721.0\n",
      "total subsidized units from acct: 6406.0\n",
      "422235 parcels have buildings\n"
     ]
    },
    {
     "data": {
      "text/plain": [
       "array(['has res_blg but no subsidized', 'only non-res blg',\n",
       "       'has subsidized res_blg', 'no blg'], dtype=object)"
      ]
     },
     "metadata": {},
     "output_type": "display_data"
    },
    {
     "name": "stdout",
     "output_type": "stream",
     "text": [
      "export 436449 records of parcel_summary for v2.2.1\n",
      "\n",
      "v2.3\n",
      "total subsidized units of subsidiezed buildings from blg output: 7145.0\n",
      "2033 subsidized buildings on 2033 parcels\n",
      "total res units from acct: 24283.0\n",
      "total subsidized units from acct: 7145.0\n",
      "422254 parcels have buildings\n"
     ]
    },
    {
     "data": {
      "text/plain": [
       "array(['has res_blg but no subsidized', 'only non-res blg',\n",
       "       'has subsidized res_blg', 'no blg'], dtype=object)"
      ]
     },
     "metadata": {},
     "output_type": "display_data"
    },
    {
     "name": "stdout",
     "output_type": "stream",
     "text": [
      "export 436449 records of parcel_summary for v2.3\n",
      "\n",
      "v2.3.1 (devproj updates)\n",
      "total subsidized units of subsidiezed buildings from blg output: 6526.0\n",
      "1873 subsidized buildings on 1873 parcels\n",
      "total res units from acct: 23329.0\n",
      "total subsidized units from acct: 6526.0\n",
      "422251 parcels have buildings\n"
     ]
    },
    {
     "data": {
      "text/plain": [
       "array(['has res_blg but no subsidized', 'only non-res blg',\n",
       "       'has subsidized res_blg', 'no blg'], dtype=object)"
      ]
     },
     "metadata": {},
     "output_type": "display_data"
    },
    {
     "name": "stdout",
     "output_type": "stream",
     "text": [
      "export 436449 records of parcel_summary for v2.3.1\n",
      "\n",
      "v2.4\n",
      "no subsidized blgs in acctlog\n"
     ]
    },
    {
     "data": {
      "text/plain": [
       "432718"
      ]
     },
     "metadata": {},
     "output_type": "display_data"
    },
    {
     "data": {
      "text/plain": [
       "res_units    980990.0\n",
       "dtype: float64"
      ]
     },
     "metadata": {},
     "output_type": "display_data"
    },
    {
     "name": "stdout",
     "output_type": "stream",
     "text": [
      "422290 parcels have buildings\n"
     ]
    },
    {
     "data": {
      "text/plain": [
       "array(['has res_blg but no subsidized', 'only non-res blg', 'no blg'],\n",
       "      dtype=object)"
      ]
     },
     "metadata": {},
     "output_type": "display_data"
    },
    {
     "name": "stdout",
     "output_type": "stream",
     "text": [
      "export 436449 records of parcel_summary for v2.4\n",
      "\n",
      "v2.5\n",
      "no subsidized blgs in acctlog\n"
     ]
    },
    {
     "data": {
      "text/plain": [
       "432662"
      ]
     },
     "metadata": {},
     "output_type": "display_data"
    },
    {
     "data": {
      "text/plain": [
       "res_units    995142.0\n",
       "dtype: float64"
      ]
     },
     "metadata": {},
     "output_type": "display_data"
    },
    {
     "name": "stdout",
     "output_type": "stream",
     "text": [
      "422236 parcels have buildings\n"
     ]
    },
    {
     "data": {
      "text/plain": [
       "array(['has res_blg but no subsidized', 'only non-res blg', 'no blg'],\n",
       "      dtype=object)"
      ]
     },
     "metadata": {},
     "output_type": "display_data"
    },
    {
     "name": "stdout",
     "output_type": "stream",
     "text": [
      "export 436449 records of parcel_summary for v2.5\n",
      "\n",
      "v2.6\n",
      "total subsidized units of subsidiezed buildings from blg output: 2006.0\n",
      "562 subsidized buildings on 562 parcels\n",
      "total res units from acct: 7227.0\n",
      "total subsidized units from acct: 2006.0\n",
      "422231 parcels have buildings\n"
     ]
    },
    {
     "data": {
      "text/plain": [
       "array(['has res_blg but no subsidized', 'only non-res blg',\n",
       "       'has subsidized res_blg', 'no blg'], dtype=object)"
      ]
     },
     "metadata": {},
     "output_type": "display_data"
    },
    {
     "name": "stdout",
     "output_type": "stream",
     "text": [
      "export 436449 records of parcel_summary for v2.6\n",
      "\n",
      "v2.7\n",
      "total subsidized units of subsidiezed buildings from blg output: 3431.0\n",
      "1113 subsidized buildings on 1113 parcels\n",
      "total res units from acct: 13338.0\n",
      "total subsidized units from acct: 3431.0\n",
      "422254 parcels have buildings\n"
     ]
    },
    {
     "data": {
      "text/plain": [
       "array(['has res_blg but no subsidized', 'only non-res blg',\n",
       "       'has subsidized res_blg', 'no blg'], dtype=object)"
      ]
     },
     "metadata": {},
     "output_type": "display_data"
    },
    {
     "name": "stdout",
     "output_type": "stream",
     "text": [
      "export 436449 records of parcel_summary for v2.7\n",
      "\n",
      "v2.8\n",
      "no subsidized blgs in acctlog\n"
     ]
    },
    {
     "data": {
      "text/plain": [
       "432678"
      ]
     },
     "metadata": {},
     "output_type": "display_data"
    },
    {
     "data": {
      "text/plain": [
       "res_units    997604.0\n",
       "dtype: float64"
      ]
     },
     "metadata": {},
     "output_type": "display_data"
    },
    {
     "name": "stdout",
     "output_type": "stream",
     "text": [
      "422237 parcels have buildings\n"
     ]
    },
    {
     "data": {
      "text/plain": [
       "array(['has res_blg but no subsidized', 'only non-res blg', 'no blg'],\n",
       "      dtype=object)"
      ]
     },
     "metadata": {},
     "output_type": "display_data"
    },
    {
     "name": "stdout",
     "output_type": "stream",
     "text": [
      "export 436449 records of parcel_summary for v2.8\n",
      "\n",
      "v2.9\n",
      "no subsidized blgs in acctlog\n"
     ]
    },
    {
     "data": {
      "text/plain": [
       "432714"
      ]
     },
     "metadata": {},
     "output_type": "display_data"
    },
    {
     "data": {
      "text/plain": [
       "res_units    998437.0\n",
       "dtype: float64"
      ]
     },
     "metadata": {},
     "output_type": "display_data"
    },
    {
     "name": "stdout",
     "output_type": "stream",
     "text": [
      "422258 parcels have buildings\n"
     ]
    },
    {
     "data": {
      "text/plain": [
       "array(['has res_blg but no subsidized', 'only non-res blg', 'no blg'],\n",
       "      dtype=object)"
      ]
     },
     "metadata": {},
     "output_type": "display_data"
    },
    {
     "name": "stdout",
     "output_type": "stream",
     "text": [
      "export 436449 records of parcel_summary for v2.9\n",
      "\n"
     ]
    }
   ],
   "source": [
    "for i in runs:\n",
    "    print(i)\n",
    "    \n",
    "    blg_file = input_folder+'\\\\'+'BAUS '+i+'\\\\'+runs[i]+'_building_data_2050.csv'\n",
    "    acct_file = input_folder+'\\\\'+'BAUS '+i+'\\\\'+runs[i]+'_acctlog_Santa Clara Affordable Housing Bond_2050.csv'\n",
    "    blg = pd.read_csv(blg_file)\n",
    "    blg['source_detail'] = blg['source']\n",
    "    blg = blg.merge(parcel_geo[['PARCEL_ID', 'juris', 'county_name']],\n",
    "                    left_on='parcel_id',\n",
    "                    right_on='PARCEL_ID',\n",
    "                    how='left')\n",
    "    blg_scl = blg.loc[blg.county_name == 'Santa Clara']\n",
    "    acct = pd.read_csv(acct_file)\n",
    "    #display(acct.loc[acct.building_id.notnull()])\n",
    "\n",
    "    acct.columns = [x+'_acct' for x in list(acct)]\n",
    "    \n",
    "    if 'building_id_acct' in acct:\n",
    "        \n",
    "        blg_scl_join = blg_scl.merge(acct, \n",
    "                                     left_on = 'building_id', \n",
    "                                     right_on = 'building_id_acct', \n",
    "                                     how = 'left')\n",
    "        \n",
    "        blg_scl_join.loc[blg_scl_join.building_id_acct.notnull(), 'source_detail'] = 'subsidized_model'\n",
    "\n",
    "        if 'subsidized_units' in blg_scl_join:\n",
    "            print('total subsidized units of subsidiezed buildings from blg output: {}'.format(blg_scl_join.subsidized_units.sum()))\n",
    "\n",
    "        blg_scl_join[['parcel_id','building_id', 'building_id_acct',\n",
    "                      'juris', 'year_built', 'year_acct', 'source', 'source_detail',\n",
    "                      'residential_units', \n",
    "                      'residential_units_acct', \n",
    "                      'subsidized_units_acct']].to_csv('blg_data_'+ version_name(i) +'.csv', index=False)\n",
    "            \n",
    "        \n",
    "        blg_scl_subsidized = blg_scl_join.loc[blg_scl_join.building_id_acct.notnull()]\n",
    "\n",
    "        parcel_cnt = len(blg_scl_subsidized.parcel_id.unique())\n",
    "        blg_cnt = blg_scl_subsidized.shape[0]\n",
    "        print('{} subsidized buildings on {} parcels'.format(blg_cnt, parcel_cnt))\n",
    "        \n",
    "        print('total res units from acct: {}'.format(blg_scl_subsidized.residential_units_acct.sum()))\n",
    "        print('total subsidized units from acct: {}'.format(blg_scl_subsidized.subsidized_units_acct.sum()))\n",
    "\n",
    "        blg_scl_non_subsidized = blg_scl_join.loc[blg_scl_join.building_id_acct.isnull()]\n",
    "        \n",
    "        p_all_blg_count = blg_scl_join.groupby('parcel_id')['building_id'].count().reset_index()\n",
    "        p_all_blg_count.columns = ['parcel_id', 'num_blg']\n",
    "        \n",
    "        p_all_blg_units = blg_scl_join.groupby('parcel_id')['residential_units','subsidized_units_acct'].sum().reset_index()\n",
    "        p_all_blg_units.columns = ['parcel_id', 'res_units', 'subsidized_units']\n",
    "        \n",
    "        p_sub_blg_count = blg_scl_subsidized.groupby('parcel_id')['building_id'].count().reset_index()\n",
    "        p_sub_blg_count.columns = ['parcel_id', 'num_sub_blg']\n",
    "        \n",
    "        p_sub_blg_units = blg_scl_subsidized.groupby('parcel_id')['residential_units','subsidized_units_acct'].sum().reset_index()\n",
    "        p_sub_blg_units.columns = ['parcel_id', 'res_units_subBlg', 'subsidized_units_subBlg']\n",
    "        \n",
    "        p_nonsub_blg_count = blg_scl_non_subsidized.groupby('parcel_id')['building_id'].count().reset_index()\n",
    "        p_nonsub_blg_count.columns = ['parcel_id', 'num_nonsub_blg']\n",
    "        \n",
    "        p_nonsub_blg_units = blg_scl_non_subsidized.groupby('parcel_id')['residential_units'].sum().reset_index()\n",
    "        p_nonsub_blg_units.columns = ['parcel_id','res_units_nonsubBlg']\n",
    "    \n",
    "        parcel_summary = p_all_blg_count.merge(p_all_blg_units,\n",
    "                                               on='parcel_id',\n",
    "                                               how='left').merge(p_sub_blg_count,\n",
    "                                                                 on='parcel_id',\n",
    "                                                                 how='left').merge(p_sub_blg_units,\n",
    "                                                                                   on='parcel_id',\n",
    "                                                                                   how='left').merge(p_nonsub_blg_count,\n",
    "                                                                                                     on='parcel_id',\n",
    "                                                                                                     how='left').merge(p_nonsub_blg_units,\n",
    "                                                                                                                       on='parcel_id',\n",
    "                                                                                                                       how='left')\n",
    "    \n",
    "    else:\n",
    "        print('no subsidized blgs in acctlog')\n",
    "        \n",
    "        p_all_blg_count = blg_scl.groupby('parcel_id')['building_id'].count().reset_index()\n",
    "        p_all_blg_count.columns = ['parcel_id', 'num_blg']\n",
    "        display(p_all_blg_count.num_blg.sum())\n",
    "        \n",
    "        p_all_blg_units = blg_scl.groupby('parcel_id')['residential_units'].sum().reset_index()\n",
    "        p_all_blg_units.columns = ['parcel_id', 'res_units']\n",
    "        display(p_all_blg_units[['res_units']].sum())\n",
    "        \n",
    "        parcel_summary = p_all_blg_count.merge(p_all_blg_units,\n",
    "                                               on='parcel_id',\n",
    "                                               how='left')\n",
    "        parcel_summary['num_nonsub_blg'] = parcel_summary['num_blg']\n",
    "        parcel_summary['res_units_nonsubBlg'] = parcel_summary['res_units']\n",
    "        \n",
    "        for col_name in ['num_sub_blg', 'res_units_subBlg', 'subsidized_units', 'subsidized_units_subBlg']:\n",
    "            parcel_summary[col_name] = 0    \n",
    "        \n",
    "        if 'subsidized_units' in blg_scl:\n",
    "            blg_scl_sub = blg_scl.loc[blg_scl.subsidized_units > 0]\n",
    "            if blg_scl_sub.shape[0] > 0:\n",
    "                print('blg output has subsidized units: {} buildings, {} units'.format(\n",
    "                    blg_scl_sub.shape[0],\n",
    "                    blg_scl_sub.subsidized_units.sum()))\n",
    "\n",
    "\n",
    "    # add additional fields and export\n",
    "    print('{} parcels have buildings'.format(parcel_summary.shape[0]))\n",
    "    \n",
    "    parcel_summary = parcel_summary.merge(parcel_geo_scl,\n",
    "                                          left_on='parcel_id',\n",
    "                                          right_on='PARCEL_ID',\n",
    "                                          how='outer')\n",
    "    parcel_summary.fillna(0, inplace=True)\n",
    "    \n",
    "    parcel_summary['category'] = np.nan\n",
    "    parcel_summary.loc[parcel_summary.num_blg == 0, 'category'] = 'no blg'\n",
    "    parcel_summary.loc[(parcel_summary.num_blg > 0) & (parcel_summary.res_units == 0), 'category'] = 'only non-res blg'\n",
    "    parcel_summary.loc[(parcel_summary.res_units > 0) & (parcel_summary.num_sub_blg == 0), 'category'] = 'has res_blg but no subsidized'\n",
    "    parcel_summary.loc[parcel_summary.num_sub_blg > 0, 'category'] = 'has subsidized res_blg'\n",
    "    \n",
    "    display(parcel_summary.category.unique())\n",
    "                \n",
    "    print('export {} records of parcel_summary for {}'.format(parcel_summary.shape[0], version_name(i)))\n",
    "    parcel_summary[['parcel_id', 'category', 'num_blg', 'num_sub_blg', 'num_nonsub_blg',\n",
    "                    'res_units', 'res_units_subBlg', 'res_units_nonsubBlg',\n",
    "                    'subsidized_units', 'subsidized_units_subBlg']].to_csv('parcel_summary_'+ version_name(i) +'.csv', index=False)\n",
    "                \n",
    "    print('')\n",
    "    #display(blg.head())\n",
    "    #display(acct.head())"
   ]
  }
 ],
 "metadata": {
  "kernelspec": {
   "display_name": "Python 3",
   "language": "python",
   "name": "python3"
  },
  "language_info": {
   "codemirror_mode": {
    "name": "ipython",
    "version": 3
   },
   "file_extension": ".py",
   "mimetype": "text/x-python",
   "name": "python",
   "nbconvert_exporter": "python",
   "pygments_lexer": "ipython3",
   "version": "3.7.6"
  }
 },
 "nbformat": 4,
 "nbformat_minor": 4
}
