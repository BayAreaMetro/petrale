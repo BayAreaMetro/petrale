{
 "cells": [
  {
   "cell_type": "markdown",
   "id": "59e5fe33",
   "metadata": {},
   "source": [
    "# Tabulation of households by income group and household size\n",
    "Using data from synthetic households for Plan Bay Area, what is the distribution of households by income group by household size?"
   ]
  },
  {
   "cell_type": "code",
   "execution_count": 298,
   "id": "ccc03e38",
   "metadata": {},
   "outputs": [],
   "source": [
    "import pandas as pd\n",
    "from pandas_datareader import data as dt, wb"
   ]
  },
  {
   "cell_type": "markdown",
   "id": "f5e3411d",
   "metadata": {},
   "source": [
    "# CPI data\n",
    "\n",
    "The PUMS seed sample is from 2007-2011 - we can use this to get to 2020 if need be."
   ]
  },
  {
   "cell_type": "code",
   "execution_count": 299,
   "id": "83ca492c",
   "metadata": {},
   "outputs": [
    {
     "name": "stdout",
     "output_type": "stream",
     "text": [
      "renaming field CPIAUCSL to All Urban Consumers (CPI-U) U.S.\n"
     ]
    }
   ],
   "source": [
    "datapool = {\n",
    "    'CPIAUCSL': 'All Urban Consumers (CPI-U) U.S.',\n",
    "    #'CUURA422SA0': 'All Urban Consumers (CPI-U) SF-OAK-HAY',\n",
    "}\n",
    "\n",
    "indicators_all = {}\n",
    "for series, series_nme in datapool.items():\n",
    "    data = dt.DataReader(series, \"fred\", start=\"1970-1-1\")\n",
    "\n",
    "    # renaming not necessary in master\n",
    "    print(\"renaming field %s to %s\" % (series, datapool[series]))\n",
    "    indicators_all[series_nme] = data"
   ]
  },
  {
   "cell_type": "code",
   "execution_count": 300,
   "id": "2d7c11d0",
   "metadata": {},
   "outputs": [],
   "source": [
    "date_range = pd.date_range(start='2010',end='2021',freq='AS-DEC')"
   ]
  },
  {
   "cell_type": "code",
   "execution_count": 301,
   "id": "44c39d2f",
   "metadata": {},
   "outputs": [
    {
     "data": {
      "text/plain": [
       "All Urban Consumers (CPI-U) U.S.  CPIAUCSL    1.153206\n",
       "dtype: float64"
      ]
     },
     "execution_count": 301,
     "metadata": {},
     "output_type": "execute_result"
    }
   ],
   "source": [
    "inflation_2011_2020 = pd.concat(indicators_all).stack().unstack([0,2]).dropna().loc['2020-12-01']/pd.concat(indicators_all).stack().unstack([0,2]).dropna().loc['2011-12-01']\n",
    "inflation_2011_2020"
   ]
  },
  {
   "cell_type": "markdown",
   "id": "300a8743",
   "metadata": {},
   "source": [
    "# Paths"
   ]
  },
  {
   "cell_type": "code",
   "execution_count": 234,
   "id": "6b8834f2",
   "metadata": {},
   "outputs": [],
   "source": [
    "SYNTH_POP_2020 = '/Users/aolsen/Box/Modeling and Surveys/Urban Modeling/Bay Area UrbanSim/PBA50/Basemap/output_2020_TransitRecovery_20220805_run182_modv01/synthetic_persons.csv'\n",
    "SYNTH_HH_2020 = '/Users/aolsen/Box/Modeling and Surveys/Urban Modeling/Bay Area UrbanSim/PBA50/Basemap/output_2020_TransitRecovery_20220805_run182_modv01/synthetic_households.csv'"
   ]
  },
  {
   "cell_type": "code",
   "execution_count": 235,
   "id": "364b646d",
   "metadata": {},
   "outputs": [],
   "source": [
    "SYNTH_POP_2050 = '/Users/aolsen/Box/Modeling and Surveys/Urban Modeling/Bay Area UrbanSim/PBA50/Basemap/output_2050_PBA50PlusCrossing_20201125_run182/synthetic_persons.csv'\n",
    "SYNTH_HH_2050 = '/Users/aolsen/Box/Modeling and Surveys/Urban Modeling/Bay Area UrbanSim/PBA50/Basemap/output_2050_PBA50PlusCrossing_20201125_run182/synthetic_households.csv'"
   ]
  },
  {
   "cell_type": "code",
   "execution_count": 7,
   "id": "1be30c20",
   "metadata": {},
   "outputs": [],
   "source": [
    "SYNTH_POP_2035 = '/Users/aolsen/Box/Modeling and Surveys/Urban Modeling/Bay Area UrbanSim/PBA50/Basemap/output_2035_PBA50PlusCrossing_20201125_run182/synthetic_persons.csv'\n",
    "SYNTH_HH_2035 = '/Users/aolsen/Box/Modeling and Surveys/Urban Modeling/Bay Area UrbanSim/PBA50/Basemap/output_2035_PBA50PlusCrossing_20201125_run182/synthetic_households.csv'"
   ]
  },
  {
   "cell_type": "markdown",
   "id": "a54d5f3a",
   "metadata": {},
   "source": [
    "# Load data"
   ]
  },
  {
   "cell_type": "code",
   "execution_count": 236,
   "id": "d9df876d",
   "metadata": {},
   "outputs": [
    {
     "data": {
      "text/plain": [
       "Index(['PUMA', 'TAZ', 'unique_hh_id', 'SERIALNO', 'SPORDER', 'PWGTP', 'AGEP',\n",
       "       'COW', 'MIL', 'RELP', 'SCHG', 'SCHL', 'SEX', 'WKHP', 'WKW', 'ESR',\n",
       "       'HISP', 'naicsp07', 'PINCP', 'POWPUMA', 'socp00', 'socp10', 'indp02',\n",
       "       'indp07', 'occp02', 'occp10', 'occupation', 'employed', 'employ_status',\n",
       "       'student_status', 'person_type'],\n",
       "      dtype='object')"
      ]
     },
     "execution_count": 236,
     "metadata": {},
     "output_type": "execute_result"
    }
   ],
   "source": [
    "popul = pd.read_csv(SYNTH_POP_2035)\n",
    "popul.columns"
   ]
  },
  {
   "cell_type": "code",
   "execution_count": 238,
   "id": "dfb86289",
   "metadata": {},
   "outputs": [
    {
     "data": {
      "text/plain": [
       "Index(['unique_hh_id', 'PUMA', 'TAZ', 'SERIALNO', 'ADJINC', 'WGTP', 'NP',\n",
       "       'TYPE', 'BLD', 'HHT', 'HINCP', 'HUPAC', 'NPF', 'TEN', 'VEH',\n",
       "       'hh_workers_from_esr', 'hh_income_2010', 'hh_income_2000'],\n",
       "      dtype='object')"
      ]
     },
     "execution_count": 238,
     "metadata": {},
     "output_type": "execute_result"
    }
   ],
   "source": [
    "hh = pd.read_csv(SYNTH_HH_2035)\n",
    "hh.columns"
   ]
  },
  {
   "cell_type": "code",
   "execution_count": 239,
   "id": "0c2f63d1",
   "metadata": {},
   "outputs": [],
   "source": [
    "# drop group quarter households\n",
    "hh = hh[hh.TYPE!=3]"
   ]
  },
  {
   "cell_type": "code",
   "execution_count": null,
   "id": "831b8fa1",
   "metadata": {},
   "outputs": [],
   "source": [
    "# do internal income adjustments\n",
    "\n",
    "hh['hh_income_2011'] = hh.HINCP * hh.ADJINC/1e6\n",
    "hh['hh_income_2010'] = hh['hh_income_2011'] / 1.03154279\n",
    "\n",
    "hh['hh_income_2020'] = hh.hh_income_2011 * inflation_2011_2020.iloc[0]"
   ]
  },
  {
   "cell_type": "code",
   "execution_count": 241,
   "id": "286b502e",
   "metadata": {},
   "outputs": [
    {
     "data": {
      "text/html": [
       "<div>\n",
       "<style scoped>\n",
       "    .dataframe tbody tr th:only-of-type {\n",
       "        vertical-align: middle;\n",
       "    }\n",
       "\n",
       "    .dataframe tbody tr th {\n",
       "        vertical-align: top;\n",
       "    }\n",
       "\n",
       "    .dataframe thead th {\n",
       "        text-align: right;\n",
       "    }\n",
       "</style>\n",
       "<table border=\"1\" class=\"dataframe\">\n",
       "  <thead>\n",
       "    <tr style=\"text-align: right;\">\n",
       "      <th></th>\n",
       "      <th>hh_income_2011</th>\n",
       "      <th>hh_income_2000</th>\n",
       "      <th>hh_income_2010</th>\n",
       "      <th>hh_income_2020</th>\n",
       "    </tr>\n",
       "  </thead>\n",
       "  <tbody>\n",
       "    <tr>\n",
       "      <th>0</th>\n",
       "      <td>240440.4840</td>\n",
       "      <td>184650.788466</td>\n",
       "      <td>233088.230882</td>\n",
       "      <td>277277.486104</td>\n",
       "    </tr>\n",
       "    <tr>\n",
       "      <th>1</th>\n",
       "      <td>155579.4597</td>\n",
       "      <td>119480.145644</td>\n",
       "      <td>150822.109570</td>\n",
       "      <td>179415.216428</td>\n",
       "    </tr>\n",
       "    <tr>\n",
       "      <th>2</th>\n",
       "      <td>212760.2000</td>\n",
       "      <td>163393.138941</td>\n",
       "      <td>206254.361974</td>\n",
       "      <td>245356.407613</td>\n",
       "    </tr>\n",
       "    <tr>\n",
       "      <th>3</th>\n",
       "      <td>271563.8079</td>\n",
       "      <td>208552.453071</td>\n",
       "      <td>263259.857499</td>\n",
       "      <td>313169.099973</td>\n",
       "    </tr>\n",
       "    <tr>\n",
       "      <th>4</th>\n",
       "      <td>145516.9800</td>\n",
       "      <td>111752.487659</td>\n",
       "      <td>141067.323053</td>\n",
       "      <td>167811.101228</td>\n",
       "    </tr>\n",
       "    <tr>\n",
       "      <th>...</th>\n",
       "      <td>...</td>\n",
       "      <td>...</td>\n",
       "      <td>...</td>\n",
       "      <td>...</td>\n",
       "    </tr>\n",
       "    <tr>\n",
       "      <th>3612690</th>\n",
       "      <td>11382.6707</td>\n",
       "      <td>8741.532933</td>\n",
       "      <td>11034.608366</td>\n",
       "      <td>13126.567807</td>\n",
       "    </tr>\n",
       "    <tr>\n",
       "      <th>3612691</th>\n",
       "      <td>19191.1212</td>\n",
       "      <td>14738.182199</td>\n",
       "      <td>18604.289988</td>\n",
       "      <td>22131.322285</td>\n",
       "    </tr>\n",
       "    <tr>\n",
       "      <th>3612692</th>\n",
       "      <td>0.0000</td>\n",
       "      <td>0.000000</td>\n",
       "      <td>0.000000</td>\n",
       "      <td>0.000000</td>\n",
       "    </tr>\n",
       "    <tr>\n",
       "      <th>3612693</th>\n",
       "      <td>13512.2910</td>\n",
       "      <td>10377.016711</td>\n",
       "      <td>13099.108569</td>\n",
       "      <td>15582.459400</td>\n",
       "    </tr>\n",
       "    <tr>\n",
       "      <th>3612694</th>\n",
       "      <td>0.0000</td>\n",
       "      <td>0.000000</td>\n",
       "      <td>0.000000</td>\n",
       "      <td>0.000000</td>\n",
       "    </tr>\n",
       "  </tbody>\n",
       "</table>\n",
       "<p>3497533 rows × 4 columns</p>\n",
       "</div>"
      ],
      "text/plain": [
       "         hh_income_2011  hh_income_2000  hh_income_2010  hh_income_2020\n",
       "0           240440.4840   184650.788466   233088.230882   277277.486104\n",
       "1           155579.4597   119480.145644   150822.109570   179415.216428\n",
       "2           212760.2000   163393.138941   206254.361974   245356.407613\n",
       "3           271563.8079   208552.453071   263259.857499   313169.099973\n",
       "4           145516.9800   111752.487659   141067.323053   167811.101228\n",
       "...                 ...             ...             ...             ...\n",
       "3612690      11382.6707     8741.532933    11034.608366    13126.567807\n",
       "3612691      19191.1212    14738.182199    18604.289988    22131.322285\n",
       "3612692          0.0000        0.000000        0.000000        0.000000\n",
       "3612693      13512.2910    10377.016711    13099.108569    15582.459400\n",
       "3612694          0.0000        0.000000        0.000000        0.000000\n",
       "\n",
       "[3497533 rows x 4 columns]"
      ]
     },
     "execution_count": 241,
     "metadata": {},
     "output_type": "execute_result"
    }
   ],
   "source": [
    "hh[[ 'hh_income_2011','hh_income_2000','hh_income_2010', 'hh_income_2020']]"
   ]
  },
  {
   "cell_type": "markdown",
   "id": "b51fd12f",
   "metadata": {},
   "source": [
    "## Discretize income into groups"
   ]
  },
  {
   "cell_type": "code",
   "execution_count": 242,
   "id": "ef75d625",
   "metadata": {},
   "outputs": [
    {
     "data": {
      "text/plain": [
       "['hh_inc_30', 'hh_inc_30_60', 'hh_inc_60_100', 'hh_inc_100_plus']"
      ]
     },
     "execution_count": 242,
     "metadata": {},
     "output_type": "execute_result"
    }
   ],
   "source": [
    "inc_bins_2000 = [-40000, 30000, 60000, 100000, 1000000]\n",
    "inc_labels_2000 = [*(f'hh_inc_{a/1000:02.0f}_{b/1000:02.0f}' for a,\n",
    "                 b in zip(inc_bins_2000[:-1], inc_bins_2000[1:]))]\n",
    "inc_labels_2000[0] =  f'hh_inc_%s'%str(int(inc_bins_2000[1]/1000))\n",
    "inc_labels_2000[-1] =  f'hh_inc_%s_plus'%str(int(inc_bins_2000[-2]/1000))\n",
    "#inc_labels_2000[-1] = '%sup'%str(int(inc_bins_2000[-2]))\n",
    "inc_labels_2000"
   ]
  },
  {
   "cell_type": "code",
   "execution_count": 245,
   "id": "7e01cae6",
   "metadata": {},
   "outputs": [
    {
     "data": {
      "text/plain": [
       "['hh_inc_50', 'hh_inc_50_100', 'hh_inc_100_170', 'hh_inc_170_plus']"
      ]
     },
     "execution_count": 245,
     "metadata": {},
     "output_type": "execute_result"
    }
   ],
   "source": [
    "inc_bins_2020 = [-40000, 50000, 100000, 170000, 1000000]\n",
    "inc_labels_2020 = [*(f'hh_inc_{a/1000:02.0f}_{b/1000:02.0f}' for a,\n",
    "                 b in zip(inc_bins_2020[:-1], inc_bins_2020[1:]))]\n",
    "inc_labels_2020[0] =  f'hh_inc_%s'%str(int(inc_bins_2020[1]/1000))\n",
    "inc_labels_2020[-1] =  f'hh_inc_%s_plus'%str(int(inc_bins_2020[-2]/1000))\n",
    "#inc_labels_2020[-1] = '%sup'%str(int(inc_bins_2020[-2]))\n",
    "inc_labels_2020"
   ]
  },
  {
   "cell_type": "code",
   "execution_count": 247,
   "id": "16d62341",
   "metadata": {},
   "outputs": [
    {
     "data": {
      "text/plain": [
       "hh_inc_100_plus    1117800\n",
       "hh_inc_30           974092\n",
       "hh_inc_30_60        725344\n",
       "hh_inc_60_100       679974\n",
       "Name: HHINC_CAT, dtype: int64"
      ]
     },
     "execution_count": 247,
     "metadata": {},
     "output_type": "execute_result"
    }
   ],
   "source": [
    "hh[\"HHINC_CAT\"] = pd.cut(hh.hh_income_2000, inc_bins_2000, labels=inc_labels_2000)\n",
    "hh[\"HHINC_CAT\"].value_counts()"
   ]
  },
  {
   "cell_type": "code",
   "execution_count": 248,
   "id": "8ca1bbdd",
   "metadata": {},
   "outputs": [],
   "source": [
    "#hh[\"HHINC_CAT\"] = pd.qcut(hh.HINCP, 4, labels=False).add(1)"
   ]
  },
  {
   "cell_type": "markdown",
   "id": "5c1bbfdb",
   "metadata": {},
   "source": [
    "## Discretize household size"
   ]
  },
  {
   "cell_type": "code",
   "execution_count": 250,
   "id": "0f207c4c",
   "metadata": {},
   "outputs": [
    {
     "data": {
      "text/plain": [
       "hh_inc_100_plus    1117800\n",
       "hh_inc_30           974092\n",
       "hh_inc_30_60        725344\n",
       "hh_inc_60_100       679974\n",
       "Name: HHINC_CAT, dtype: int64"
      ]
     },
     "execution_count": 250,
     "metadata": {},
     "output_type": "execute_result"
    }
   ],
   "source": [
    "hh.HHINC_CAT.value_counts()"
   ]
  },
  {
   "cell_type": "code",
   "execution_count": 254,
   "id": "7e295da3",
   "metadata": {},
   "outputs": [],
   "source": [
    "hh[\"HHSIZE_CAT\"] = pd.cut(hh.NP, bins=pers_bins, labels=['hh_size_1', 'hh_size_2', 'hh_size_3', 'hh_size_4_plus'])"
   ]
  },
  {
   "cell_type": "markdown",
   "id": "88ee54e9",
   "metadata": {},
   "source": [
    "# Summaries"
   ]
  },
  {
   "cell_type": "code",
   "execution_count": 307,
   "id": "652e52ed",
   "metadata": {},
   "outputs": [
    {
     "data": {
      "text/html": [
       "<div>\n",
       "<style scoped>\n",
       "    .dataframe tbody tr th:only-of-type {\n",
       "        vertical-align: middle;\n",
       "    }\n",
       "\n",
       "    .dataframe tbody tr th {\n",
       "        vertical-align: top;\n",
       "    }\n",
       "\n",
       "    .dataframe thead th {\n",
       "        text-align: right;\n",
       "    }\n",
       "</style>\n",
       "<table border=\"1\" class=\"dataframe\">\n",
       "  <thead>\n",
       "    <tr style=\"text-align: right;\">\n",
       "      <th>HHSIZE_CAT</th>\n",
       "      <th>hh_size_1</th>\n",
       "      <th>hh_size_2</th>\n",
       "      <th>hh_size_3</th>\n",
       "      <th>hh_size_4_plus</th>\n",
       "    </tr>\n",
       "    <tr>\n",
       "      <th>HHINC_CAT</th>\n",
       "      <th></th>\n",
       "      <th></th>\n",
       "      <th></th>\n",
       "      <th></th>\n",
       "    </tr>\n",
       "  </thead>\n",
       "  <tbody>\n",
       "    <tr>\n",
       "      <th>hh_inc_30</th>\n",
       "      <td>486744</td>\n",
       "      <td>263037</td>\n",
       "      <td>93614</td>\n",
       "      <td>130697</td>\n",
       "    </tr>\n",
       "    <tr>\n",
       "      <th>hh_inc_30_60</th>\n",
       "      <td>185930</td>\n",
       "      <td>249057</td>\n",
       "      <td>126420</td>\n",
       "      <td>163937</td>\n",
       "    </tr>\n",
       "    <tr>\n",
       "      <th>hh_inc_60_100</th>\n",
       "      <td>94117</td>\n",
       "      <td>239098</td>\n",
       "      <td>134465</td>\n",
       "      <td>212294</td>\n",
       "    </tr>\n",
       "    <tr>\n",
       "      <th>hh_inc_100_plus</th>\n",
       "      <td>63929</td>\n",
       "      <td>401837</td>\n",
       "      <td>231163</td>\n",
       "      <td>420871</td>\n",
       "    </tr>\n",
       "  </tbody>\n",
       "</table>\n",
       "</div>"
      ],
      "text/plain": [
       "HHSIZE_CAT       hh_size_1  hh_size_2  hh_size_3  hh_size_4_plus\n",
       "HHINC_CAT                                                       \n",
       "hh_inc_30           486744     263037      93614          130697\n",
       "hh_inc_30_60        185930     249057     126420          163937\n",
       "hh_inc_60_100        94117     239098     134465          212294\n",
       "hh_inc_100_plus      63929     401837     231163          420871"
      ]
     },
     "execution_count": 307,
     "metadata": {},
     "output_type": "execute_result"
    }
   ],
   "source": [
    "# 2-way distribution\n",
    "\n",
    "summary_inc_by_size = hh.groupby(['HHINC_CAT','HHSIZE_CAT']).size().unstack(1)\n",
    "summary_inc_by_size"
   ]
  },
  {
   "cell_type": "code",
   "execution_count": 303,
   "id": "df73cbc6",
   "metadata": {},
   "outputs": [
    {
     "name": "stderr",
     "output_type": "stream",
     "text": [
      "/var/folders/x8/3_n775lx7zq1nv3mddc7vmlh0000gp/T/ipykernel_24533/846619160.py:4: FutureWarning: Not prepending group keys to the result index of transform-like apply. In the future, the group keys will be included in the index, regardless of whether the applied function returns a like-indexed object.\n",
      "To preserve the previous behavior, use\n",
      "\n",
      "\t>>> .groupby(..., group_keys=False)\n",
      "\n",
      "To adopt the future behavior and silence this warning, use \n",
      "\n",
      "\t>>> .groupby(..., group_keys=True)\n",
      "  ax = summary_inc_by_size.stack().groupby(level='HHINC_CAT').apply(\n"
     ]
    },
    {
     "data": {
      "text/plain": [
       "Text(0.5, 1.0, 'Household Size Distribution, by Income Group\\nSource: output_2035_PBA50PlusCrossing_20201125_run182.csv')"
      ]
     },
     "execution_count": 303,
     "metadata": {},
     "output_type": "execute_result"
    },
    {
     "data": {
      "image/png": "[encoded data removed]",
      "text/plain": [
       "<Figure size 700x400 with 1 Axes>"
      ]
     },
     "metadata": {},
     "output_type": "display_data"
    }
   ],
   "source": [
    "def pct(x): return x/x.sum()\n",
    "\n",
    "\n",
    "ax = summary_inc_by_size.stack().groupby(level='HHINC_CAT').apply(\n",
    "    pct).unstack('HHSIZE_CAT').plot(kind='bar', figsize=[7, 4], stacked=True)\n",
    "ax.legend(loc=1, bbox_to_anchor=(1.3, 1))\n",
    "ax.set_title(\n",
    "    'Household Size Distribution, by Income Group\\nSource: output_2035_PBA50PlusCrossing_20201125_run182.csv')"
   ]
  },
  {
   "cell_type": "code",
   "execution_count": 305,
   "id": "aa8f9844",
   "metadata": {},
   "outputs": [
    {
     "name": "stderr",
     "output_type": "stream",
     "text": [
      "/var/folders/x8/3_n775lx7zq1nv3mddc7vmlh0000gp/T/ipykernel_24533/52222997.py:1: FutureWarning: Not prepending group keys to the result index of transform-like apply. In the future, the group keys will be included in the index, regardless of whether the applied function returns a like-indexed object.\n",
      "To preserve the previous behavior, use\n",
      "\n",
      "\t>>> .groupby(..., group_keys=False)\n",
      "\n",
      "To adopt the future behavior and silence this warning, use \n",
      "\n",
      "\t>>> .groupby(..., group_keys=True)\n",
      "  ax = summary_inc_by_size.stack().groupby(level='HHSIZE_CAT').apply(\n"
     ]
    },
    {
     "data": {
      "text/plain": [
       "Text(0.5, 1.0, 'Household Income Distribution, by Household Size\\nSource: output_2035_PBA50PlusCrossing_20201125_run182.csv')"
      ]
     },
     "execution_count": 305,
     "metadata": {},
     "output_type": "execute_result"
    },
    {
     "data": {
      "image/png": "[encoded data removed]",
      "text/plain": [
       "<Figure size 700x400 with 1 Axes>"
      ]
     },
     "metadata": {},
     "output_type": "display_data"
    }
   ],
   "source": [
    "ax = summary_inc_by_size.stack().groupby(level='HHSIZE_CAT').apply(\n",
    "    pct).unstack('HHINC_CAT').plot(kind='bar', figsize=[7, 4], stacked=True)\n",
    "ax.legend(loc=1, bbox_to_anchor=(1.3, 1))\n",
    "ax.set_title(\n",
    "    'Household Income Distribution, by Household Size\\nSource: output_2035_PBA50PlusCrossing_20201125_run182.csv')"
   ]
  },
  {
   "cell_type": "code",
   "execution_count": 308,
   "id": "35b62a11",
   "metadata": {},
   "outputs": [],
   "source": [
    "summary_inc_by_size.to_excel('pba50_run182_2035_hh_by_inc_by_hhsize.xlsx')"
   ]
  },
  {
   "cell_type": "markdown",
   "id": "4c72d2ba",
   "metadata": {},
   "source": [
    "# Check relative to targets"
   ]
  },
  {
   "cell_type": "code",
   "execution_count": 294,
   "id": "0c75e260",
   "metadata": {},
   "outputs": [
    {
     "data": {
      "text/plain": [
       "HHINCQ1     973831.0\n",
       "HHINCQ2     724576.0\n",
       "HHINCQ3     679340.0\n",
       "HHINCQ4    1117465.0\n",
       "dtype: float64"
      ]
     },
     "execution_count": 294,
     "metadata": {},
     "output_type": "execute_result"
    }
   ],
   "source": [
    "tazdata = pd.read_csv(\n",
    "    '/Users/aolsen/Box/Modeling and Surveys/Urban Modeling/Bay Area UrbanSim/PBA50/Final Blueprint runs/Final Blueprint (s24)/BAUS v2.25 - FINAL VERSION/run182_taz_summaries_2035.csv')\n",
    "\n",
    "tazdata.filter(regex='HIN').sum()"
   ]
  },
  {
   "cell_type": "code",
   "execution_count": 296,
   "id": "db5b3179",
   "metadata": {},
   "outputs": [
    {
     "data": {
      "text/html": [
       "<div>\n",
       "<style scoped>\n",
       "    .dataframe tbody tr th:only-of-type {\n",
       "        vertical-align: middle;\n",
       "    }\n",
       "\n",
       "    .dataframe tbody tr th {\n",
       "        vertical-align: top;\n",
       "    }\n",
       "\n",
       "    .dataframe thead th {\n",
       "        text-align: right;\n",
       "    }\n",
       "</style>\n",
       "<table border=\"1\" class=\"dataframe\">\n",
       "  <thead>\n",
       "    <tr style=\"text-align: right;\">\n",
       "      <th></th>\n",
       "      <th>hh_inc_30_control</th>\n",
       "      <th>hh_inc_30_60_control</th>\n",
       "      <th>hh_inc_60_100_control</th>\n",
       "      <th>hh_inc_100_plus_control</th>\n",
       "    </tr>\n",
       "  </thead>\n",
       "  <tbody>\n",
       "    <tr>\n",
       "      <th>0</th>\n",
       "      <td>22.0</td>\n",
       "      <td>10.0</td>\n",
       "      <td>3.0</td>\n",
       "      <td>13.0</td>\n",
       "    </tr>\n",
       "    <tr>\n",
       "      <th>1</th>\n",
       "      <td>63.0</td>\n",
       "      <td>32.0</td>\n",
       "      <td>15.0</td>\n",
       "      <td>29.0</td>\n",
       "    </tr>\n",
       "    <tr>\n",
       "      <th>2</th>\n",
       "      <td>133.0</td>\n",
       "      <td>74.0</td>\n",
       "      <td>25.0</td>\n",
       "      <td>50.0</td>\n",
       "    </tr>\n",
       "    <tr>\n",
       "      <th>3</th>\n",
       "      <td>93.0</td>\n",
       "      <td>51.0</td>\n",
       "      <td>22.0</td>\n",
       "      <td>43.0</td>\n",
       "    </tr>\n",
       "    <tr>\n",
       "      <th>4</th>\n",
       "      <td>329.0</td>\n",
       "      <td>141.0</td>\n",
       "      <td>75.0</td>\n",
       "      <td>118.0</td>\n",
       "    </tr>\n",
       "    <tr>\n",
       "      <th>...</th>\n",
       "      <td>...</td>\n",
       "      <td>...</td>\n",
       "      <td>...</td>\n",
       "      <td>...</td>\n",
       "    </tr>\n",
       "    <tr>\n",
       "      <th>1444</th>\n",
       "      <td>300.0</td>\n",
       "      <td>467.0</td>\n",
       "      <td>596.0</td>\n",
       "      <td>1383.0</td>\n",
       "    </tr>\n",
       "    <tr>\n",
       "      <th>1445</th>\n",
       "      <td>274.0</td>\n",
       "      <td>297.0</td>\n",
       "      <td>464.0</td>\n",
       "      <td>1025.0</td>\n",
       "    </tr>\n",
       "    <tr>\n",
       "      <th>1446</th>\n",
       "      <td>323.0</td>\n",
       "      <td>361.0</td>\n",
       "      <td>432.0</td>\n",
       "      <td>1097.0</td>\n",
       "    </tr>\n",
       "    <tr>\n",
       "      <th>1447</th>\n",
       "      <td>64.0</td>\n",
       "      <td>62.0</td>\n",
       "      <td>55.0</td>\n",
       "      <td>125.0</td>\n",
       "    </tr>\n",
       "    <tr>\n",
       "      <th>1448</th>\n",
       "      <td>289.0</td>\n",
       "      <td>430.0</td>\n",
       "      <td>357.0</td>\n",
       "      <td>600.0</td>\n",
       "    </tr>\n",
       "  </tbody>\n",
       "</table>\n",
       "<p>1449 rows × 4 columns</p>\n",
       "</div>"
      ],
      "text/plain": [
       "      hh_inc_30_control  hh_inc_30_60_control  hh_inc_60_100_control  \\\n",
       "0                  22.0                  10.0                    3.0   \n",
       "1                  63.0                  32.0                   15.0   \n",
       "2                 133.0                  74.0                   25.0   \n",
       "3                  93.0                  51.0                   22.0   \n",
       "4                 329.0                 141.0                   75.0   \n",
       "...                 ...                   ...                    ...   \n",
       "1444              300.0                 467.0                  596.0   \n",
       "1445              274.0                 297.0                  464.0   \n",
       "1446              323.0                 361.0                  432.0   \n",
       "1447               64.0                  62.0                   55.0   \n",
       "1448              289.0                 430.0                  357.0   \n",
       "\n",
       "      hh_inc_100_plus_control  \n",
       "0                        13.0  \n",
       "1                        29.0  \n",
       "2                        50.0  \n",
       "3                        43.0  \n",
       "4                       118.0  \n",
       "...                       ...  \n",
       "1444                   1383.0  \n",
       "1445                   1025.0  \n",
       "1446                   1097.0  \n",
       "1447                    125.0  \n",
       "1448                    600.0  \n",
       "\n",
       "[1449 rows x 4 columns]"
      ]
     },
     "execution_count": 296,
     "metadata": {},
     "output_type": "execute_result"
    }
   ],
   "source": [
    "targets = pd.read_csv(\n",
    "    '/Users/aolsen/Box/Modeling and Surveys/Urban Modeling/Bay Area UrbanSim/PBA50/Basemap/output_2035_PBA50PlusCrossing_20201125_run182/summary_TAZ.csv')\n",
    "targets.filter(regex='hh_inc.+control')"
   ]
  },
  {
   "cell_type": "markdown",
   "id": "d497ec20",
   "metadata": {},
   "source": [
    "## Check totals"
   ]
  },
  {
   "cell_type": "code",
   "execution_count": 276,
   "id": "336f244b",
   "metadata": {},
   "outputs": [
    {
     "data": {
      "text/plain": [
       "2321.0"
      ]
     },
     "execution_count": 276,
     "metadata": {},
     "output_type": "execute_result"
    }
   ],
   "source": [
    "# 2,321\n",
    "\n",
    "hh.shape[0] - targets.filter(regex='hh_inc.+con').sum().sum()"
   ]
  },
  {
   "cell_type": "markdown",
   "id": "45b39170",
   "metadata": {},
   "source": [
    "## Check income groups, targets vs synthetic file"
   ]
  },
  {
   "cell_type": "code",
   "execution_count": 277,
   "id": "6f78e5fd",
   "metadata": {},
   "outputs": [
    {
     "data": {
      "text/plain": [
       "hh_inc_60_100      634.0\n",
       "hh_inc_30_60       768.0\n",
       "hh_inc_30          261.0\n",
       "hh_inc_100_plus    335.0\n",
       "dtype: float64"
      ]
     },
     "execution_count": 277,
     "metadata": {},
     "output_type": "execute_result"
    }
   ],
   "source": [
    "# difference targets and household file, with income 2000 bins. Not zero, but rounding errors still.\n",
    "\n",
    "hh[\"HHINC_CAT\"].value_counts().sort_values()-targets.filter(regex='hh_inc.+control').rename(columns=lambda x: x.replace('_control','')).sum().sort_values()"
   ]
  },
  {
   "cell_type": "markdown",
   "id": "c0f5a80b",
   "metadata": {},
   "source": [
    "## Check size groups, targets vs synthetic file"
   ]
  },
  {
   "cell_type": "code",
   "execution_count": 292,
   "id": "b414b453",
   "metadata": {},
   "outputs": [
    {
     "data": {
      "text/plain": [
       "hh_size_1         3480.0\n",
       "hh_size_2         2481.0\n",
       "hh_size_3        -1141.0\n",
       "hh_size_4_plus   -2498.0\n",
       "dtype: float64"
      ]
     },
     "execution_count": 292,
     "metadata": {},
     "output_type": "execute_result"
    }
   ],
   "source": [
    "# use the tazdata file instead - the targets file blends group quarter pop into household size 1\n",
    "hh[\"HHSIZE_CAT\"].value_counts().sort_values() - tazdata.filter(regex='hh_si').sum()"
   ]
  },
  {
   "cell_type": "code",
   "execution_count": null,
   "id": "4df5f6c1",
   "metadata": {},
   "outputs": [],
   "source": []
  },
  {
   "cell_type": "code",
   "execution_count": null,
   "id": "2a63654b",
   "metadata": {},
   "outputs": [],
   "source": []
  }
 ],
 "metadata": {
  "kernelspec": {
   "display_name": "Python 3 (ipykernel)",
   "language": "python",
   "name": "python3"
  },
  "language_info": {
   "codemirror_mode": {
    "name": "ipython",
    "version": 3
   },
   "file_extension": ".py",
   "mimetype": "text/x-python",
   "name": "python",
   "nbconvert_exporter": "python",
   "pygments_lexer": "ipython3",
   "version": "3.10.8"
  },
  "toc": {
   "base_numbering": 1,
   "nav_menu": {},
   "number_sections": true,
   "sideBar": true,
   "skip_h1_title": false,
   "title_cell": "Table of Contents",
   "title_sidebar": "Contents",
   "toc_cell": false,
   "toc_position": {},
   "toc_section_display": true,
   "toc_window_display": true
  }
 },
 "nbformat": 4,
 "nbformat_minor": 5
}
