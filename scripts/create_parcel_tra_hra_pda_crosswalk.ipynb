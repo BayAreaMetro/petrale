{
 "cells": [
  {
   "cell_type": "markdown",
   "metadata": {},
   "source": [
    "Create a parcel-tra/hra/pda crosswalk that is consistent with Final Blueprint UrbanSim input. "
   ]
  },
  {
   "cell_type": "code",
   "execution_count": 1,
   "metadata": {},
   "outputs": [],
   "source": [
    "import pandas as pd\n",
    "import os"
   ]
  },
  {
   "cell_type": "code",
   "execution_count": 2,
   "metadata": {},
   "outputs": [
    {
     "name": "stdout",
     "output_type": "stream",
     "text": [
      "read 1956208 rows of data from C:\\Users\\ywang\\Box\\Modeling and Surveys\\Urban Modeling\\Bay Area UrbanSim\\PBA50\\Current PBA50 Large General Input Data\\2021_02_25_parcels_geography.csv\n"
     ]
    }
   ],
   "source": [
    "# read parcel data with tra_id, hra_id and pda_id\n",
    "parcel_file = 'C:\\\\Users\\\\{}\\\\Box\\\\Modeling and Surveys\\\\Urban Modeling\\\\Bay Area UrbanSim\\\\PBA50\\\\Current PBA50 Large General Input Data\\\\2021_02_25_parcels_geography.csv'.format(os.getenv('USERNAME'))\n",
    "df_p = pd.read_csv(parcel_file,\n",
    "                   usecols = ['PARCEL_ID', 'fbp_tra_id', 'fbp_sesit_id', 'pda_id_pba50_fb', 'juris'])\n",
    "print('read {} rows of data from {}'.format(df_p.shape[0], parcel_file))"
   ]
  },
  {
   "cell_type": "code",
   "execution_count": 3,
   "metadata": {},
   "outputs": [
    {
     "name": "stdout",
     "output_type": "stream",
     "text": [
      "read 1956208 rows of data from M:\\Data\\GIS layers\\Blueprint Land Use Strategies\\ID_idx\\Final Blueprint\\2020_09_17_p10_pda_idx.csv\n"
     ]
    }
   ],
   "source": [
    "# read parcel data with pda names\n",
    "pda_name_file = 'M:\\\\Data\\\\GIS layers\\\\Blueprint Land Use Strategies\\\\ID_idx\\\\Final Blueprint\\\\2020_09_17_p10_pda_idx.csv'\n",
    "df_pda = pd.read_csv(pda_name_file,\n",
    "                     usecols = ['PARCEL_ID', 'pda_name'])\n",
    "print('read {} rows of data from {}'.format(df_pda.shape[0], pda_name_file))"
   ]
  },
  {
   "cell_type": "code",
   "execution_count": 4,
   "metadata": {},
   "outputs": [],
   "source": [
    "# merge\n",
    "df = df_p.merge(df_pda, on='PARCEL_ID', how='inner')"
   ]
  },
  {
   "cell_type": "code",
   "execution_count": 5,
   "metadata": {},
   "outputs": [
    {
     "name": "stdout",
     "output_type": "stream",
     "text": [
      "tra3     512800\n",
      "tra2c    127874\n",
      "tra2a     47445\n",
      "tra1      40522\n",
      "tra2b     37889\n",
      "Name: fbp_tra_id, dtype: int64\n",
      "DIS       580875\n",
      "HRA       435620\n",
      "HRADIS    407566\n",
      "Name: fbp_sesit_id, dtype: int64\n"
     ]
    }
   ],
   "source": [
    "# benchmark\n",
    "print(df.fbp_tra_id.value_counts())\n",
    "print(df.fbp_sesit_id.value_counts())"
   ]
  },
  {
   "cell_type": "code",
   "execution_count": 6,
   "metadata": {},
   "outputs": [],
   "source": [
    "# configure the tra_id field\n",
    "df.loc[df.fbp_tra_id.isnull(), 'fbp_tra_id'] = 'non-tra'\n",
    "\n",
    "# create an tra_cat_id field\n",
    "df['fbp_tra_cat_id'] = df['fbp_tra_id']\n",
    "df.loc[df.fbp_tra_id.isin(['tra2a', 'tra2b', 'tra2c']), 'fbp_tra_cat_id'] = 'tra2'\n",
    "\n",
    "# create an hra_id field\n",
    "df['fbp_hra_id'] = 'non-HRA'\n",
    "df.loc[(df.fbp_sesit_id == 'HRADIS') | (df.fbp_sesit_id == 'HRA'), 'fbp_hra_id'] = 'HRA'"
   ]
  },
  {
   "cell_type": "code",
   "execution_count": 7,
   "metadata": {},
   "outputs": [
    {
     "name": "stdout",
     "output_type": "stream",
     "text": [
      "non-tra    1189678\n",
      "tra3        512800\n",
      "tra2c       127874\n",
      "tra2a        47445\n",
      "tra1         40522\n",
      "tra2b        37889\n",
      "Name: fbp_tra_id, dtype: int64\n",
      "non-tra    1189678\n",
      "tra3        512800\n",
      "tra2        213208\n",
      "tra1         40522\n",
      "Name: fbp_tra_cat_id, dtype: int64\n",
      "non-HRA    1113022\n",
      "HRA         843186\n",
      "Name: fbp_hra_id, dtype: int64\n"
     ]
    }
   ],
   "source": [
    "# verify\n",
    "print(df.fbp_tra_id.value_counts())\n",
    "print(df.fbp_tra_cat_id.value_counts())\n",
    "print(df.fbp_hra_id.value_counts())"
   ]
  },
  {
   "cell_type": "code",
   "execution_count": 8,
   "metadata": {},
   "outputs": [],
   "source": [
    "# remove extra field\n",
    "df.drop('fbp_sesit_id', axis=1, inplace=True)"
   ]
  },
  {
   "cell_type": "code",
   "execution_count": 9,
   "metadata": {},
   "outputs": [
    {
     "data": {
      "text/html": [
       "<div>\n",
       "<style scoped>\n",
       "    .dataframe tbody tr th:only-of-type {\n",
       "        vertical-align: middle;\n",
       "    }\n",
       "\n",
       "    .dataframe tbody tr th {\n",
       "        vertical-align: top;\n",
       "    }\n",
       "\n",
       "    .dataframe thead th {\n",
       "        text-align: right;\n",
       "    }\n",
       "</style>\n",
       "<table border=\"1\" class=\"dataframe\">\n",
       "  <thead>\n",
       "    <tr style=\"text-align: right;\">\n",
       "      <th></th>\n",
       "      <th>PARCEL_ID</th>\n",
       "      <th>fbp_tra_id</th>\n",
       "      <th>fbp_tra_cat_id</th>\n",
       "      <th>fbp_hra_id</th>\n",
       "      <th>juris</th>\n",
       "    </tr>\n",
       "  </thead>\n",
       "  <tbody>\n",
       "    <tr>\n",
       "      <th>0</th>\n",
       "      <td>2054504</td>\n",
       "      <td>non-tra</td>\n",
       "      <td>non-tra</td>\n",
       "      <td>non-HRA</td>\n",
       "      <td>unincorporated_marin</td>\n",
       "    </tr>\n",
       "    <tr>\n",
       "      <th>1</th>\n",
       "      <td>2054505</td>\n",
       "      <td>non-tra</td>\n",
       "      <td>non-tra</td>\n",
       "      <td>non-HRA</td>\n",
       "      <td>unincorporated_santa_clara</td>\n",
       "    </tr>\n",
       "    <tr>\n",
       "      <th>2</th>\n",
       "      <td>2054506</td>\n",
       "      <td>non-tra</td>\n",
       "      <td>non-tra</td>\n",
       "      <td>non-HRA</td>\n",
       "      <td>unincorporated_marin</td>\n",
       "    </tr>\n",
       "    <tr>\n",
       "      <th>3</th>\n",
       "      <td>572927</td>\n",
       "      <td>non-tra</td>\n",
       "      <td>non-tra</td>\n",
       "      <td>non-HRA</td>\n",
       "      <td>unincorporated_contra_costa</td>\n",
       "    </tr>\n",
       "  </tbody>\n",
       "</table>\n",
       "</div>"
      ],
      "text/plain": [
       "   PARCEL_ID fbp_tra_id fbp_tra_cat_id fbp_hra_id                        juris\n",
       "0    2054504    non-tra        non-tra    non-HRA         unincorporated_marin\n",
       "1    2054505    non-tra        non-tra    non-HRA   unincorporated_santa_clara\n",
       "2    2054506    non-tra        non-tra    non-HRA         unincorporated_marin\n",
       "3     572927    non-tra        non-tra    non-HRA  unincorporated_contra_costa"
      ]
     },
     "metadata": {},
     "output_type": "display_data"
    }
   ],
   "source": [
    "# add synthetic parcels with job/hh\n",
    "\n",
    "syn_parcels = {'PARCEL_ID':      [2054504, 2054505, 2054506, 572927],\n",
    "               'fbp_tra_id':     ['non-tra', 'non-tra', 'non-tra', 'non-tra'],\n",
    "               'fbp_tra_cat_id': ['non-tra', 'non-tra', 'non-tra', 'non-tra'],\n",
    "               'fbp_hra_id':     ['non-HRA', 'non-HRA', 'non-HRA', 'non-HRA'],\n",
    "               'juris':          ['unincorporated_marin', 'unincorporated_santa_clara', 'unincorporated_marin', 'unincorporated_contra_costa']}\n",
    "syn_df = pd.DataFrame(data=syn_parcels)\n",
    "display(syn_df)\n",
    "\n",
    "df = pd.concat([df, syn_df])"
   ]
  },
  {
   "cell_type": "code",
   "execution_count": 10,
   "metadata": {},
   "outputs": [
    {
     "name": "stdout",
     "output_type": "stream",
     "text": [
      "PARCEL_ID           int64\n",
      "juris              object\n",
      "pda_id_pba50_fb    object\n",
      "fbp_tra_id         object\n",
      "pda_name           object\n",
      "fbp_tra_cat_id     object\n",
      "fbp_hra_id         object\n",
      "dtype: object\n",
      "export 1956212 rows of data to M:\\Data\\GIS layers\\Blueprint Land Use Strategies\\ID_idx\\Final Blueprint\\parcel_tra_hra_pda_fbp_20210816.csv\n"
     ]
    }
   ],
   "source": [
    "# save to M\n",
    "print(df.dtypes)\n",
    "output_file = 'M:\\\\Data\\\\GIS layers\\\\Blueprint Land Use Strategies\\\\ID_idx\\\\Final Blueprint\\\\parcel_tra_hra_pda_fbp_20210816.csv'\n",
    "print('export {} rows of data to {}'.format(df.shape[0], output_file))\n",
    "df[['PARCEL_ID', 'juris', 'fbp_tra_id', 'fbp_tra_cat_id', 'fbp_hra_id', 'pda_id_pba50_fb', 'pda_name']].to_csv(output_file, index=False)"
   ]
  }
 ],
 "metadata": {
  "kernelspec": {
   "display_name": "Python 3",
   "language": "python",
   "name": "python3"
  },
  "language_info": {
   "codemirror_mode": {
    "name": "ipython",
    "version": 3
   },
   "file_extension": ".py",
   "mimetype": "text/x-python",
   "name": "python",
   "nbconvert_exporter": "python",
   "pygments_lexer": "ipython3",
   "version": "3.7.4"
  }
 },
 "nbformat": 4,
 "nbformat_minor": 5
}
