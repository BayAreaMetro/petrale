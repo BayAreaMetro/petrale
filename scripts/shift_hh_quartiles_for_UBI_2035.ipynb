{
 "cells": [
  {
   "cell_type": "code",
   "execution_count": 1,
   "metadata": {},
   "outputs": [],
   "source": [
    "import pandas as pd\n",
    "import numpy as np"
   ]
  },
  {
   "cell_type": "markdown",
   "metadata": {},
   "source": [
    "#### Parcel File"
   ]
  },
  {
   "cell_type": "code",
   "execution_count": 2,
   "metadata": {},
   "outputs": [],
   "source": [
    "parcel_data_path = \"C:/Users/etheocharides/Box/Modeling and Surveys/Urban Modeling/Bay Area UrbanSim/PBA50/Final Blueprint runs/Final Blueprint (s24)/BAUS v2.25 - FINAL VERSION/\"\n",
    "parcel_data_file = \"run182_parcel_data_2035.csv\"\n",
    "parcel_data = pd.read_csv(parcel_data_path+parcel_data_file)"
   ]
  },
  {
   "cell_type": "code",
   "execution_count": 3,
   "metadata": {},
   "outputs": [
    {
     "name": "stdout",
     "output_type": "stream",
     "text": [
      "number of q1 households is 973831.0\n",
      "number of q2 households is 724576.0\n"
     ]
    }
   ],
   "source": [
    "print(\"number of q1 households is {}\".format(parcel_data.hhq1.sum()))\n",
    "print(\"number of q2 households is {}\".format(parcel_data.hhq2.sum()))"
   ]
  },
  {
   "cell_type": "code",
   "execution_count": 4,
   "metadata": {},
   "outputs": [],
   "source": [
    "num_hh_to_move = 112964"
   ]
  },
  {
   "cell_type": "code",
   "execution_count": 5,
   "metadata": {},
   "outputs": [],
   "source": [
    "# randomly select a set of parcels\n",
    "ids_to_move = np.random.choice(parcel_data.loc[parcel_data.hhq1 > 0].parcel_id, num_hh_to_move, replace=False)LOCKED"
   ]
  },
  {
   "cell_type": "code",
   "execution_count": 6,
   "metadata": {},
   "outputs": [],
   "source": [
    "# make Q1 HHs Q2 HHs \n",
    "parcel_data.loc[parcel_data.parcel_id.isin(ids_to_move), \"hhq1\"] = parcel_data.hhq1 - 1\n",
    "parcel_data.loc[parcel_data.parcel_id.isin(ids_to_move), \"hhq2\"] = parcel_data.hhq2.fillna(0) + 1"
   ]
  },
  {
   "cell_type": "code",
   "execution_count": 7,
   "metadata": {},
   "outputs": [
    {
     "name": "stdout",
     "output_type": "stream",
     "text": [
      "number of q1 households is 860867.0\n",
      "number of q2 households is 837540.0\n"
     ]
    }
   ],
   "source": [
    "print(\"number of q1 households is {}\".format(parcel_data.hhq1.sum()))\n",
    "print(\"number of q2 households is {}\".format(parcel_data.hhq2.sum()))"
   ]
  },
  {
   "cell_type": "code",
   "execution_count": 8,
   "metadata": {},
   "outputs": [],
   "source": [
    "# save a copy of the data in the output folder, manually make it the master file as needed\n",
    "# don't want to risk overwriting the master file (run182_parcel_data_2035_UBI.csv)\n",
    "new_parcel_data_file = \"run182_parcel_data_2035_UBI_output.csv\"\n",
    "parcel_data.to_csv(parcel_data_path+new_parcel_data_file)"
   ]
  },
  {
   "cell_type": "markdown",
   "metadata": {},
   "source": [
    "#### TAZ File"
   ]
  },
  {
   "cell_type": "code",
   "execution_count": 9,
   "metadata": {},
   "outputs": [],
   "source": [
    "taz_data_path = \"C:/Users/etheocharides/Box/Modeling and Surveys/Urban Modeling/Bay Area UrbanSim/PBA50/Final Blueprint runs/Final Blueprint (s24)/BAUS v2.25 - FINAL VERSION/\"\n",
    "taz_data_file = \"run182_taz_summaries_2035.csv\"\n",
    "taz_data = pd.read_csv(taz_data_path+taz_data_file)"
   ]
  },
  {
   "cell_type": "code",
   "execution_count": 10,
   "metadata": {},
   "outputs": [
    {
     "name": "stdout",
     "output_type": "stream",
     "text": [
      "number of q1 households is 973831.0\n",
      "number of q2 households is 724576.0\n"
     ]
    }
   ],
   "source": [
    "print(\"number of q1 households is {}\".format(taz_data.HHINCQ1.sum()))\n",
    "print(\"number of q2 households is {}\".format(taz_data.HHINCQ2.sum()))"
   ]
  },
  {
   "cell_type": "code",
   "execution_count": 11,
   "metadata": {},
   "outputs": [],
   "source": [
    "parcel_taz_xwalk_path = \"D:/w/bayarea_urbansim/data/2018_10_17_parcel_to_taz1454sub.csv\"\n",
    "parcel_taz_xwalk = pd.read_csv(parcel_taz_xwalk_path)\n",
    "parcel_taz_xwalk.index = parcel_taz_xwalk.PARCEL_ID.round().astype(int)"
   ]
  },
  {
   "cell_type": "code",
   "execution_count": 12,
   "metadata": {},
   "outputs": [],
   "source": [
    "# randomly selected set of parcels\n",
    "ids_to_move_df = pd.DataFrame((ids_to_move), columns=['ids']) "
   ]
  },
  {
   "cell_type": "code",
   "execution_count": 13,
   "metadata": {},
   "outputs": [],
   "source": [
    "# add TAZ IDs to the random set of parcels\n",
    "ids_to_move_df['TAZ'] = 0\n",
    "ids_to_move_df['TAZ'] = ids_to_move_df.ids.map(parcel_taz_xwalk['ZONE_ID'])"
   ]
  },
  {
   "cell_type": "code",
   "execution_count": 14,
   "metadata": {},
   "outputs": [],
   "source": [
    "# group the random set of parcels by TAZ\n",
    "ids_to_move_df['id_count'] = 1\n",
    "ids_by_taz = ids_to_move_df.groupby(['TAZ']).sum().drop(['ids'], 1)"
   ]
  },
  {
   "cell_type": "code",
   "execution_count": 15,
   "metadata": {},
   "outputs": [],
   "source": [
    "# make Q1 HHs Q2 HHs in these TAZs\n",
    "for i in ids_by_taz.index:\n",
    "    count = ids_by_taz.id_count[i]\n",
    "    taz_data.loc[taz_data.TAZ == i, 'HHINCQ1'] = taz_data.loc[taz_data.TAZ == i].HHINCQ1 - count\n",
    "    taz_data.loc[taz_data.TAZ == i, 'HHINCQ2'] = taz_data.loc[taz_data.TAZ == i].HHINCQ2 + count"
   ]
  },
  {
   "cell_type": "code",
   "execution_count": 16,
   "metadata": {},
   "outputs": [
    {
     "name": "stdout",
     "output_type": "stream",
     "text": [
      "number of q1 households is 860867.0\n",
      "number of q2 households is 837540.0\n"
     ]
    }
   ],
   "source": [
    "print(\"number of q1 households is {}\".format(taz_data.HHINCQ1.sum()))\n",
    "print(\"number of q2 households is {}\".format(taz_data.HHINCQ2.sum()))"
   ]
  },
  {
   "cell_type": "code",
   "execution_count": 17,
   "metadata": {},
   "outputs": [],
   "source": [
    "# save a copy of the data in the output folder, manually make it the master file as needed\n",
    "# don't want to risk overwriting the master file (run182_taz_summaries_2035_UBI.csv)\n",
    "new_taz_data_file = \"run182_taz_summaries_2035_UBI_output.csv\"\n",
    "taz_data.to_csv(taz_data_path+new_taz_data_file)"
   ]
  },
  {
   "cell_type": "markdown",
   "metadata": {},
   "source": [
    "#### Superdistrict File"
   ]
  },
  {
   "cell_type": "code",
   "execution_count": 18,
   "metadata": {},
   "outputs": [],
   "source": [
    "sd_data_path = \"C:/Users/etheocharides/Box/Modeling and Surveys/Urban Modeling/Bay Area UrbanSim/PBA50/Final Blueprint runs/Final Blueprint (s24)/BAUS v2.25 - FINAL VERSION/\"\n",
    "sd_data_file = \"run182_superdistrict_summaries_2035.csv\"\n",
    "sd_data = pd.read_csv(sd_data_path+sd_data_file)"
   ]
  },
  {
   "cell_type": "code",
   "execution_count": 19,
   "metadata": {},
   "outputs": [
    {
     "name": "stdout",
     "output_type": "stream",
     "text": [
      "number of q1 households is 973831\n",
      "number of q2 households is 724576\n"
     ]
    }
   ],
   "source": [
    "print(\"number of q1 households is {}\".format(sd_data.hhincq1.sum()))\n",
    "print(\"number of q2 households is {}\".format(sd_data.hhincq2.sum()))"
   ]
  },
  {
   "cell_type": "code",
   "execution_count": 20,
   "metadata": {},
   "outputs": [],
   "source": [
    "taz_sd_xwalk = taz_data[['TAZ', 'SD']].set_index('TAZ')"
   ]
  },
  {
   "cell_type": "code",
   "execution_count": 21,
   "metadata": {},
   "outputs": [],
   "source": [
    "# add superdistrict IDs to the random set of parcels\n",
    "ids_to_move_df['SD'] = 0\n",
    "ids_to_move_df['SD'] = ids_to_move_df.TAZ.map(taz_sd_xwalk['SD'])"
   ]
  },
  {
   "cell_type": "code",
   "execution_count": 22,
   "metadata": {},
   "outputs": [],
   "source": [
    "# group the random set of parcels by superdistrict\n",
    "ids_by_sd = ids_to_move_df.groupby(['SD']).sum().drop(['ids'], 1)"
   ]
  },
  {
   "cell_type": "code",
   "execution_count": 23,
   "metadata": {},
   "outputs": [],
   "source": [
    "# make Q1 HHs Q2 HHs in these superdistricts\n",
    "for i in ids_by_sd.index:\n",
    "    count = ids_by_sd.id_count[i]\n",
    "    sd_data.loc[sd_data.superdistrict == i, 'hhincq1'] = sd_data.loc[sd_data.superdistrict == i].hhincq1 - count\n",
    "    sd_data.loc[sd_data.superdistrict == i, 'hhincq2'] = sd_data.loc[sd_data.superdistrict == i].hhincq2 + count"
   ]
  },
  {
   "cell_type": "code",
   "execution_count": 24,
   "metadata": {},
   "outputs": [
    {
     "name": "stdout",
     "output_type": "stream",
     "text": [
      "number of q1 households is 860867\n",
      "number of q2 households is 837540\n"
     ]
    }
   ],
   "source": [
    "print(\"number of q1 households is {}\".format(sd_data.hhincq1.sum()))\n",
    "print(\"number of q2 households is {}\".format(sd_data.hhincq2.sum()))"
   ]
  },
  {
   "cell_type": "code",
   "execution_count": 25,
   "metadata": {},
   "outputs": [],
   "source": [
    "# save a copy of the data in the output folder, manually make it the master file as needed\n",
    "# don't want to risk overwriting the master file (run182_superdistrict_summaries_2035_UBI.csv)\n",
    "new_sd_data_file = \"run182_superdistrict_summaries_2035_UBI_output.csv\"\n",
    "sd_data.to_csv(sd_data_path+new_sd_data_file)"
   ]
  }
 ],
 "metadata": {
  "kernelspec": {
   "display_name": "Python 3",
   "language": "python",
   "name": "python3"
  },
  "language_info": {
   "codemirror_mode": {
    "name": "ipython",
    "version": 3
   },
   "file_extension": ".py",
   "mimetype": "text/x-python",
   "name": "python",
   "nbconvert_exporter": "python",
   "pygments_lexer": "ipython3",
   "version": "3.6.9"
  }
 },
 "nbformat": 4,
 "nbformat_minor": 2
}
