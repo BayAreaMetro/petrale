{
 "cells": [
  {
   "cell_type": "code",
   "execution_count": 1,
   "metadata": {},
   "outputs": [],
   "source": [
    "import glob, os\n",
    "import pandas as pd"
   ]
  },
  {
   "cell_type": "code",
   "execution_count": 2,
   "metadata": {},
   "outputs": [],
   "source": [
    "# set up file directory and run_id\n",
    "\n",
    "run_dir = 'C:\\\\Users\\\\ywang\\\\Box\\\\Modeling and Surveys\\\\Urban Modeling\\\\Bay Area UrbanSim\\\\PBA50\\\\Final Blueprint runs\\\\Final Blueprint (s24)\\\\BAUS v2.2'\n",
    "\n",
    "os.chdir(run_dir)"
   ]
  },
  {
   "cell_type": "code",
   "execution_count": 3,
   "metadata": {},
   "outputs": [],
   "source": [
    "# summarize office lump sum acctlog\n",
    "\n",
    "all_data = pd.DataFrame(columns = ['amount','year','non_residential_sqft', \n",
    "                                   'juris', 'tra_id', 'parcel_id', 'description'])\n",
    "non_residential_sqft = 0\n",
    "\n",
    "for file in list(glob.glob('*.csv')):\n",
    "    if 'Office Subsidy Bond_2050.csv' in file:\n",
    "        df = pd.read_csv(file,\n",
    "                         usecols = ['amount','year','non_residential_sqft', \n",
    "                                    'juris', 'tra_id', 'parcel_id', 'description'])\n",
    "        print(df.juris[1])\n",
    "        display(df.head())\n",
    "\n",
    "        if 'non_residential_sqft' in df.columns:\n",
    "            sqft = df.non_residential_sqft.sum()\n",
    "            print('Office sqft: {:,}'.format(int(non_residential_sqft)))\n",
    "            non_residential_sqft += sqft\n",
    "\n",
    "            print('Subsidized office sqft by tra type:\\n{}'.format(\n",
    "                df.groupby(['tra_id']).non_residential_sqft.sum()))\n",
    "\n",
    "            fee_used = (df.loc[df.amount < 0].amount.sum()) * -1\n",
    "            print('Amount of funding used: {}'.format(fee_used))\n",
    "            fee_left = df.amount.sum()\n",
    "            print('Amount of funding left: {}'.format(fee_left))\n",
    "\n",
    "            first = df.loc[df.non_residential_sqft > 0].year.min()\n",
    "            print('First round a building is subsidized: {}'.format(first))\n",
    "            print('Office sqft built by year: \\n{}\\n'.format(\n",
    "                  df.loc[df.non_residential_sqft > 0].groupby(['year'])['non_residential_sqft'].sum()))\n",
    "\n",
    "            all_data = pd.concat([all_data, df])\n",
    "        \n",
    "        else:\n",
    "            print('No subsidized office development.')\n",
    "            fee_left = df.amount.sum()\n",
    "            print('Amount of funding left: {} \\n'.format(fee_left))\n",
    "            all_data = pd.concat([all_data, df])\n",
    "\n",
    "print('Total office sqft created by subsidy: {:,}'.format(int(non_residential_sqft)))\n",
    "print('Total subsidized office sqft by tra type:\\n{}'.format(\n",
    "        all_data.groupby(['tra_id']).non_residential_sqft.sum()))"
   ]
  },
  {
   "cell_type": "code",
   "execution_count": 4,
   "metadata": {},
   "outputs": [],
   "source": [
    "# export the aggregated data if needed\n",
    "\n",
    "all_data.drop(columns = ['Unnamed: 0'], inplace = True)\n",
    "all_data.to_csv('office_lump_sum_acct_summary.csv', index=False)"
   ]
  }
 ],
 "metadata": {
  "kernelspec": {
   "display_name": "Python 3",
   "language": "python",
   "name": "python3"
  },
  "language_info": {
   "codemirror_mode": {
    "name": "ipython",
    "version": 3
   },
   "file_extension": ".py",
   "mimetype": "text/x-python",
   "name": "python",
   "nbconvert_exporter": "python",
   "pygments_lexer": "ipython3",
   "version": "3.7.6"
  }
 },
 "nbformat": 4,
 "nbformat_minor": 4
}
