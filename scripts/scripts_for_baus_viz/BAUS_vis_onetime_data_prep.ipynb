{
 "cells": [
  {
   "cell_type": "code",
   "execution_count": 1,
   "id": "4c83b4f7",
   "metadata": {},
   "outputs": [],
   "source": [
    "import pandas as pd\n",
    "import numpy as np\n",
    "import geopandas as gpd\n",
    "import os, glob"
   ]
  },
  {
   "cell_type": "markdown",
   "id": "1aa8c8c3",
   "metadata": {},
   "source": [
    "### I/O"
   ]
  },
  {
   "cell_type": "code",
   "execution_count": 2,
   "id": "6e142e64",
   "metadata": {},
   "outputs": [],
   "source": [
    "# raw data from model runs\n",
    "runs_dir = 'M:/Data/Urban/BAUS/visualization_design/data/data_raw_runs'\n",
    "run182 = os.path.join(runs_dir, 'run182')\n",
    "run262 = os.path.join(runs_dir, 'run262')\n",
    "run314 = os.path.join(runs_dir, 'run314')\n",
    "run374 = os.path.join(runs_dir, 'run374')\n",
    "run5 = os.path.join(runs_dir, 'run5')\n",
    "\n",
    "# data ready for visualization\n",
    "viz_dir = 'M:/Data/Urban/BAUS/visualization_design/data/data_viz_ready'\n",
    "viz_csv_dir = os.path.join(viz_dir, 'csv')\n",
    "viz_spatial_dir = os.path.join(viz_dir, 'spatial')\n",
    "viz_crosswalks_dir = os.path.join(viz_dir, 'crosswalks')\n",
    "\n",
    "# viz_182 = os.path.join(viz_dir, 'run182')\n",
    "# viz_268 = os.path.join(viz_dir, 'run268')\n",
    "# viz_314 = os.path.join(viz_dir, 'run314')\n",
    "# viz_374 = os.path.join(viz_dir, 'run374')"
   ]
  },
  {
   "cell_type": "markdown",
   "id": "f55a79d4",
   "metadata": {},
   "source": [
    "### create growth geography spatial files"
   ]
  },
  {
   "cell_type": "code",
   "execution_count": 3,
   "id": "befc441d",
   "metadata": {
    "scrolled": true
   },
   "outputs": [],
   "source": [
    "# parcels_geography file\n",
    "raw_df = pd.read_csv(\n",
    "    os.path.join(runs_dir, 'old_inputs', '2021_02_25_parcels_geography.csv'),\n",
    "    usecols = ['PARCEL_ID', 'juris', \n",
    "               'fbp_gg_id', 'pda_id_pba50_fb', 'fbp_tra_id', 'fbp_sesit_id', 'fbp_ppa_id',\n",
    "               'fbp_exp2020_id', 'fbp_exsfd_id', 'fbpzoningmodcat', 'fbpchcat',\n",
    "               'eir_gg_id', 'eir_tra_id', 'eir_sesit_id', 'eir_coc_id', 'eir_ppa_id',\n",
    "               'eir_exp2020_id', 'eirzoningmodcat'])\n",
    "\n",
    "# juris-county crosswalk\n",
    "juris_county_df = pd.read_csv(\n",
    "    os.path.join(viz_dir, 'crosswalks', 'juris_county_id.csv'),\n",
    "    usecols = ['juris_name_full', 'county_name', 'baus_output_juris_name', 'shapefile_juris_name'])\n",
    "juris_county_df.rename(columns={'juris_name_full': 'juris'}, inplace=True)\n",
    "\n",
    "# parcel spatial file\n",
    "p10_geo_file = os.path.join(r'M:\\Data\\GIS layers\\UrbanSim smelt\\p10_EIR\\p10_parcels.shp')\n",
    "p10_geo = gpd.read_file(p10_geo_file)\n",
    "p10_geo = p10_geo[['PARCEL_ID', 'geometry']]\n",
    "p10_geo['PARCEL_ID'] = p10_geo['PARCEL_ID'].apply(lambda x: int(round(x)))"
   ]
  },
  {
   "cell_type": "code",
   "execution_count": 4,
   "id": "bfdfcf56",
   "metadata": {},
   "outputs": [],
   "source": [
    "for i in ['juris', \n",
    "               'fbp_gg_id', 'pda_id_pba50_fb', 'fbp_tra_id', 'fbp_sesit_id', 'fbp_ppa_id',\n",
    "               'fbp_exp2020_id', 'fbp_exsfd_id', 'fbpzoningmodcat', 'fbpchcat',\n",
    "               'eir_gg_id', 'eir_tra_id', 'eir_sesit_id', 'eir_coc_id', 'eir_ppa_id',\n",
    "               'eir_exp2020_id', 'eirzoningmodcat']:\n",
    "    raw_df[i].fillna('NA', inplace=True)"
   ]
  },
  {
   "cell_type": "code",
   "execution_count": 5,
   "id": "a04f6087",
   "metadata": {},
   "outputs": [],
   "source": [
    "# attach county name\n",
    "p10_df = raw_df.merge(juris_county_df, on='juris', how='left')\n",
    "\n",
    "# add geometry to parcels\n",
    "p10_geographies = pd.merge(\n",
    "    p10_geo[['PARCEL_ID', 'geometry']],\n",
    "    p10_df,\n",
    "    on='PARCEL_ID', how='left')"
   ]
  },
  {
   "cell_type": "code",
   "execution_count": 6,
   "id": "c333c3c2",
   "metadata": {},
   "outputs": [
    {
     "name": "stdout",
     "output_type": "stream",
     "text": [
      "['PARCEL_ID', 'geometry', 'juris', 'fbp_gg_id', 'pda_id_pba50_fb', 'fbp_tra_id', 'fbp_sesit_id', 'fbp_ppa_id', 'fbp_exp2020_id', 'fbp_exsfd_id', 'fbpzoningmodcat', 'fbpchcat', 'eir_gg_id', 'eir_tra_id', 'eir_sesit_id', 'eir_coc_id', 'eir_ppa_id', 'eir_exp2020_id', 'eirzoningmodcat', 'county_name', 'baus_output_juris_name', 'shapefile_juris_name']\n"
     ]
    }
   ],
   "source": [
    "print(list(p10_geographies))"
   ]
  },
  {
   "cell_type": "markdown",
   "id": "a30f6b4c",
   "metadata": {},
   "source": [
    "#### zoningmodcat spatial file"
   ]
  },
  {
   "cell_type": "code",
   "execution_count": 7,
   "id": "83715516",
   "metadata": {
    "scrolled": true
   },
   "outputs": [
    {
     "name": "stdout",
     "output_type": "stream",
     "text": [
      "CPU times: total: 6min 51s\n",
      "Wall time: 6min 51s\n"
     ]
    }
   ],
   "source": [
    "%%time\n",
    "# scenario 24, 25: zoning policy based on \"fbpzoningmodcat\"\n",
    "p10_fbpzoningmodcat = p10_geographies[[\n",
    "    'PARCEL_ID', 'geometry', 'juris', 'county_name', 'fbpzoningmodcat']]\n",
    "\n",
    "fbpzoningmodcat_gdf = p10_fbpzoningmodcat.dissolve(by='fbpzoningmodcat')\n",
    "\n",
    "fbpzoningmodcat_gdf = fbpzoningmodcat_gdf.reset_index()[['fbpzoningmodcat', 'geometry']]\n",
    "fbpzoningmodcat_gdf.columns = ['fbpzmodscat', 'geometry']"
   ]
  },
  {
   "cell_type": "code",
   "execution_count": 8,
   "id": "3a807cd3",
   "metadata": {},
   "outputs": [
    {
     "data": {
      "text/plain": [
       "array(['alamedaGGNADISNAinNA', 'alamedaGGNADISNAinsfd',\n",
       "       'alamedaGGNAHRADISNAinNA', ..., 'yountvilleNANAHRADISNAinNA',\n",
       "       'yountvilleNANAHRADISNAinsfd', 'yountvilleNANAHRADISNAoutNA'],\n",
       "      dtype=object)"
      ]
     },
     "execution_count": 8,
     "metadata": {},
     "output_type": "execute_result"
    }
   ],
   "source": [
    "fbpzoningmodcat_gdf.fbpzmodscat.unique()"
   ]
  },
  {
   "cell_type": "code",
   "execution_count": 9,
   "id": "9a742fea",
   "metadata": {},
   "outputs": [
    {
     "data": {
      "text/plain": [
       "2970"
      ]
     },
     "execution_count": 9,
     "metadata": {},
     "output_type": "execute_result"
    }
   ],
   "source": [
    "fbpzoningmodcat_gdf.shape[0]"
   ]
  },
  {
   "cell_type": "code",
   "execution_count": 10,
   "id": "660c64b7",
   "metadata": {},
   "outputs": [
    {
     "data": {
      "text/plain": [
       "2970"
      ]
     },
     "execution_count": 10,
     "metadata": {},
     "output_type": "execute_result"
    }
   ],
   "source": [
    "fbpzoningmodcat_gdf.fbpzmodscat.nunique()"
   ]
  },
  {
   "cell_type": "code",
   "execution_count": 11,
   "id": "998f4dc5",
   "metadata": {},
   "outputs": [
    {
     "name": "stderr",
     "output_type": "stream",
     "text": [
      "C:\\Users\\mtcpb\\AppData\\Local\\Temp\\2\\ipykernel_13632\\3937058702.py:1: UserWarning: Column names longer than 10 characters will be truncated when saved to ESRI Shapefile.\n",
      "  fbpzoningmodcat_gdf.to_file(os.path.join(viz_spatial_dir, 'fbpzoningmodcat_gdf.shp'))\n"
     ]
    }
   ],
   "source": [
    "fbpzoningmodcat_gdf.to_file(os.path.join(viz_spatial_dir, 'fbpzoningmodcat_gdf.shp'))"
   ]
  },
  {
   "cell_type": "code",
   "execution_count": 12,
   "id": "4456bb00",
   "metadata": {},
   "outputs": [
    {
     "name": "stdout",
     "output_type": "stream",
     "text": [
      "CPU times: total: 6min 3s\n",
      "Wall time: 6min 3s\n"
     ]
    }
   ],
   "source": [
    "%%time\n",
    "# scenario 28: zoning policy based on \"eirzoningmodcat\"\n",
    "p10_eirzoningmodcat = p10_geographies[[\n",
    "    'PARCEL_ID', 'geometry', 'juris', 'county_name', 'eirzoningmodcat']]\n",
    "\n",
    "eirzoningmodcat_gdf = p10_eirzoningmodcat.dissolve(by='eirzoningmodcat')\n",
    "eirzoningmodcat_gdf = eirzoningmodcat_gdf.reset_index()[['eirzoningmodcat', 'geometry']]\n",
    "eirzoningmodcat_gdf.columns = ['eirzmodscat', 'geometry']"
   ]
  },
  {
   "cell_type": "code",
   "execution_count": 13,
   "id": "2aae3778",
   "metadata": {},
   "outputs": [
    {
     "data": {
      "text/plain": [
       "3535"
      ]
     },
     "execution_count": 13,
     "metadata": {},
     "output_type": "execute_result"
    }
   ],
   "source": [
    "eirzoningmodcat_gdf.shape[0]"
   ]
  },
  {
   "cell_type": "code",
   "execution_count": 14,
   "id": "d54b8bd0",
   "metadata": {},
   "outputs": [
    {
     "data": {
      "text/plain": [
       "3535"
      ]
     },
     "execution_count": 14,
     "metadata": {},
     "output_type": "execute_result"
    }
   ],
   "source": [
    "eirzoningmodcat_gdf.eirzmodscat.nunique()"
   ]
  },
  {
   "cell_type": "code",
   "execution_count": 15,
   "id": "4fc51b8e",
   "metadata": {},
   "outputs": [
    {
     "data": {
      "text/plain": [
       "array(['alamedaGGNADISNANAinNA', 'alamedaGGNADISNANAinres',\n",
       "       'alamedaGGNAHRADISNANAinNA', ..., 'yountvilleNANAHRADISNANAinNA',\n",
       "       'yountvilleNANAHRADISNANAinres', 'yountvilleNANAHRADISNANAoutNA'],\n",
       "      dtype=object)"
      ]
     },
     "execution_count": 15,
     "metadata": {},
     "output_type": "execute_result"
    }
   ],
   "source": [
    "eirzoningmodcat_gdf.eirzmodscat.unique()"
   ]
  },
  {
   "cell_type": "code",
   "execution_count": 16,
   "id": "b694e187",
   "metadata": {},
   "outputs": [
    {
     "name": "stderr",
     "output_type": "stream",
     "text": [
      "C:\\Users\\mtcpb\\AppData\\Local\\Temp\\2\\ipykernel_13632\\4174187374.py:1: UserWarning: Column names longer than 10 characters will be truncated when saved to ESRI Shapefile.\n",
      "  eirzoningmodcat_gdf.to_file(os.path.join(viz_spatial_dir, 'eirzoningmodcat_gdf.shp'))\n"
     ]
    }
   ],
   "source": [
    "eirzoningmodcat_gdf.to_file(os.path.join(viz_spatial_dir, 'eirzoningmodcat_gdf.shp'))"
   ]
  },
  {
   "cell_type": "code",
   "execution_count": 17,
   "id": "35ef284b",
   "metadata": {},
   "outputs": [
    {
     "name": "stdout",
     "output_type": "stream",
     "text": [
      "['eirzmodscat', 'geometry']\n"
     ]
    }
   ],
   "source": [
    "print(list(eirzoningmodcat_gdf))"
   ]
  },
  {
   "cell_type": "markdown",
   "id": "15b475d4",
   "metadata": {},
   "source": [
    "#### fbpchcat spatial file (for inclusionary zoning policy)"
   ]
  },
  {
   "cell_type": "code",
   "execution_count": 18,
   "id": "7c987e7a",
   "metadata": {},
   "outputs": [
    {
     "name": "stdout",
     "output_type": "stream",
     "text": [
      "CPU times: total: 12min 52s\n",
      "Wall time: 12min 52s\n"
     ]
    }
   ],
   "source": [
    "%%time\n",
    "# scenario 24, 28: inclusionary zoning based on 'fbpchcat'\n",
    "p10_fbpchcat = p10_geographies[['PARCEL_ID', 'geometry', 'fbpchcat']]\n",
    "fbpchcat_gdf = p10_fbpchcat.dissolve(by='fbpchcat')\n",
    "fbpchcat_gdf = fbpchcat_gdf.reset_index()[['fbpchcat', 'geometry']]\n",
    "fbpchcat_gdf.columns = ['fbpchcat', 'geometry']"
   ]
  },
  {
   "cell_type": "code",
   "execution_count": 19,
   "id": "949a84d4",
   "metadata": {},
   "outputs": [],
   "source": [
    "fbpchcat_gdf.to_file(os.path.join(viz_spatial_dir, 'fbpchcat_gdf.shp'))"
   ]
  },
  {
   "cell_type": "code",
   "execution_count": 20,
   "id": "9868ca37",
   "metadata": {},
   "outputs": [],
   "source": [
    "# scenario 25: jurisdiction, using existing juris shapefile"
   ]
  },
  {
   "cell_type": "markdown",
   "id": "579a6312",
   "metadata": {},
   "source": [
    "#### non-spatial table with key growth geographies tagging"
   ]
  },
  {
   "cell_type": "code",
   "execution_count": 21,
   "id": "f39e00a0",
   "metadata": {
    "scrolled": true
   },
   "outputs": [],
   "source": [
    "# FBP growth geographies\n",
    "\n",
    "# parcel-level\n",
    "parcel_geo_fbp = p10_geographies[['PARCEL_ID', 'juris', 'baus_output_juris_name', 'shapefile_juris_name', 'county_name',\n",
    "                                  'fbp_gg_id', 'fbp_tra_id', 'fbp_sesit_id', 'fbp_ppa_id',\n",
    "                                  'fbp_exp2020_id', 'fbp_exsfd_id', 'fbpzoningmodcat', 'fbpchcat']]"
   ]
  },
  {
   "cell_type": "code",
   "execution_count": null,
   "id": "3997e0b0",
   "metadata": {},
   "outputs": [],
   "source": [
    "p10_fbpzoningmodcat"
   ]
  },
  {
   "cell_type": "code",
   "execution_count": 23,
   "id": "5cddd7d2",
   "metadata": {},
   "outputs": [
    {
     "name": "stdout",
     "output_type": "stream",
     "text": [
      "2970\n",
      "2970\n"
     ]
    }
   ],
   "source": [
    "geo_fbp_attrs = parcel_geo_fbp[['juris', 'shapefile_juris_name',\n",
    "                                'fbp_gg_id', 'fbp_tra_id', 'fbp_sesit_id', 'fbp_ppa_id',\n",
    "                                'fbp_exp2020_id', 'fbpzoningmodcat']].drop_duplicates()\n",
    "print(geo_fbp_attrs.shape[0])\n",
    "\n",
    "fbpzoningmodcat_attrs = fbpzoningmodcat_gdf.merge(geo_fbp_attrs, \n",
    "                                                         left_on='fbpzmodscat',\n",
    "                                                         right_on='fbpzoningmodcat',\n",
    "                                                         how='outer')\n",
    "print(fbpzoningmodcat_attrs.shape[0])\n",
    "\n",
    "fbpzoningmodcat_attrs.drop(['fbpzoningmodcat', 'geometry', 'juris'], axis=1, inplace=True)\n",
    "\n",
    "fbpzoningmodcat_attrs.rename(columns = {'fbp_gg_id': 'gg_id',\n",
    "                                        'fbp_tra_id': 'tra_id',\n",
    "                                        'fbp_sesit_id': 'sesit_id',\n",
    "                                        'fbp_ppa_id': 'ppa_id',\n",
    "                                        'fbp_exp2020_id': 'exp2020_id'}, inplace=True)"
   ]
  },
  {
   "cell_type": "code",
   "execution_count": 24,
   "id": "61914ac9",
   "metadata": {
    "scrolled": true
   },
   "outputs": [],
   "source": [
    "parcel_geo_eir = p10_geographies[['PARCEL_ID', 'juris', 'baus_output_juris_name', 'shapefile_juris_name', 'county_name',\n",
    "                                  'eir_gg_id', 'eir_tra_id', 'eir_sesit_id', 'eir_coc_id', 'eir_ppa_id',\n",
    "                                  'eir_exp2020_id', 'eirzoningmodcat']]"
   ]
  },
  {
   "cell_type": "code",
   "execution_count": 25,
   "id": "72d58f97",
   "metadata": {},
   "outputs": [
    {
     "name": "stdout",
     "output_type": "stream",
     "text": [
      "3535\n",
      "3535\n"
     ]
    }
   ],
   "source": [
    "geo_eir_attrs = parcel_geo_eir[['juris', 'shapefile_juris_name',\n",
    "                                'eir_gg_id', 'eir_tra_id', 'eir_sesit_id', 'eir_coc_id', 'eir_ppa_id',\n",
    "                                  'eir_exp2020_id', 'eirzoningmodcat']].drop_duplicates()\n",
    "print(geo_eir_attrs.shape[0])\n",
    "\n",
    "eirzoningmodcat_attrs = eirzoningmodcat_gdf.merge(geo_eir_attrs, \n",
    "                                                         left_on='eirzmodscat',\n",
    "                                                         right_on='eirzoningmodcat',\n",
    "                                                         how='outer')\n",
    "print(eirzoningmodcat_attrs.shape[0])\n",
    "\n",
    "eirzoningmodcat_attrs.drop(['eirzoningmodcat','geometry','juris'], axis=1, inplace=True)\n",
    "\n",
    "eirzoningmodcat_attrs.rename(columns = {'eir_gg_id': 'gg_id',\n",
    "                                        'eir_tra_id': 'tra_id',\n",
    "                                        'eir_sesit_id': 'sesit_id',\n",
    "                                        'eir_coc_id': 'coc_id',\n",
    "                                        'eir_ppa_id': 'ppa_id',\n",
    "                                        'eir_exp2020_id': 'exp2020_id'}, inplace=True)"
   ]
  },
  {
   "cell_type": "markdown",
   "id": "bd71bae9",
   "metadata": {},
   "source": [
    "#### simplify the growth geography categories for easier mapping"
   ]
  },
  {
   "cell_type": "code",
   "execution_count": 26,
   "id": "451f24e6",
   "metadata": {},
   "outputs": [],
   "source": [
    "# fbpzoningmodcat_attrs['tra_id_cat'] = 'non-TRA'\n",
    "# fbpzoningmodcat_attrs.loc[fbpzoningmodcat_attrs['tra_id'] != 'NA', 'tra_id_cat'] = 'TRA'\n",
    "\n",
    "# fbpzoningmodcat_attrs['hra_id_cat'] = 'non-HRA'\n",
    "# fbpzoningmodcat_attrs.loc[fbpzoningmodcat_attrs['sesit_id'].isin(['HRA', 'HRADIS']), 'hra_id_cat'] = 'HRA'\n",
    "\n",
    "fbpzoningmodcat_attrs['simpler_geo_cat'] = ''\n",
    "fbpzoningmodcat_attrs.loc[fbpzoningmodcat_attrs['gg_id'] == 'NA', 'simpler_geo_cat'] = 'outside GG'\n",
    "\n",
    "fbpzoningmodcat_attrs.loc[(fbpzoningmodcat_attrs['gg_id'] == 'GG') & \\\n",
    "                          (fbpzoningmodcat_attrs['tra_id'] != 'NA') & \\\n",
    "                          (fbpzoningmodcat_attrs['sesit_id'].isin(['HRA', 'HRADIS'])), 'simpler_geo_cat'] = 'GG / Transit-Rich and High-Resource'\n",
    "\n",
    "fbpzoningmodcat_attrs.loc[(fbpzoningmodcat_attrs['gg_id'] == 'GG') & \\\n",
    "                          (fbpzoningmodcat_attrs['tra_id'] != 'NA') & \\\n",
    "                          (fbpzoningmodcat_attrs['sesit_id'].isin(['DIS', 'NA'])), 'simpler_geo_cat'] = 'GG / Transit-Rich Outside HRA'\n",
    "\n",
    "\n",
    "fbpzoningmodcat_attrs.loc[(fbpzoningmodcat_attrs['gg_id'] == 'GG') & \\\n",
    "                          (fbpzoningmodcat_attrs['tra_id'] == 'NA') & \\\n",
    "                          (fbpzoningmodcat_attrs['sesit_id'].isin(['HRA', 'HRADIS'])), 'simpler_geo_cat'] = 'GG / High-Resource Outside TRA'\n",
    "\n",
    "\n",
    "fbpzoningmodcat_attrs.loc[(fbpzoningmodcat_attrs['gg_id'] == 'GG') & \\\n",
    "                          (fbpzoningmodcat_attrs['tra_id'] == 'NA') & \\\n",
    "                          (fbpzoningmodcat_attrs['sesit_id'].isin(['DIS', 'NA'])) & \\\n",
    "                          (fbpzoningmodcat_attrs['ppa_id'] == 'ppa'), 'simpler_geo_cat'] = 'GG / Priority Production Area'\n",
    "\n",
    "fbpzoningmodcat_attrs.loc[(fbpzoningmodcat_attrs['gg_id'] == 'GG') & \\\n",
    "                          (fbpzoningmodcat_attrs['tra_id'] == 'NA') & \\\n",
    "                          (fbpzoningmodcat_attrs['sesit_id'].isin(['DIS', 'NA'])) & \\\n",
    "                          (fbpzoningmodcat_attrs['ppa_id'] == 'NA'), 'simpler_geo_cat'] = 'GG / others'"
   ]
  },
  {
   "cell_type": "code",
   "execution_count": 27,
   "id": "75169bca",
   "metadata": {},
   "outputs": [
    {
     "name": "stdout",
     "output_type": "stream",
     "text": [
      "outside GG                             1838\n",
      "GG / Transit-Rich Outside HRA           395\n",
      "GG / Transit-Rich and High-Resource     319\n",
      "GG / others                             207\n",
      "GG / High-Resource Outside TRA          206\n",
      "GG / Priority Production Area             5\n",
      "Name: simpler_geo_cat, dtype: int64\n"
     ]
    }
   ],
   "source": [
    "print(fbpzoningmodcat_attrs['simpler_geo_cat'].value_counts())"
   ]
  },
  {
   "cell_type": "code",
   "execution_count": 28,
   "id": "e19f3632",
   "metadata": {},
   "outputs": [],
   "source": [
    "# eirzoningmodcat_attrs['tra_id_cat'] = 'non-TRA'\n",
    "# eirzoningmodcat_attrs.loc[eirzoningmodcat_attrs['tra_id'] != 'NA', 'tra_id_cat'] = 'TRA'\n",
    "\n",
    "# eirzoningmodcat_attrs['hra_id_cat'] = 'non-HRA'\n",
    "# eirzoningmodcat_attrs.loc[eirzoningmodcat_attrs['sesit_id'].isin(['HRA', 'HRADIS']), 'hra_id_cat'] = 'HRA'\n",
    "\n",
    "eirzoningmodcat_attrs['simpler_geo_cat'] = ''\n",
    "eirzoningmodcat_attrs.loc[eirzoningmodcat_attrs['gg_id'] == 'NA', 'simpler_geo_cat'] = 'outside GG'\n",
    "\n",
    "eirzoningmodcat_attrs.loc[(eirzoningmodcat_attrs['gg_id'] == 'GG') & \\\n",
    "                          (eirzoningmodcat_attrs['tra_id'] != 'NA') & \\\n",
    "                          (eirzoningmodcat_attrs['sesit_id'].isin(['HRA', 'HRADIS'])), 'simpler_geo_cat'] = 'GG / Transit-Rich and High-Resource'\n",
    "\n",
    "eirzoningmodcat_attrs.loc[(eirzoningmodcat_attrs['gg_id'] == 'GG') & \\\n",
    "                          (eirzoningmodcat_attrs['tra_id'] != 'NA') & \\\n",
    "                          (eirzoningmodcat_attrs['sesit_id'].isin(['DIS', 'NA'])), 'simpler_geo_cat'] = 'GG / Transit-Rich Outside HRA'\n",
    "\n",
    "\n",
    "eirzoningmodcat_attrs.loc[(eirzoningmodcat_attrs['gg_id'] == 'GG') & \\\n",
    "                          (eirzoningmodcat_attrs['tra_id'] == 'NA') & \\\n",
    "                          (eirzoningmodcat_attrs['sesit_id'].isin(['HRA', 'HRADIS'])), 'simpler_geo_cat'] = 'GG / High-Resource Outside TRA'\n",
    "\n",
    "\n",
    "eirzoningmodcat_attrs.loc[(eirzoningmodcat_attrs['gg_id'] == 'GG') & \\\n",
    "                          (eirzoningmodcat_attrs['tra_id'] == 'NA') & \\\n",
    "                          (eirzoningmodcat_attrs['sesit_id'].isin(['DIS', 'NA'])) & \\\n",
    "                          (eirzoningmodcat_attrs['ppa_id'] == 'ppa'), 'simpler_geo_cat'] = 'GG / Priority Production Area'\n",
    "\n",
    "eirzoningmodcat_attrs.loc[(eirzoningmodcat_attrs['gg_id'] == 'GG') & \\\n",
    "                          (eirzoningmodcat_attrs['tra_id'] == 'NA') & \\\n",
    "                          (eirzoningmodcat_attrs['sesit_id'].isin(['DIS', 'NA'])) & \\\n",
    "                          (eirzoningmodcat_attrs['ppa_id'] == 'NA'), 'simpler_geo_cat'] = 'GG / others'"
   ]
  },
  {
   "cell_type": "code",
   "execution_count": 29,
   "id": "d4a65704",
   "metadata": {},
   "outputs": [
    {
     "name": "stdout",
     "output_type": "stream",
     "text": [
      "outside GG                             2159\n",
      "GG / Transit-Rich Outside HRA           559\n",
      "GG / Transit-Rich and High-Resource     337\n",
      "GG / others                             273\n",
      "GG / High-Resource Outside TRA          202\n",
      "GG / Priority Production Area             5\n",
      "Name: simpler_geo_cat, dtype: int64\n"
     ]
    }
   ],
   "source": [
    "print(eirzoningmodcat_attrs['simpler_geo_cat'].value_counts())"
   ]
  },
  {
   "cell_type": "markdown",
   "id": "8dcdfd95",
   "metadata": {},
   "source": [
    "#### export"
   ]
  },
  {
   "cell_type": "code",
   "execution_count": 30,
   "id": "3ceff2d4",
   "metadata": {},
   "outputs": [],
   "source": [
    "fbpzoningmodcat_attrs.to_csv(os.path.join(viz_crosswalks_dir, 'fbpzoningmodcat_attrs.csv'), index=False)"
   ]
  },
  {
   "cell_type": "code",
   "execution_count": 31,
   "id": "1b8df020",
   "metadata": {},
   "outputs": [],
   "source": [
    "eirzoningmodcat_attrs.to_csv(os.path.join(viz_crosswalks_dir, 'eirzoningmodcat_attrs.csv'), index=False)"
   ]
  },
  {
   "cell_type": "code",
   "execution_count": 32,
   "id": "74a69574",
   "metadata": {},
   "outputs": [
    {
     "data": {
      "text/html": [
       "<div>\n",
       "<style scoped>\n",
       "    .dataframe tbody tr th:only-of-type {\n",
       "        vertical-align: middle;\n",
       "    }\n",
       "\n",
       "    .dataframe tbody tr th {\n",
       "        vertical-align: top;\n",
       "    }\n",
       "\n",
       "    .dataframe thead th {\n",
       "        text-align: right;\n",
       "    }\n",
       "</style>\n",
       "<table border=\"1\" class=\"dataframe\">\n",
       "  <thead>\n",
       "    <tr style=\"text-align: right;\">\n",
       "      <th></th>\n",
       "      <th>fbpzmodscat</th>\n",
       "      <th>shapefile_juris_name</th>\n",
       "      <th>gg_id</th>\n",
       "      <th>tra_id</th>\n",
       "      <th>sesit_id</th>\n",
       "      <th>ppa_id</th>\n",
       "      <th>exp2020_id</th>\n",
       "      <th>simpler_geo_cat</th>\n",
       "    </tr>\n",
       "  </thead>\n",
       "  <tbody>\n",
       "    <tr>\n",
       "      <th>0</th>\n",
       "      <td>alamedaGGNADISNAinNA</td>\n",
       "      <td>Alameda</td>\n",
       "      <td>GG</td>\n",
       "      <td>NA</td>\n",
       "      <td>DIS</td>\n",
       "      <td>NA</td>\n",
       "      <td>in</td>\n",
       "      <td>GG / others</td>\n",
       "    </tr>\n",
       "    <tr>\n",
       "      <th>1</th>\n",
       "      <td>alamedaGGNADISNAinsfd</td>\n",
       "      <td>Alameda</td>\n",
       "      <td>GG</td>\n",
       "      <td>NA</td>\n",
       "      <td>DIS</td>\n",
       "      <td>NA</td>\n",
       "      <td>in</td>\n",
       "      <td>GG / others</td>\n",
       "    </tr>\n",
       "    <tr>\n",
       "      <th>2</th>\n",
       "      <td>alamedaGGNAHRADISNAinNA</td>\n",
       "      <td>Alameda</td>\n",
       "      <td>GG</td>\n",
       "      <td>NA</td>\n",
       "      <td>HRADIS</td>\n",
       "      <td>NA</td>\n",
       "      <td>in</td>\n",
       "      <td>GG / High-Resource Outside TRA</td>\n",
       "    </tr>\n",
       "    <tr>\n",
       "      <th>3</th>\n",
       "      <td>alamedaGGNAHRADISNAinsfd</td>\n",
       "      <td>Alameda</td>\n",
       "      <td>GG</td>\n",
       "      <td>NA</td>\n",
       "      <td>HRADIS</td>\n",
       "      <td>NA</td>\n",
       "      <td>in</td>\n",
       "      <td>GG / High-Resource Outside TRA</td>\n",
       "    </tr>\n",
       "    <tr>\n",
       "      <th>4</th>\n",
       "      <td>alamedaGGNAHRANAinNA</td>\n",
       "      <td>Alameda</td>\n",
       "      <td>GG</td>\n",
       "      <td>NA</td>\n",
       "      <td>HRA</td>\n",
       "      <td>NA</td>\n",
       "      <td>in</td>\n",
       "      <td>GG / High-Resource Outside TRA</td>\n",
       "    </tr>\n",
       "    <tr>\n",
       "      <th>...</th>\n",
       "      <td>...</td>\n",
       "      <td>...</td>\n",
       "      <td>...</td>\n",
       "      <td>...</td>\n",
       "      <td>...</td>\n",
       "      <td>...</td>\n",
       "      <td>...</td>\n",
       "      <td>...</td>\n",
       "    </tr>\n",
       "    <tr>\n",
       "      <th>2965</th>\n",
       "      <td>yountvilleNANADISNAinsfd</td>\n",
       "      <td>Yountville</td>\n",
       "      <td>NA</td>\n",
       "      <td>NA</td>\n",
       "      <td>DIS</td>\n",
       "      <td>NA</td>\n",
       "      <td>in</td>\n",
       "      <td>outside GG</td>\n",
       "    </tr>\n",
       "    <tr>\n",
       "      <th>2966</th>\n",
       "      <td>yountvilleNANADISNAoutNA</td>\n",
       "      <td>Yountville</td>\n",
       "      <td>NA</td>\n",
       "      <td>NA</td>\n",
       "      <td>DIS</td>\n",
       "      <td>NA</td>\n",
       "      <td>out</td>\n",
       "      <td>outside GG</td>\n",
       "    </tr>\n",
       "    <tr>\n",
       "      <th>2967</th>\n",
       "      <td>yountvilleNANAHRADISNAinNA</td>\n",
       "      <td>Yountville</td>\n",
       "      <td>NA</td>\n",
       "      <td>NA</td>\n",
       "      <td>HRADIS</td>\n",
       "      <td>NA</td>\n",
       "      <td>in</td>\n",
       "      <td>outside GG</td>\n",
       "    </tr>\n",
       "    <tr>\n",
       "      <th>2968</th>\n",
       "      <td>yountvilleNANAHRADISNAinsfd</td>\n",
       "      <td>Yountville</td>\n",
       "      <td>NA</td>\n",
       "      <td>NA</td>\n",
       "      <td>HRADIS</td>\n",
       "      <td>NA</td>\n",
       "      <td>in</td>\n",
       "      <td>outside GG</td>\n",
       "    </tr>\n",
       "    <tr>\n",
       "      <th>2969</th>\n",
       "      <td>yountvilleNANAHRADISNAoutNA</td>\n",
       "      <td>Yountville</td>\n",
       "      <td>NA</td>\n",
       "      <td>NA</td>\n",
       "      <td>HRADIS</td>\n",
       "      <td>NA</td>\n",
       "      <td>out</td>\n",
       "      <td>outside GG</td>\n",
       "    </tr>\n",
       "  </tbody>\n",
       "</table>\n",
       "<p>2970 rows × 8 columns</p>\n",
       "</div>"
      ],
      "text/plain": [
       "                      fbpzmodscat shapefile_juris_name gg_id tra_id sesit_id  \\\n",
       "0            alamedaGGNADISNAinNA              Alameda    GG     NA      DIS   \n",
       "1           alamedaGGNADISNAinsfd              Alameda    GG     NA      DIS   \n",
       "2         alamedaGGNAHRADISNAinNA              Alameda    GG     NA   HRADIS   \n",
       "3        alamedaGGNAHRADISNAinsfd              Alameda    GG     NA   HRADIS   \n",
       "4            alamedaGGNAHRANAinNA              Alameda    GG     NA      HRA   \n",
       "...                           ...                  ...   ...    ...      ...   \n",
       "2965     yountvilleNANADISNAinsfd           Yountville    NA     NA      DIS   \n",
       "2966     yountvilleNANADISNAoutNA           Yountville    NA     NA      DIS   \n",
       "2967   yountvilleNANAHRADISNAinNA           Yountville    NA     NA   HRADIS   \n",
       "2968  yountvilleNANAHRADISNAinsfd           Yountville    NA     NA   HRADIS   \n",
       "2969  yountvilleNANAHRADISNAoutNA           Yountville    NA     NA   HRADIS   \n",
       "\n",
       "     ppa_id exp2020_id                 simpler_geo_cat  \n",
       "0        NA         in                     GG / others  \n",
       "1        NA         in                     GG / others  \n",
       "2        NA         in  GG / High-Resource Outside TRA  \n",
       "3        NA         in  GG / High-Resource Outside TRA  \n",
       "4        NA         in  GG / High-Resource Outside TRA  \n",
       "...     ...        ...                             ...  \n",
       "2965     NA         in                      outside GG  \n",
       "2966     NA        out                      outside GG  \n",
       "2967     NA         in                      outside GG  \n",
       "2968     NA         in                      outside GG  \n",
       "2969     NA        out                      outside GG  \n",
       "\n",
       "[2970 rows x 8 columns]"
      ]
     },
     "execution_count": 32,
     "metadata": {},
     "output_type": "execute_result"
    }
   ],
   "source": [
    "fbpzoningmodcat_attrs"
   ]
  }
 ],
 "metadata": {
  "kernelspec": {
   "display_name": "Python 3 (ipykernel)",
   "language": "python",
   "name": "python3"
  },
  "language_info": {
   "codemirror_mode": {
    "name": "ipython",
    "version": 3
   },
   "file_extension": ".py",
   "mimetype": "text/x-python",
   "name": "python",
   "nbconvert_exporter": "python",
   "pygments_lexer": "ipython3",
   "version": "3.8.15"
  },
  "toc": {
   "base_numbering": 1,
   "nav_menu": {},
   "number_sections": true,
   "sideBar": true,
   "skip_h1_title": false,
   "title_cell": "Table of Contents",
   "title_sidebar": "Contents",
   "toc_cell": false,
   "toc_position": {
    "height": "calc(100% - 180px)",
    "left": "10px",
    "top": "150px",
    "width": "361.016px"
   },
   "toc_section_display": true,
   "toc_window_display": true
  }
 },
 "nbformat": 4,
 "nbformat_minor": 5
}
