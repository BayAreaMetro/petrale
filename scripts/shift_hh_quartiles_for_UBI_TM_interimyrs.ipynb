{
 "cells": [
  {
   "cell_type": "code",
   "execution_count": null,
   "metadata": {},
   "outputs": [],
   "source": [
    "# produces TAZ data adjusted for UBI\n",
    "# no longer needs to be consistent with parcel data (which also doesn't exist for this year), as it is in \n",
    "# shift_hh_quartiles_for_UBI_2035.ipynb and shift_hh_quartiles_for_UBI_2050.ipyn\n",
    "# use TAZ_DATA_FILE and NUM_HH_TO_MOVE to change the data modification year "
   ]
  },
  {
   "cell_type": "code",
   "execution_count": 35,
   "metadata": {},
   "outputs": [],
   "source": [
    "import pandas as pd\n",
    "import numpy as np"
   ]
  },
  {
   "cell_type": "markdown",
   "metadata": {},
   "source": [
    "#### TAZ File"
   ]
  },
  {
   "cell_type": "code",
   "execution_count": 36,
   "metadata": {},
   "outputs": [],
   "source": [
    "TAZ_DATA_PATH = \"C:/Users/etheocharides/Box/Modeling and Surveys/Urban Modeling/Bay Area UrbanSim/PBA50/Final Blueprint runs/Final Blueprint (s24)/BAUS v2.25 - FINAL VERSION/\"\n",
    "TAZ_DATA_FILE = \"run182_taz_summaries_2040.csv\"\n",
    "taz_data = pd.read_csv(TAZ_DATA_PATH+TAZ_DATA_FILE)"
   ]
  },
  {
   "cell_type": "code",
   "execution_count": 37,
   "metadata": {},
   "outputs": [],
   "source": [
    "# 2025: 94174\n",
    "# 2030: 102211\n",
    "# 2035: 112964\n",
    "# 2040: 120786\n",
    "# 2045: 126888\n",
    "# 2050: 132529\n",
    "NUM_HH_TO_MOVE = 120786"
   ]
  },
  {
   "cell_type": "code",
   "execution_count": 38,
   "metadata": {},
   "outputs": [
    {
     "name": "stdout",
     "output_type": "stream",
     "text": [
      "number of households is 3711035.0\n",
      "number of q1 households is 1041258.0\n",
      "number of q2 households is 755366.0\n"
     ]
    }
   ],
   "source": [
    "print(\"number of households is {}\".format(taz_data.TOTHH.sum()))\n",
    "print(\"number of q1 households is {}\".format(taz_data.HHINCQ1.sum()))\n",
    "print(\"number of q2 households is {}\".format(taz_data.HHINCQ2.sum()))"
   ]
  },
  {
   "cell_type": "code",
   "execution_count": 39,
   "metadata": {},
   "outputs": [],
   "source": [
    "# randomly select TAZs to shift HHs in (Q1 -> Q2), loop so that we never end up with negative Q1 HHs in a TAZ\n",
    "for i in range(0, NUM_HH_TO_MOVE):\n",
    "    taz_i = np.random.choice(taz_data.loc[taz_data.HHINCQ1 > 0].TAZ)\n",
    "    taz_data.loc[taz_data.TAZ == taz_i, 'HHINCQ1'] = taz_data.loc[taz_data.TAZ == taz_i].HHINCQ1 - 1\n",
    "    taz_data.loc[taz_data.TAZ == taz_i, 'HHINCQ2'] = taz_data.loc[taz_data.TAZ == taz_i].HHINCQ2 + 1"
   ]
  },
  {
   "cell_type": "code",
   "execution_count": 33,
   "metadata": {},
   "outputs": [
    {
     "name": "stdout",
     "output_type": "stream",
     "text": [
      "number of households is 3208679.0\n",
      "number of q1 households is 778920.0\n",
      "number of q2 households is 780969.0\n"
     ]
    }
   ],
   "source": [
    "print(\"number of households is {}\".format(taz_data.TOTHH.sum()))\n",
    "print(\"number of q1 households is {}\".format(taz_data.HHINCQ1.sum()))\n",
    "print(\"number of q2 households is {}\".format(taz_data.HHINCQ2.sum()))"
   ]
  },
  {
   "cell_type": "code",
   "execution_count": 40,
   "metadata": {},
   "outputs": [],
   "source": [
    "# save a copy of the data in the output folder, manually make it the master file as needed\n",
    "# don't want to risk overwriting the master file (run182_taz_summaries_2040_UBI.csv)\n",
    "NEW_TAZ_DATA_FILE = \"run182_taz_summaries_2040_UBI_output.csv\"\n",
    "taz_data.to_csv(TAZ_DATA_PATH+NEW_TAZ_DATA_FILE)"
   ]
  }
 ],
 "metadata": {
  "kernelspec": {
   "display_name": "Python 3",
   "language": "python",
   "name": "python3"
  },
  "language_info": {
   "codemirror_mode": {
    "name": "ipython",
    "version": 3
   },
   "file_extension": ".py",
   "mimetype": "text/x-python",
   "name": "python",
   "nbconvert_exporter": "python",
   "pygments_lexer": "ipython3",
   "version": "3.6.9"
  }
 },
 "nbformat": 4,
 "nbformat_minor": 2
}
