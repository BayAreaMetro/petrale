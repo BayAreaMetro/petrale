{
 "cells": [
  {
   "cell_type": "code",
   "execution_count": 33,
   "id": "9574feec",
   "metadata": {},
   "outputs": [],
   "source": [
    "import pandas as pd\n",
    "import geopandas as gpd\n",
    "\n",
    "user = 'aolsen'"
   ]
  },
  {
   "cell_type": "markdown",
   "id": "e65d0771",
   "metadata": {},
   "source": [
    "# Comparison of MAZ data and TAZ-TM1 files when summing to county levels"
   ]
  },
  {
   "cell_type": "markdown",
   "id": "532122c1",
   "metadata": {},
   "source": [
    "## Load and process spatial reference data"
   ]
  },
  {
   "cell_type": "code",
   "execution_count": 34,
   "id": "30b13f3c",
   "metadata": {},
   "outputs": [],
   "source": [
    "maz_shape = gpd.read_file(\n",
    "    f'/Users/{user}/Box/Modeling and Surveys/Urban Modeling/Spatial/Zones/v2.2/TM2_maz_taz_v2.2/mazs_TM2_v2_2.shp')\n",
    "maz_shape = maz_shape.to_crs('EPSG:26910')"
   ]
  },
  {
   "cell_type": "code",
   "execution_count": 35,
   "id": "14263a73",
   "metadata": {},
   "outputs": [],
   "source": [
    "# get centroid\n",
    "maz_shape['geom_pt'] = maz_shape.representative_point()"
   ]
  },
  {
   "cell_type": "code",
   "execution_count": 36,
   "id": "6d8dbd2c",
   "metadata": {},
   "outputs": [
    {
     "data": {
      "text/html": [
       "<div>\n",
       "<style scoped>\n",
       "    .dataframe tbody tr th:only-of-type {\n",
       "        vertical-align: middle;\n",
       "    }\n",
       "\n",
       "    .dataframe tbody tr th {\n",
       "        vertical-align: top;\n",
       "    }\n",
       "\n",
       "    .dataframe thead th {\n",
       "        text-align: right;\n",
       "    }\n",
       "</style>\n",
       "<table border=\"1\" class=\"dataframe\">\n",
       "  <thead>\n",
       "    <tr style=\"text-align: right;\">\n",
       "      <th></th>\n",
       "      <th>objectid</th>\n",
       "      <th>taz1454</th>\n",
       "      <th>district</th>\n",
       "      <th>county</th>\n",
       "      <th>gacres</th>\n",
       "      <th>Shape__Area</th>\n",
       "      <th>Shape__Length</th>\n",
       "      <th>geometry</th>\n",
       "    </tr>\n",
       "  </thead>\n",
       "  <tbody>\n",
       "    <tr>\n",
       "      <th>0</th>\n",
       "      <td>1</td>\n",
       "      <td>566</td>\n",
       "      <td>11</td>\n",
       "      <td>Santa Clara</td>\n",
       "      <td>1708.683056</td>\n",
       "      <td>0.000444</td>\n",
       "      <td>0.097550</td>\n",
       "      <td>POLYGON ((600337.262 4127333.574, 600264.066 4...</td>\n",
       "    </tr>\n",
       "    <tr>\n",
       "      <th>1</th>\n",
       "      <td>2</td>\n",
       "      <td>565</td>\n",
       "      <td>11</td>\n",
       "      <td>Santa Clara</td>\n",
       "      <td>486.200669</td>\n",
       "      <td>0.000126</td>\n",
       "      <td>0.054171</td>\n",
       "      <td>POLYGON ((601170.353 4126571.857, 601276.370 4...</td>\n",
       "    </tr>\n",
       "  </tbody>\n",
       "</table>\n",
       "</div>"
      ],
      "text/plain": [
       "   objectid  taz1454  district       county       gacres  Shape__Area  \\\n",
       "0         1      566        11  Santa Clara  1708.683056     0.000444   \n",
       "1         2      565        11  Santa Clara   486.200669     0.000126   \n",
       "\n",
       "   Shape__Length                                           geometry  \n",
       "0       0.097550  POLYGON ((600337.262 4127333.574, 600264.066 4...  \n",
       "1       0.054171  POLYGON ((601170.353 4126571.857, 601276.370 4...  "
      ]
     },
     "execution_count": 36,
     "metadata": {},
     "output_type": "execute_result"
    }
   ],
   "source": [
    "# get taz 1454 data\n",
    "tazs = gpd.read_file(\n",
    "    'https://services3.arcgis.com/i2dkYWmb4wHvYPda/arcgis/rest/services/transportation_analysis_zones_1454/FeatureServer/0/query?outFields=*&where=1%3D1&f=geojson').to_crs('EPSG:26910')\n",
    "tazs.head(2)"
   ]
  },
  {
   "cell_type": "code",
   "execution_count": 37,
   "id": "37708432",
   "metadata": {},
   "outputs": [],
   "source": [
    "# join MAZ centroid to containing TAZ1454 shape\n",
    "maz_x_taz_pt = gpd.sjoin(maz_shape.set_geometry(\n",
    "    'geom_pt'), tazs[['taz1454', 'county', 'geometry']])"
   ]
  },
  {
   "cell_type": "code",
   "execution_count": 38,
   "id": "77789134",
   "metadata": {},
   "outputs": [],
   "source": [
    "missing_taz_in_correspondence = set(range(1, 1455))-set(maz_x_taz_pt.taz1454)"
   ]
  },
  {
   "cell_type": "markdown",
   "id": "228257fa",
   "metadata": {},
   "source": [
    "## Load plan data"
   ]
  },
  {
   "cell_type": "markdown",
   "id": "ca6c6091",
   "metadata": {},
   "source": [
    "### MAZ data"
   ]
  },
  {
   "cell_type": "code",
   "execution_count": 39,
   "id": "66005e61",
   "metadata": {},
   "outputs": [],
   "source": [
    "pba_mazdata_2050 = pd.read_csv(\n",
    "    f'/Users/{user}/Box/Modeling and Surveys/Development/Travel Model Two Development/Model Inputs/Land Use/FBP2050_by_TM2_maz_20220211.csv')\n",
    "pba_mazdata_2050 = pba_mazdata_2050[pba_mazdata_2050.COUNTY.notna()]\n",
    "pba_mazdata_2050.COUNTY = pba_mazdata_2050.COUNTY.astype(int)\n",
    "pba_mazdata_2050['taz1454'] = pba_mazdata_2050.MAZ.map(\n",
    "    maz_x_taz_pt.set_index('maz').taz1454)"
   ]
  },
  {
   "cell_type": "code",
   "execution_count": 40,
   "id": "ea71b757",
   "metadata": {},
   "outputs": [],
   "source": [
    "pba_mazdata_2015 = pd.read_csv(\n",
    "    f'/Users/{user}/Box/Modeling and Surveys/Development/Travel Model Two Development/Model Inputs/Land Use/FBP2015_by_TM2_maz_20220211.csv')\n",
    "pba_mazdata_2015 = pba_mazdata_2015[pba_mazdata_2015.COUNTY.notna()]\n",
    "pba_mazdata_2015.COUNTY = pba_mazdata_2015.COUNTY.astype(int)\n",
    "pba_mazdata_2015['taz1454'] = pba_mazdata_2015.MAZ.map(\n",
    "    maz_x_taz_pt.set_index('maz').taz1454)"
   ]
  },
  {
   "cell_type": "markdown",
   "id": "5fca1372",
   "metadata": {},
   "source": [
    "### TAZ-1454 data"
   ]
  },
  {
   "cell_type": "code",
   "execution_count": 41,
   "id": "efb68266",
   "metadata": {},
   "outputs": [],
   "source": [
    "TAZ_PATH = f'/Users/{user}/Box/Modeling and Surveys/Share Data/plan-bay-area-2050/tazdata/PBA50_FinalBlueprintLandUse_TAZdata.xlsx'\n",
    "\n",
    "pba_tazdata_2050 = pd.read_excel(TAZ_PATH, '2050')\n",
    "pba_tazdata_2035 = pd.read_excel(TAZ_PATH, '2035')\n",
    "pba_tazdata_2015 = pd.read_excel(TAZ_PATH, '2015')"
   ]
  },
  {
   "cell_type": "markdown",
   "id": "f8f2f298",
   "metadata": {},
   "source": [
    "### Comparison"
   ]
  },
  {
   "cell_type": "code",
   "execution_count": 42,
   "id": "410330cf",
   "metadata": {},
   "outputs": [],
   "source": [
    "def comparison(df1, df2, sumlev=['COUNTY']):\n",
    "\n",
    "    return (df2.groupby(sumlev).sum()-df1.groupby(sumlev).sum().rename(columns=lambda x: x.upper())).stack()"
   ]
  },
  {
   "cell_type": "code",
   "execution_count": 43,
   "id": "24befb0f",
   "metadata": {},
   "outputs": [
    {
     "name": "stderr",
     "output_type": "stream",
     "text": [
      "/var/folders/x8/3_n775lx7zq1nv3mddc7vmlh0000gp/T/ipykernel_10825/3387854450.py:3: FutureWarning: The default value of numeric_only in DataFrameGroupBy.sum is deprecated. In a future version, numeric_only will default to False. Either specify numeric_only or select only columns which should be valid for the function.\n",
      "  return (df2.groupby(sumlev).sum()-df1.groupby(sumlev).sum().rename(columns=lambda x: x.upper())).stack()\n"
     ]
    },
    {
     "data": {
      "text/html": [
       "<div>\n",
       "<style scoped>\n",
       "    .dataframe tbody tr th:only-of-type {\n",
       "        vertical-align: middle;\n",
       "    }\n",
       "\n",
       "    .dataframe tbody tr th {\n",
       "        vertical-align: top;\n",
       "    }\n",
       "\n",
       "    .dataframe thead th {\n",
       "        text-align: right;\n",
       "    }\n",
       "</style>\n",
       "<table border=\"1\" class=\"dataframe\">\n",
       "  <thead>\n",
       "    <tr style=\"text-align: right;\">\n",
       "      <th></th>\n",
       "      <th>AGREMPN</th>\n",
       "      <th>FPSEMPN</th>\n",
       "      <th>HEREMPN</th>\n",
       "      <th>MWTEMPN</th>\n",
       "      <th>OTHEMPN</th>\n",
       "      <th>RETEMPN</th>\n",
       "      <th>TOTEMP</th>\n",
       "      <th>TOTHH</th>\n",
       "    </tr>\n",
       "    <tr>\n",
       "      <th>COUNTY</th>\n",
       "      <th></th>\n",
       "      <th></th>\n",
       "      <th></th>\n",
       "      <th></th>\n",
       "      <th></th>\n",
       "      <th></th>\n",
       "      <th></th>\n",
       "      <th></th>\n",
       "    </tr>\n",
       "  </thead>\n",
       "  <tbody>\n",
       "    <tr>\n",
       "      <th>1</th>\n",
       "      <td>0.0</td>\n",
       "      <td>-3.0</td>\n",
       "      <td>-2.0</td>\n",
       "      <td>-3.0</td>\n",
       "      <td>-3.0</td>\n",
       "      <td>0.0</td>\n",
       "      <td>-11.0</td>\n",
       "      <td>-24.0</td>\n",
       "    </tr>\n",
       "    <tr>\n",
       "      <th>2</th>\n",
       "      <td>1.0</td>\n",
       "      <td>-4.0</td>\n",
       "      <td>-6.0</td>\n",
       "      <td>2.0</td>\n",
       "      <td>4.0</td>\n",
       "      <td>0.0</td>\n",
       "      <td>-3.0</td>\n",
       "      <td>25.0</td>\n",
       "    </tr>\n",
       "    <tr>\n",
       "      <th>3</th>\n",
       "      <td>-1.0</td>\n",
       "      <td>-115.0</td>\n",
       "      <td>-179.0</td>\n",
       "      <td>-5.0</td>\n",
       "      <td>-999.0</td>\n",
       "      <td>-1.0</td>\n",
       "      <td>-1300.0</td>\n",
       "      <td>-4.0</td>\n",
       "    </tr>\n",
       "    <tr>\n",
       "      <th>4</th>\n",
       "      <td>0.0</td>\n",
       "      <td>-1.0</td>\n",
       "      <td>-4.0</td>\n",
       "      <td>0.0</td>\n",
       "      <td>-3.0</td>\n",
       "      <td>-8.0</td>\n",
       "      <td>-16.0</td>\n",
       "      <td>-49.0</td>\n",
       "    </tr>\n",
       "    <tr>\n",
       "      <th>5</th>\n",
       "      <td>0.0</td>\n",
       "      <td>1.0</td>\n",
       "      <td>4.0</td>\n",
       "      <td>0.0</td>\n",
       "      <td>3.0</td>\n",
       "      <td>8.0</td>\n",
       "      <td>16.0</td>\n",
       "      <td>52.0</td>\n",
       "    </tr>\n",
       "    <tr>\n",
       "      <th>6</th>\n",
       "      <td>0.0</td>\n",
       "      <td>1.0</td>\n",
       "      <td>5.0</td>\n",
       "      <td>0.0</td>\n",
       "      <td>1.0</td>\n",
       "      <td>22.0</td>\n",
       "      <td>29.0</td>\n",
       "      <td>58.0</td>\n",
       "    </tr>\n",
       "    <tr>\n",
       "      <th>7</th>\n",
       "      <td>0.0</td>\n",
       "      <td>-1.0</td>\n",
       "      <td>-5.0</td>\n",
       "      <td>0.0</td>\n",
       "      <td>-1.0</td>\n",
       "      <td>-22.0</td>\n",
       "      <td>-29.0</td>\n",
       "      <td>-58.0</td>\n",
       "    </tr>\n",
       "    <tr>\n",
       "      <th>8</th>\n",
       "      <td>0.0</td>\n",
       "      <td>0.0</td>\n",
       "      <td>0.0</td>\n",
       "      <td>0.0</td>\n",
       "      <td>0.0</td>\n",
       "      <td>0.0</td>\n",
       "      <td>0.0</td>\n",
       "      <td>2.0</td>\n",
       "    </tr>\n",
       "    <tr>\n",
       "      <th>9</th>\n",
       "      <td>0.0</td>\n",
       "      <td>122.0</td>\n",
       "      <td>187.0</td>\n",
       "      <td>6.0</td>\n",
       "      <td>998.0</td>\n",
       "      <td>1.0</td>\n",
       "      <td>1314.0</td>\n",
       "      <td>-2.0</td>\n",
       "    </tr>\n",
       "  </tbody>\n",
       "</table>\n",
       "</div>"
      ],
      "text/plain": [
       "        AGREMPN  FPSEMPN  HEREMPN  MWTEMPN  OTHEMPN  RETEMPN  TOTEMP  TOTHH\n",
       "COUNTY                                                                     \n",
       "1           0.0     -3.0     -2.0     -3.0     -3.0      0.0   -11.0  -24.0\n",
       "2           1.0     -4.0     -6.0      2.0      4.0      0.0    -3.0   25.0\n",
       "3          -1.0   -115.0   -179.0     -5.0   -999.0     -1.0 -1300.0   -4.0\n",
       "4           0.0     -1.0     -4.0      0.0     -3.0     -8.0   -16.0  -49.0\n",
       "5           0.0      1.0      4.0      0.0      3.0      8.0    16.0   52.0\n",
       "6           0.0      1.0      5.0      0.0      1.0     22.0    29.0   58.0\n",
       "7           0.0     -1.0     -5.0      0.0     -1.0    -22.0   -29.0  -58.0\n",
       "8           0.0      0.0      0.0      0.0      0.0      0.0     0.0    2.0\n",
       "9           0.0    122.0    187.0      6.0    998.0      1.0  1314.0   -2.0"
      ]
     },
     "execution_count": 43,
     "metadata": {},
     "output_type": "execute_result"
    }
   ],
   "source": [
    "pba_2050_diff_cnty = comparison(\n",
    "    pba_mazdata_2050, pba_tazdata_2050, sumlev=['COUNTY'])\n",
    "pba_2050_diff_cnty.unstack(1)"
   ]
  },
  {
   "cell_type": "code",
   "execution_count": null,
   "id": "347b75df",
   "metadata": {},
   "outputs": [],
   "source": []
  }
 ],
 "metadata": {
  "kernelspec": {
   "display_name": "Python 3 (ipykernel)",
   "language": "python",
   "name": "python3"
  },
  "language_info": {
   "codemirror_mode": {
    "name": "ipython",
    "version": 3
   },
   "file_extension": ".py",
   "mimetype": "text/x-python",
   "name": "python",
   "nbconvert_exporter": "python",
   "pygments_lexer": "ipython3",
   "version": "3.10.8"
  },
  "toc": {
   "base_numbering": 1,
   "nav_menu": {},
   "number_sections": true,
   "sideBar": true,
   "skip_h1_title": false,
   "title_cell": "Table of Contents",
   "title_sidebar": "Contents",
   "toc_cell": false,
   "toc_position": {},
   "toc_section_display": true,
   "toc_window_display": false
  }
 },
 "nbformat": 4,
 "nbformat_minor": 5
}
