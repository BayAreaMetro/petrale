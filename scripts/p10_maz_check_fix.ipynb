{
 "cells": [
  {
   "cell_type": "markdown",
   "metadata": {},
   "source": [
    "This is part of the process to rebuild a parcel-TM2 maz lookup. The inputs include the previous lookup, several GIS layers created by spatial join and manual fixing; the output is a parcel-level lookup with both the old and new MAZ designations.\n",
    "This Asana task gives a more complete and detailed picture of the lookup creation process: https://app.asana.com/0/0/1200719394714319/f "
   ]
  },
  {
   "cell_type": "code",
   "execution_count": 1,
   "metadata": {},
   "outputs": [],
   "source": [
    "import pandas as pd\n",
    "import numpy as np\n",
    "import geopandas as gpd\n",
    "import os\n",
    "import fiona"
   ]
  },
  {
   "cell_type": "code",
   "execution_count": 2,
   "metadata": {},
   "outputs": [
    {
     "name": "stdout",
     "output_type": "stream",
     "text": [
      "Read 1956208 rows of parcel_id/maz lookup table\n",
      "PARCEL_ID    int64\n",
      "maz_old      int64\n",
      "dtype: object\n"
     ]
    },
    {
     "data": {
      "text/html": [
       "<div>\n",
       "<style scoped>\n",
       "    .dataframe tbody tr th:only-of-type {\n",
       "        vertical-align: middle;\n",
       "    }\n",
       "\n",
       "    .dataframe tbody tr th {\n",
       "        vertical-align: top;\n",
       "    }\n",
       "\n",
       "    .dataframe thead th {\n",
       "        text-align: right;\n",
       "    }\n",
       "</style>\n",
       "<table border=\"1\" class=\"dataframe\">\n",
       "  <thead>\n",
       "    <tr style=\"text-align: right;\">\n",
       "      <th></th>\n",
       "      <th>PARCEL_ID</th>\n",
       "      <th>maz_old</th>\n",
       "    </tr>\n",
       "  </thead>\n",
       "  <tbody>\n",
       "    <tr>\n",
       "      <th>0</th>\n",
       "      <td>229116</td>\n",
       "      <td>310596</td>\n",
       "    </tr>\n",
       "    <tr>\n",
       "      <th>1</th>\n",
       "      <td>244166</td>\n",
       "      <td>331415</td>\n",
       "    </tr>\n",
       "    <tr>\n",
       "      <th>2</th>\n",
       "      <td>202378</td>\n",
       "      <td>310099</td>\n",
       "    </tr>\n",
       "    <tr>\n",
       "      <th>3</th>\n",
       "      <td>2004420</td>\n",
       "      <td>710778</td>\n",
       "    </tr>\n",
       "    <tr>\n",
       "      <th>4</th>\n",
       "      <td>340332</td>\n",
       "      <td>318182</td>\n",
       "    </tr>\n",
       "  </tbody>\n",
       "</table>\n",
       "</div>"
      ],
      "text/plain": [
       "   PARCEL_ID  maz_old\n",
       "0     229116   310596\n",
       "1     244166   331415\n",
       "2     202378   310099\n",
       "3    2004420   710778\n",
       "4     340332   318182"
      ]
     },
     "metadata": {},
     "output_type": "display_data"
    }
   ],
   "source": [
    "# initial lookup table\n",
    "old_lookup_file = 'C:\\\\Users\\\\{}\\\\Box\\\\Modeling and Surveys\\\\Urban Modeling\\\\Bay Area UrbanSim\\\\PBA50\\\\Current PBA50 Large General Input Data\\\\2020_08_17_parcel_to_maz22.csv'.format(os.getenv('USERNAME'))\n",
    "old_lookup = pd.read_csv(old_lookup_file, usecols = ['PARCEL_ID', 'maz'])\n",
    "print('Read {} rows of parcel_id/maz lookup table'.format(old_lookup.shape[0]))\n",
    "old_lookup.rename(columns={'maz': 'maz_old'}, inplace=True)\n",
    "print(old_lookup.dtypes)\n",
    "display(old_lookup.head())"
   ]
  },
  {
   "cell_type": "code",
   "execution_count": 3,
   "metadata": {},
   "outputs": [
    {
     "name": "stdout",
     "output_type": "stream",
     "text": [
      "['p10_parcels_mazs_TM2_v2_2', 'p10_parcels_mazs_TM2_v2_2_Di', 'mazs_TM2_v2_2_Project', 'p10_pba50_2020_07_16', 'p10_pba50_2020_07_16_MAZ', 'p10_no_MAZ_from_spatial_join', 'p10_no_MAZ_from_spatial_join_tbl', 'p10_no_MAZ_from_spatial_join_fix', 'p10_no_MAZ_from_spatial_join_fix_tbl', 'p10_pba50_2020_07_16_MAZ_tbl']\n"
     ]
    }
   ],
   "source": [
    "# new tables created during the new spatil join and fix process\n",
    "print(fiona.listlayers(r'M:\\Data\\GIS layers\\p10_TM2_maz\\p10_maz\\p10_maz.gdb'))\n",
    "lookup_spatial_join_raw = gpd.read_file(r'M:\\Data\\GIS layers\\p10_TM2_maz\\p10_maz\\p10_maz.gdb', layer='p10_pba50_2020_07_16_MAZ_tbl')\n",
    "lookup_spatial_join_fix_raw = gpd.read_file(r'M:\\Data\\GIS layers\\p10_TM2_maz\\p10_maz\\p10_maz.gdb', layer='p10_no_MAZ_from_spatial_join_fix_tbl')"
   ]
  },
  {
   "cell_type": "code",
   "execution_count": 4,
   "metadata": {},
   "outputs": [
    {
     "name": "stderr",
     "output_type": "stream",
     "text": [
      "C:\\Users\\ywang\\AppData\\Local\\Continuum\\anaconda3\\lib\\site-packages\\pandas\\core\\frame.py:4446: SettingWithCopyWarning: \n",
      "A value is trying to be set on a copy of a slice from a DataFrame\n",
      "\n",
      "See the caveats in the documentation: https://pandas.pydata.org/pandas-docs/stable/user_guide/indexing.html#returning-a-view-versus-a-copy\n",
      "  errors=errors,\n",
      "C:\\Users\\ywang\\AppData\\Local\\Continuum\\anaconda3\\lib\\site-packages\\ipykernel_launcher.py:3: SettingWithCopyWarning: \n",
      "A value is trying to be set on a copy of a slice from a DataFrame.\n",
      "Try using .loc[row_indexer,col_indexer] = value instead\n",
      "\n",
      "See the caveats in the documentation: https://pandas.pydata.org/pandas-docs/stable/user_guide/indexing.html#returning-a-view-versus-a-copy\n",
      "  This is separate from the ipykernel package so we can avoid doing imports until\n",
      "C:\\Users\\ywang\\AppData\\Local\\Continuum\\anaconda3\\lib\\site-packages\\pandas\\core\\indexing.py:1720: SettingWithCopyWarning: \n",
      "A value is trying to be set on a copy of a slice from a DataFrame.\n",
      "Try using .loc[row_indexer,col_indexer] = value instead\n",
      "\n",
      "See the caveats in the documentation: https://pandas.pydata.org/pandas-docs/stable/user_guide/indexing.html#returning-a-view-versus-a-copy\n",
      "  self._setitem_single_column(loc, value, pi)\n",
      "C:\\Users\\ywang\\AppData\\Local\\Continuum\\anaconda3\\lib\\site-packages\\ipykernel_launcher.py:5: SettingWithCopyWarning: \n",
      "A value is trying to be set on a copy of a slice from a DataFrame.\n",
      "Try using .loc[row_indexer,col_indexer] = value instead\n",
      "\n",
      "See the caveats in the documentation: https://pandas.pydata.org/pandas-docs/stable/user_guide/indexing.html#returning-a-view-versus-a-copy\n",
      "  \"\"\"\n"
     ]
    }
   ],
   "source": [
    "lookup_spatial_join = lookup_spatial_join_raw[['PARCEL_ID', 'maz']]\n",
    "lookup_spatial_join.rename(columns = {'maz': 'maz_new'}, inplace=True)\n",
    "lookup_spatial_join['maz_source'] = ''\n",
    "lookup_spatial_join.loc[lookup_spatial_join.maz_new.notnull(), 'maz_source'] = 'spatial join'\n",
    "lookup_spatial_join['PARCEL_ID'] = lookup_spatial_join['PARCEL_ID'].apply(lambda x: int(round(x)))"
   ]
  },
  {
   "cell_type": "code",
   "execution_count": 5,
   "metadata": {},
   "outputs": [
    {
     "name": "stdout",
     "output_type": "stream",
     "text": [
      "6\n",
      "oldLookup                 3087\n",
      "oldLookup999999_zeroHH    1088\n",
      "Name: maz_source_fix, dtype: int64\n"
     ]
    },
    {
     "name": "stderr",
     "output_type": "stream",
     "text": [
      "C:\\Users\\ywang\\AppData\\Local\\Continuum\\anaconda3\\lib\\site-packages\\ipykernel_launcher.py:3: SettingWithCopyWarning: \n",
      "A value is trying to be set on a copy of a slice from a DataFrame.\n",
      "Try using .loc[row_indexer,col_indexer] = value instead\n",
      "\n",
      "See the caveats in the documentation: https://pandas.pydata.org/pandas-docs/stable/user_guide/indexing.html#returning-a-view-versus-a-copy\n",
      "  This is separate from the ipykernel package so we can avoid doing imports until\n"
     ]
    }
   ],
   "source": [
    "lookup_spatial_join_fix = lookup_spatial_join_fix_raw[['PARCEL_ID', 'maz', 'maz_source']]\n",
    "lookup_spatial_join_fix.rename(columns = {'maz': 'maz_fix', 'maz_source': 'maz_source_fix'}, inplace=True)\n",
    "lookup_spatial_join_fix['PARCEL_ID'] = lookup_spatial_join_fix['PARCEL_ID'].apply(lambda x: int(round(x)))\n",
    "\n",
    "# I manually fixed 6 parcels by looking at the map and the old lookup, label 'maz_source' as 'oldLookup'\n",
    "print(lookup_spatial_join_fix.loc[lookup_spatial_join_fix.maz_source_fix.isnull()].shape[0])\n",
    "lookup_spatial_join_fix.loc[lookup_spatial_join_fix.maz_source_fix.isnull(), 'maz_source_fix'] = 'oldLookup'\n",
    "print(lookup_spatial_join_fix.maz_source_fix.value_counts())"
   ]
  },
  {
   "cell_type": "code",
   "execution_count": 6,
   "metadata": {},
   "outputs": [],
   "source": [
    "new_lookup = lookup_spatial_join.merge(lookup_spatial_join_fix, on='PARCEL_ID', how='outer')\n",
    "\n",
    "fix_idx = new_lookup.maz_new.isnull()\n",
    "new_lookup.loc[fix_idx, 'maz_source'] = new_lookup['maz_source_fix']\n",
    "new_lookup.loc[fix_idx, 'maz_new'] = new_lookup['maz_fix']\n",
    "\n",
    "new_lookup = new_lookup[['PARCEL_ID', 'maz_new', 'maz_source']]"
   ]
  },
  {
   "cell_type": "code",
   "execution_count": 7,
   "metadata": {},
   "outputs": [
    {
     "name": "stdout",
     "output_type": "stream",
     "text": [
      "      PARCEL_ID  maz_old  maz_new maz_source\n",
      "1833    2054503   999999      NaN        NaN\n"
     ]
    }
   ],
   "source": [
    "# merge old and new lookup\n",
    "lookup = old_lookup.merge(new_lookup, on='PARCEL_ID', how='outer')\n",
    "\n",
    "# Parcel_ID 2054503 (a synthetic parcel) is not in the new lookup, likely due to \"repair geometry\",\n",
    "# use maz value from the old lookup\n",
    "print(lookup.loc[lookup.maz_new.isnull()])\n",
    "lookup.loc[lookup.PARCEL_ID == 2054503, 'maz_new'] = lookup['maz_old']\n",
    "lookup.loc[lookup.PARCEL_ID == 2054503, 'maz_source'] = 'oldLookup'\n",
    "\n",
    "# add field to compare\n",
    "lookup['compare'] = 'same'\n",
    "lookup.loc[lookup.maz_old != lookup.maz_new, 'compare'] = 'diff'"
   ]
  },
  {
   "cell_type": "code",
   "execution_count": 8,
   "metadata": {},
   "outputs": [
    {
     "data": {
      "text/plain": [
       "spatial join              1952032\n",
       "oldLookup                    3088\n",
       "oldLookup999999_zeroHH       1088\n",
       "Name: maz_source, dtype: int64"
      ]
     },
     "metadata": {},
     "output_type": "display_data"
    },
    {
     "data": {
      "text/plain": [
       "same    1914353\n",
       "diff      41855\n",
       "Name: compare, dtype: int64"
      ]
     },
     "metadata": {},
     "output_type": "display_data"
    }
   ],
   "source": [
    "# some stats\n",
    "display(lookup['maz_source'].value_counts())\n",
    "display(lookup['compare'].value_counts())"
   ]
  },
  {
   "cell_type": "code",
   "execution_count": 9,
   "metadata": {},
   "outputs": [],
   "source": [
    "lookup.to_csv('M:\\\\Data\\\\GIS layers\\\\p10_TM2_maz\\\\p10_maz\\\\p10_maz_lookup_compare_20210804.csv', index=False)"
   ]
  }
 ],
 "metadata": {
  "kernelspec": {
   "display_name": "Python 3",
   "language": "python",
   "name": "python3"
  },
  "language_info": {
   "codemirror_mode": {
    "name": "ipython",
    "version": 3
   },
   "file_extension": ".py",
   "mimetype": "text/x-python",
   "name": "python",
   "nbconvert_exporter": "python",
   "pygments_lexer": "ipython3",
   "version": "3.7.4"
  }
 },
 "nbformat": 4,
 "nbformat_minor": 2
}
