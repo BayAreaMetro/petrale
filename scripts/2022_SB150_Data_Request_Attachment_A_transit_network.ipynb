{
 "cells": [
  {
   "cell_type": "markdown",
   "metadata": {},
   "source": [
    "This script aims to summarize PBA50 UrbanSim 2015 and 2035 housing and jobs spatial distributions for SB150 reporting. \n",
    "It creates 0.25 mile and 0.5 mile buffers around existing and proposed transit stops and stations in year 2015 and year 2035. The buffer shapes are then spatially joined to p10 parcel shape in GIS to identify parcels within each type of buffer. Then, it calculates the numbers of housing units and jobs within each type of buffer in 2015 and 2035. "
   ]
  },
  {
   "cell_type": "code",
   "execution_count": 1,
   "metadata": {},
   "outputs": [],
   "source": [
    "import os\n",
    "import fiona\n",
    "import geopandas as gpd\n",
    "import pandas as pd"
   ]
  },
  {
   "cell_type": "markdown",
   "metadata": {},
   "source": [
    "### All transit stations and stops"
   ]
  },
  {
   "cell_type": "code",
   "execution_count": 2,
   "metadata": {
    "scrolled": true
   },
   "outputs": [
    {
     "name": "stdout",
     "output_type": "stream",
     "text": [
      "read 40580 rows of transit stations and stops data, with 40580 unique objectid\n",
      "['objectid', 'agency_nm', 'agency_id', 'route_l_nm', 'route_s_nm', 'route_id', 'route_type', 'stop_nm', 'stop_id', 'am_av_hdwy', 'pm_av_hdwy', 'major_stop', 'status', 'committed', 'exp_open', 'ppa_id', 'ppa_nm', 'pba50_id', 'geometry']\n"
     ]
    },
    {
     "data": {
      "text/html": [
       "<div>\n",
       "<style scoped>\n",
       "    .dataframe tbody tr th:only-of-type {\n",
       "        vertical-align: middle;\n",
       "    }\n",
       "\n",
       "    .dataframe tbody tr th {\n",
       "        vertical-align: top;\n",
       "    }\n",
       "\n",
       "    .dataframe thead th {\n",
       "        text-align: right;\n",
       "    }\n",
       "</style>\n",
       "<table border=\"1\" class=\"dataframe\">\n",
       "  <thead>\n",
       "    <tr style=\"text-align: right;\">\n",
       "      <th></th>\n",
       "      <th>objectid</th>\n",
       "      <th>agency_nm</th>\n",
       "      <th>agency_id</th>\n",
       "      <th>route_l_nm</th>\n",
       "      <th>route_s_nm</th>\n",
       "      <th>route_id</th>\n",
       "      <th>route_type</th>\n",
       "      <th>stop_nm</th>\n",
       "      <th>stop_id</th>\n",
       "      <th>am_av_hdwy</th>\n",
       "      <th>pm_av_hdwy</th>\n",
       "      <th>major_stop</th>\n",
       "      <th>status</th>\n",
       "      <th>committed</th>\n",
       "      <th>exp_open</th>\n",
       "      <th>ppa_id</th>\n",
       "      <th>ppa_nm</th>\n",
       "      <th>pba50_id</th>\n",
       "      <th>geometry</th>\n",
       "    </tr>\n",
       "  </thead>\n",
       "  <tbody>\n",
       "    <tr>\n",
       "      <th>0</th>\n",
       "      <td>40581</td>\n",
       "      <td>San Francisco Municipal Transportation Agency</td>\n",
       "      <td>SF</td>\n",
       "      <td>19TH AVENUE</td>\n",
       "      <td>28</td>\n",
       "      <td>SF:28</td>\n",
       "      <td>Bus</td>\n",
       "      <td>19th Avenue &amp; Holloway St</td>\n",
       "      <td>10390</td>\n",
       "      <td>6.0</td>\n",
       "      <td>10.0</td>\n",
       "      <td>1</td>\n",
       "      <td>Existing/Built</td>\n",
       "      <td>None</td>\n",
       "      <td>None</td>\n",
       "      <td>NaN</td>\n",
       "      <td>None</td>\n",
       "      <td>None</td>\n",
       "      <td>POINT (-122.47510 37.72119)</td>\n",
       "    </tr>\n",
       "    <tr>\n",
       "      <th>1</th>\n",
       "      <td>40582</td>\n",
       "      <td>San Francisco Municipal Transportation Agency</td>\n",
       "      <td>SF</td>\n",
       "      <td>19TH AVENUE RAPID</td>\n",
       "      <td>28R</td>\n",
       "      <td>SF:28R</td>\n",
       "      <td>Bus</td>\n",
       "      <td>19th Avenue &amp; Holloway St</td>\n",
       "      <td>10390</td>\n",
       "      <td>10.0</td>\n",
       "      <td>10.0</td>\n",
       "      <td>1</td>\n",
       "      <td>Existing/Built</td>\n",
       "      <td>None</td>\n",
       "      <td>None</td>\n",
       "      <td>NaN</td>\n",
       "      <td>None</td>\n",
       "      <td>None</td>\n",
       "      <td>POINT (-122.47510 37.72119)</td>\n",
       "    </tr>\n",
       "    <tr>\n",
       "      <th>2</th>\n",
       "      <td>40583</td>\n",
       "      <td>San Francisco Municipal Transportation Agency</td>\n",
       "      <td>SF</td>\n",
       "      <td>SUNSET</td>\n",
       "      <td>29</td>\n",
       "      <td>SF:29</td>\n",
       "      <td>Bus</td>\n",
       "      <td>19th Avenue &amp; Holloway St</td>\n",
       "      <td>10390</td>\n",
       "      <td>6.0</td>\n",
       "      <td>11.0</td>\n",
       "      <td>1</td>\n",
       "      <td>Existing/Built</td>\n",
       "      <td>None</td>\n",
       "      <td>None</td>\n",
       "      <td>NaN</td>\n",
       "      <td>None</td>\n",
       "      <td>None</td>\n",
       "      <td>POINT (-122.47510 37.72119)</td>\n",
       "    </tr>\n",
       "    <tr>\n",
       "      <th>3</th>\n",
       "      <td>40584</td>\n",
       "      <td>San Francisco Municipal Transportation Agency</td>\n",
       "      <td>SF</td>\n",
       "      <td>OWL OCEANVIEW</td>\n",
       "      <td>M-OWL</td>\n",
       "      <td>SF:M-OWL</td>\n",
       "      <td>Bus</td>\n",
       "      <td>19th Avenue &amp; Holloway St</td>\n",
       "      <td>10390</td>\n",
       "      <td>20.0</td>\n",
       "      <td>NaN</td>\n",
       "      <td>1</td>\n",
       "      <td>Existing/Built</td>\n",
       "      <td>None</td>\n",
       "      <td>None</td>\n",
       "      <td>NaN</td>\n",
       "      <td>None</td>\n",
       "      <td>None</td>\n",
       "      <td>POINT (-122.47510 37.72119)</td>\n",
       "    </tr>\n",
       "    <tr>\n",
       "      <th>4</th>\n",
       "      <td>40585</td>\n",
       "      <td>San Francisco Municipal Transportation Agency</td>\n",
       "      <td>SF</td>\n",
       "      <td>EXCELSIOR</td>\n",
       "      <td>52</td>\n",
       "      <td>SF:52</td>\n",
       "      <td>Bus</td>\n",
       "      <td>Dublin St &amp; La Grande Ave</td>\n",
       "      <td>10913</td>\n",
       "      <td>15.0</td>\n",
       "      <td>21.0</td>\n",
       "      <td>0</td>\n",
       "      <td>Existing/Built</td>\n",
       "      <td>None</td>\n",
       "      <td>None</td>\n",
       "      <td>NaN</td>\n",
       "      <td>None</td>\n",
       "      <td>None</td>\n",
       "      <td>POINT (-122.42580 37.71919)</td>\n",
       "    </tr>\n",
       "  </tbody>\n",
       "</table>\n",
       "</div>"
      ],
      "text/plain": [
       "   objectid                                      agency_nm agency_id  \\\n",
       "0     40581  San Francisco Municipal Transportation Agency        SF   \n",
       "1     40582  San Francisco Municipal Transportation Agency        SF   \n",
       "2     40583  San Francisco Municipal Transportation Agency        SF   \n",
       "3     40584  San Francisco Municipal Transportation Agency        SF   \n",
       "4     40585  San Francisco Municipal Transportation Agency        SF   \n",
       "\n",
       "          route_l_nm route_s_nm  route_id route_type  \\\n",
       "0        19TH AVENUE         28     SF:28        Bus   \n",
       "1  19TH AVENUE RAPID        28R    SF:28R        Bus   \n",
       "2             SUNSET         29     SF:29        Bus   \n",
       "3      OWL OCEANVIEW      M-OWL  SF:M-OWL        Bus   \n",
       "4          EXCELSIOR         52     SF:52        Bus   \n",
       "\n",
       "                     stop_nm stop_id  am_av_hdwy  pm_av_hdwy  major_stop  \\\n",
       "0  19th Avenue & Holloway St   10390         6.0        10.0           1   \n",
       "1  19th Avenue & Holloway St   10390        10.0        10.0           1   \n",
       "2  19th Avenue & Holloway St   10390         6.0        11.0           1   \n",
       "3  19th Avenue & Holloway St   10390        20.0         NaN           1   \n",
       "4  Dublin St & La Grande Ave   10913        15.0        21.0           0   \n",
       "\n",
       "           status committed exp_open  ppa_id ppa_nm pba50_id  \\\n",
       "0  Existing/Built      None     None     NaN   None     None   \n",
       "1  Existing/Built      None     None     NaN   None     None   \n",
       "2  Existing/Built      None     None     NaN   None     None   \n",
       "3  Existing/Built      None     None     NaN   None     None   \n",
       "4  Existing/Built      None     None     NaN   None     None   \n",
       "\n",
       "                      geometry  \n",
       "0  POINT (-122.47510 37.72119)  \n",
       "1  POINT (-122.47510 37.72119)  \n",
       "2  POINT (-122.47510 37.72119)  \n",
       "3  POINT (-122.47510 37.72119)  \n",
       "4  POINT (-122.42580 37.71919)  "
      ]
     },
     "execution_count": 2,
     "metadata": {},
     "output_type": "execute_result"
    }
   ],
   "source": [
    "transit_stops = gpd.read_file(r'M:\\Data\\GIS layers\\Blueprint Land Use Strategies\\2022_SB150_Data_Request_Attachment_A\\Transit_Stops_-_Existing_and_Planned_(2021)\\transitstops_existing_planned_2021.shp')\n",
    "print('read {} rows of transit stations and stops data, with {} unique objectid'.format(\n",
    "    transit_stops.shape[0],\n",
    "    transit_stops.objectid.nunique()))\n",
    "print(list(transit_stops))\n",
    "transit_stops.head()"
   ]
  },
  {
   "cell_type": "code",
   "execution_count": 3,
   "metadata": {},
   "outputs": [
    {
     "data": {
      "text/html": [
       "<div>\n",
       "<style scoped>\n",
       "    .dataframe tbody tr th:only-of-type {\n",
       "        vertical-align: middle;\n",
       "    }\n",
       "\n",
       "    .dataframe tbody tr th {\n",
       "        vertical-align: top;\n",
       "    }\n",
       "\n",
       "    .dataframe thead th {\n",
       "        text-align: right;\n",
       "    }\n",
       "</style>\n",
       "<table border=\"1\" class=\"dataframe\">\n",
       "  <thead>\n",
       "    <tr style=\"text-align: right;\">\n",
       "      <th></th>\n",
       "      <th>status</th>\n",
       "      <th>committed</th>\n",
       "      <th>exp_open</th>\n",
       "    </tr>\n",
       "  </thead>\n",
       "  <tbody>\n",
       "    <tr>\n",
       "      <th>0</th>\n",
       "      <td>Existing/Built</td>\n",
       "      <td>None</td>\n",
       "      <td>None</td>\n",
       "    </tr>\n",
       "    <tr>\n",
       "      <th>13992</th>\n",
       "      <td>Final Blueprint</td>\n",
       "      <td>None</td>\n",
       "      <td>None</td>\n",
       "    </tr>\n",
       "    <tr>\n",
       "      <th>34497</th>\n",
       "      <td>Final Blueprint</td>\n",
       "      <td>No</td>\n",
       "      <td>2021-2035</td>\n",
       "    </tr>\n",
       "    <tr>\n",
       "      <th>36239</th>\n",
       "      <td>Under Construction</td>\n",
       "      <td>Yes</td>\n",
       "      <td>2021-2035</td>\n",
       "    </tr>\n",
       "    <tr>\n",
       "      <th>40256</th>\n",
       "      <td>Final Blueprint</td>\n",
       "      <td>No</td>\n",
       "      <td>2036-2050</td>\n",
       "    </tr>\n",
       "  </tbody>\n",
       "</table>\n",
       "</div>"
      ],
      "text/plain": [
       "                   status committed   exp_open\n",
       "0          Existing/Built      None       None\n",
       "13992     Final Blueprint      None       None\n",
       "34497     Final Blueprint        No  2021-2035\n",
       "36239  Under Construction       Yes  2021-2035\n",
       "40256     Final Blueprint        No  2036-2050"
      ]
     },
     "metadata": {},
     "output_type": "display_data"
    }
   ],
   "source": [
    "# check types of status and exp_open \n",
    "display(transit_stops[['status', 'committed', 'exp_open']].drop_duplicates())"
   ]
  },
  {
   "cell_type": "code",
   "execution_count": 4,
   "metadata": {},
   "outputs": [
    {
     "name": "stdout",
     "output_type": "stream",
     "text": [
      "(239, 19)\n",
      "MU-042    99\n",
      "SM-011    78\n",
      "SC-014    35\n",
      "CC-015    17\n",
      "AL-016     4\n",
      "MU-033     3\n",
      "SF-024     2\n",
      "SN-030     1\n",
      "Name: pba50_id, dtype: int64\n"
     ]
    },
    {
     "data": {
      "text/plain": [
       "True"
      ]
     },
     "execution_count": 4,
     "metadata": {},
     "output_type": "execute_result"
    }
   ],
   "source": [
    "# fill out missing 'exp_open' for stops/stations in 'Final Blueprint' projects\n",
    "missing_Year = transit_stops.loc[(transit_stops.status == 'Final Blueprint') & (transit_stops.exp_open.isnull())]\n",
    "print(missing_Year.shape)\n",
    "print(missing_Year.pba50_id.value_counts())\n",
    "\n",
    "transit_stops.loc[transit_stops.pba50_id == 'MU-042', 'exp_open'] = '2021-2035' # open in 2027\n",
    "transit_stops.loc[transit_stops.pba50_id == 'SM-011', 'exp_open'] = '2036-2050' # open in 2040\n",
    "transit_stops.loc[transit_stops.pba50_id == 'SC-014', 'exp_open'] = '2036-2050' # open in 2040\n",
    "transit_stops.loc[transit_stops.pba50_id == 'CC-015', 'exp_open'] = '2021-2035' # open in 2026\n",
    "transit_stops.loc[transit_stops.pba50_id == 'AL-016', 'exp_open'] = '2021-2035' # open in 2020\n",
    "transit_stops.loc[transit_stops.pba50_id == 'MU-033', 'exp_open'] = '2036-2050' # open in 2036\n",
    "transit_stops.loc[transit_stops.pba50_id == 'SF-024', 'exp_open'] = '2021-2035' # open in 2030\n",
    "transit_stops.loc[transit_stops.pba50_id == 'SN-030', 'exp_open'] = '2021-2035' # open in 2025\n",
    "\n",
    "# double check\n",
    "transit_stops.loc[(transit_stops.status == 'Final Blueprint') & (transit_stops.exp_open.isnull())].shape[0] == 0"
   ]
  },
  {
   "cell_type": "code",
   "execution_count": 5,
   "metadata": {},
   "outputs": [
    {
     "name": "stdout",
     "output_type": "stream",
     "text": [
      "40223 stops in 2015\n"
     ]
    },
    {
     "data": {
      "text/html": [
       "<div>\n",
       "<style scoped>\n",
       "    .dataframe tbody tr th:only-of-type {\n",
       "        vertical-align: middle;\n",
       "    }\n",
       "\n",
       "    .dataframe tbody tr th {\n",
       "        vertical-align: top;\n",
       "    }\n",
       "\n",
       "    .dataframe thead th {\n",
       "        text-align: right;\n",
       "    }\n",
       "</style>\n",
       "<table border=\"1\" class=\"dataframe\">\n",
       "  <thead>\n",
       "    <tr style=\"text-align: right;\">\n",
       "      <th></th>\n",
       "      <th>status</th>\n",
       "      <th>committed</th>\n",
       "      <th>exp_open</th>\n",
       "    </tr>\n",
       "  </thead>\n",
       "  <tbody>\n",
       "    <tr>\n",
       "      <th>0</th>\n",
       "      <td>Existing/Built</td>\n",
       "      <td>None</td>\n",
       "      <td>None</td>\n",
       "    </tr>\n",
       "  </tbody>\n",
       "</table>\n",
       "</div>"
      ],
      "text/plain": [
       "           status committed exp_open\n",
       "0  Existing/Built      None     None"
      ]
     },
     "metadata": {},
     "output_type": "display_data"
    },
    {
     "name": "stdout",
     "output_type": "stream",
     "text": [
      "40445 stops in 2035\n"
     ]
    },
    {
     "data": {
      "text/html": [
       "<div>\n",
       "<style scoped>\n",
       "    .dataframe tbody tr th:only-of-type {\n",
       "        vertical-align: middle;\n",
       "    }\n",
       "\n",
       "    .dataframe tbody tr th {\n",
       "        vertical-align: top;\n",
       "    }\n",
       "\n",
       "    .dataframe thead th {\n",
       "        text-align: right;\n",
       "    }\n",
       "</style>\n",
       "<table border=\"1\" class=\"dataframe\">\n",
       "  <thead>\n",
       "    <tr style=\"text-align: right;\">\n",
       "      <th></th>\n",
       "      <th>status</th>\n",
       "      <th>committed</th>\n",
       "      <th>exp_open</th>\n",
       "    </tr>\n",
       "  </thead>\n",
       "  <tbody>\n",
       "    <tr>\n",
       "      <th>0</th>\n",
       "      <td>Existing/Built</td>\n",
       "      <td>None</td>\n",
       "      <td>None</td>\n",
       "    </tr>\n",
       "    <tr>\n",
       "      <th>13992</th>\n",
       "      <td>Final Blueprint</td>\n",
       "      <td>None</td>\n",
       "      <td>2021-2035</td>\n",
       "    </tr>\n",
       "    <tr>\n",
       "      <th>34497</th>\n",
       "      <td>Final Blueprint</td>\n",
       "      <td>No</td>\n",
       "      <td>2021-2035</td>\n",
       "    </tr>\n",
       "    <tr>\n",
       "      <th>36239</th>\n",
       "      <td>Under Construction</td>\n",
       "      <td>Yes</td>\n",
       "      <td>2021-2035</td>\n",
       "    </tr>\n",
       "  </tbody>\n",
       "</table>\n",
       "</div>"
      ],
      "text/plain": [
       "                   status committed   exp_open\n",
       "0          Existing/Built      None       None\n",
       "13992     Final Blueprint      None  2021-2035\n",
       "34497     Final Blueprint        No  2021-2035\n",
       "36239  Under Construction       Yes  2021-2035"
      ]
     },
     "metadata": {},
     "output_type": "display_data"
    }
   ],
   "source": [
    "# select transits stations/stops for 2015 and 2035\n",
    "stop_2015 = transit_stops.loc[transit_stops.status == 'Existing/Built']\n",
    "stop_2035 = transit_stops.loc[((transit_stops.status.isin(['Final Blueprint', 'Under Construction'])) & (\n",
    "                                transit_stops.exp_open == '2021-2035')) | (\n",
    "                              transit_stops.status == 'Existing/Built')]\n",
    "\n",
    "# double check the status\n",
    "print('{} stops in 2015'.format(stop_2015.shape[0]))\n",
    "display(stop_2015[['status', 'committed', 'exp_open']].drop_duplicates())\n",
    "\n",
    "print('{} stops in 2035'.format(stop_2035.shape[0]))\n",
    "display(stop_2035[['status', 'committed', 'exp_open']].drop_duplicates())"
   ]
  },
  {
   "cell_type": "markdown",
   "metadata": {},
   "source": [
    "### Transit stations and stops in TPA"
   ]
  },
  {
   "cell_type": "code",
   "execution_count": 6,
   "metadata": {},
   "outputs": [
    {
     "name": "stdout",
     "output_type": "stream",
     "text": [
      "read 81 rows of tpa data, 81 unique objectid\n"
     ]
    }
   ],
   "source": [
    "tpa_raw = gpd.read_file(r'M:\\Data\\GIS layers\\Blueprint Land Use Strategies\\2022_SB150_Data_Request_Attachment_A\\Transit_Priority_Areas_(2021)\\transit_priority_areas_2021.shp')\n",
    "print('read {} rows of tpa data, {} unique objectid'.format(\n",
    "    tpa_raw.shape[0],\n",
    "    tpa_raw.objectid.nunique()))\n",
    "\n",
    "# # convert to epsg=26910\n",
    "# print(tpa_raw.crs)\n",
    "# if tpa_raw.crs != 26910:\n",
    "#     tpa_raw = tpa_raw.to_crs(epsg=26910)\n",
    "# print(tpa_raw.crs)"
   ]
  },
  {
   "cell_type": "code",
   "execution_count": 7,
   "metadata": {},
   "outputs": [
    {
     "name": "stdout",
     "output_type": "stream",
     "text": [
      "18957 out of 40223 stops with TPA in 2015\n",
      "19179 out of 40445 stops with TPA in 2035\n"
     ]
    },
    {
     "name": "stderr",
     "output_type": "stream",
     "text": [
      "C:\\Users\\ywang\\AppData\\Local\\Continuum\\anaconda3\\lib\\site-packages\\pandas\\core\\frame.py:4312: SettingWithCopyWarning: \n",
      "A value is trying to be set on a copy of a slice from a DataFrame\n",
      "\n",
      "See the caveats in the documentation: https://pandas.pydata.org/pandas-docs/stable/user_guide/indexing.html#returning-a-view-versus-a-copy\n",
      "  errors=errors,\n",
      "C:\\Users\\ywang\\AppData\\Local\\Continuum\\anaconda3\\lib\\site-packages\\pandas\\core\\frame.py:4446: SettingWithCopyWarning: \n",
      "A value is trying to be set on a copy of a slice from a DataFrame\n",
      "\n",
      "See the caveats in the documentation: https://pandas.pydata.org/pandas-docs/stable/user_guide/indexing.html#returning-a-view-versus-a-copy\n",
      "  errors=errors,\n"
     ]
    }
   ],
   "source": [
    "# get stations/stops within TPA using left join\n",
    "# print(stop_2015.shape[0], stop_2015.objectid.nunique())\n",
    "\n",
    "tpa = tpa_raw[['objectid', 'geometry']]\n",
    "\n",
    "stop_2015_join = gpd.sjoin(stop_2015, tpa, how=\"left\", op=\"within\")\n",
    "stop_2015_tpa = stop_2015_join.loc[stop_2015_join.objectid_right.notnull()]\n",
    "print('{} out of {} stops with TPA in 2015'.format(stop_2015_tpa.shape[0], stop_2015.shape[0]))\n",
    "\n",
    "stop_2035_join = gpd.sjoin(stop_2035, tpa, how=\"left\", op=\"within\")\n",
    "stop_2035_tpa = stop_2035_join.loc[stop_2035_join.objectid_right.notnull()]\n",
    "print('{} out of {} stops with TPA in 2035'.format(stop_2035_tpa.shape[0], stop_2035.shape[0]))\n",
    "\n",
    "# remove unnecessary fields\n",
    "stop_2015_tpa.drop(['index_right', 'objectid_right'], axis = 1, inplace=True)\n",
    "stop_2015_tpa.rename(columns = {'objectid_left': 'objectid'}, inplace=True)\n",
    "stop_2035_tpa.drop(['index_right', 'objectid_right'], axis = 1, inplace=True)\n",
    "stop_2035_tpa.rename(columns = {'objectid_left': 'objectid'}, inplace=True)"
   ]
  },
  {
   "cell_type": "markdown",
   "metadata": {},
   "source": [
    "### export stops/stations data for QAQC"
   ]
  },
  {
   "cell_type": "code",
   "execution_count": 8,
   "metadata": {},
   "outputs": [],
   "source": [
    "stops_file = {'stop_2015': stop_2015,\n",
    "              'stop_2035': stop_2035,\n",
    "              'stop_2015_tpa': stop_2015_tpa,\n",
    "              'stop_2035_tpa': stop_2035_tpa}\n",
    "\n",
    "export_folder = 'M:\\\\Data\\\\GIS layers\\\\Blueprint Land Use Strategies\\\\2022_SB150_Data_Request_Attachment_A\\\\interim'"
   ]
  },
  {
   "cell_type": "code",
   "execution_count": 9,
   "metadata": {},
   "outputs": [],
   "source": [
    "for filename in stops_file:\n",
    "    stops_file[filename][['objectid', 'geometry']].to_file(os.path.join(export_folder, filename+'.shp'))"
   ]
  },
  {
   "cell_type": "markdown",
   "metadata": {},
   "source": [
    "### create shapes for buffers"
   ]
  },
  {
   "cell_type": "code",
   "execution_count": 10,
   "metadata": {},
   "outputs": [],
   "source": [
    "def crs_to_26910(gdf):\n",
    "    print('  crs before conversion: {}'.format(gdf.crs))\n",
    "    if gdf.crs != 26910:\n",
    "        gdf_prj = gdf.to_crs(epsg=26910)\n",
    "    return gdf_prj\n",
    "    \n",
    "def crs_to_4326(gdf):\n",
    "    print('  crs before conversion: {}'.format(gdf.crs))\n",
    "    if gdf.crs != 4326:\n",
    "        gdf_prj = gdf.to_crs(epsg=4326)    \n",
    "    return gdf_prj\n",
    "\n",
    "def qrt_ml_buffer(gdf):\n",
    "    print('  crs when creating buffer: {}'.format(gdf.crs))\n",
    "    gdf_buffer = gdf[['objectid', 'geometry']].copy()\n",
    "    gdf_buffer['geometry'] = gdf_buffer['geometry'].buffer(402.34)\n",
    "    return gdf_buffer\n",
    "\n",
    "def hlf_ml_buffer(gdf):\n",
    "    print('  crs when creating buffer: {}'.format(gdf.crs))\n",
    "    gdf_buffer = gdf[['objectid', 'geometry']].copy()\n",
    "    gdf_buffer['geometry'] = gdf_buffer['geometry'].buffer(804.67)\n",
    "    return gdf_buffer\n",
    "\n",
    "def dissolve_shape(gdf, shape_type):\n",
    "    gdf_temp = gdf.copy()\n",
    "    gdf_temp['shape_type'] = shape_type\n",
    "    gdf_dissolved = gdf_temp.dissolve(by='shape_type').reset_index()[['geometry', 'shape_type']]\n",
    "    return gdf_dissolved"
   ]
  },
  {
   "cell_type": "code",
   "execution_count": 11,
   "metadata": {},
   "outputs": [],
   "source": [
    "def create_and_export_buffer(point_gdf,\n",
    "                             quart_shape_type, quart_export_name,\n",
    "                             half_shape_name, half_export_name):\n",
    "    \n",
    "    gdf = point_gdf.copy()\n",
    "\n",
    "    print('convert to crs 26910')\n",
    "    gdf_prj = crs_to_26910(gdf)\n",
    "\n",
    "    print('create quarter mile buffer')\n",
    "    gdf_qrt_ml_buffer_prj = qrt_ml_buffer(gdf_prj)\n",
    "    print('dissolve')\n",
    "    gdf_qrt_ml_buffer_prj_dissolved = dissolve_shape(gdf_qrt_ml_buffer_prj, quart_shape_type)\n",
    "    print('convert back to crs 4326')\n",
    "    gdf_qrt_ml_buffer_dissolved = crs_to_4326(gdf_qrt_ml_buffer_prj_dissolved)\n",
    "    print('export {} with final crs: {}'.format(quart_export_name,\n",
    "                                                gdf_qrt_ml_buffer_dissolved.crs))\n",
    "    gdf_qrt_ml_buffer_dissolved.to_file(os.path.join(export_folder, quart_export_name))\n",
    "\n",
    "    print('create half mile buffer')\n",
    "    gdf_hal_ml_buffer_prj = hlf_ml_buffer(gdf_prj)\n",
    "    print('dissolve')\n",
    "    gdf_hal_ml_buffer_prj_dissolved = dissolve_shape(gdf_hal_ml_buffer_prj, half_shape_name)\n",
    "    print('convert back to crs 4326')\n",
    "    gdf_hal_ml_buffer_dissolved = crs_to_4326(gdf_hal_ml_buffer_prj_dissolved)\n",
    "    print('export {} with final crs: {}'.format(half_export_name,\n",
    "                                                gdf_hal_ml_buffer_dissolved.crs))\n",
    "    gdf_hal_ml_buffer_dissolved.to_file(os.path.join(export_folder, half_export_name))"
   ]
  },
  {
   "cell_type": "code",
   "execution_count": 12,
   "metadata": {},
   "outputs": [
    {
     "name": "stdout",
     "output_type": "stream",
     "text": [
      "convert to crs 26910\n",
      "  crs before conversion: {'init': 'epsg:4326'}\n",
      "create quarter mile buffer\n",
      "  crs when creating buffer: {'init': 'epsg:26910', 'no_defs': True}\n",
      "dissolve\n",
      "convert back to crs 4326\n",
      "  crs before conversion: {'init': 'epsg:26910', 'no_defs': True}\n",
      "export 2015_quarter_mile_buffer.shp with final crs: {'init': 'epsg:4326', 'no_defs': True}\n",
      "create half mile buffer\n",
      "  crs when creating buffer: {'init': 'epsg:26910', 'no_defs': True}\n",
      "dissolve\n",
      "convert back to crs 4326\n",
      "  crs before conversion: {'init': 'epsg:26910', 'no_defs': True}\n",
      "export 2015_half_mile_buffer.shp with final crs: {'init': 'epsg:4326', 'no_defs': True}\n"
     ]
    }
   ],
   "source": [
    "create_and_export_buffer(stop_2015,\n",
    "                         '2015_quarter_mile', '2015_quarter_mile_buffer.shp',\n",
    "                         '2015_half_mile', '2015_half_mile_buffer.shp')"
   ]
  },
  {
   "cell_type": "code",
   "execution_count": 13,
   "metadata": {},
   "outputs": [
    {
     "name": "stdout",
     "output_type": "stream",
     "text": [
      "convert to crs 26910\n",
      "  crs before conversion: {'init': 'epsg:4326'}\n",
      "create quarter mile buffer\n",
      "  crs when creating buffer: {'init': 'epsg:26910', 'no_defs': True}\n",
      "dissolve\n",
      "convert back to crs 4326\n",
      "  crs before conversion: {'init': 'epsg:26910', 'no_defs': True}\n",
      "export 2035_quarter_mile_buffer.shp with final crs: {'init': 'epsg:4326', 'no_defs': True}\n",
      "create half mile buffer\n",
      "  crs when creating buffer: {'init': 'epsg:26910', 'no_defs': True}\n",
      "dissolve\n",
      "convert back to crs 4326\n",
      "  crs before conversion: {'init': 'epsg:26910', 'no_defs': True}\n",
      "export 2035_half_mile_buffer.shp with final crs: {'init': 'epsg:4326', 'no_defs': True}\n"
     ]
    }
   ],
   "source": [
    "create_and_export_buffer(stop_2035,\n",
    "                         '2035_quarter_mile', '2035_quarter_mile_buffer.shp',\n",
    "                         '2035_half_mile', '2035_half_mile_buffer.shp')"
   ]
  },
  {
   "cell_type": "code",
   "execution_count": 14,
   "metadata": {},
   "outputs": [
    {
     "name": "stdout",
     "output_type": "stream",
     "text": [
      "convert to crs 26910\n",
      "  crs before conversion: {'init': 'epsg:4326'}\n",
      "create quarter mile buffer\n",
      "  crs when creating buffer: {'init': 'epsg:26910', 'no_defs': True}\n",
      "dissolve\n",
      "convert back to crs 4326\n",
      "  crs before conversion: {'init': 'epsg:26910', 'no_defs': True}\n",
      "export 2015_tpa_quarter_mile_buffer.shp with final crs: {'init': 'epsg:4326', 'no_defs': True}\n",
      "create half mile buffer\n",
      "  crs when creating buffer: {'init': 'epsg:26910', 'no_defs': True}\n",
      "dissolve\n",
      "convert back to crs 4326\n",
      "  crs before conversion: {'init': 'epsg:26910', 'no_defs': True}\n",
      "export 2015_tpa_half_mile_buffer.shp with final crs: {'init': 'epsg:4326', 'no_defs': True}\n"
     ]
    }
   ],
   "source": [
    "create_and_export_buffer(stop_2015_tpa,\n",
    "                         '2015_tpa_quarter_mile', '2015_tpa_quarter_mile_buffer.shp',\n",
    "                         '2015_tpa_half_mile', '2015_tpa_half_mile_buffer.shp')"
   ]
  },
  {
   "cell_type": "code",
   "execution_count": 15,
   "metadata": {},
   "outputs": [
    {
     "name": "stdout",
     "output_type": "stream",
     "text": [
      "convert to crs 26910\n",
      "  crs before conversion: {'init': 'epsg:4326'}\n",
      "create quarter mile buffer\n",
      "  crs when creating buffer: {'init': 'epsg:26910', 'no_defs': True}\n",
      "dissolve\n",
      "convert back to crs 4326\n",
      "  crs before conversion: {'init': 'epsg:26910', 'no_defs': True}\n",
      "export 2035_tpa_quarter_mile_buffer.shp with final crs: {'init': 'epsg:4326', 'no_defs': True}\n",
      "create half mile buffer\n",
      "  crs when creating buffer: {'init': 'epsg:26910', 'no_defs': True}\n",
      "dissolve\n",
      "convert back to crs 4326\n",
      "  crs before conversion: {'init': 'epsg:26910', 'no_defs': True}\n",
      "export 2035_tpa_half_mile_buffer.shp with final crs: {'init': 'epsg:4326', 'no_defs': True}\n"
     ]
    }
   ],
   "source": [
    "create_and_export_buffer(stop_2035_tpa,\n",
    "                         '2035_tpa_quarter_mile', '2035_tpa_quarter_mile_buffer.shp',\n",
    "                         '2035_tpa_half_mile', '2035_tpa_half_mile_buffer.shp')"
   ]
  },
  {
   "cell_type": "markdown",
   "metadata": {},
   "source": [
    "### Label parcels based on transit station and stop buffers"
   ]
  },
  {
   "cell_type": "code",
   "execution_count": 17,
   "metadata": {},
   "outputs": [
    {
     "name": "stdout",
     "output_type": "stream",
     "text": [
      "['p10_parcels_mazs_TM2_v2_2', 'p10_parcels_mazs_TM2_v2_2_Di', 'mazs_TM2_v2_2_Project', 'p10_pba50_2020_07_16', 'p10_pba50_2020_07_16_MAZ', 'p10_no_MAZ_from_spatial_join', 'p10_no_MAZ_from_spatial_join_tbl', 'p10_no_MAZ_from_spatial_join_fix', 'p10_no_MAZ_from_spatial_join_fix_tbl', 'p10_pba50_2020_07_16_MAZ_tbl', 'p10_no_MAZ_from_spatial_join_fix_nonZeroHH999999_tbl']\n"
     ]
    }
   ],
   "source": [
    "# read parcel spatial file\n",
    "# use the p10 file I created when rebuilding the parcel-MAZ lookup table:\n",
    "#     did \"repair geometry\" in ArcGIS on \"p10_pba50.shp\" in smelt/2020_07_16, creating \"p10_pba50_2020_07_16\",\n",
    "#     which has 1,956,207 records, one less than the original shapefile.\n",
    "\n",
    "p10_gdb = 'M:\\\\Data\\\\GIS layers\\\\p10_TM2_maz\\\\p10_maz\\\\p10_maz.gdb'\n",
    "print(fiona.listlayers(p10_gdb))\n",
    "\n",
    "p10 = gpd.read_file(p10_gdb, layer='p10_pba50_2020_07_16')\n",
    "p10['PARCEL_ID'] = p10['PARCEL_ID'].apply(lambda x: int(round(x)))"
   ]
  },
  {
   "cell_type": "code",
   "execution_count": 31,
   "metadata": {},
   "outputs": [
    {
     "data": {
      "text/html": [
       "<div>\n",
       "<style scoped>\n",
       "    .dataframe tbody tr th:only-of-type {\n",
       "        vertical-align: middle;\n",
       "    }\n",
       "\n",
       "    .dataframe tbody tr th {\n",
       "        vertical-align: top;\n",
       "    }\n",
       "\n",
       "    .dataframe thead th {\n",
       "        text-align: right;\n",
       "    }\n",
       "</style>\n",
       "<table border=\"1\" class=\"dataframe\">\n",
       "  <thead>\n",
       "    <tr style=\"text-align: right;\">\n",
       "      <th></th>\n",
       "      <th>PARCEL_ID</th>\n",
       "      <th>geometry</th>\n",
       "    </tr>\n",
       "  </thead>\n",
       "  <tbody>\n",
       "    <tr>\n",
       "      <th>0</th>\n",
       "      <td>229116</td>\n",
       "      <td>POINT (606025.249 4168247.936)</td>\n",
       "    </tr>\n",
       "    <tr>\n",
       "      <th>1</th>\n",
       "      <td>244166</td>\n",
       "      <td>POINT (613476.864 4175240.901)</td>\n",
       "    </tr>\n",
       "    <tr>\n",
       "      <th>2</th>\n",
       "      <td>202378</td>\n",
       "      <td>POINT (586912.561 4168032.862)</td>\n",
       "    </tr>\n",
       "    <tr>\n",
       "      <th>3</th>\n",
       "      <td>2004420</td>\n",
       "      <td>POINT (519835.674 4286835.430)</td>\n",
       "    </tr>\n",
       "    <tr>\n",
       "      <th>4</th>\n",
       "      <td>340332</td>\n",
       "      <td>POINT (590632.133 4155968.574)</td>\n",
       "    </tr>\n",
       "    <tr>\n",
       "      <th>...</th>\n",
       "      <td>...</td>\n",
       "      <td>...</td>\n",
       "    </tr>\n",
       "    <tr>\n",
       "      <th>1956202</th>\n",
       "      <td>580747</td>\n",
       "      <td>POINT (601818.309 4205496.027)</td>\n",
       "    </tr>\n",
       "    <tr>\n",
       "      <th>1956203</th>\n",
       "      <td>594355</td>\n",
       "      <td>POINT (585294.475 4205576.421)</td>\n",
       "    </tr>\n",
       "    <tr>\n",
       "      <th>1956204</th>\n",
       "      <td>804156</td>\n",
       "      <td>POINT (536941.268 4216709.168)</td>\n",
       "    </tr>\n",
       "    <tr>\n",
       "      <th>1956205</th>\n",
       "      <td>646401</td>\n",
       "      <td>POINT (596328.067 4184632.324)</td>\n",
       "    </tr>\n",
       "    <tr>\n",
       "      <th>1956206</th>\n",
       "      <td>782909</td>\n",
       "      <td>POINT (543842.099 4191737.684)</td>\n",
       "    </tr>\n",
       "  </tbody>\n",
       "</table>\n",
       "<p>1956207 rows × 2 columns</p>\n",
       "</div>"
      ],
      "text/plain": [
       "         PARCEL_ID                        geometry\n",
       "0           229116  POINT (606025.249 4168247.936)\n",
       "1           244166  POINT (613476.864 4175240.901)\n",
       "2           202378  POINT (586912.561 4168032.862)\n",
       "3          2004420  POINT (519835.674 4286835.430)\n",
       "4           340332  POINT (590632.133 4155968.574)\n",
       "...            ...                             ...\n",
       "1956202     580747  POINT (601818.309 4205496.027)\n",
       "1956203     594355  POINT (585294.475 4205576.421)\n",
       "1956204     804156  POINT (536941.268 4216709.168)\n",
       "1956205     646401  POINT (596328.067 4184632.324)\n",
       "1956206     782909  POINT (543842.099 4191737.684)\n",
       "\n",
       "[1956207 rows x 2 columns]"
      ]
     },
     "metadata": {},
     "output_type": "display_data"
    },
    {
     "name": "stdout",
     "output_type": "stream",
     "text": [
      "{'init': 'epsg:26910'}\n",
      "  crs before conversion: {'init': 'epsg:26910'}\n",
      "{'init': 'epsg:26910', 'no_defs': True}\n"
     ]
    }
   ],
   "source": [
    "# create point geometries to represent p10 parcel centroids\n",
    "p10_point = p10.copy()[['PARCEL_ID', 'geometry']]\n",
    "p10_point['point_geometry'] = p10_point.representative_point()\n",
    "p10_point.drop(columns=['geometry'], inplace=True)\n",
    "p10_point.rename(columns = {'point_geometry': 'geometry'}, inplace=True)\n",
    "display(p10_point)\n",
    "\n",
    "print(p10_point.crs)\n",
    "p10_point_prj = crs_to_26910(p10_point)\n",
    "print(p10_point_prj.crs)"
   ]
  },
  {
   "cell_type": "code",
   "execution_count": 40,
   "metadata": {},
   "outputs": [],
   "source": [
    "def tag_parcel(parcel_point, buffer_file, tag_name):\n",
    "    buffer_df = gpd.read_file(os.path.join(export_folder, buffer_file))\n",
    "    buffer_df_prj = crs_to_26910(buffer_df)\n",
    "    print(buffer_df_prj.crs)\n",
    "    \n",
    "    p10_buffer_join = gpd.sjoin(parcel_point, buffer_df_prj, how=\"left\", op=\"within\")\n",
    "    print(p10_buffer_join.shape)\n",
    "    display(p10_buffer_join.head(3))\n",
    "#     display(p10_buffer_join.loc[p10_buffer_join.PARCEL_ID.isin([1780128, 1780986, 1780316])])\n",
    "\n",
    "    p10_buffer_join[tag_name] = 'Y'\n",
    "    p10_buffer_join.loc[p10_buffer_join.index_right.isnull(), tag_name] = 'N'\n",
    "    p10_tag = p10_buffer_join[['PARCEL_ID', tag_name]].drop_duplicates()\n",
    "    print(p10_tag.shape)\n",
    "    print(p10_tag[tag_name].value_counts())\n",
    "    \n",
    "    return p10_tag"
   ]
  },
  {
   "cell_type": "code",
   "execution_count": 41,
   "metadata": {},
   "outputs": [
    {
     "name": "stdout",
     "output_type": "stream",
     "text": [
      "  crs before conversion: {'init': 'epsg:4326'}\n",
      "{'init': 'epsg:26910', 'no_defs': True}\n",
      "(1956207, 4)\n"
     ]
    },
    {
     "data": {
      "text/html": [
       "<div>\n",
       "<style scoped>\n",
       "    .dataframe tbody tr th:only-of-type {\n",
       "        vertical-align: middle;\n",
       "    }\n",
       "\n",
       "    .dataframe tbody tr th {\n",
       "        vertical-align: top;\n",
       "    }\n",
       "\n",
       "    .dataframe thead th {\n",
       "        text-align: right;\n",
       "    }\n",
       "</style>\n",
       "<table border=\"1\" class=\"dataframe\">\n",
       "  <thead>\n",
       "    <tr style=\"text-align: right;\">\n",
       "      <th></th>\n",
       "      <th>PARCEL_ID</th>\n",
       "      <th>geometry</th>\n",
       "      <th>index_right</th>\n",
       "      <th>shape_type</th>\n",
       "    </tr>\n",
       "  </thead>\n",
       "  <tbody>\n",
       "    <tr>\n",
       "      <th>0</th>\n",
       "      <td>229116</td>\n",
       "      <td>POINT (606025.249 4168247.936)</td>\n",
       "      <td>NaN</td>\n",
       "      <td>NaN</td>\n",
       "    </tr>\n",
       "    <tr>\n",
       "      <th>1</th>\n",
       "      <td>244166</td>\n",
       "      <td>POINT (613476.864 4175240.901)</td>\n",
       "      <td>0.0</td>\n",
       "      <td>2015_half_mile</td>\n",
       "    </tr>\n",
       "    <tr>\n",
       "      <th>2</th>\n",
       "      <td>202378</td>\n",
       "      <td>POINT (586912.561 4168032.862)</td>\n",
       "      <td>0.0</td>\n",
       "      <td>2015_half_mile</td>\n",
       "    </tr>\n",
       "  </tbody>\n",
       "</table>\n",
       "</div>"
      ],
      "text/plain": [
       "   PARCEL_ID                        geometry  index_right      shape_type\n",
       "0     229116  POINT (606025.249 4168247.936)          NaN             NaN\n",
       "1     244166  POINT (613476.864 4175240.901)          0.0  2015_half_mile\n",
       "2     202378  POINT (586912.561 4168032.862)          0.0  2015_half_mile"
      ]
     },
     "metadata": {},
     "output_type": "display_data"
    },
    {
     "name": "stdout",
     "output_type": "stream",
     "text": [
      "(1956207, 2)\n",
      "Y    1656802\n",
      "N     299405\n",
      "Name: hlf_ml_15, dtype: int64\n"
     ]
    }
   ],
   "source": [
    "p10_half_mile_buffer_2015 = tag_parcel(p10_point_prj, '2015_half_mile_buffer.shp', 'hlf_ml_15')"
   ]
  },
  {
   "cell_type": "code",
   "execution_count": 42,
   "metadata": {},
   "outputs": [
    {
     "name": "stdout",
     "output_type": "stream",
     "text": [
      "  crs before conversion: {'init': 'epsg:4326'}\n",
      "{'init': 'epsg:26910', 'no_defs': True}\n",
      "(1956207, 4)\n"
     ]
    },
    {
     "data": {
      "text/html": [
       "<div>\n",
       "<style scoped>\n",
       "    .dataframe tbody tr th:only-of-type {\n",
       "        vertical-align: middle;\n",
       "    }\n",
       "\n",
       "    .dataframe tbody tr th {\n",
       "        vertical-align: top;\n",
       "    }\n",
       "\n",
       "    .dataframe thead th {\n",
       "        text-align: right;\n",
       "    }\n",
       "</style>\n",
       "<table border=\"1\" class=\"dataframe\">\n",
       "  <thead>\n",
       "    <tr style=\"text-align: right;\">\n",
       "      <th></th>\n",
       "      <th>PARCEL_ID</th>\n",
       "      <th>geometry</th>\n",
       "      <th>index_right</th>\n",
       "      <th>shape_type</th>\n",
       "    </tr>\n",
       "  </thead>\n",
       "  <tbody>\n",
       "    <tr>\n",
       "      <th>0</th>\n",
       "      <td>229116</td>\n",
       "      <td>POINT (606025.249 4168247.936)</td>\n",
       "      <td>NaN</td>\n",
       "      <td>NaN</td>\n",
       "    </tr>\n",
       "    <tr>\n",
       "      <th>1</th>\n",
       "      <td>244166</td>\n",
       "      <td>POINT (613476.864 4175240.901)</td>\n",
       "      <td>NaN</td>\n",
       "      <td>NaN</td>\n",
       "    </tr>\n",
       "    <tr>\n",
       "      <th>2</th>\n",
       "      <td>202378</td>\n",
       "      <td>POINT (586912.561 4168032.862)</td>\n",
       "      <td>0.0</td>\n",
       "      <td>2015_quarter_mile</td>\n",
       "    </tr>\n",
       "  </tbody>\n",
       "</table>\n",
       "</div>"
      ],
      "text/plain": [
       "   PARCEL_ID                        geometry  index_right         shape_type\n",
       "0     229116  POINT (606025.249 4168247.936)          NaN                NaN\n",
       "1     244166  POINT (613476.864 4175240.901)          NaN                NaN\n",
       "2     202378  POINT (586912.561 4168032.862)          0.0  2015_quarter_mile"
      ]
     },
     "metadata": {},
     "output_type": "display_data"
    },
    {
     "name": "stdout",
     "output_type": "stream",
     "text": [
      "(1956207, 2)\n",
      "Y    1300466\n",
      "N     655741\n",
      "Name: qrt_ml_15, dtype: int64\n"
     ]
    }
   ],
   "source": [
    "p10_quarter_mile_buffer_2015 = tag_parcel(p10_point_prj, '2015_quarter_mile_buffer.shp', 'qrt_ml_15')"
   ]
  },
  {
   "cell_type": "code",
   "execution_count": 43,
   "metadata": {},
   "outputs": [
    {
     "name": "stdout",
     "output_type": "stream",
     "text": [
      "  crs before conversion: {'init': 'epsg:4326'}\n",
      "{'init': 'epsg:26910', 'no_defs': True}\n",
      "(1956207, 4)\n"
     ]
    },
    {
     "data": {
      "text/html": [
       "<div>\n",
       "<style scoped>\n",
       "    .dataframe tbody tr th:only-of-type {\n",
       "        vertical-align: middle;\n",
       "    }\n",
       "\n",
       "    .dataframe tbody tr th {\n",
       "        vertical-align: top;\n",
       "    }\n",
       "\n",
       "    .dataframe thead th {\n",
       "        text-align: right;\n",
       "    }\n",
       "</style>\n",
       "<table border=\"1\" class=\"dataframe\">\n",
       "  <thead>\n",
       "    <tr style=\"text-align: right;\">\n",
       "      <th></th>\n",
       "      <th>PARCEL_ID</th>\n",
       "      <th>geometry</th>\n",
       "      <th>index_right</th>\n",
       "      <th>shape_type</th>\n",
       "    </tr>\n",
       "  </thead>\n",
       "  <tbody>\n",
       "    <tr>\n",
       "      <th>0</th>\n",
       "      <td>229116</td>\n",
       "      <td>POINT (606025.249 4168247.936)</td>\n",
       "      <td>NaN</td>\n",
       "      <td>NaN</td>\n",
       "    </tr>\n",
       "    <tr>\n",
       "      <th>1</th>\n",
       "      <td>244166</td>\n",
       "      <td>POINT (613476.864 4175240.901)</td>\n",
       "      <td>0.0</td>\n",
       "      <td>2035_half_mile</td>\n",
       "    </tr>\n",
       "    <tr>\n",
       "      <th>2</th>\n",
       "      <td>202378</td>\n",
       "      <td>POINT (586912.561 4168032.862)</td>\n",
       "      <td>0.0</td>\n",
       "      <td>2035_half_mile</td>\n",
       "    </tr>\n",
       "  </tbody>\n",
       "</table>\n",
       "</div>"
      ],
      "text/plain": [
       "   PARCEL_ID                        geometry  index_right      shape_type\n",
       "0     229116  POINT (606025.249 4168247.936)          NaN             NaN\n",
       "1     244166  POINT (613476.864 4175240.901)          0.0  2035_half_mile\n",
       "2     202378  POINT (586912.561 4168032.862)          0.0  2035_half_mile"
      ]
     },
     "metadata": {},
     "output_type": "display_data"
    },
    {
     "name": "stdout",
     "output_type": "stream",
     "text": [
      "(1956207, 2)\n",
      "Y    1657070\n",
      "N     299137\n",
      "Name: hlf_ml_35, dtype: int64\n"
     ]
    }
   ],
   "source": [
    "p10_half_mile_buffer_2035 = tag_parcel(p10_point_prj, '2035_half_mile_buffer.shp', 'hlf_ml_35')"
   ]
  },
  {
   "cell_type": "code",
   "execution_count": 44,
   "metadata": {},
   "outputs": [
    {
     "name": "stdout",
     "output_type": "stream",
     "text": [
      "  crs before conversion: {'init': 'epsg:4326'}\n",
      "{'init': 'epsg:26910', 'no_defs': True}\n",
      "(1956207, 4)\n"
     ]
    },
    {
     "data": {
      "text/html": [
       "<div>\n",
       "<style scoped>\n",
       "    .dataframe tbody tr th:only-of-type {\n",
       "        vertical-align: middle;\n",
       "    }\n",
       "\n",
       "    .dataframe tbody tr th {\n",
       "        vertical-align: top;\n",
       "    }\n",
       "\n",
       "    .dataframe thead th {\n",
       "        text-align: right;\n",
       "    }\n",
       "</style>\n",
       "<table border=\"1\" class=\"dataframe\">\n",
       "  <thead>\n",
       "    <tr style=\"text-align: right;\">\n",
       "      <th></th>\n",
       "      <th>PARCEL_ID</th>\n",
       "      <th>geometry</th>\n",
       "      <th>index_right</th>\n",
       "      <th>shape_type</th>\n",
       "    </tr>\n",
       "  </thead>\n",
       "  <tbody>\n",
       "    <tr>\n",
       "      <th>0</th>\n",
       "      <td>229116</td>\n",
       "      <td>POINT (606025.249 4168247.936)</td>\n",
       "      <td>NaN</td>\n",
       "      <td>NaN</td>\n",
       "    </tr>\n",
       "    <tr>\n",
       "      <th>1</th>\n",
       "      <td>244166</td>\n",
       "      <td>POINT (613476.864 4175240.901)</td>\n",
       "      <td>NaN</td>\n",
       "      <td>NaN</td>\n",
       "    </tr>\n",
       "    <tr>\n",
       "      <th>2</th>\n",
       "      <td>202378</td>\n",
       "      <td>POINT (586912.561 4168032.862)</td>\n",
       "      <td>0.0</td>\n",
       "      <td>2035_quarter_mile</td>\n",
       "    </tr>\n",
       "  </tbody>\n",
       "</table>\n",
       "</div>"
      ],
      "text/plain": [
       "   PARCEL_ID                        geometry  index_right         shape_type\n",
       "0     229116  POINT (606025.249 4168247.936)          NaN                NaN\n",
       "1     244166  POINT (613476.864 4175240.901)          NaN                NaN\n",
       "2     202378  POINT (586912.561 4168032.862)          0.0  2035_quarter_mile"
      ]
     },
     "metadata": {},
     "output_type": "display_data"
    },
    {
     "name": "stdout",
     "output_type": "stream",
     "text": [
      "(1956207, 2)\n",
      "Y    1301875\n",
      "N     654332\n",
      "Name: qrt_ml_35, dtype: int64\n"
     ]
    }
   ],
   "source": [
    "p10_quarter_mile_buffer_2035 = tag_parcel(p10_point_prj, '2035_quarter_mile_buffer.shp', 'qrt_ml_35')"
   ]
  },
  {
   "cell_type": "code",
   "execution_count": 45,
   "metadata": {},
   "outputs": [
    {
     "name": "stdout",
     "output_type": "stream",
     "text": [
      "  crs before conversion: {'init': 'epsg:4326'}\n",
      "{'init': 'epsg:26910', 'no_defs': True}\n",
      "(1956207, 4)\n"
     ]
    },
    {
     "data": {
      "text/html": [
       "<div>\n",
       "<style scoped>\n",
       "    .dataframe tbody tr th:only-of-type {\n",
       "        vertical-align: middle;\n",
       "    }\n",
       "\n",
       "    .dataframe tbody tr th {\n",
       "        vertical-align: top;\n",
       "    }\n",
       "\n",
       "    .dataframe thead th {\n",
       "        text-align: right;\n",
       "    }\n",
       "</style>\n",
       "<table border=\"1\" class=\"dataframe\">\n",
       "  <thead>\n",
       "    <tr style=\"text-align: right;\">\n",
       "      <th></th>\n",
       "      <th>PARCEL_ID</th>\n",
       "      <th>geometry</th>\n",
       "      <th>index_right</th>\n",
       "      <th>shape_type</th>\n",
       "    </tr>\n",
       "  </thead>\n",
       "  <tbody>\n",
       "    <tr>\n",
       "      <th>0</th>\n",
       "      <td>229116</td>\n",
       "      <td>POINT (606025.249 4168247.936)</td>\n",
       "      <td>NaN</td>\n",
       "      <td>NaN</td>\n",
       "    </tr>\n",
       "    <tr>\n",
       "      <th>1</th>\n",
       "      <td>244166</td>\n",
       "      <td>POINT (613476.864 4175240.901)</td>\n",
       "      <td>NaN</td>\n",
       "      <td>NaN</td>\n",
       "    </tr>\n",
       "    <tr>\n",
       "      <th>2</th>\n",
       "      <td>202378</td>\n",
       "      <td>POINT (586912.561 4168032.862)</td>\n",
       "      <td>NaN</td>\n",
       "      <td>NaN</td>\n",
       "    </tr>\n",
       "  </tbody>\n",
       "</table>\n",
       "</div>"
      ],
      "text/plain": [
       "   PARCEL_ID                        geometry  index_right shape_type\n",
       "0     229116  POINT (606025.249 4168247.936)          NaN        NaN\n",
       "1     244166  POINT (613476.864 4175240.901)          NaN        NaN\n",
       "2     202378  POINT (586912.561 4168032.862)          NaN        NaN"
      ]
     },
     "metadata": {},
     "output_type": "display_data"
    },
    {
     "name": "stdout",
     "output_type": "stream",
     "text": [
      "(1956207, 2)\n",
      "N    1183153\n",
      "Y     773054\n",
      "Name: tpa_hlf_ml_15, dtype: int64\n"
     ]
    }
   ],
   "source": [
    "p10_tpa_half_mile_buffer_2015 = tag_parcel(p10_point_prj, '2015_tpa_half_mile_buffer.shp', 'tpa_hlf_ml_15')"
   ]
  },
  {
   "cell_type": "code",
   "execution_count": 46,
   "metadata": {},
   "outputs": [
    {
     "name": "stdout",
     "output_type": "stream",
     "text": [
      "  crs before conversion: {'init': 'epsg:4326'}\n",
      "{'init': 'epsg:26910', 'no_defs': True}\n",
      "(1956207, 4)\n"
     ]
    },
    {
     "data": {
      "text/html": [
       "<div>\n",
       "<style scoped>\n",
       "    .dataframe tbody tr th:only-of-type {\n",
       "        vertical-align: middle;\n",
       "    }\n",
       "\n",
       "    .dataframe tbody tr th {\n",
       "        vertical-align: top;\n",
       "    }\n",
       "\n",
       "    .dataframe thead th {\n",
       "        text-align: right;\n",
       "    }\n",
       "</style>\n",
       "<table border=\"1\" class=\"dataframe\">\n",
       "  <thead>\n",
       "    <tr style=\"text-align: right;\">\n",
       "      <th></th>\n",
       "      <th>PARCEL_ID</th>\n",
       "      <th>geometry</th>\n",
       "      <th>index_right</th>\n",
       "      <th>shape_type</th>\n",
       "    </tr>\n",
       "  </thead>\n",
       "  <tbody>\n",
       "    <tr>\n",
       "      <th>0</th>\n",
       "      <td>229116</td>\n",
       "      <td>POINT (606025.249 4168247.936)</td>\n",
       "      <td>NaN</td>\n",
       "      <td>NaN</td>\n",
       "    </tr>\n",
       "    <tr>\n",
       "      <th>1</th>\n",
       "      <td>244166</td>\n",
       "      <td>POINT (613476.864 4175240.901)</td>\n",
       "      <td>NaN</td>\n",
       "      <td>NaN</td>\n",
       "    </tr>\n",
       "    <tr>\n",
       "      <th>2</th>\n",
       "      <td>202378</td>\n",
       "      <td>POINT (586912.561 4168032.862)</td>\n",
       "      <td>NaN</td>\n",
       "      <td>NaN</td>\n",
       "    </tr>\n",
       "  </tbody>\n",
       "</table>\n",
       "</div>"
      ],
      "text/plain": [
       "   PARCEL_ID                        geometry  index_right shape_type\n",
       "0     229116  POINT (606025.249 4168247.936)          NaN        NaN\n",
       "1     244166  POINT (613476.864 4175240.901)          NaN        NaN\n",
       "2     202378  POINT (586912.561 4168032.862)          NaN        NaN"
      ]
     },
     "metadata": {},
     "output_type": "display_data"
    },
    {
     "name": "stdout",
     "output_type": "stream",
     "text": [
      "(1956207, 2)\n",
      "N    1414674\n",
      "Y     541533\n",
      "Name: tpa_qrt_ml_15, dtype: int64\n"
     ]
    }
   ],
   "source": [
    "p10_tpa_quarter_mile_buffer_2015 = tag_parcel(p10_point_prj, '2015_tpa_quarter_mile_buffer.shp', 'tpa_qrt_ml_15')"
   ]
  },
  {
   "cell_type": "code",
   "execution_count": 47,
   "metadata": {},
   "outputs": [
    {
     "name": "stdout",
     "output_type": "stream",
     "text": [
      "  crs before conversion: {'init': 'epsg:4326'}\n",
      "{'init': 'epsg:26910', 'no_defs': True}\n",
      "(1956207, 4)\n"
     ]
    },
    {
     "data": {
      "text/html": [
       "<div>\n",
       "<style scoped>\n",
       "    .dataframe tbody tr th:only-of-type {\n",
       "        vertical-align: middle;\n",
       "    }\n",
       "\n",
       "    .dataframe tbody tr th {\n",
       "        vertical-align: top;\n",
       "    }\n",
       "\n",
       "    .dataframe thead th {\n",
       "        text-align: right;\n",
       "    }\n",
       "</style>\n",
       "<table border=\"1\" class=\"dataframe\">\n",
       "  <thead>\n",
       "    <tr style=\"text-align: right;\">\n",
       "      <th></th>\n",
       "      <th>PARCEL_ID</th>\n",
       "      <th>geometry</th>\n",
       "      <th>index_right</th>\n",
       "      <th>shape_type</th>\n",
       "    </tr>\n",
       "  </thead>\n",
       "  <tbody>\n",
       "    <tr>\n",
       "      <th>0</th>\n",
       "      <td>229116</td>\n",
       "      <td>POINT (606025.249 4168247.936)</td>\n",
       "      <td>NaN</td>\n",
       "      <td>NaN</td>\n",
       "    </tr>\n",
       "    <tr>\n",
       "      <th>1</th>\n",
       "      <td>244166</td>\n",
       "      <td>POINT (613476.864 4175240.901)</td>\n",
       "      <td>NaN</td>\n",
       "      <td>NaN</td>\n",
       "    </tr>\n",
       "    <tr>\n",
       "      <th>2</th>\n",
       "      <td>202378</td>\n",
       "      <td>POINT (586912.561 4168032.862)</td>\n",
       "      <td>NaN</td>\n",
       "      <td>NaN</td>\n",
       "    </tr>\n",
       "  </tbody>\n",
       "</table>\n",
       "</div>"
      ],
      "text/plain": [
       "   PARCEL_ID                        geometry  index_right shape_type\n",
       "0     229116  POINT (606025.249 4168247.936)          NaN        NaN\n",
       "1     244166  POINT (613476.864 4175240.901)          NaN        NaN\n",
       "2     202378  POINT (586912.561 4168032.862)          NaN        NaN"
      ]
     },
     "metadata": {},
     "output_type": "display_data"
    },
    {
     "name": "stdout",
     "output_type": "stream",
     "text": [
      "(1956207, 2)\n",
      "N    1182341\n",
      "Y     773866\n",
      "Name: tpa_hlf_ml_35, dtype: int64\n"
     ]
    }
   ],
   "source": [
    "p10_tpa_half_mile_buffer_2035 = tag_parcel(p10_point_prj, '2035_tpa_half_mile_buffer.shp', 'tpa_hlf_ml_35')"
   ]
  },
  {
   "cell_type": "code",
   "execution_count": 48,
   "metadata": {},
   "outputs": [
    {
     "name": "stdout",
     "output_type": "stream",
     "text": [
      "  crs before conversion: {'init': 'epsg:4326'}\n",
      "{'init': 'epsg:26910', 'no_defs': True}\n",
      "(1956207, 4)\n"
     ]
    },
    {
     "data": {
      "text/html": [
       "<div>\n",
       "<style scoped>\n",
       "    .dataframe tbody tr th:only-of-type {\n",
       "        vertical-align: middle;\n",
       "    }\n",
       "\n",
       "    .dataframe tbody tr th {\n",
       "        vertical-align: top;\n",
       "    }\n",
       "\n",
       "    .dataframe thead th {\n",
       "        text-align: right;\n",
       "    }\n",
       "</style>\n",
       "<table border=\"1\" class=\"dataframe\">\n",
       "  <thead>\n",
       "    <tr style=\"text-align: right;\">\n",
       "      <th></th>\n",
       "      <th>PARCEL_ID</th>\n",
       "      <th>geometry</th>\n",
       "      <th>index_right</th>\n",
       "      <th>shape_type</th>\n",
       "    </tr>\n",
       "  </thead>\n",
       "  <tbody>\n",
       "    <tr>\n",
       "      <th>0</th>\n",
       "      <td>229116</td>\n",
       "      <td>POINT (606025.249 4168247.936)</td>\n",
       "      <td>NaN</td>\n",
       "      <td>NaN</td>\n",
       "    </tr>\n",
       "    <tr>\n",
       "      <th>1</th>\n",
       "      <td>244166</td>\n",
       "      <td>POINT (613476.864 4175240.901)</td>\n",
       "      <td>NaN</td>\n",
       "      <td>NaN</td>\n",
       "    </tr>\n",
       "    <tr>\n",
       "      <th>2</th>\n",
       "      <td>202378</td>\n",
       "      <td>POINT (586912.561 4168032.862)</td>\n",
       "      <td>NaN</td>\n",
       "      <td>NaN</td>\n",
       "    </tr>\n",
       "  </tbody>\n",
       "</table>\n",
       "</div>"
      ],
      "text/plain": [
       "   PARCEL_ID                        geometry  index_right shape_type\n",
       "0     229116  POINT (606025.249 4168247.936)          NaN        NaN\n",
       "1     244166  POINT (613476.864 4175240.901)          NaN        NaN\n",
       "2     202378  POINT (586912.561 4168032.862)          NaN        NaN"
      ]
     },
     "metadata": {},
     "output_type": "display_data"
    },
    {
     "name": "stdout",
     "output_type": "stream",
     "text": [
      "(1956207, 2)\n",
      "N    1413265\n",
      "Y     542942\n",
      "Name: tpa_qrt_ml_35, dtype: int64\n"
     ]
    }
   ],
   "source": [
    "p10_tpa_quarter_mile_buffer_2035 = tag_parcel(p10_point_prj, '2035_tpa_quarter_mile_buffer.shp', 'tpa_qrt_ml_35')"
   ]
  },
  {
   "cell_type": "code",
   "execution_count": 66,
   "metadata": {},
   "outputs": [
    {
     "data": {
      "text/html": [
       "<div>\n",
       "<style scoped>\n",
       "    .dataframe tbody tr th:only-of-type {\n",
       "        vertical-align: middle;\n",
       "    }\n",
       "\n",
       "    .dataframe tbody tr th {\n",
       "        vertical-align: top;\n",
       "    }\n",
       "\n",
       "    .dataframe thead th {\n",
       "        text-align: right;\n",
       "    }\n",
       "</style>\n",
       "<table border=\"1\" class=\"dataframe\">\n",
       "  <thead>\n",
       "    <tr style=\"text-align: right;\">\n",
       "      <th></th>\n",
       "      <th>PARCEL_ID</th>\n",
       "      <th>hlf_ml_15</th>\n",
       "      <th>qrt_ml_15</th>\n",
       "      <th>hlf_ml_35</th>\n",
       "      <th>qrt_ml_35</th>\n",
       "      <th>tpa_hlf_ml_15</th>\n",
       "      <th>tpa_qrt_ml_15</th>\n",
       "      <th>tpa_hlf_ml_35</th>\n",
       "      <th>tpa_qrt_ml_35</th>\n",
       "    </tr>\n",
       "  </thead>\n",
       "  <tbody>\n",
       "    <tr>\n",
       "      <th>0</th>\n",
       "      <td>229116</td>\n",
       "      <td>N</td>\n",
       "      <td>N</td>\n",
       "      <td>N</td>\n",
       "      <td>N</td>\n",
       "      <td>N</td>\n",
       "      <td>N</td>\n",
       "      <td>N</td>\n",
       "      <td>N</td>\n",
       "    </tr>\n",
       "    <tr>\n",
       "      <th>1</th>\n",
       "      <td>244166</td>\n",
       "      <td>Y</td>\n",
       "      <td>N</td>\n",
       "      <td>Y</td>\n",
       "      <td>N</td>\n",
       "      <td>N</td>\n",
       "      <td>N</td>\n",
       "      <td>N</td>\n",
       "      <td>N</td>\n",
       "    </tr>\n",
       "    <tr>\n",
       "      <th>2</th>\n",
       "      <td>202378</td>\n",
       "      <td>Y</td>\n",
       "      <td>Y</td>\n",
       "      <td>Y</td>\n",
       "      <td>Y</td>\n",
       "      <td>N</td>\n",
       "      <td>N</td>\n",
       "      <td>N</td>\n",
       "      <td>N</td>\n",
       "    </tr>\n",
       "    <tr>\n",
       "      <th>3</th>\n",
       "      <td>2004420</td>\n",
       "      <td>N</td>\n",
       "      <td>N</td>\n",
       "      <td>N</td>\n",
       "      <td>N</td>\n",
       "      <td>N</td>\n",
       "      <td>N</td>\n",
       "      <td>N</td>\n",
       "      <td>N</td>\n",
       "    </tr>\n",
       "    <tr>\n",
       "      <th>4</th>\n",
       "      <td>340332</td>\n",
       "      <td>Y</td>\n",
       "      <td>Y</td>\n",
       "      <td>Y</td>\n",
       "      <td>Y</td>\n",
       "      <td>Y</td>\n",
       "      <td>N</td>\n",
       "      <td>Y</td>\n",
       "      <td>N</td>\n",
       "    </tr>\n",
       "    <tr>\n",
       "      <th>...</th>\n",
       "      <td>...</td>\n",
       "      <td>...</td>\n",
       "      <td>...</td>\n",
       "      <td>...</td>\n",
       "      <td>...</td>\n",
       "      <td>...</td>\n",
       "      <td>...</td>\n",
       "      <td>...</td>\n",
       "      <td>...</td>\n",
       "    </tr>\n",
       "    <tr>\n",
       "      <th>1956202</th>\n",
       "      <td>580747</td>\n",
       "      <td>Y</td>\n",
       "      <td>Y</td>\n",
       "      <td>Y</td>\n",
       "      <td>Y</td>\n",
       "      <td>N</td>\n",
       "      <td>N</td>\n",
       "      <td>N</td>\n",
       "      <td>N</td>\n",
       "    </tr>\n",
       "    <tr>\n",
       "      <th>1956203</th>\n",
       "      <td>594355</td>\n",
       "      <td>Y</td>\n",
       "      <td>Y</td>\n",
       "      <td>Y</td>\n",
       "      <td>Y</td>\n",
       "      <td>N</td>\n",
       "      <td>N</td>\n",
       "      <td>N</td>\n",
       "      <td>N</td>\n",
       "    </tr>\n",
       "    <tr>\n",
       "      <th>1956204</th>\n",
       "      <td>804156</td>\n",
       "      <td>Y</td>\n",
       "      <td>N</td>\n",
       "      <td>Y</td>\n",
       "      <td>N</td>\n",
       "      <td>Y</td>\n",
       "      <td>N</td>\n",
       "      <td>Y</td>\n",
       "      <td>N</td>\n",
       "    </tr>\n",
       "    <tr>\n",
       "      <th>1956205</th>\n",
       "      <td>646401</td>\n",
       "      <td>N</td>\n",
       "      <td>N</td>\n",
       "      <td>N</td>\n",
       "      <td>N</td>\n",
       "      <td>N</td>\n",
       "      <td>N</td>\n",
       "      <td>N</td>\n",
       "      <td>N</td>\n",
       "    </tr>\n",
       "    <tr>\n",
       "      <th>1956206</th>\n",
       "      <td>782909</td>\n",
       "      <td>Y</td>\n",
       "      <td>Y</td>\n",
       "      <td>Y</td>\n",
       "      <td>Y</td>\n",
       "      <td>N</td>\n",
       "      <td>N</td>\n",
       "      <td>N</td>\n",
       "      <td>N</td>\n",
       "    </tr>\n",
       "  </tbody>\n",
       "</table>\n",
       "<p>1956207 rows × 9 columns</p>\n",
       "</div>"
      ],
      "text/plain": [
       "         PARCEL_ID hlf_ml_15 qrt_ml_15 hlf_ml_35 qrt_ml_35 tpa_hlf_ml_15  \\\n",
       "0           229116         N         N         N         N             N   \n",
       "1           244166         Y         N         Y         N             N   \n",
       "2           202378         Y         Y         Y         Y             N   \n",
       "3          2004420         N         N         N         N             N   \n",
       "4           340332         Y         Y         Y         Y             Y   \n",
       "...            ...       ...       ...       ...       ...           ...   \n",
       "1956202     580747         Y         Y         Y         Y             N   \n",
       "1956203     594355         Y         Y         Y         Y             N   \n",
       "1956204     804156         Y         N         Y         N             Y   \n",
       "1956205     646401         N         N         N         N             N   \n",
       "1956206     782909         Y         Y         Y         Y             N   \n",
       "\n",
       "        tpa_qrt_ml_15 tpa_hlf_ml_35 tpa_qrt_ml_35  \n",
       "0                   N             N             N  \n",
       "1                   N             N             N  \n",
       "2                   N             N             N  \n",
       "3                   N             N             N  \n",
       "4                   N             Y             N  \n",
       "...               ...           ...           ...  \n",
       "1956202             N             N             N  \n",
       "1956203             N             N             N  \n",
       "1956204             N             Y             N  \n",
       "1956205             N             N             N  \n",
       "1956206             N             N             N  \n",
       "\n",
       "[1956207 rows x 9 columns]"
      ]
     },
     "metadata": {},
     "output_type": "display_data"
    }
   ],
   "source": [
    "# concatenate all parcel tagging dfs\n",
    "p10_all_tags = pd.concat([p10_half_mile_buffer_2015,\n",
    "                          p10_quarter_mile_buffer_2015,\n",
    "                          p10_half_mile_buffer_2035,\n",
    "                          p10_quarter_mile_buffer_2035,\n",
    "                          p10_tpa_half_mile_buffer_2015,\n",
    "                          p10_tpa_quarter_mile_buffer_2015,\n",
    "                          p10_tpa_half_mile_buffer_2035,\n",
    "                          p10_tpa_quarter_mile_buffer_2035], axis=1)\n",
    "\n",
    "# drop duplicated columns\n",
    "p10_all_tags = p10_all_tags.loc[:, ~p10_all_tags.columns.duplicated()]\n",
    "display(p10_all_tags)"
   ]
  },
  {
   "cell_type": "markdown",
   "metadata": {},
   "source": [
    "### Calculate housing units and jobs by buffer"
   ]
  },
  {
   "cell_type": "code",
   "execution_count": 62,
   "metadata": {},
   "outputs": [],
   "source": [
    "baus_folder = 'C:\\\\Users\\\\{}\\\\Box\\\\Modeling and Surveys\\\\Urban Modeling\\\\Bay Area UrbanSim\\\\PBA50\\\\Final Blueprint runs\\\\Final Blueprint (s24)\\\\BAUS v2.25 - FINAL VERSION'.format(os.getenv('USERNAME'))"
   ]
  },
  {
   "cell_type": "code",
   "execution_count": 79,
   "metadata": {},
   "outputs": [],
   "source": [
    "# read urbansim 2015 and 2035 parcel output\n",
    "p15 = pd.read_csv(os.path.join(baus_folder, 'run182_parcel_data_2015.csv'), usecols = ['parcel_id', 'residential_units', 'totemp'])\n",
    "p15.rename(columns = {'residential_units': 'residential_units_2015',\n",
    "                      'totemp': 'totemp_2015'}, inplace=True)\n",
    "p35 = pd.read_csv(os.path.join(baus_folder, 'run182_parcel_data_2035_UBI.csv'), usecols = ['parcel_id', 'residential_units', 'totemp'])\n",
    "p35.rename(columns = {'residential_units': 'residential_units_2035',\n",
    "                      'totemp': 'totemp_2035'}, inplace=True)"
   ]
  },
  {
   "cell_type": "code",
   "execution_count": 80,
   "metadata": {},
   "outputs": [
    {
     "data": {
      "text/html": [
       "<div>\n",
       "<style scoped>\n",
       "    .dataframe tbody tr th:only-of-type {\n",
       "        vertical-align: middle;\n",
       "    }\n",
       "\n",
       "    .dataframe tbody tr th {\n",
       "        vertical-align: top;\n",
       "    }\n",
       "\n",
       "    .dataframe thead th {\n",
       "        text-align: right;\n",
       "    }\n",
       "</style>\n",
       "<table border=\"1\" class=\"dataframe\">\n",
       "  <thead>\n",
       "    <tr style=\"text-align: right;\">\n",
       "      <th></th>\n",
       "      <th>parcel_id</th>\n",
       "      <th>residential_units_2015</th>\n",
       "      <th>totemp_2015</th>\n",
       "      <th>residential_units_2035</th>\n",
       "      <th>totemp_2035</th>\n",
       "    </tr>\n",
       "  </thead>\n",
       "  <tbody>\n",
       "    <tr>\n",
       "      <th>0</th>\n",
       "      <td>229116</td>\n",
       "      <td>NaN</td>\n",
       "      <td>NaN</td>\n",
       "      <td>NaN</td>\n",
       "      <td>NaN</td>\n",
       "    </tr>\n",
       "    <tr>\n",
       "      <th>1</th>\n",
       "      <td>244166</td>\n",
       "      <td>NaN</td>\n",
       "      <td>NaN</td>\n",
       "      <td>NaN</td>\n",
       "      <td>NaN</td>\n",
       "    </tr>\n",
       "    <tr>\n",
       "      <th>2</th>\n",
       "      <td>202378</td>\n",
       "      <td>33.0</td>\n",
       "      <td>NaN</td>\n",
       "      <td>34.0</td>\n",
       "      <td>NaN</td>\n",
       "    </tr>\n",
       "    <tr>\n",
       "      <th>3</th>\n",
       "      <td>2004420</td>\n",
       "      <td>0.0</td>\n",
       "      <td>NaN</td>\n",
       "      <td>0.0</td>\n",
       "      <td>NaN</td>\n",
       "    </tr>\n",
       "    <tr>\n",
       "      <th>4</th>\n",
       "      <td>340332</td>\n",
       "      <td>NaN</td>\n",
       "      <td>NaN</td>\n",
       "      <td>NaN</td>\n",
       "      <td>NaN</td>\n",
       "    </tr>\n",
       "  </tbody>\n",
       "</table>\n",
       "</div>"
      ],
      "text/plain": [
       "   parcel_id  residential_units_2015  totemp_2015  residential_units_2035  \\\n",
       "0     229116                     NaN          NaN                     NaN   \n",
       "1     244166                     NaN          NaN                     NaN   \n",
       "2     202378                    33.0          NaN                    34.0   \n",
       "3    2004420                     0.0          NaN                     0.0   \n",
       "4     340332                     NaN          NaN                     NaN   \n",
       "\n",
       "   totemp_2035  \n",
       "0          NaN  \n",
       "1          NaN  \n",
       "2          NaN  \n",
       "3          NaN  \n",
       "4          NaN  "
      ]
     },
     "metadata": {},
     "output_type": "display_data"
    },
    {
     "data": {
      "text/html": [
       "<div>\n",
       "<style scoped>\n",
       "    .dataframe tbody tr th:only-of-type {\n",
       "        vertical-align: middle;\n",
       "    }\n",
       "\n",
       "    .dataframe tbody tr th {\n",
       "        vertical-align: top;\n",
       "    }\n",
       "\n",
       "    .dataframe thead th {\n",
       "        text-align: right;\n",
       "    }\n",
       "</style>\n",
       "<table border=\"1\" class=\"dataframe\">\n",
       "  <thead>\n",
       "    <tr style=\"text-align: right;\">\n",
       "      <th></th>\n",
       "      <th>parcel_id</th>\n",
       "      <th>residential_units_2015</th>\n",
       "      <th>totemp_2015</th>\n",
       "      <th>residential_units_2035</th>\n",
       "      <th>totemp_2035</th>\n",
       "    </tr>\n",
       "  </thead>\n",
       "  <tbody>\n",
       "    <tr>\n",
       "      <th>0</th>\n",
       "      <td>229116</td>\n",
       "      <td>0.0</td>\n",
       "      <td>0.0</td>\n",
       "      <td>0.0</td>\n",
       "      <td>0.0</td>\n",
       "    </tr>\n",
       "    <tr>\n",
       "      <th>1</th>\n",
       "      <td>244166</td>\n",
       "      <td>0.0</td>\n",
       "      <td>0.0</td>\n",
       "      <td>0.0</td>\n",
       "      <td>0.0</td>\n",
       "    </tr>\n",
       "    <tr>\n",
       "      <th>2</th>\n",
       "      <td>202378</td>\n",
       "      <td>33.0</td>\n",
       "      <td>0.0</td>\n",
       "      <td>34.0</td>\n",
       "      <td>0.0</td>\n",
       "    </tr>\n",
       "    <tr>\n",
       "      <th>3</th>\n",
       "      <td>2004420</td>\n",
       "      <td>0.0</td>\n",
       "      <td>0.0</td>\n",
       "      <td>0.0</td>\n",
       "      <td>0.0</td>\n",
       "    </tr>\n",
       "    <tr>\n",
       "      <th>4</th>\n",
       "      <td>340332</td>\n",
       "      <td>0.0</td>\n",
       "      <td>0.0</td>\n",
       "      <td>0.0</td>\n",
       "      <td>0.0</td>\n",
       "    </tr>\n",
       "  </tbody>\n",
       "</table>\n",
       "</div>"
      ],
      "text/plain": [
       "   parcel_id  residential_units_2015  totemp_2015  residential_units_2035  \\\n",
       "0     229116                     0.0          0.0                     0.0   \n",
       "1     244166                     0.0          0.0                     0.0   \n",
       "2     202378                    33.0          0.0                    34.0   \n",
       "3    2004420                     0.0          0.0                     0.0   \n",
       "4     340332                     0.0          0.0                     0.0   \n",
       "\n",
       "   totemp_2035  \n",
       "0          0.0  \n",
       "1          0.0  \n",
       "2          0.0  \n",
       "3          0.0  \n",
       "4          0.0  "
      ]
     },
     "metadata": {},
     "output_type": "display_data"
    }
   ],
   "source": [
    "p = p15.merge(p35, on='parcel_id', how='outer')\n",
    "display(p.head())\n",
    "\n",
    "for i in ['residential_units_2015', 'residential_units_2035', 'totemp_2015', 'totemp_2035']:\n",
    "    p[i] = p[i].fillna(0)\n",
    "display(p.head())"
   ]
  },
  {
   "cell_type": "code",
   "execution_count": 82,
   "metadata": {},
   "outputs": [
    {
     "data": {
      "text/html": [
       "<div>\n",
       "<style scoped>\n",
       "    .dataframe tbody tr th:only-of-type {\n",
       "        vertical-align: middle;\n",
       "    }\n",
       "\n",
       "    .dataframe tbody tr th {\n",
       "        vertical-align: top;\n",
       "    }\n",
       "\n",
       "    .dataframe thead th {\n",
       "        text-align: right;\n",
       "    }\n",
       "</style>\n",
       "<table border=\"1\" class=\"dataframe\">\n",
       "  <thead>\n",
       "    <tr style=\"text-align: right;\">\n",
       "      <th></th>\n",
       "      <th>parcel_id</th>\n",
       "      <th>residential_units_2015</th>\n",
       "      <th>totemp_2015</th>\n",
       "      <th>residential_units_2035</th>\n",
       "      <th>totemp_2035</th>\n",
       "      <th>PARCEL_ID</th>\n",
       "      <th>hlf_ml_15</th>\n",
       "      <th>qrt_ml_15</th>\n",
       "      <th>hlf_ml_35</th>\n",
       "      <th>qrt_ml_35</th>\n",
       "      <th>tpa_hlf_ml_15</th>\n",
       "      <th>tpa_qrt_ml_15</th>\n",
       "      <th>tpa_hlf_ml_35</th>\n",
       "      <th>tpa_qrt_ml_35</th>\n",
       "    </tr>\n",
       "  </thead>\n",
       "  <tbody>\n",
       "    <tr>\n",
       "      <th>0</th>\n",
       "      <td>229116</td>\n",
       "      <td>0.0</td>\n",
       "      <td>0.0</td>\n",
       "      <td>0.0</td>\n",
       "      <td>0.0</td>\n",
       "      <td>229116.0</td>\n",
       "      <td>N</td>\n",
       "      <td>N</td>\n",
       "      <td>N</td>\n",
       "      <td>N</td>\n",
       "      <td>N</td>\n",
       "      <td>N</td>\n",
       "      <td>N</td>\n",
       "      <td>N</td>\n",
       "    </tr>\n",
       "    <tr>\n",
       "      <th>1</th>\n",
       "      <td>244166</td>\n",
       "      <td>0.0</td>\n",
       "      <td>0.0</td>\n",
       "      <td>0.0</td>\n",
       "      <td>0.0</td>\n",
       "      <td>244166.0</td>\n",
       "      <td>Y</td>\n",
       "      <td>N</td>\n",
       "      <td>Y</td>\n",
       "      <td>N</td>\n",
       "      <td>N</td>\n",
       "      <td>N</td>\n",
       "      <td>N</td>\n",
       "      <td>N</td>\n",
       "    </tr>\n",
       "    <tr>\n",
       "      <th>2</th>\n",
       "      <td>202378</td>\n",
       "      <td>33.0</td>\n",
       "      <td>0.0</td>\n",
       "      <td>34.0</td>\n",
       "      <td>0.0</td>\n",
       "      <td>202378.0</td>\n",
       "      <td>Y</td>\n",
       "      <td>Y</td>\n",
       "      <td>Y</td>\n",
       "      <td>Y</td>\n",
       "      <td>N</td>\n",
       "      <td>N</td>\n",
       "      <td>N</td>\n",
       "      <td>N</td>\n",
       "    </tr>\n",
       "    <tr>\n",
       "      <th>3</th>\n",
       "      <td>2004420</td>\n",
       "      <td>0.0</td>\n",
       "      <td>0.0</td>\n",
       "      <td>0.0</td>\n",
       "      <td>0.0</td>\n",
       "      <td>2004420.0</td>\n",
       "      <td>N</td>\n",
       "      <td>N</td>\n",
       "      <td>N</td>\n",
       "      <td>N</td>\n",
       "      <td>N</td>\n",
       "      <td>N</td>\n",
       "      <td>N</td>\n",
       "      <td>N</td>\n",
       "    </tr>\n",
       "    <tr>\n",
       "      <th>4</th>\n",
       "      <td>340332</td>\n",
       "      <td>0.0</td>\n",
       "      <td>0.0</td>\n",
       "      <td>0.0</td>\n",
       "      <td>0.0</td>\n",
       "      <td>340332.0</td>\n",
       "      <td>Y</td>\n",
       "      <td>Y</td>\n",
       "      <td>Y</td>\n",
       "      <td>Y</td>\n",
       "      <td>Y</td>\n",
       "      <td>N</td>\n",
       "      <td>Y</td>\n",
       "      <td>N</td>\n",
       "    </tr>\n",
       "    <tr>\n",
       "      <th>...</th>\n",
       "      <td>...</td>\n",
       "      <td>...</td>\n",
       "      <td>...</td>\n",
       "      <td>...</td>\n",
       "      <td>...</td>\n",
       "      <td>...</td>\n",
       "      <td>...</td>\n",
       "      <td>...</td>\n",
       "      <td>...</td>\n",
       "      <td>...</td>\n",
       "      <td>...</td>\n",
       "      <td>...</td>\n",
       "      <td>...</td>\n",
       "      <td>...</td>\n",
       "    </tr>\n",
       "    <tr>\n",
       "      <th>1956207</th>\n",
       "      <td>782909</td>\n",
       "      <td>0.0</td>\n",
       "      <td>11.0</td>\n",
       "      <td>0.0</td>\n",
       "      <td>0.0</td>\n",
       "      <td>782909.0</td>\n",
       "      <td>Y</td>\n",
       "      <td>Y</td>\n",
       "      <td>Y</td>\n",
       "      <td>Y</td>\n",
       "      <td>N</td>\n",
       "      <td>N</td>\n",
       "      <td>N</td>\n",
       "      <td>N</td>\n",
       "    </tr>\n",
       "    <tr>\n",
       "      <th>1956208</th>\n",
       "      <td>2054504</td>\n",
       "      <td>0.0</td>\n",
       "      <td>1148.0</td>\n",
       "      <td>0.0</td>\n",
       "      <td>1300.0</td>\n",
       "      <td>NaN</td>\n",
       "      <td>NaN</td>\n",
       "      <td>NaN</td>\n",
       "      <td>NaN</td>\n",
       "      <td>NaN</td>\n",
       "      <td>NaN</td>\n",
       "      <td>NaN</td>\n",
       "      <td>NaN</td>\n",
       "      <td>NaN</td>\n",
       "    </tr>\n",
       "    <tr>\n",
       "      <th>1956209</th>\n",
       "      <td>2054505</td>\n",
       "      <td>1843.0</td>\n",
       "      <td>0.0</td>\n",
       "      <td>1843.0</td>\n",
       "      <td>0.0</td>\n",
       "      <td>NaN</td>\n",
       "      <td>NaN</td>\n",
       "      <td>NaN</td>\n",
       "      <td>NaN</td>\n",
       "      <td>NaN</td>\n",
       "      <td>NaN</td>\n",
       "      <td>NaN</td>\n",
       "      <td>NaN</td>\n",
       "      <td>NaN</td>\n",
       "    </tr>\n",
       "    <tr>\n",
       "      <th>1956210</th>\n",
       "      <td>2054506</td>\n",
       "      <td>0.0</td>\n",
       "      <td>0.0</td>\n",
       "      <td>0.0</td>\n",
       "      <td>0.0</td>\n",
       "      <td>NaN</td>\n",
       "      <td>NaN</td>\n",
       "      <td>NaN</td>\n",
       "      <td>NaN</td>\n",
       "      <td>NaN</td>\n",
       "      <td>NaN</td>\n",
       "      <td>NaN</td>\n",
       "      <td>NaN</td>\n",
       "      <td>NaN</td>\n",
       "    </tr>\n",
       "    <tr>\n",
       "      <th>1956211</th>\n",
       "      <td>572927</td>\n",
       "      <td>0.0</td>\n",
       "      <td>0.0</td>\n",
       "      <td>0.0</td>\n",
       "      <td>0.0</td>\n",
       "      <td>NaN</td>\n",
       "      <td>NaN</td>\n",
       "      <td>NaN</td>\n",
       "      <td>NaN</td>\n",
       "      <td>NaN</td>\n",
       "      <td>NaN</td>\n",
       "      <td>NaN</td>\n",
       "      <td>NaN</td>\n",
       "      <td>NaN</td>\n",
       "    </tr>\n",
       "  </tbody>\n",
       "</table>\n",
       "<p>1956212 rows × 14 columns</p>\n",
       "</div>"
      ],
      "text/plain": [
       "         parcel_id  residential_units_2015  totemp_2015  \\\n",
       "0           229116                     0.0          0.0   \n",
       "1           244166                     0.0          0.0   \n",
       "2           202378                    33.0          0.0   \n",
       "3          2004420                     0.0          0.0   \n",
       "4           340332                     0.0          0.0   \n",
       "...            ...                     ...          ...   \n",
       "1956207     782909                     0.0         11.0   \n",
       "1956208    2054504                     0.0       1148.0   \n",
       "1956209    2054505                  1843.0          0.0   \n",
       "1956210    2054506                     0.0          0.0   \n",
       "1956211     572927                     0.0          0.0   \n",
       "\n",
       "         residential_units_2035  totemp_2035  PARCEL_ID hlf_ml_15 qrt_ml_15  \\\n",
       "0                           0.0          0.0   229116.0         N         N   \n",
       "1                           0.0          0.0   244166.0         Y         N   \n",
       "2                          34.0          0.0   202378.0         Y         Y   \n",
       "3                           0.0          0.0  2004420.0         N         N   \n",
       "4                           0.0          0.0   340332.0         Y         Y   \n",
       "...                         ...          ...        ...       ...       ...   \n",
       "1956207                     0.0          0.0   782909.0         Y         Y   \n",
       "1956208                     0.0       1300.0        NaN       NaN       NaN   \n",
       "1956209                  1843.0          0.0        NaN       NaN       NaN   \n",
       "1956210                     0.0          0.0        NaN       NaN       NaN   \n",
       "1956211                     0.0          0.0        NaN       NaN       NaN   \n",
       "\n",
       "        hlf_ml_35 qrt_ml_35 tpa_hlf_ml_15 tpa_qrt_ml_15 tpa_hlf_ml_35  \\\n",
       "0               N         N             N             N             N   \n",
       "1               Y         N             N             N             N   \n",
       "2               Y         Y             N             N             N   \n",
       "3               N         N             N             N             N   \n",
       "4               Y         Y             Y             N             Y   \n",
       "...           ...       ...           ...           ...           ...   \n",
       "1956207         Y         Y             N             N             N   \n",
       "1956208       NaN       NaN           NaN           NaN           NaN   \n",
       "1956209       NaN       NaN           NaN           NaN           NaN   \n",
       "1956210       NaN       NaN           NaN           NaN           NaN   \n",
       "1956211       NaN       NaN           NaN           NaN           NaN   \n",
       "\n",
       "        tpa_qrt_ml_35  \n",
       "0                   N  \n",
       "1                   N  \n",
       "2                   N  \n",
       "3                   N  \n",
       "4                   N  \n",
       "...               ...  \n",
       "1956207             N  \n",
       "1956208           NaN  \n",
       "1956209           NaN  \n",
       "1956210           NaN  \n",
       "1956211           NaN  \n",
       "\n",
       "[1956212 rows x 14 columns]"
      ]
     },
     "metadata": {},
     "output_type": "display_data"
    }
   ],
   "source": [
    "# merge with parcel buffer taggings\n",
    "p_tags = p.merge(p10_all_tags, left_on='parcel_id', right_on='PARCEL_ID', how='left')\n",
    "display(p_tags)"
   ]
  },
  {
   "cell_type": "code",
   "execution_count": 89,
   "metadata": {},
   "outputs": [
    {
     "name": "stdout",
     "output_type": "stream",
     "text": [
      "2015 housing units and jobs within quarter-mile buffer of transit stations/stops:\n"
     ]
    },
    {
     "data": {
      "text/plain": [
       "residential_units_2015    2145377.0\n",
       "totemp_2015               3409473.0\n",
       "dtype: float64"
      ]
     },
     "metadata": {},
     "output_type": "display_data"
    },
    {
     "name": "stdout",
     "output_type": "stream",
     "text": [
      "2015 housing units and jobs within half-mile buffer of transit stations/stops:\n"
     ]
    },
    {
     "data": {
      "text/plain": [
       "residential_units_2015    2575768.0\n",
       "totemp_2015               3787383.0\n",
       "dtype: float64"
      ]
     },
     "metadata": {},
     "output_type": "display_data"
    },
    {
     "name": "stdout",
     "output_type": "stream",
     "text": [
      "2035 housing units and jobs within quarter-mile buffer of transit stations/stops:\n"
     ]
    },
    {
     "data": {
      "text/plain": [
       "residential_units_2035    2857222.0\n",
       "totemp_2035               4071918.0\n",
       "dtype: float64"
      ]
     },
     "metadata": {},
     "output_type": "display_data"
    },
    {
     "name": "stdout",
     "output_type": "stream",
     "text": [
      "2035 housing units and jobs within half-mile buffer of transit stations/stops:\n"
     ]
    },
    {
     "data": {
      "text/plain": [
       "residential_units_2035    3356622.0\n",
       "totemp_2035               4582910.0\n",
       "dtype: float64"
      ]
     },
     "metadata": {},
     "output_type": "display_data"
    },
    {
     "name": "stdout",
     "output_type": "stream",
     "text": [
      "2015 housing units and jobs within quarter-mile buffer of transit stations/stops within TPA:\n"
     ]
    },
    {
     "data": {
      "text/plain": [
       "residential_units_2015    1121311.0\n",
       "totemp_2015               2071981.0\n",
       "dtype: float64"
      ]
     },
     "metadata": {},
     "output_type": "display_data"
    },
    {
     "name": "stdout",
     "output_type": "stream",
     "text": [
      "2015 housing units and jobs within half-mile buffer of transit stations/stops within TPA:\n"
     ]
    },
    {
     "data": {
      "text/plain": [
       "residential_units_2015    1479908.0\n",
       "totemp_2015               2537472.0\n",
       "dtype: float64"
      ]
     },
     "metadata": {},
     "output_type": "display_data"
    },
    {
     "name": "stdout",
     "output_type": "stream",
     "text": [
      "2035 housing units and jobs within quarter-mile buffer of transit stations/stops within TPA:\n"
     ]
    },
    {
     "data": {
      "text/plain": [
       "residential_units_2035    1691003.0\n",
       "totemp_2035               2533934.0\n",
       "dtype: float64"
      ]
     },
     "metadata": {},
     "output_type": "display_data"
    },
    {
     "name": "stdout",
     "output_type": "stream",
     "text": [
      "2035 housing units and jobs within half-mile buffer of transit stations/stops within TPA:\n"
     ]
    },
    {
     "data": {
      "text/plain": [
       "residential_units_2035    2131182.0\n",
       "totemp_2035               3134814.0\n",
       "dtype: float64"
      ]
     },
     "metadata": {},
     "output_type": "display_data"
    }
   ],
   "source": [
    "# summarize by buffers\n",
    "\n",
    "print('2015 housing units and jobs within quarter-mile buffer of transit stations/stops:')\n",
    "display(p_tags.loc[p_tags.qrt_ml_15 == 'Y'][['residential_units_2015', 'totemp_2015']].sum())\n",
    "\n",
    "print('2015 housing units and jobs within half-mile buffer of transit stations/stops:')\n",
    "display(p_tags.loc[p_tags.hlf_ml_15 == 'Y'][['residential_units_2015', 'totemp_2015']].sum())\n",
    "\n",
    "print('2035 housing units and jobs within quarter-mile buffer of transit stations/stops:')\n",
    "display(p_tags.loc[p_tags.qrt_ml_35 == 'Y'][['residential_units_2035', 'totemp_2035']].sum())\n",
    "\n",
    "print('2035 housing units and jobs within half-mile buffer of transit stations/stops:')\n",
    "display(p_tags.loc[p_tags.hlf_ml_35 == 'Y'][['residential_units_2035', 'totemp_2035']].sum())\n",
    "\n",
    "print('2015 housing units and jobs within quarter-mile buffer of transit stations/stops within TPA:')\n",
    "display(p_tags.loc[p_tags.tpa_qrt_ml_15 == 'Y'][['residential_units_2015', 'totemp_2015']].sum())\n",
    "\n",
    "print('2015 housing units and jobs within half-mile buffer of transit stations/stops within TPA:')\n",
    "display(p_tags.loc[p_tags.tpa_hlf_ml_15 == 'Y'][['residential_units_2015', 'totemp_2015']].sum())\n",
    "\n",
    "print('2035 housing units and jobs within quarter-mile buffer of transit stations/stops within TPA:')\n",
    "display(p_tags.loc[p_tags.tpa_qrt_ml_35 == 'Y'][['residential_units_2035', 'totemp_2035']].sum())\n",
    "\n",
    "print('2035 housing units and jobs within half-mile buffer of transit stations/stops within TPA:')\n",
    "display(p_tags.loc[p_tags.tpa_hlf_ml_35 == 'Y'][['residential_units_2035', 'totemp_2035']].sum())\n"
   ]
  }
 ],
 "metadata": {
  "kernelspec": {
   "display_name": "Python 3",
   "language": "python",
   "name": "python3"
  },
  "language_info": {
   "codemirror_mode": {
    "name": "ipython",
    "version": 3
   },
   "file_extension": ".py",
   "mimetype": "text/x-python",
   "name": "python",
   "nbconvert_exporter": "python",
   "pygments_lexer": "ipython3",
   "version": "3.7.4"
  }
 },
 "nbformat": 4,
 "nbformat_minor": 2
}
