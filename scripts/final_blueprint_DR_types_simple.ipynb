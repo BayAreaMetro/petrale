{
 "cells": [
  {
   "cell_type": "code",
   "execution_count": 1,
   "metadata": {},
   "outputs": [],
   "source": [
    "import pandas as pd"
   ]
  },
  {
   "cell_type": "markdown",
   "metadata": {},
   "source": [
    "### Input files"
   ]
  },
  {
   "cell_type": "code",
   "execution_count": 2,
   "metadata": {},
   "outputs": [
    {
     "name": "stdout",
     "output_type": "stream",
     "text": [
      "['parcel_id', 'fbpchcat', 'residential_units_50', 'deed_restricted_units_50', 'preserved_units_50', 'inclusionary_units_50', 'subsidized_units_50']\n"
     ]
    }
   ],
   "source": [
    "p15 = pd.read_csv(r'C:\\Users\\ywang\\Box\\Modeling and Surveys\\Urban Modeling\\Bay Area UrbanSim\\PBA50\\Final Blueprint runs\\Final Blueprint (s24)\\BAUS v2.25 - FINAL VERSION\\run182_parcel_data_2015.csv',\n",
    "                  usecols = ['parcel_id','fbpchcat','residential_units', 'deed_restricted_units', 'preserved_units', 'inclusionary_units', 'subsidized_units'])\n",
    "p15.columns = list(p15)[:2] + [x+'_15' for x in list(p15)[2:]]\n",
    "\n",
    "p50 = pd.read_csv(r'C:\\Users\\ywang\\Box\\Modeling and Surveys\\Urban Modeling\\Bay Area UrbanSim\\PBA50\\Final Blueprint runs\\Final Blueprint (s24)\\BAUS v2.25 - FINAL VERSION\\run182_parcel_data_2050_UBI.csv',\n",
    "                  usecols = ['parcel_id','fbpchcat','residential_units', 'deed_restricted_units', 'preserved_units', 'inclusionary_units', 'subsidized_units'])\n",
    "p50.columns = list(p50)[:2] + [x+'_50' for x in list(p50)[2:]]\n",
    "print(list(p50))\n",
    "\n",
    "df = p15.merge(p50, on=['parcel_id', 'fbpchcat'], how='outer')"
   ]
  },
  {
   "cell_type": "code",
   "execution_count": 3,
   "metadata": {},
   "outputs": [
    {
     "name": "stdout",
     "output_type": "stream",
     "text": [
      "(1956208, 3)\n"
     ]
    }
   ],
   "source": [
    "pg = pd.read_csv(r'C:\\Users\\ywang\\Box\\Modeling and Surveys\\Urban Modeling\\Bay Area UrbanSim\\PBA50\\Current PBA50 Large General Input Data\\2021_01_12_parcels_geography.csv',\n",
    "                 usecols = ['PARCEL_ID', 'fbp_tra_id', 'fbp_sesit_id'])\n",
    "print(pg.shape)\n",
    "\n",
    "df = df.merge(pg, left_on='parcel_id', right_on='PARCEL_ID', how='left')\n",
    "\n",
    "p_coc = pd.read_csv(r'C:\\Users\\ywang\\Box\\Modeling and Surveys\\Urban Modeling\\Bay Area UrbanSim\\PBA50\\Policies\\Zoning Modifications\\p10_pba50_cocid.csv')\n",
    "p_coc['PARCEL_ID'] = p_coc['PARCEL_ID'].apply(lambda x: int(round(x)))\n",
    "df = df.merge(p_coc, on='PARCEL_ID', how='left')\n",
    "\n",
    "for col in ['preserved_units_50', 'preserved_units_15', 'subsidized_units_50', 'subsidized_units_15']:\n",
    "    df[col] = df[col].fillna(0)\n",
    "\n",
    "df['preserved_units_chg'] = df['preserved_units_50'] - df['preserved_units_15']\n",
    "df['subsidized_units_chg'] = df['subsidized_units_50'] - df['subsidized_units_15']"
   ]
  },
  {
   "cell_type": "code",
   "execution_count": 4,
   "metadata": {},
   "outputs": [
    {
     "name": "stdout",
     "output_type": "stream",
     "text": [
      "[nan 'tra3' 'tra2c' 'tra2a' 'tra1' 'tra2b']\n",
      "['HRADIS' 'DIS' nan 'HRA']\n",
      "[nan 'CoC']\n"
     ]
    }
   ],
   "source": [
    "print(df.fbp_tra_id.unique())\n",
    "print(df.fbp_sesit_id.unique())\n",
    "print(df.coc_id.unique())"
   ]
  },
  {
   "cell_type": "markdown",
   "metadata": {},
   "source": [
    "### TRAs and HRAs"
   ]
  },
  {
   "cell_type": "code",
   "execution_count": 5,
   "metadata": {},
   "outputs": [
    {
     "data": {
      "text/html": [
       "<div>\n",
       "<style scoped>\n",
       "    .dataframe tbody tr th:only-of-type {\n",
       "        vertical-align: middle;\n",
       "    }\n",
       "\n",
       "    .dataframe tbody tr th {\n",
       "        vertical-align: top;\n",
       "    }\n",
       "\n",
       "    .dataframe thead th {\n",
       "        text-align: right;\n",
       "    }\n",
       "</style>\n",
       "<table border=\"1\" class=\"dataframe\">\n",
       "  <thead>\n",
       "    <tr style=\"text-align: right;\">\n",
       "      <th></th>\n",
       "      <th>metrics</th>\n",
       "      <th>value</th>\n",
       "      <th>category</th>\n",
       "    </tr>\n",
       "  </thead>\n",
       "  <tbody>\n",
       "    <tr>\n",
       "      <th>0</th>\n",
       "      <td>preserved_units_chg</td>\n",
       "      <td>151378.0</td>\n",
       "      <td>TRAs/HRAs</td>\n",
       "    </tr>\n",
       "    <tr>\n",
       "      <th>1</th>\n",
       "      <td>subsidized_units_chg</td>\n",
       "      <td>53449.0</td>\n",
       "      <td>TRAs/HRAs</td>\n",
       "    </tr>\n",
       "  </tbody>\n",
       "</table>\n",
       "</div>"
      ],
      "text/plain": [
       "                metrics     value   category\n",
       "0   preserved_units_chg  151378.0  TRAs/HRAs\n",
       "1  subsidized_units_chg   53449.0  TRAs/HRAs"
      ]
     },
     "execution_count": 5,
     "metadata": {},
     "output_type": "execute_result"
    }
   ],
   "source": [
    "df_trahra = df.loc[(df.fbp_tra_id.notnull()) & (\n",
    "                   (df.fbp_sesit_id == 'HRADIS') | (df.fbp_sesit_id == 'HRA'))][[\n",
    "    'preserved_units_chg','subsidized_units_chg']].sum().reset_index()\n",
    "\n",
    "df_trahra.columns = ['metrics', 'value']\n",
    "df_trahra['category'] = 'TRAs/HRAs'\n",
    "df_trahra"
   ]
  },
  {
   "cell_type": "code",
   "execution_count": 6,
   "metadata": {
    "scrolled": true
   },
   "outputs": [
    {
     "data": {
      "text/html": [
       "<div>\n",
       "<style scoped>\n",
       "    .dataframe tbody tr th:only-of-type {\n",
       "        vertical-align: middle;\n",
       "    }\n",
       "\n",
       "    .dataframe tbody tr th {\n",
       "        vertical-align: top;\n",
       "    }\n",
       "\n",
       "    .dataframe thead th {\n",
       "        text-align: right;\n",
       "    }\n",
       "</style>\n",
       "<table border=\"1\" class=\"dataframe\">\n",
       "  <thead>\n",
       "    <tr style=\"text-align: right;\">\n",
       "      <th></th>\n",
       "      <th>metrics</th>\n",
       "      <th>value</th>\n",
       "      <th>category</th>\n",
       "    </tr>\n",
       "  </thead>\n",
       "  <tbody>\n",
       "    <tr>\n",
       "      <th>0</th>\n",
       "      <td>preserved_units_chg</td>\n",
       "      <td>267417.0</td>\n",
       "      <td>TRAs/nonHRAs</td>\n",
       "    </tr>\n",
       "    <tr>\n",
       "      <th>1</th>\n",
       "      <td>subsidized_units_chg</td>\n",
       "      <td>61789.0</td>\n",
       "      <td>TRAs/nonHRAs</td>\n",
       "    </tr>\n",
       "  </tbody>\n",
       "</table>\n",
       "</div>"
      ],
      "text/plain": [
       "                metrics     value      category\n",
       "0   preserved_units_chg  267417.0  TRAs/nonHRAs\n",
       "1  subsidized_units_chg   61789.0  TRAs/nonHRAs"
      ]
     },
     "execution_count": 6,
     "metadata": {},
     "output_type": "execute_result"
    }
   ],
   "source": [
    "df_tranonhra = df.loc[(df.fbp_tra_id.notnull()) & (\n",
    "                      (df.fbp_sesit_id == 'DIS') | (df.fbp_sesit_id.isnull()))][[\n",
    "    'preserved_units_chg','subsidized_units_chg']].sum().reset_index()\n",
    "\n",
    "df_tranonhra.columns = ['metrics', 'value']\n",
    "df_tranonhra['category'] = 'TRAs/nonHRAs'\n",
    "df_tranonhra"
   ]
  },
  {
   "cell_type": "code",
   "execution_count": 7,
   "metadata": {},
   "outputs": [
    {
     "data": {
      "text/html": [
       "<div>\n",
       "<style scoped>\n",
       "    .dataframe tbody tr th:only-of-type {\n",
       "        vertical-align: middle;\n",
       "    }\n",
       "\n",
       "    .dataframe tbody tr th {\n",
       "        vertical-align: top;\n",
       "    }\n",
       "\n",
       "    .dataframe thead th {\n",
       "        text-align: right;\n",
       "    }\n",
       "</style>\n",
       "<table border=\"1\" class=\"dataframe\">\n",
       "  <thead>\n",
       "    <tr style=\"text-align: right;\">\n",
       "      <th></th>\n",
       "      <th>metrics</th>\n",
       "      <th>value</th>\n",
       "      <th>category</th>\n",
       "    </tr>\n",
       "  </thead>\n",
       "  <tbody>\n",
       "    <tr>\n",
       "      <th>0</th>\n",
       "      <td>preserved_units_chg</td>\n",
       "      <td>10902.0</td>\n",
       "      <td>nonTRAs/HRAs</td>\n",
       "    </tr>\n",
       "    <tr>\n",
       "      <th>1</th>\n",
       "      <td>subsidized_units_chg</td>\n",
       "      <td>3432.0</td>\n",
       "      <td>nonTRAs/HRAs</td>\n",
       "    </tr>\n",
       "  </tbody>\n",
       "</table>\n",
       "</div>"
      ],
      "text/plain": [
       "                metrics    value      category\n",
       "0   preserved_units_chg  10902.0  nonTRAs/HRAs\n",
       "1  subsidized_units_chg   3432.0  nonTRAs/HRAs"
      ]
     },
     "execution_count": 7,
     "metadata": {},
     "output_type": "execute_result"
    }
   ],
   "source": [
    "df_nontrahra = df.loc[(df.fbp_tra_id.isnull()) & (\n",
    "                       (df.fbp_sesit_id == 'HRADIS') | (df.fbp_sesit_id == 'HRA'))][[\n",
    "    'preserved_units_chg','subsidized_units_chg']].sum().reset_index()\n",
    "\n",
    "df_nontrahra.columns = ['metrics', 'value']\n",
    "df_nontrahra['category'] = 'nonTRAs/HRAs'\n",
    "df_nontrahra"
   ]
  },
  {
   "cell_type": "code",
   "execution_count": 8,
   "metadata": {},
   "outputs": [
    {
     "data": {
      "text/html": [
       "<div>\n",
       "<style scoped>\n",
       "    .dataframe tbody tr th:only-of-type {\n",
       "        vertical-align: middle;\n",
       "    }\n",
       "\n",
       "    .dataframe tbody tr th {\n",
       "        vertical-align: top;\n",
       "    }\n",
       "\n",
       "    .dataframe thead th {\n",
       "        text-align: right;\n",
       "    }\n",
       "</style>\n",
       "<table border=\"1\" class=\"dataframe\">\n",
       "  <thead>\n",
       "    <tr style=\"text-align: right;\">\n",
       "      <th></th>\n",
       "      <th>metrics</th>\n",
       "      <th>value</th>\n",
       "      <th>category</th>\n",
       "    </tr>\n",
       "  </thead>\n",
       "  <tbody>\n",
       "    <tr>\n",
       "      <th>0</th>\n",
       "      <td>preserved_units_chg</td>\n",
       "      <td>6365.0</td>\n",
       "      <td>other</td>\n",
       "    </tr>\n",
       "    <tr>\n",
       "      <th>1</th>\n",
       "      <td>subsidized_units_chg</td>\n",
       "      <td>1858.0</td>\n",
       "      <td>other</td>\n",
       "    </tr>\n",
       "  </tbody>\n",
       "</table>\n",
       "</div>"
      ],
      "text/plain": [
       "                metrics   value category\n",
       "0   preserved_units_chg  6365.0    other\n",
       "1  subsidized_units_chg  1858.0    other"
      ]
     },
     "execution_count": 8,
     "metadata": {},
     "output_type": "execute_result"
    }
   ],
   "source": [
    "df_other = df.loc[(df.fbp_tra_id.isnull()) & (\n",
    "                  (df.fbp_sesit_id == 'DIS') | (df.fbp_sesit_id.isnull()))][[\n",
    "    'preserved_units_chg','subsidized_units_chg']].sum().reset_index()\n",
    "\n",
    "df_other.columns = ['metrics', 'value']\n",
    "df_other['category'] = 'other'\n",
    "df_other"
   ]
  },
  {
   "cell_type": "code",
   "execution_count": 9,
   "metadata": {},
   "outputs": [
    {
     "data": {
      "text/html": [
       "<div>\n",
       "<style scoped>\n",
       "    .dataframe tbody tr th:only-of-type {\n",
       "        vertical-align: middle;\n",
       "    }\n",
       "\n",
       "    .dataframe tbody tr th {\n",
       "        vertical-align: top;\n",
       "    }\n",
       "\n",
       "    .dataframe thead th {\n",
       "        text-align: right;\n",
       "    }\n",
       "</style>\n",
       "<table border=\"1\" class=\"dataframe\">\n",
       "  <thead>\n",
       "    <tr style=\"text-align: right;\">\n",
       "      <th></th>\n",
       "      <th>metrics</th>\n",
       "      <th>value</th>\n",
       "      <th>category</th>\n",
       "    </tr>\n",
       "  </thead>\n",
       "  <tbody>\n",
       "    <tr>\n",
       "      <th>0</th>\n",
       "      <td>preserved_units_chg</td>\n",
       "      <td>436062.0</td>\n",
       "      <td>total</td>\n",
       "    </tr>\n",
       "    <tr>\n",
       "      <th>1</th>\n",
       "      <td>subsidized_units_chg</td>\n",
       "      <td>120528.0</td>\n",
       "      <td>total</td>\n",
       "    </tr>\n",
       "  </tbody>\n",
       "</table>\n",
       "</div>"
      ],
      "text/plain": [
       "                metrics     value category\n",
       "0   preserved_units_chg  436062.0    total\n",
       "1  subsidized_units_chg  120528.0    total"
      ]
     },
     "execution_count": 9,
     "metadata": {},
     "output_type": "execute_result"
    }
   ],
   "source": [
    "df_total = df[['preserved_units_chg','subsidized_units_chg']].sum().reset_index()\n",
    "df_total.columns = ['metrics', 'value']\n",
    "df_total['category'] = 'total'\n",
    "df_total"
   ]
  },
  {
   "cell_type": "markdown",
   "metadata": {},
   "source": [
    "### CoCs and HRAs"
   ]
  },
  {
   "cell_type": "code",
   "execution_count": 10,
   "metadata": {},
   "outputs": [
    {
     "data": {
      "text/html": [
       "<div>\n",
       "<style scoped>\n",
       "    .dataframe tbody tr th:only-of-type {\n",
       "        vertical-align: middle;\n",
       "    }\n",
       "\n",
       "    .dataframe tbody tr th {\n",
       "        vertical-align: top;\n",
       "    }\n",
       "\n",
       "    .dataframe thead th {\n",
       "        text-align: right;\n",
       "    }\n",
       "</style>\n",
       "<table border=\"1\" class=\"dataframe\">\n",
       "  <thead>\n",
       "    <tr style=\"text-align: right;\">\n",
       "      <th></th>\n",
       "      <th>metrics</th>\n",
       "      <th>value</th>\n",
       "      <th>category</th>\n",
       "    </tr>\n",
       "  </thead>\n",
       "  <tbody>\n",
       "    <tr>\n",
       "      <th>0</th>\n",
       "      <td>preserved_units_chg</td>\n",
       "      <td>118830.0</td>\n",
       "      <td>CoCs</td>\n",
       "    </tr>\n",
       "    <tr>\n",
       "      <th>1</th>\n",
       "      <td>subsidized_units_chg</td>\n",
       "      <td>39302.0</td>\n",
       "      <td>CoCs</td>\n",
       "    </tr>\n",
       "  </tbody>\n",
       "</table>\n",
       "</div>"
      ],
      "text/plain": [
       "                metrics     value category\n",
       "0   preserved_units_chg  118830.0     CoCs\n",
       "1  subsidized_units_chg   39302.0     CoCs"
      ]
     },
     "execution_count": 10,
     "metadata": {},
     "output_type": "execute_result"
    }
   ],
   "source": [
    "df_coc = df.loc[df.coc_id == 'CoC'][[\n",
    "    'preserved_units_chg','subsidized_units_chg']].sum().reset_index()\n",
    "\n",
    "df_coc.columns = ['metrics', 'value']\n",
    "df_coc['category'] = 'CoCs'\n",
    "df_coc"
   ]
  },
  {
   "cell_type": "code",
   "execution_count": 11,
   "metadata": {},
   "outputs": [
    {
     "data": {
      "text/html": [
       "<div>\n",
       "<style scoped>\n",
       "    .dataframe tbody tr th:only-of-type {\n",
       "        vertical-align: middle;\n",
       "    }\n",
       "\n",
       "    .dataframe tbody tr th {\n",
       "        vertical-align: top;\n",
       "    }\n",
       "\n",
       "    .dataframe thead th {\n",
       "        text-align: right;\n",
       "    }\n",
       "</style>\n",
       "<table border=\"1\" class=\"dataframe\">\n",
       "  <thead>\n",
       "    <tr style=\"text-align: right;\">\n",
       "      <th></th>\n",
       "      <th>metrics</th>\n",
       "      <th>value</th>\n",
       "      <th>category</th>\n",
       "    </tr>\n",
       "  </thead>\n",
       "  <tbody>\n",
       "    <tr>\n",
       "      <th>0</th>\n",
       "      <td>preserved_units_chg</td>\n",
       "      <td>162280.0</td>\n",
       "      <td>HRAs</td>\n",
       "    </tr>\n",
       "    <tr>\n",
       "      <th>1</th>\n",
       "      <td>subsidized_units_chg</td>\n",
       "      <td>56881.0</td>\n",
       "      <td>HRAs</td>\n",
       "    </tr>\n",
       "  </tbody>\n",
       "</table>\n",
       "</div>"
      ],
      "text/plain": [
       "                metrics     value category\n",
       "0   preserved_units_chg  162280.0     HRAs\n",
       "1  subsidized_units_chg   56881.0     HRAs"
      ]
     },
     "execution_count": 11,
     "metadata": {},
     "output_type": "execute_result"
    }
   ],
   "source": [
    "df_hra = df.loc[(df.fbp_sesit_id == 'HRADIS') | (df.fbp_sesit_id == 'HRA')][[\n",
    "    'preserved_units_chg','subsidized_units_chg']].sum().reset_index()\n",
    "\n",
    "df_hra.columns = ['metrics', 'value']\n",
    "df_hra['category'] = 'HRAs'\n",
    "df_hra"
   ]
  },
  {
   "cell_type": "markdown",
   "metadata": {},
   "source": [
    "### Combine and export"
   ]
  },
  {
   "cell_type": "code",
   "execution_count": 12,
   "metadata": {},
   "outputs": [
    {
     "data": {
      "text/html": [
       "<div>\n",
       "<style scoped>\n",
       "    .dataframe tbody tr th:only-of-type {\n",
       "        vertical-align: middle;\n",
       "    }\n",
       "\n",
       "    .dataframe tbody tr th {\n",
       "        vertical-align: top;\n",
       "    }\n",
       "\n",
       "    .dataframe thead th {\n",
       "        text-align: right;\n",
       "    }\n",
       "</style>\n",
       "<table border=\"1\" class=\"dataframe\">\n",
       "  <thead>\n",
       "    <tr style=\"text-align: right;\">\n",
       "      <th></th>\n",
       "      <th>metrics</th>\n",
       "      <th>value</th>\n",
       "      <th>category</th>\n",
       "    </tr>\n",
       "  </thead>\n",
       "  <tbody>\n",
       "    <tr>\n",
       "      <th>0</th>\n",
       "      <td>preserved_units_chg</td>\n",
       "      <td>151378.0</td>\n",
       "      <td>TRAs/HRAs</td>\n",
       "    </tr>\n",
       "    <tr>\n",
       "      <th>0</th>\n",
       "      <td>preserved_units_chg</td>\n",
       "      <td>267417.0</td>\n",
       "      <td>TRAs/nonHRAs</td>\n",
       "    </tr>\n",
       "    <tr>\n",
       "      <th>0</th>\n",
       "      <td>preserved_units_chg</td>\n",
       "      <td>10902.0</td>\n",
       "      <td>nonTRAs/HRAs</td>\n",
       "    </tr>\n",
       "    <tr>\n",
       "      <th>0</th>\n",
       "      <td>preserved_units_chg</td>\n",
       "      <td>6365.0</td>\n",
       "      <td>other</td>\n",
       "    </tr>\n",
       "    <tr>\n",
       "      <th>0</th>\n",
       "      <td>preserved_units_chg</td>\n",
       "      <td>436062.0</td>\n",
       "      <td>total</td>\n",
       "    </tr>\n",
       "    <tr>\n",
       "      <th>1</th>\n",
       "      <td>subsidized_units_chg</td>\n",
       "      <td>53449.0</td>\n",
       "      <td>TRAs/HRAs</td>\n",
       "    </tr>\n",
       "    <tr>\n",
       "      <th>1</th>\n",
       "      <td>subsidized_units_chg</td>\n",
       "      <td>61789.0</td>\n",
       "      <td>TRAs/nonHRAs</td>\n",
       "    </tr>\n",
       "    <tr>\n",
       "      <th>1</th>\n",
       "      <td>subsidized_units_chg</td>\n",
       "      <td>3432.0</td>\n",
       "      <td>nonTRAs/HRAs</td>\n",
       "    </tr>\n",
       "    <tr>\n",
       "      <th>1</th>\n",
       "      <td>subsidized_units_chg</td>\n",
       "      <td>1858.0</td>\n",
       "      <td>other</td>\n",
       "    </tr>\n",
       "    <tr>\n",
       "      <th>1</th>\n",
       "      <td>subsidized_units_chg</td>\n",
       "      <td>120528.0</td>\n",
       "      <td>total</td>\n",
       "    </tr>\n",
       "  </tbody>\n",
       "</table>\n",
       "</div>"
      ],
      "text/plain": [
       "                metrics     value      category\n",
       "0   preserved_units_chg  151378.0     TRAs/HRAs\n",
       "0   preserved_units_chg  267417.0  TRAs/nonHRAs\n",
       "0   preserved_units_chg   10902.0  nonTRAs/HRAs\n",
       "0   preserved_units_chg    6365.0         other\n",
       "0   preserved_units_chg  436062.0         total\n",
       "1  subsidized_units_chg   53449.0     TRAs/HRAs\n",
       "1  subsidized_units_chg   61789.0  TRAs/nonHRAs\n",
       "1  subsidized_units_chg    3432.0  nonTRAs/HRAs\n",
       "1  subsidized_units_chg    1858.0         other\n",
       "1  subsidized_units_chg  120528.0         total"
      ]
     },
     "metadata": {},
     "output_type": "display_data"
    }
   ],
   "source": [
    "df_summary = pd.DataFrame(columns = ['metrics', 'value', 'category'])\n",
    "\n",
    "for i in [df_trahra, df_tranonhra, df_nontrahra, df_other, df_total]:\n",
    "    df_summary = pd.concat([df_summary, i], axis=0)\n",
    "    \n",
    "df_summary.sort_values(by=['metrics','category'],inplace=True)\n",
    "display(df_summary)\n",
    "df_summary.to_csv('final_blueprint_DR_types_TRAs.csv', index=False)"
   ]
  },
  {
   "cell_type": "code",
   "execution_count": 13,
   "metadata": {},
   "outputs": [
    {
     "data": {
      "text/html": [
       "<div>\n",
       "<style scoped>\n",
       "    .dataframe tbody tr th:only-of-type {\n",
       "        vertical-align: middle;\n",
       "    }\n",
       "\n",
       "    .dataframe tbody tr th {\n",
       "        vertical-align: top;\n",
       "    }\n",
       "\n",
       "    .dataframe thead th {\n",
       "        text-align: right;\n",
       "    }\n",
       "</style>\n",
       "<table border=\"1\" class=\"dataframe\">\n",
       "  <thead>\n",
       "    <tr style=\"text-align: right;\">\n",
       "      <th></th>\n",
       "      <th>metrics</th>\n",
       "      <th>value</th>\n",
       "      <th>category</th>\n",
       "    </tr>\n",
       "  </thead>\n",
       "  <tbody>\n",
       "    <tr>\n",
       "      <th>0</th>\n",
       "      <td>preserved_units_chg</td>\n",
       "      <td>118830.0</td>\n",
       "      <td>CoCs</td>\n",
       "    </tr>\n",
       "    <tr>\n",
       "      <th>0</th>\n",
       "      <td>preserved_units_chg</td>\n",
       "      <td>162280.0</td>\n",
       "      <td>HRAs</td>\n",
       "    </tr>\n",
       "    <tr>\n",
       "      <th>0</th>\n",
       "      <td>preserved_units_chg</td>\n",
       "      <td>436062.0</td>\n",
       "      <td>total</td>\n",
       "    </tr>\n",
       "    <tr>\n",
       "      <th>1</th>\n",
       "      <td>subsidized_units_chg</td>\n",
       "      <td>39302.0</td>\n",
       "      <td>CoCs</td>\n",
       "    </tr>\n",
       "    <tr>\n",
       "      <th>1</th>\n",
       "      <td>subsidized_units_chg</td>\n",
       "      <td>56881.0</td>\n",
       "      <td>HRAs</td>\n",
       "    </tr>\n",
       "    <tr>\n",
       "      <th>1</th>\n",
       "      <td>subsidized_units_chg</td>\n",
       "      <td>120528.0</td>\n",
       "      <td>total</td>\n",
       "    </tr>\n",
       "  </tbody>\n",
       "</table>\n",
       "</div>"
      ],
      "text/plain": [
       "                metrics     value category\n",
       "0   preserved_units_chg  118830.0     CoCs\n",
       "0   preserved_units_chg  162280.0     HRAs\n",
       "0   preserved_units_chg  436062.0    total\n",
       "1  subsidized_units_chg   39302.0     CoCs\n",
       "1  subsidized_units_chg   56881.0     HRAs\n",
       "1  subsidized_units_chg  120528.0    total"
      ]
     },
     "metadata": {},
     "output_type": "display_data"
    }
   ],
   "source": [
    "df_summary = pd.DataFrame(columns = ['metrics', 'value', 'category'])\n",
    "\n",
    "for i in [df_coc, df_hra, df_total]:\n",
    "    df_summary = pd.concat([df_summary, i], axis=0)\n",
    "    \n",
    "df_summary.sort_values(by=['metrics','category'],inplace=True)\n",
    "display(df_summary)\n",
    "df_summary.to_csv('final_blueprint_DR_types_CoCs.csv', index=False)"
   ]
  }
 ],
 "metadata": {
  "kernelspec": {
   "display_name": "Python 3",
   "language": "python",
   "name": "python3"
  },
  "language_info": {
   "codemirror_mode": {
    "name": "ipython",
    "version": 3
   },
   "file_extension": ".py",
   "mimetype": "text/x-python",
   "name": "python",
   "nbconvert_exporter": "python",
   "pygments_lexer": "ipython3",
   "version": "3.6.10"
  }
 },
 "nbformat": 4,
 "nbformat_minor": 5
}
