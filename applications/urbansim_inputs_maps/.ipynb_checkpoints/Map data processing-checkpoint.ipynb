{
 "cells": [
  {
   "cell_type": "code",
   "execution_count": 1,
   "metadata": {},
   "outputs": [],
   "source": [
    "import pandas as pd\n",
    "import geopandas as gpd"
   ]
  },
  {
   "cell_type": "markdown",
   "metadata": {},
   "source": [
    "### TAZ layer with population, household, employment, and housing unit data for the base year (2015)"
   ]
  },
  {
   "cell_type": "code",
   "execution_count": 7,
   "metadata": {},
   "outputs": [],
   "source": [
    "# abtain TAZ shapes\n",
    "url = 'https://opendata.arcgis.com/datasets/94e6e7107f0745b5b2aabd651340b739_0.geojson'\n",
    "taz = gpd.read_file(url)\n",
    "#display(taz.head())\n",
    "\n",
    "# obtain TAZ attributes for the base year from https://github.com/BayAreaMetro/petrale/tree/master/applications/travel_model_lu_inputs/2015\n",
    "att_raw = pd.read_csv('TAZ1454 2015 Land Use.csv')\n",
    "att = att_raw[['ZONE','DISTRICT','SD','COUNTY','TOTHH','TOTPOP','TOTEMP','SFDU','MFDU']]\n",
    "att['UNITS'] = att['SFDU'] + att['MFDU']\n",
    "\n",
    "# merge the data and export\n",
    "taz_att = taz.merge(att, left_on = 'objectid', right_on = 'ZONE', how = 'left')\n",
    "taz_att.to_file(r'M:\\Data\\GIS layers\\UrbanSim_publicMaps\\taz_att.shp')"
   ]
  },
  {
   "cell_type": "markdown",
   "metadata": {},
   "source": [
    "### Dissolved BASIS zoning BOC data"
   ]
  },
  {
   "cell_type": "code",
   "execution_count": null,
   "metadata": {},
   "outputs": [],
   "source": []
  },
  {
   "cell_type": "code",
   "execution_count": null,
   "metadata": {},
   "outputs": [],
   "source": []
  },
  {
   "cell_type": "markdown",
   "metadata": {},
   "source": [
    "### Zoning mods as defined by Blueprint Strategies"
   ]
  },
  {
   "cell_type": "code",
   "execution_count": null,
   "metadata": {},
   "outputs": [],
   "source": []
  },
  {
   "cell_type": "code",
   "execution_count": null,
   "metadata": {},
   "outputs": [],
   "source": []
  },
  {
   "cell_type": "code",
   "execution_count": null,
   "metadata": {},
   "outputs": [],
   "source": []
  }
 ],
 "metadata": {
  "kernelspec": {
   "display_name": "Python 3",
   "language": "python",
   "name": "python3"
  },
  "language_info": {
   "codemirror_mode": {
    "name": "ipython",
    "version": 3
   },
   "file_extension": ".py",
   "mimetype": "text/x-python",
   "name": "python",
   "nbconvert_exporter": "python",
   "pygments_lexer": "ipython3",
   "version": "3.7.4"
  }
 },
 "nbformat": 4,
 "nbformat_minor": 2
}
