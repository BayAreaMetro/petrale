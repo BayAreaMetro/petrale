{
 "cells": [
  {
   "cell_type": "code",
   "execution_count": 1,
   "metadata": {
    "collapsed": true
   },
   "outputs": [],
   "source": [
    "import pandas as pd\n",
    "import numpy as np"
   ]
  },
  {
   "cell_type": "code",
   "execution_count": 20,
   "metadata": {
    "collapsed": true
   },
   "outputs": [],
   "source": [
    "alameda12 = pd.read_csv('./alameda_parcels_12in.csv')\n",
    "alameda24 = pd.read_csv('./alameda_parcels_24in.csv')\n",
    "alameda36 = pd.read_csv('./alameda_parcels_36in.csv')\n",
    "alameda48 = pd.read_csv('./alameda_parcels_48in.csv')\n",
    "alameda52 = pd.read_csv('./alameda_parcels_52in.csv')\n",
    "alameda66 = pd.read_csv('./alameda_parcels_66in.csv')\n",
    "alameda77 = pd.read_csv('./alameda_parcels_77in.csv')\n",
    "contracosta12 = pd.read_csv('./contracosta_parcels_12in.csv')\n",
    "contracosta24 = pd.read_csv('./contracosta_parcels_24in.csv')\n",
    "contracosta36 = pd.read_csv('./contracosta_parcels_36in.csv')\n",
    "contracosta48 = pd.read_csv('./contracosta_parcels_48in_updated.csv')\n",
    "contracosta52 = pd.read_csv('./contracosta_parcels_52in.csv')\n",
    "contracosta66 = pd.read_csv('./contracosta_parcels_66in.csv')\n",
    "contracosta77 = pd.read_csv('./contracosta_parcels_77in.csv')\n",
    "marin12 = pd.read_csv('./marin_parcels_12in.csv')\n",
    "marin24 = pd.read_csv('./marin_parcels_24in.csv')\n",
    "marin36 = pd.read_csv('./marin_parcels_36in.csv')\n",
    "marin48 = pd.read_csv('./marin_parcels_48in.csv')\n",
    "marin52 = pd.read_csv('./marin_parcels_52in.csv')\n",
    "marin66 = pd.read_csv('./marin_parcels_66in.csv')\n",
    "marin77 = pd.read_csv('./marin_parcels_77in.csv')\n",
    "napa12 = pd.read_csv('./napa_parcels_12in.csv')\n",
    "napa24 = pd.read_csv('./napa_parcels_24in.csv')\n",
    "napa36 = pd.read_csv('./napa_parcels_36in.csv')\n",
    "napa48 = pd.read_csv('./napa_parcels_48in.csv')\n",
    "napa52 = pd.read_csv('./napa_parcels_52in.csv')\n",
    "napa66 = pd.read_csv('./napa_parcels_66in.csv')\n",
    "napa77 = pd.read_csv('./napa_parcels_77in.csv')\n",
    "sanfrancisco12 = pd.read_csv('./sanfrancisco_parcels_12in.csv')\n",
    "sanfrancisco24 = pd.read_csv('./sanfrancisco_parcels_24in.csv')\n",
    "sanfrancisco36 = pd.read_csv('./sanfrancisco_parcels_36in.csv')\n",
    "sanfrancisco48 = pd.read_csv('./sanfrancisco_parcels_48in.csv')\n",
    "sanfrancisco52 = pd.read_csv('./sanfrancisco_parcels_52in.csv')\n",
    "sanfrancisco66 = pd.read_csv('./sanfrancisco_parcels_66in.csv')\n",
    "sanfrancisco77 = pd.read_csv('./sanfrancisco_parcels_77in.csv')\n",
    "santaclara12 = pd.read_csv('./santaclara_parcels_12in.csv')\n",
    "santaclara24 = pd.read_csv('./santaclara_parcels_24in.csv')\n",
    "santaclara36 = pd.read_csv('./santaclara_parcels_36in.csv')\n",
    "santaclara48 = pd.read_csv('./santaclara_parcels_48in.csv')\n",
    "santaclara52 = pd.read_csv('./santaclara_parcels_52in.csv')\n",
    "santaclara66 = pd.read_csv('./santaclara_parcels_66in.csv')\n",
    "santaclara77 = pd.read_csv('./santaclara_parcels_77in.csv')\n",
    "sanmateo12 = pd.read_csv('./sanmateo_parcels_12in.csv')\n",
    "sanmateo24 = pd.read_csv('./sanmateo_parcels_24in.csv')\n",
    "sanmateo36 = pd.read_csv('./sanmateo_parcels_36in.csv')\n",
    "sanmateo48 = pd.read_csv('./sanmateo_parcels_48in.csv')\n",
    "sanmateo52 = pd.read_csv('./sanmateo_parcels_52in.csv')\n",
    "sanmateo66 = pd.read_csv('./sanmateo_parcels_66in.csv')\n",
    "sanmateo77 = pd.read_csv('./sanmateo_parcels_77in.csv')\n",
    "solano12 = pd.read_csv('./solano_parcels_12in.csv')\n",
    "solano24 = pd.read_csv('./solano_parcels_24in.csv')\n",
    "solano36 = pd.read_csv('./solano_parcels_36in.csv')\n",
    "solano48 = pd.read_csv('./solano_parcels_48in.csv')\n",
    "solano52 = pd.read_csv('./solano_parcels_52in.csv')\n",
    "solano66 = pd.read_csv('./solano_parcels_66in.csv')\n",
    "solano77 = pd.read_csv('./solano_parcels_77in.csv')\n",
    "sonoma12 = pd.read_csv('./sonoma_parcels_12in.csv')\n",
    "sonoma24 = pd.read_csv('./sonoma_parcels_24in.csv')\n",
    "sonoma36 = pd.read_csv('./sonoma_parcels_36in.csv')\n",
    "sonoma48 = pd.read_csv('./sonoma_parcels_48in.csv')\n",
    "sonoma52 = pd.read_csv('./sonoma_parcels_52in.csv')\n",
    "sonoma66 = pd.read_csv('./sonoma_parcels_66in.csv')\n",
    "sonoma77 = pd.read_csv('./sonoma_parcels_77in.csv')"
   ]
  },
  {
   "cell_type": "code",
   "execution_count": 21,
   "metadata": {},
   "outputs": [
    {
     "data": {
      "text/html": [
       "<div>\n",
       "<style scoped>\n",
       "    .dataframe tbody tr th:only-of-type {\n",
       "        vertical-align: middle;\n",
       "    }\n",
       "\n",
       "    .dataframe tbody tr th {\n",
       "        vertical-align: top;\n",
       "    }\n",
       "\n",
       "    .dataframe thead th {\n",
       "        text-align: right;\n",
       "    }\n",
       "</style>\n",
       "<table border=\"1\" class=\"dataframe\">\n",
       "  <thead>\n",
       "    <tr style=\"text-align: right;\">\n",
       "      <th></th>\n",
       "      <th>OBJECTID</th>\n",
       "      <th>VALUE</th>\n",
       "      <th>COUNT</th>\n",
       "      <th>AREA</th>\n",
       "      <th>MIN</th>\n",
       "      <th>MAX</th>\n",
       "      <th>RANGE</th>\n",
       "      <th>MEAN</th>\n",
       "      <th>STD</th>\n",
       "      <th>SUM</th>\n",
       "    </tr>\n",
       "  </thead>\n",
       "  <tbody>\n",
       "    <tr>\n",
       "      <th>0</th>\n",
       "      <td>-1</td>\n",
       "      <td>1236492</td>\n",
       "      <td>1755</td>\n",
       "      <td>1755.0</td>\n",
       "      <td>0.012967</td>\n",
       "      <td>8.721968</td>\n",
       "      <td>8.709000</td>\n",
       "      <td>5.144787</td>\n",
       "      <td>2.370428</td>\n",
       "      <td>9029.100856</td>\n",
       "    </tr>\n",
       "    <tr>\n",
       "      <th>1</th>\n",
       "      <td>-1</td>\n",
       "      <td>1050735</td>\n",
       "      <td>551</td>\n",
       "      <td>551.0</td>\n",
       "      <td>4.284108</td>\n",
       "      <td>8.265827</td>\n",
       "      <td>3.981719</td>\n",
       "      <td>6.455478</td>\n",
       "      <td>0.905310</td>\n",
       "      <td>3556.968310</td>\n",
       "    </tr>\n",
       "    <tr>\n",
       "      <th>2</th>\n",
       "      <td>-1</td>\n",
       "      <td>1050733</td>\n",
       "      <td>397</td>\n",
       "      <td>397.0</td>\n",
       "      <td>0.035857</td>\n",
       "      <td>5.399268</td>\n",
       "      <td>5.363412</td>\n",
       "      <td>2.669504</td>\n",
       "      <td>1.388759</td>\n",
       "      <td>1059.793185</td>\n",
       "    </tr>\n",
       "    <tr>\n",
       "      <th>3</th>\n",
       "      <td>-1</td>\n",
       "      <td>1050734</td>\n",
       "      <td>6196</td>\n",
       "      <td>6196.0</td>\n",
       "      <td>0.000237</td>\n",
       "      <td>3.053199</td>\n",
       "      <td>3.052962</td>\n",
       "      <td>1.278724</td>\n",
       "      <td>0.768618</td>\n",
       "      <td>7922.973958</td>\n",
       "    </tr>\n",
       "    <tr>\n",
       "      <th>4</th>\n",
       "      <td>-1</td>\n",
       "      <td>1056396</td>\n",
       "      <td>11799</td>\n",
       "      <td>11799.0</td>\n",
       "      <td>0.189483</td>\n",
       "      <td>13.352617</td>\n",
       "      <td>13.163135</td>\n",
       "      <td>7.907118</td>\n",
       "      <td>3.132706</td>\n",
       "      <td>93296.085119</td>\n",
       "    </tr>\n",
       "  </tbody>\n",
       "</table>\n",
       "</div>"
      ],
      "text/plain": [
       "   OBJECTID    VALUE  COUNT     AREA       MIN        MAX      RANGE  \\\n",
       "0        -1  1236492   1755   1755.0  0.012967   8.721968   8.709000   \n",
       "1        -1  1050735    551    551.0  4.284108   8.265827   3.981719   \n",
       "2        -1  1050733    397    397.0  0.035857   5.399268   5.363412   \n",
       "3        -1  1050734   6196   6196.0  0.000237   3.053199   3.052962   \n",
       "4        -1  1056396  11799  11799.0  0.189483  13.352617  13.163135   \n",
       "\n",
       "       MEAN       STD           SUM  \n",
       "0  5.144787  2.370428   9029.100856  \n",
       "1  6.455478  0.905310   3556.968310  \n",
       "2  2.669504  1.388759   1059.793185  \n",
       "3  1.278724  0.768618   7922.973958  \n",
       "4  7.907118  3.132706  93296.085119  "
      ]
     },
     "execution_count": 21,
     "metadata": {},
     "output_type": "execute_result"
    }
   ],
   "source": [
    "sanmateo52.head()"
   ]
  },
  {
   "cell_type": "code",
   "execution_count": 22,
   "metadata": {},
   "outputs": [
    {
     "data": {
      "text/html": [
       "<div>\n",
       "<style scoped>\n",
       "    .dataframe tbody tr th:only-of-type {\n",
       "        vertical-align: middle;\n",
       "    }\n",
       "\n",
       "    .dataframe tbody tr th {\n",
       "        vertical-align: top;\n",
       "    }\n",
       "\n",
       "    .dataframe thead th {\n",
       "        text-align: right;\n",
       "    }\n",
       "</style>\n",
       "<table border=\"1\" class=\"dataframe\">\n",
       "  <thead>\n",
       "    <tr style=\"text-align: right;\">\n",
       "      <th></th>\n",
       "      <th>OBJECTID</th>\n",
       "      <th>VALUE</th>\n",
       "      <th>COUNT</th>\n",
       "      <th>AREA</th>\n",
       "      <th>MIN</th>\n",
       "      <th>MAX</th>\n",
       "      <th>RANGE</th>\n",
       "      <th>MEAN</th>\n",
       "      <th>STD</th>\n",
       "      <th>SUM</th>\n",
       "    </tr>\n",
       "  </thead>\n",
       "  <tbody>\n",
       "    <tr>\n",
       "      <th>0</th>\n",
       "      <td>-1</td>\n",
       "      <td>914191</td>\n",
       "      <td>164994</td>\n",
       "      <td>164994.0</td>\n",
       "      <td>0.000048</td>\n",
       "      <td>29.484625</td>\n",
       "      <td>29.484577</td>\n",
       "      <td>3.079706</td>\n",
       "      <td>2.617321</td>\n",
       "      <td>508133.015569</td>\n",
       "    </tr>\n",
       "    <tr>\n",
       "      <th>1</th>\n",
       "      <td>-1</td>\n",
       "      <td>895343</td>\n",
       "      <td>2677</td>\n",
       "      <td>2677.0</td>\n",
       "      <td>0.004489</td>\n",
       "      <td>41.378578</td>\n",
       "      <td>41.374089</td>\n",
       "      <td>11.706519</td>\n",
       "      <td>13.229655</td>\n",
       "      <td>31338.352340</td>\n",
       "    </tr>\n",
       "    <tr>\n",
       "      <th>2</th>\n",
       "      <td>-1</td>\n",
       "      <td>1042043</td>\n",
       "      <td>38</td>\n",
       "      <td>38.0</td>\n",
       "      <td>30.331261</td>\n",
       "      <td>45.966751</td>\n",
       "      <td>15.635490</td>\n",
       "      <td>37.146034</td>\n",
       "      <td>5.136307</td>\n",
       "      <td>1411.549301</td>\n",
       "    </tr>\n",
       "    <tr>\n",
       "      <th>3</th>\n",
       "      <td>-1</td>\n",
       "      <td>1042039</td>\n",
       "      <td>1186</td>\n",
       "      <td>1186.0</td>\n",
       "      <td>0.022905</td>\n",
       "      <td>32.814899</td>\n",
       "      <td>32.791994</td>\n",
       "      <td>16.296595</td>\n",
       "      <td>10.276379</td>\n",
       "      <td>19327.762206</td>\n",
       "    </tr>\n",
       "    <tr>\n",
       "      <th>4</th>\n",
       "      <td>-1</td>\n",
       "      <td>1042035</td>\n",
       "      <td>26</td>\n",
       "      <td>26.0</td>\n",
       "      <td>7.156784</td>\n",
       "      <td>41.044033</td>\n",
       "      <td>33.887249</td>\n",
       "      <td>32.948181</td>\n",
       "      <td>6.740205</td>\n",
       "      <td>856.652694</td>\n",
       "    </tr>\n",
       "  </tbody>\n",
       "</table>\n",
       "</div>"
      ],
      "text/plain": [
       "   OBJECTID    VALUE   COUNT      AREA        MIN        MAX      RANGE  \\\n",
       "0        -1   914191  164994  164994.0   0.000048  29.484625  29.484577   \n",
       "1        -1   895343    2677    2677.0   0.004489  41.378578  41.374089   \n",
       "2        -1  1042043      38      38.0  30.331261  45.966751  15.635490   \n",
       "3        -1  1042039    1186    1186.0   0.022905  32.814899  32.791994   \n",
       "4        -1  1042035      26      26.0   7.156784  41.044033  33.887249   \n",
       "\n",
       "        MEAN        STD            SUM  \n",
       "0   3.079706   2.617321  508133.015569  \n",
       "1  11.706519  13.229655   31338.352340  \n",
       "2  37.146034   5.136307    1411.549301  \n",
       "3  16.296595  10.276379   19327.762206  \n",
       "4  32.948181   6.740205     856.652694  "
      ]
     },
     "execution_count": 22,
     "metadata": {},
     "output_type": "execute_result"
    }
   ],
   "source": [
    "sanfrancisco52.head()"
   ]
  },
  {
   "cell_type": "code",
   "execution_count": 23,
   "metadata": {},
   "outputs": [
    {
     "data": {
      "text/html": [
       "<div>\n",
       "<style scoped>\n",
       "    .dataframe tbody tr th:only-of-type {\n",
       "        vertical-align: middle;\n",
       "    }\n",
       "\n",
       "    .dataframe tbody tr th {\n",
       "        vertical-align: top;\n",
       "    }\n",
       "\n",
       "    .dataframe thead th {\n",
       "        text-align: right;\n",
       "    }\n",
       "</style>\n",
       "<table border=\"1\" class=\"dataframe\">\n",
       "  <thead>\n",
       "    <tr style=\"text-align: right;\">\n",
       "      <th></th>\n",
       "      <th>OBJECTID</th>\n",
       "      <th>VALUE</th>\n",
       "      <th>COUNT</th>\n",
       "      <th>AREA</th>\n",
       "      <th>MIN</th>\n",
       "      <th>MAX</th>\n",
       "      <th>RANGE</th>\n",
       "      <th>MEAN</th>\n",
       "      <th>STD</th>\n",
       "      <th>SUM</th>\n",
       "    </tr>\n",
       "  </thead>\n",
       "  <tbody>\n",
       "    <tr>\n",
       "      <th>0</th>\n",
       "      <td>-1</td>\n",
       "      <td>1992520</td>\n",
       "      <td>2699</td>\n",
       "      <td>2699.0</td>\n",
       "      <td>0.000680</td>\n",
       "      <td>3.892607</td>\n",
       "      <td>3.891927</td>\n",
       "      <td>0.619272</td>\n",
       "      <td>0.530314</td>\n",
       "      <td>1671.416119</td>\n",
       "    </tr>\n",
       "    <tr>\n",
       "      <th>1</th>\n",
       "      <td>-1</td>\n",
       "      <td>1992513</td>\n",
       "      <td>27756</td>\n",
       "      <td>27756.0</td>\n",
       "      <td>0.000041</td>\n",
       "      <td>5.759591</td>\n",
       "      <td>5.759550</td>\n",
       "      <td>1.245193</td>\n",
       "      <td>1.185427</td>\n",
       "      <td>34561.577784</td>\n",
       "    </tr>\n",
       "    <tr>\n",
       "      <th>2</th>\n",
       "      <td>-1</td>\n",
       "      <td>1998155</td>\n",
       "      <td>68</td>\n",
       "      <td>68.0</td>\n",
       "      <td>0.002488</td>\n",
       "      <td>0.532107</td>\n",
       "      <td>0.529619</td>\n",
       "      <td>0.232451</td>\n",
       "      <td>0.161837</td>\n",
       "      <td>15.806702</td>\n",
       "    </tr>\n",
       "    <tr>\n",
       "      <th>3</th>\n",
       "      <td>-1</td>\n",
       "      <td>1992518</td>\n",
       "      <td>706</td>\n",
       "      <td>706.0</td>\n",
       "      <td>0.002866</td>\n",
       "      <td>4.062714</td>\n",
       "      <td>4.059848</td>\n",
       "      <td>1.665706</td>\n",
       "      <td>1.639813</td>\n",
       "      <td>1175.988751</td>\n",
       "    </tr>\n",
       "    <tr>\n",
       "      <th>4</th>\n",
       "      <td>-1</td>\n",
       "      <td>1992519</td>\n",
       "      <td>124</td>\n",
       "      <td>124.0</td>\n",
       "      <td>0.012453</td>\n",
       "      <td>3.894466</td>\n",
       "      <td>3.882013</td>\n",
       "      <td>1.766352</td>\n",
       "      <td>1.324562</td>\n",
       "      <td>219.027681</td>\n",
       "    </tr>\n",
       "  </tbody>\n",
       "</table>\n",
       "</div>"
      ],
      "text/plain": [
       "   OBJECTID    VALUE  COUNT     AREA       MIN       MAX     RANGE      MEAN  \\\n",
       "0        -1  1992520   2699   2699.0  0.000680  3.892607  3.891927  0.619272   \n",
       "1        -1  1992513  27756  27756.0  0.000041  5.759591  5.759550  1.245193   \n",
       "2        -1  1998155     68     68.0  0.002488  0.532107  0.529619  0.232451   \n",
       "3        -1  1992518    706    706.0  0.002866  4.062714  4.059848  1.665706   \n",
       "4        -1  1992519    124    124.0  0.012453  3.894466  3.882013  1.766352   \n",
       "\n",
       "        STD           SUM  \n",
       "0  0.530314   1671.416119  \n",
       "1  1.185427  34561.577784  \n",
       "2  0.161837     15.806702  \n",
       "3  1.639813   1175.988751  \n",
       "4  1.324562    219.027681  "
      ]
     },
     "execution_count": 23,
     "metadata": {},
     "output_type": "execute_result"
    }
   ],
   "source": [
    "sonoma52.head()"
   ]
  },
  {
   "cell_type": "code",
   "execution_count": 24,
   "metadata": {
    "collapsed": true
   },
   "outputs": [],
   "source": [
    "alameda12['slr12'] = 12\n",
    "alameda12 = alameda12[['Value','slr12']]\n",
    "alameda24['slr24'] = 24\n",
    "alameda24 = alameda24[['Value','slr24']]\n",
    "alameda36['slr36'] = 36\n",
    "alameda36 = alameda36[['Value','slr36']]\n",
    "alameda48['slr48'] = 48\n",
    "alameda48 = alameda48[['Value','slr48']]\n",
    "alameda52['slr52'] = 52\n",
    "alameda52 = alameda52[['Value','slr52']]\n",
    "alameda66['slr66'] = 66\n",
    "alameda66 = alameda66[['Value','slr66']]\n",
    "alameda77['slr77'] = 77\n",
    "alameda77 = alameda77[['Value','slr77']]"
   ]
  },
  {
   "cell_type": "code",
   "execution_count": 25,
   "metadata": {
    "collapsed": true
   },
   "outputs": [],
   "source": [
    "alameda = alameda77.merge(alameda66, how='left', on='Value')\n",
    "alameda = alameda.merge(alameda52, how='left', on='Value')\n",
    "alameda = alameda.merge(alameda48, how='left', on='Value')\n",
    "alameda = alameda.merge(alameda36, how='left', on='Value')\n",
    "alameda = alameda.merge(alameda24, how='left', on='Value')\n",
    "alameda = alameda.merge(alameda12, how='left', on='Value')"
   ]
  },
  {
   "cell_type": "code",
   "execution_count": 26,
   "metadata": {
    "collapsed": true
   },
   "outputs": [],
   "source": [
    "# alameda.shape"
   ]
  },
  {
   "cell_type": "code",
   "execution_count": 27,
   "metadata": {
    "collapsed": true
   },
   "outputs": [],
   "source": [
    "# 77- when SLR is 7 feet this parcel will be covered-- it will be reached by SLR\n",
    "# 12- when SLR is 1 foot this parcel will be covered -- it will be reached by SLR"
   ]
  },
  {
   "cell_type": "code",
   "execution_count": 28,
   "metadata": {
    "collapsed": true
   },
   "outputs": [],
   "source": [
    "alameda['slr'] = 12\n",
    "alameda = alameda.fillna(0)"
   ]
  },
  {
   "cell_type": "code",
   "execution_count": 29,
   "metadata": {
    "collapsed": true
   },
   "outputs": [],
   "source": [
    "for i in alameda.index:\n",
    "    if alameda['slr66'].loc[i] == 0:\n",
    "        alameda.loc[i, 'slr'] = 77\n",
    "    elif alameda['slr52'].loc[i] == 0:\n",
    "        alameda.loc[i, 'slr'] = 66\n",
    "    elif alameda['slr48'].loc[i] == 0:\n",
    "        alameda.loc[i, 'slr'] = 52\n",
    "    elif alameda['slr36'].loc[i] == 0:\n",
    "        alameda.loc[i, 'slr'] = 48\n",
    "    elif alameda['slr24'].loc[i] == 0:\n",
    "        alameda.loc[i, 'slr'] = 36\n",
    "    elif alameda['slr12'].loc[i] == 0:\n",
    "        alameda.loc[i, 'slr'] = 24"
   ]
  },
  {
   "cell_type": "code",
   "execution_count": 30,
   "metadata": {},
   "outputs": [
    {
     "data": {
      "text/html": [
       "<div>\n",
       "<style scoped>\n",
       "    .dataframe tbody tr th:only-of-type {\n",
       "        vertical-align: middle;\n",
       "    }\n",
       "\n",
       "    .dataframe tbody tr th {\n",
       "        vertical-align: top;\n",
       "    }\n",
       "\n",
       "    .dataframe thead th {\n",
       "        text-align: right;\n",
       "    }\n",
       "</style>\n",
       "<table border=\"1\" class=\"dataframe\">\n",
       "  <thead>\n",
       "    <tr style=\"text-align: right;\">\n",
       "      <th></th>\n",
       "      <th>Value</th>\n",
       "      <th>slr77</th>\n",
       "      <th>slr66</th>\n",
       "      <th>slr52</th>\n",
       "      <th>slr48</th>\n",
       "      <th>slr36</th>\n",
       "      <th>slr24</th>\n",
       "      <th>slr12</th>\n",
       "      <th>slr</th>\n",
       "    </tr>\n",
       "  </thead>\n",
       "  <tbody>\n",
       "    <tr>\n",
       "      <th>0</th>\n",
       "      <td>1</td>\n",
       "      <td>77</td>\n",
       "      <td>66.0</td>\n",
       "      <td>52.0</td>\n",
       "      <td>48.0</td>\n",
       "      <td>36.0</td>\n",
       "      <td>24.0</td>\n",
       "      <td>12.0</td>\n",
       "      <td>12</td>\n",
       "    </tr>\n",
       "    <tr>\n",
       "      <th>1</th>\n",
       "      <td>2</td>\n",
       "      <td>77</td>\n",
       "      <td>66.0</td>\n",
       "      <td>52.0</td>\n",
       "      <td>48.0</td>\n",
       "      <td>36.0</td>\n",
       "      <td>24.0</td>\n",
       "      <td>12.0</td>\n",
       "      <td>12</td>\n",
       "    </tr>\n",
       "    <tr>\n",
       "      <th>2</th>\n",
       "      <td>3</td>\n",
       "      <td>77</td>\n",
       "      <td>66.0</td>\n",
       "      <td>52.0</td>\n",
       "      <td>48.0</td>\n",
       "      <td>36.0</td>\n",
       "      <td>24.0</td>\n",
       "      <td>12.0</td>\n",
       "      <td>12</td>\n",
       "    </tr>\n",
       "    <tr>\n",
       "      <th>3</th>\n",
       "      <td>4</td>\n",
       "      <td>77</td>\n",
       "      <td>66.0</td>\n",
       "      <td>52.0</td>\n",
       "      <td>0.0</td>\n",
       "      <td>0.0</td>\n",
       "      <td>0.0</td>\n",
       "      <td>0.0</td>\n",
       "      <td>52</td>\n",
       "    </tr>\n",
       "    <tr>\n",
       "      <th>4</th>\n",
       "      <td>5</td>\n",
       "      <td>77</td>\n",
       "      <td>66.0</td>\n",
       "      <td>52.0</td>\n",
       "      <td>0.0</td>\n",
       "      <td>0.0</td>\n",
       "      <td>0.0</td>\n",
       "      <td>0.0</td>\n",
       "      <td>52</td>\n",
       "    </tr>\n",
       "  </tbody>\n",
       "</table>\n",
       "</div>"
      ],
      "text/plain": [
       "   Value  slr77  slr66  slr52  slr48  slr36  slr24  slr12  slr\n",
       "0      1     77   66.0   52.0   48.0   36.0   24.0   12.0   12\n",
       "1      2     77   66.0   52.0   48.0   36.0   24.0   12.0   12\n",
       "2      3     77   66.0   52.0   48.0   36.0   24.0   12.0   12\n",
       "3      4     77   66.0   52.0    0.0    0.0    0.0    0.0   52\n",
       "4      5     77   66.0   52.0    0.0    0.0    0.0    0.0   52"
      ]
     },
     "execution_count": 30,
     "metadata": {},
     "output_type": "execute_result"
    }
   ],
   "source": [
    "alameda.head()"
   ]
  },
  {
   "cell_type": "code",
   "execution_count": 31,
   "metadata": {},
   "outputs": [
    {
     "data": {
      "text/plain": [
       "(27383, 9)"
      ]
     },
     "execution_count": 31,
     "metadata": {},
     "output_type": "execute_result"
    }
   ],
   "source": [
    "alameda.shape"
   ]
  },
  {
   "cell_type": "code",
   "execution_count": 32,
   "metadata": {
    "collapsed": true
   },
   "outputs": [],
   "source": [
    "contracosta12['slr12'] = 12\n",
    "contracosta12 = contracosta12[['VALUE','slr12']]\n",
    "contracosta24['slr24'] = 24\n",
    "contracosta24 = contracosta24[['VALUE','slr24']]\n",
    "contracosta36['slr36'] = 36\n",
    "contracosta36 = contracosta36[['VALUE','slr36']]\n",
    "contracosta48['slr48'] = 48\n",
    "contracosta48 = contracosta48[['VALUE','slr48']]\n",
    "contracosta52['slr52'] = 52\n",
    "contracosta52 = contracosta52[['VALUE','slr52']]\n",
    "contracosta66['slr66'] = 66\n",
    "contracosta66 = contracosta66[['VALUE','slr66']]\n",
    "contracosta77['slr77'] = 77\n",
    "contracosta77 = contracosta77[['VALUE','slr77']]"
   ]
  },
  {
   "cell_type": "code",
   "execution_count": 33,
   "metadata": {
    "collapsed": true
   },
   "outputs": [],
   "source": [
    "contracosta = contracosta77.merge(contracosta66, how='left', on='VALUE')\n",
    "contracosta = contracosta.merge(contracosta52, how='left', on='VALUE')\n",
    "contracosta = contracosta.merge(contracosta48, how='left', on='VALUE')\n",
    "contracosta = contracosta.merge(contracosta36, how='left', on='VALUE')\n",
    "contracosta = contracosta.merge(contracosta24, how='left', on='VALUE')\n",
    "contracosta = contracosta.merge(contracosta12, how='left', on='VALUE')"
   ]
  },
  {
   "cell_type": "code",
   "execution_count": 34,
   "metadata": {
    "collapsed": true
   },
   "outputs": [],
   "source": [
    "contracosta['slr'] = 12\n",
    "contracosta = contracosta.fillna(0)"
   ]
  },
  {
   "cell_type": "code",
   "execution_count": 35,
   "metadata": {
    "collapsed": true
   },
   "outputs": [],
   "source": [
    "for i in contracosta.index:\n",
    "    if contracosta['slr66'].loc[i] == 0:\n",
    "        contracosta.loc[i, 'slr'] = 77\n",
    "    elif contracosta['slr52'].loc[i] == 0:\n",
    "        contracosta.loc[i, 'slr'] = 66\n",
    "    elif contracosta['slr48'].loc[i] == 0:\n",
    "        contracosta.loc[i, 'slr'] = 52\n",
    "    elif contracosta['slr36'].loc[i] == 0:\n",
    "        contracosta.loc[i, 'slr'] = 48\n",
    "    elif contracosta['slr24'].loc[i] == 0:\n",
    "        contracosta.loc[i, 'slr'] = 36\n",
    "    elif contracosta['slr12'].loc[i] == 0:\n",
    "        contracosta.loc[i, 'slr'] = 24"
   ]
  },
  {
   "cell_type": "code",
   "execution_count": 36,
   "metadata": {},
   "outputs": [
    {
     "data": {
      "text/html": [
       "<div>\n",
       "<style scoped>\n",
       "    .dataframe tbody tr th:only-of-type {\n",
       "        vertical-align: middle;\n",
       "    }\n",
       "\n",
       "    .dataframe tbody tr th {\n",
       "        vertical-align: top;\n",
       "    }\n",
       "\n",
       "    .dataframe thead th {\n",
       "        text-align: right;\n",
       "    }\n",
       "</style>\n",
       "<table border=\"1\" class=\"dataframe\">\n",
       "  <thead>\n",
       "    <tr style=\"text-align: right;\">\n",
       "      <th></th>\n",
       "      <th>VALUE</th>\n",
       "      <th>slr77</th>\n",
       "      <th>slr66</th>\n",
       "      <th>slr52</th>\n",
       "      <th>slr48</th>\n",
       "      <th>slr36</th>\n",
       "      <th>slr24</th>\n",
       "      <th>slr12</th>\n",
       "      <th>slr</th>\n",
       "    </tr>\n",
       "  </thead>\n",
       "  <tbody>\n",
       "    <tr>\n",
       "      <th>0</th>\n",
       "      <td>670493</td>\n",
       "      <td>77</td>\n",
       "      <td>66.0</td>\n",
       "      <td>52.0</td>\n",
       "      <td>48.0</td>\n",
       "      <td>36.0</td>\n",
       "      <td>24.0</td>\n",
       "      <td>12.0</td>\n",
       "      <td>12</td>\n",
       "    </tr>\n",
       "    <tr>\n",
       "      <th>1</th>\n",
       "      <td>670412</td>\n",
       "      <td>77</td>\n",
       "      <td>66.0</td>\n",
       "      <td>52.0</td>\n",
       "      <td>48.0</td>\n",
       "      <td>36.0</td>\n",
       "      <td>24.0</td>\n",
       "      <td>12.0</td>\n",
       "      <td>12</td>\n",
       "    </tr>\n",
       "    <tr>\n",
       "      <th>2</th>\n",
       "      <td>670441</td>\n",
       "      <td>77</td>\n",
       "      <td>66.0</td>\n",
       "      <td>52.0</td>\n",
       "      <td>48.0</td>\n",
       "      <td>36.0</td>\n",
       "      <td>24.0</td>\n",
       "      <td>12.0</td>\n",
       "      <td>12</td>\n",
       "    </tr>\n",
       "    <tr>\n",
       "      <th>3</th>\n",
       "      <td>670442</td>\n",
       "      <td>77</td>\n",
       "      <td>66.0</td>\n",
       "      <td>52.0</td>\n",
       "      <td>48.0</td>\n",
       "      <td>36.0</td>\n",
       "      <td>24.0</td>\n",
       "      <td>12.0</td>\n",
       "      <td>12</td>\n",
       "    </tr>\n",
       "    <tr>\n",
       "      <th>4</th>\n",
       "      <td>670440</td>\n",
       "      <td>77</td>\n",
       "      <td>66.0</td>\n",
       "      <td>52.0</td>\n",
       "      <td>48.0</td>\n",
       "      <td>36.0</td>\n",
       "      <td>24.0</td>\n",
       "      <td>12.0</td>\n",
       "      <td>12</td>\n",
       "    </tr>\n",
       "  </tbody>\n",
       "</table>\n",
       "</div>"
      ],
      "text/plain": [
       "    VALUE  slr77  slr66  slr52  slr48  slr36  slr24  slr12  slr\n",
       "0  670493     77   66.0   52.0   48.0   36.0   24.0   12.0   12\n",
       "1  670412     77   66.0   52.0   48.0   36.0   24.0   12.0   12\n",
       "2  670441     77   66.0   52.0   48.0   36.0   24.0   12.0   12\n",
       "3  670442     77   66.0   52.0   48.0   36.0   24.0   12.0   12\n",
       "4  670440     77   66.0   52.0   48.0   36.0   24.0   12.0   12"
      ]
     },
     "execution_count": 36,
     "metadata": {},
     "output_type": "execute_result"
    }
   ],
   "source": [
    "contracosta.head()"
   ]
  },
  {
   "cell_type": "code",
   "execution_count": 37,
   "metadata": {},
   "outputs": [
    {
     "data": {
      "text/plain": [
       "(2758, 9)"
      ]
     },
     "execution_count": 37,
     "metadata": {},
     "output_type": "execute_result"
    }
   ],
   "source": [
    "contracosta.shape"
   ]
  },
  {
   "cell_type": "code",
   "execution_count": 38,
   "metadata": {
    "collapsed": true
   },
   "outputs": [],
   "source": [
    "marin12['slr12'] = 12\n",
    "marin12 = marin12[['VALUE','slr12']]\n",
    "marin24['slr24'] = 24\n",
    "marin24 = marin24[['VALUE','slr24']]\n",
    "marin36['slr36'] = 36\n",
    "marin36 = marin36[['VALUE','slr36']]\n",
    "marin48['slr48'] = 48\n",
    "marin48 = marin48[['VALUE','slr48']]\n",
    "marin52['slr52'] = 52\n",
    "marin52 = marin52[['VALUE','slr52']]\n",
    "marin66['slr66'] = 66\n",
    "marin66 = marin66[['VALUE','slr66']]\n",
    "marin77['slr77'] = 77\n",
    "marin77 = marin77[['VALUE','slr77']]"
   ]
  },
  {
   "cell_type": "code",
   "execution_count": 39,
   "metadata": {
    "collapsed": true
   },
   "outputs": [],
   "source": [
    "marin = marin77.merge(marin66, how='left', on='VALUE')\n",
    "marin = marin.merge(marin52, how='left', on='VALUE')\n",
    "marin = marin.merge(marin48, how='left', on='VALUE')\n",
    "marin = marin.merge(marin36, how='left', on='VALUE')\n",
    "marin = marin.merge(marin24, how='left', on='VALUE')\n",
    "marin = marin.merge(marin12, how='left', on='VALUE')"
   ]
  },
  {
   "cell_type": "code",
   "execution_count": 40,
   "metadata": {
    "collapsed": true
   },
   "outputs": [],
   "source": [
    "marin['slr'] = 12\n",
    "marin = marin.fillna(0)"
   ]
  },
  {
   "cell_type": "code",
   "execution_count": 41,
   "metadata": {
    "collapsed": true
   },
   "outputs": [],
   "source": [
    "for i in marin.index:\n",
    "    if marin['slr66'].loc[i] == 0:\n",
    "        marin.loc[i, 'slr'] = 77\n",
    "    elif marin['slr52'].loc[i] == 0:\n",
    "        marin.loc[i, 'slr'] = 66\n",
    "    elif marin['slr48'].loc[i] == 0:\n",
    "        marin.loc[i, 'slr'] = 52\n",
    "    elif marin['slr36'].loc[i] == 0:\n",
    "        marin.loc[i, 'slr'] = 48\n",
    "    elif marin['slr24'].loc[i] == 0:\n",
    "        marin.loc[i, 'slr'] = 36\n",
    "    elif marin['slr12'].loc[i] == 0:\n",
    "        marin.loc[i, 'slr'] = 24"
   ]
  },
  {
   "cell_type": "code",
   "execution_count": 42,
   "metadata": {},
   "outputs": [
    {
     "data": {
      "text/html": [
       "<div>\n",
       "<style scoped>\n",
       "    .dataframe tbody tr th:only-of-type {\n",
       "        vertical-align: middle;\n",
       "    }\n",
       "\n",
       "    .dataframe tbody tr th {\n",
       "        vertical-align: top;\n",
       "    }\n",
       "\n",
       "    .dataframe thead th {\n",
       "        text-align: right;\n",
       "    }\n",
       "</style>\n",
       "<table border=\"1\" class=\"dataframe\">\n",
       "  <thead>\n",
       "    <tr style=\"text-align: right;\">\n",
       "      <th></th>\n",
       "      <th>VALUE</th>\n",
       "      <th>slr77</th>\n",
       "      <th>slr66</th>\n",
       "      <th>slr52</th>\n",
       "      <th>slr48</th>\n",
       "      <th>slr36</th>\n",
       "      <th>slr24</th>\n",
       "      <th>slr12</th>\n",
       "      <th>slr</th>\n",
       "    </tr>\n",
       "  </thead>\n",
       "  <tbody>\n",
       "    <tr>\n",
       "      <th>0</th>\n",
       "      <td>799508</td>\n",
       "      <td>77</td>\n",
       "      <td>66.0</td>\n",
       "      <td>52.0</td>\n",
       "      <td>48.0</td>\n",
       "      <td>36.0</td>\n",
       "      <td>24.0</td>\n",
       "      <td>12.0</td>\n",
       "      <td>12</td>\n",
       "    </tr>\n",
       "    <tr>\n",
       "      <th>1</th>\n",
       "      <td>799509</td>\n",
       "      <td>77</td>\n",
       "      <td>66.0</td>\n",
       "      <td>52.0</td>\n",
       "      <td>48.0</td>\n",
       "      <td>36.0</td>\n",
       "      <td>24.0</td>\n",
       "      <td>12.0</td>\n",
       "      <td>12</td>\n",
       "    </tr>\n",
       "    <tr>\n",
       "      <th>2</th>\n",
       "      <td>799512</td>\n",
       "      <td>77</td>\n",
       "      <td>66.0</td>\n",
       "      <td>52.0</td>\n",
       "      <td>48.0</td>\n",
       "      <td>36.0</td>\n",
       "      <td>24.0</td>\n",
       "      <td>12.0</td>\n",
       "      <td>12</td>\n",
       "    </tr>\n",
       "    <tr>\n",
       "      <th>3</th>\n",
       "      <td>799513</td>\n",
       "      <td>77</td>\n",
       "      <td>66.0</td>\n",
       "      <td>52.0</td>\n",
       "      <td>48.0</td>\n",
       "      <td>36.0</td>\n",
       "      <td>24.0</td>\n",
       "      <td>12.0</td>\n",
       "      <td>12</td>\n",
       "    </tr>\n",
       "    <tr>\n",
       "      <th>4</th>\n",
       "      <td>799558</td>\n",
       "      <td>77</td>\n",
       "      <td>66.0</td>\n",
       "      <td>52.0</td>\n",
       "      <td>48.0</td>\n",
       "      <td>36.0</td>\n",
       "      <td>24.0</td>\n",
       "      <td>0.0</td>\n",
       "      <td>24</td>\n",
       "    </tr>\n",
       "  </tbody>\n",
       "</table>\n",
       "</div>"
      ],
      "text/plain": [
       "    VALUE  slr77  slr66  slr52  slr48  slr36  slr24  slr12  slr\n",
       "0  799508     77   66.0   52.0   48.0   36.0   24.0   12.0   12\n",
       "1  799509     77   66.0   52.0   48.0   36.0   24.0   12.0   12\n",
       "2  799512     77   66.0   52.0   48.0   36.0   24.0   12.0   12\n",
       "3  799513     77   66.0   52.0   48.0   36.0   24.0   12.0   12\n",
       "4  799558     77   66.0   52.0   48.0   36.0   24.0    0.0   24"
      ]
     },
     "execution_count": 42,
     "metadata": {},
     "output_type": "execute_result"
    }
   ],
   "source": [
    "marin.head()"
   ]
  },
  {
   "cell_type": "code",
   "execution_count": 43,
   "metadata": {},
   "outputs": [
    {
     "data": {
      "text/plain": [
       "(14463, 9)"
      ]
     },
     "execution_count": 43,
     "metadata": {},
     "output_type": "execute_result"
    }
   ],
   "source": [
    "marin.shape"
   ]
  },
  {
   "cell_type": "code",
   "execution_count": 44,
   "metadata": {
    "collapsed": true
   },
   "outputs": [],
   "source": [
    "napa12['slr12'] = 12\n",
    "napa12 = napa12[['Value','slr12']]\n",
    "napa24['slr24'] = 24\n",
    "napa24 = napa24[['Value','slr24']]\n",
    "napa36['slr36'] = 36\n",
    "napa36 = napa36[['Value','slr36']]\n",
    "napa48['slr48'] = 48\n",
    "napa48 = napa48[['Value','slr48']]\n",
    "napa52['slr52'] = 52\n",
    "napa52 = napa52[['Value','slr52']]\n",
    "napa66['slr66'] = 66\n",
    "napa66 = napa66[['Value','slr66']]\n",
    "napa77['slr77'] = 77\n",
    "napa77 = napa77[['Value','slr77']]"
   ]
  },
  {
   "cell_type": "code",
   "execution_count": 45,
   "metadata": {
    "collapsed": true
   },
   "outputs": [],
   "source": [
    "napa = napa77.merge(napa66, how='left', on='Value')\n",
    "napa = napa.merge(napa52, how='left', on='Value')\n",
    "napa = napa.merge(napa48, how='left', on='Value')\n",
    "napa = napa.merge(napa36, how='left', on='Value')\n",
    "napa = napa.merge(napa24, how='left', on='Value')\n",
    "napa = napa.merge(napa12, how='left', on='Value')"
   ]
  },
  {
   "cell_type": "code",
   "execution_count": 46,
   "metadata": {
    "collapsed": true
   },
   "outputs": [],
   "source": [
    "napa['slr'] = 12\n",
    "napa = napa.fillna(0)"
   ]
  },
  {
   "cell_type": "code",
   "execution_count": 47,
   "metadata": {
    "collapsed": true
   },
   "outputs": [],
   "source": [
    "for i in napa.index:\n",
    "    if napa['slr66'].loc[i] == 0:\n",
    "        napa.loc[i, 'slr'] = 77\n",
    "    elif napa['slr52'].loc[i] == 0:\n",
    "        napa.loc[i, 'slr'] = 66\n",
    "    elif napa['slr48'].loc[i] == 0:\n",
    "        napa.loc[i, 'slr'] = 52\n",
    "    elif napa['slr36'].loc[i] == 0:\n",
    "        napa.loc[i, 'slr'] = 48\n",
    "    elif napa['slr24'].loc[i] == 0:\n",
    "        napa.loc[i, 'slr'] = 36\n",
    "    elif napa['slr12'].loc[i] == 0:\n",
    "        napa.loc[i, 'slr'] = 24"
   ]
  },
  {
   "cell_type": "code",
   "execution_count": 48,
   "metadata": {},
   "outputs": [
    {
     "data": {
      "text/html": [
       "<div>\n",
       "<style scoped>\n",
       "    .dataframe tbody tr th:only-of-type {\n",
       "        vertical-align: middle;\n",
       "    }\n",
       "\n",
       "    .dataframe tbody tr th {\n",
       "        vertical-align: top;\n",
       "    }\n",
       "\n",
       "    .dataframe thead th {\n",
       "        text-align: right;\n",
       "    }\n",
       "</style>\n",
       "<table border=\"1\" class=\"dataframe\">\n",
       "  <thead>\n",
       "    <tr style=\"text-align: right;\">\n",
       "      <th></th>\n",
       "      <th>Value</th>\n",
       "      <th>slr77</th>\n",
       "      <th>slr66</th>\n",
       "      <th>slr52</th>\n",
       "      <th>slr48</th>\n",
       "      <th>slr36</th>\n",
       "      <th>slr24</th>\n",
       "      <th>slr12</th>\n",
       "      <th>slr</th>\n",
       "    </tr>\n",
       "  </thead>\n",
       "  <tbody>\n",
       "    <tr>\n",
       "      <th>0</th>\n",
       "      <td>842868</td>\n",
       "      <td>77</td>\n",
       "      <td>0.0</td>\n",
       "      <td>0.0</td>\n",
       "      <td>0.0</td>\n",
       "      <td>0.0</td>\n",
       "      <td>0.0</td>\n",
       "      <td>0.0</td>\n",
       "      <td>77</td>\n",
       "    </tr>\n",
       "    <tr>\n",
       "      <th>1</th>\n",
       "      <td>842870</td>\n",
       "      <td>77</td>\n",
       "      <td>66.0</td>\n",
       "      <td>52.0</td>\n",
       "      <td>0.0</td>\n",
       "      <td>0.0</td>\n",
       "      <td>0.0</td>\n",
       "      <td>0.0</td>\n",
       "      <td>52</td>\n",
       "    </tr>\n",
       "    <tr>\n",
       "      <th>2</th>\n",
       "      <td>842996</td>\n",
       "      <td>77</td>\n",
       "      <td>66.0</td>\n",
       "      <td>52.0</td>\n",
       "      <td>48.0</td>\n",
       "      <td>36.0</td>\n",
       "      <td>0.0</td>\n",
       "      <td>0.0</td>\n",
       "      <td>36</td>\n",
       "    </tr>\n",
       "    <tr>\n",
       "      <th>3</th>\n",
       "      <td>843003</td>\n",
       "      <td>77</td>\n",
       "      <td>66.0</td>\n",
       "      <td>52.0</td>\n",
       "      <td>48.0</td>\n",
       "      <td>36.0</td>\n",
       "      <td>24.0</td>\n",
       "      <td>0.0</td>\n",
       "      <td>24</td>\n",
       "    </tr>\n",
       "    <tr>\n",
       "      <th>4</th>\n",
       "      <td>843004</td>\n",
       "      <td>77</td>\n",
       "      <td>66.0</td>\n",
       "      <td>52.0</td>\n",
       "      <td>48.0</td>\n",
       "      <td>36.0</td>\n",
       "      <td>24.0</td>\n",
       "      <td>0.0</td>\n",
       "      <td>24</td>\n",
       "    </tr>\n",
       "  </tbody>\n",
       "</table>\n",
       "</div>"
      ],
      "text/plain": [
       "    Value  slr77  slr66  slr52  slr48  slr36  slr24  slr12  slr\n",
       "0  842868     77    0.0    0.0    0.0    0.0    0.0    0.0   77\n",
       "1  842870     77   66.0   52.0    0.0    0.0    0.0    0.0   52\n",
       "2  842996     77   66.0   52.0   48.0   36.0    0.0    0.0   36\n",
       "3  843003     77   66.0   52.0   48.0   36.0   24.0    0.0   24\n",
       "4  843004     77   66.0   52.0   48.0   36.0   24.0    0.0   24"
      ]
     },
     "execution_count": 48,
     "metadata": {},
     "output_type": "execute_result"
    }
   ],
   "source": [
    "napa.head()"
   ]
  },
  {
   "cell_type": "code",
   "execution_count": 49,
   "metadata": {},
   "outputs": [
    {
     "data": {
      "text/plain": [
       "(872, 9)"
      ]
     },
     "execution_count": 49,
     "metadata": {},
     "output_type": "execute_result"
    }
   ],
   "source": [
    "napa.shape"
   ]
  },
  {
   "cell_type": "code",
   "execution_count": 50,
   "metadata": {
    "collapsed": true
   },
   "outputs": [],
   "source": [
    "sanfrancisco12['slr12'] = 12\n",
    "sanfrancisco12 = sanfrancisco12[['VALUE','slr12']]\n",
    "sanfrancisco24['slr24'] = 24\n",
    "sanfrancisco24 = sanfrancisco24[['VALUE','slr24']]\n",
    "sanfrancisco36['slr36'] = 36\n",
    "sanfrancisco36 = sanfrancisco36[['VALUE','slr36']]\n",
    "sanfrancisco48['slr48'] = 48\n",
    "sanfrancisco48 = sanfrancisco48[['VALUE','slr48']]\n",
    "sanfrancisco52['slr52'] = 52\n",
    "sanfrancisco52 = sanfrancisco52[['VALUE','slr52']]\n",
    "sanfrancisco66['slr66'] = 66\n",
    "sanfrancisco66 = sanfrancisco66[['VALUE','slr66']]\n",
    "sanfrancisco77['slr77'] = 77\n",
    "sanfrancisco77 = sanfrancisco77[['VALUE','slr77']]"
   ]
  },
  {
   "cell_type": "code",
   "execution_count": 51,
   "metadata": {
    "collapsed": true
   },
   "outputs": [],
   "source": [
    "sanfrancisco = sanfrancisco77.merge(sanfrancisco66, how='left', on='VALUE')\n",
    "sanfrancisco = sanfrancisco.merge(sanfrancisco52, how='left', on='VALUE')\n",
    "sanfrancisco = sanfrancisco.merge(sanfrancisco48, how='left', on='VALUE')\n",
    "sanfrancisco = sanfrancisco.merge(sanfrancisco36, how='left', on='VALUE')\n",
    "sanfrancisco = sanfrancisco.merge(sanfrancisco24, how='left', on='VALUE')\n",
    "sanfrancisco = sanfrancisco.merge(sanfrancisco12, how='left', on='VALUE')"
   ]
  },
  {
   "cell_type": "code",
   "execution_count": 52,
   "metadata": {
    "collapsed": true
   },
   "outputs": [],
   "source": [
    "sanfrancisco['slr'] = 12\n",
    "sanfrancisco = sanfrancisco.fillna(0)"
   ]
  },
  {
   "cell_type": "code",
   "execution_count": 53,
   "metadata": {
    "collapsed": true
   },
   "outputs": [],
   "source": [
    "for i in sanfrancisco.index:\n",
    "    if sanfrancisco['slr66'].loc[i] == 0:\n",
    "        sanfrancisco.loc[i, 'slr'] = 77\n",
    "    elif sanfrancisco['slr52'].loc[i] == 0:\n",
    "        sanfrancisco.loc[i, 'slr'] = 66\n",
    "    elif sanfrancisco['slr48'].loc[i] == 0:\n",
    "        sanfrancisco.loc[i, 'slr'] = 52\n",
    "    elif sanfrancisco['slr36'].loc[i] == 0:\n",
    "        sanfrancisco.loc[i, 'slr'] = 48\n",
    "    elif sanfrancisco['slr24'].loc[i] == 0:\n",
    "        sanfrancisco.loc[i, 'slr'] = 36\n",
    "    elif sanfrancisco['slr12'].loc[i] == 0:\n",
    "        sanfrancisco.loc[i, 'slr'] = 24"
   ]
  },
  {
   "cell_type": "code",
   "execution_count": 54,
   "metadata": {},
   "outputs": [
    {
     "data": {
      "text/html": [
       "<div>\n",
       "<style scoped>\n",
       "    .dataframe tbody tr th:only-of-type {\n",
       "        vertical-align: middle;\n",
       "    }\n",
       "\n",
       "    .dataframe tbody tr th {\n",
       "        vertical-align: top;\n",
       "    }\n",
       "\n",
       "    .dataframe thead th {\n",
       "        text-align: right;\n",
       "    }\n",
       "</style>\n",
       "<table border=\"1\" class=\"dataframe\">\n",
       "  <thead>\n",
       "    <tr style=\"text-align: right;\">\n",
       "      <th></th>\n",
       "      <th>VALUE</th>\n",
       "      <th>slr77</th>\n",
       "      <th>slr66</th>\n",
       "      <th>slr52</th>\n",
       "      <th>slr48</th>\n",
       "      <th>slr36</th>\n",
       "      <th>slr24</th>\n",
       "      <th>slr12</th>\n",
       "      <th>slr</th>\n",
       "    </tr>\n",
       "  </thead>\n",
       "  <tbody>\n",
       "    <tr>\n",
       "      <th>0</th>\n",
       "      <td>914191</td>\n",
       "      <td>77</td>\n",
       "      <td>66.0</td>\n",
       "      <td>52.0</td>\n",
       "      <td>48.0</td>\n",
       "      <td>36.0</td>\n",
       "      <td>24.0</td>\n",
       "      <td>12.0</td>\n",
       "      <td>12</td>\n",
       "    </tr>\n",
       "    <tr>\n",
       "      <th>1</th>\n",
       "      <td>895343</td>\n",
       "      <td>77</td>\n",
       "      <td>66.0</td>\n",
       "      <td>52.0</td>\n",
       "      <td>48.0</td>\n",
       "      <td>36.0</td>\n",
       "      <td>24.0</td>\n",
       "      <td>12.0</td>\n",
       "      <td>12</td>\n",
       "    </tr>\n",
       "    <tr>\n",
       "      <th>2</th>\n",
       "      <td>1042043</td>\n",
       "      <td>77</td>\n",
       "      <td>66.0</td>\n",
       "      <td>52.0</td>\n",
       "      <td>48.0</td>\n",
       "      <td>36.0</td>\n",
       "      <td>24.0</td>\n",
       "      <td>12.0</td>\n",
       "      <td>12</td>\n",
       "    </tr>\n",
       "    <tr>\n",
       "      <th>3</th>\n",
       "      <td>1042039</td>\n",
       "      <td>77</td>\n",
       "      <td>66.0</td>\n",
       "      <td>52.0</td>\n",
       "      <td>48.0</td>\n",
       "      <td>36.0</td>\n",
       "      <td>24.0</td>\n",
       "      <td>12.0</td>\n",
       "      <td>12</td>\n",
       "    </tr>\n",
       "    <tr>\n",
       "      <th>4</th>\n",
       "      <td>1042035</td>\n",
       "      <td>77</td>\n",
       "      <td>66.0</td>\n",
       "      <td>52.0</td>\n",
       "      <td>48.0</td>\n",
       "      <td>36.0</td>\n",
       "      <td>24.0</td>\n",
       "      <td>12.0</td>\n",
       "      <td>12</td>\n",
       "    </tr>\n",
       "  </tbody>\n",
       "</table>\n",
       "</div>"
      ],
      "text/plain": [
       "     VALUE  slr77  slr66  slr52  slr48  slr36  slr24  slr12  slr\n",
       "0   914191     77   66.0   52.0   48.0   36.0   24.0   12.0   12\n",
       "1   895343     77   66.0   52.0   48.0   36.0   24.0   12.0   12\n",
       "2  1042043     77   66.0   52.0   48.0   36.0   24.0   12.0   12\n",
       "3  1042039     77   66.0   52.0   48.0   36.0   24.0   12.0   12\n",
       "4  1042035     77   66.0   52.0   48.0   36.0   24.0   12.0   12"
      ]
     },
     "execution_count": 54,
     "metadata": {},
     "output_type": "execute_result"
    }
   ],
   "source": [
    "sanfrancisco.head()"
   ]
  },
  {
   "cell_type": "code",
   "execution_count": 55,
   "metadata": {},
   "outputs": [
    {
     "data": {
      "text/plain": [
       "(1480, 9)"
      ]
     },
     "execution_count": 55,
     "metadata": {},
     "output_type": "execute_result"
    }
   ],
   "source": [
    "sanfrancisco.shape"
   ]
  },
  {
   "cell_type": "code",
   "execution_count": 56,
   "metadata": {
    "collapsed": true
   },
   "outputs": [],
   "source": [
    "santaclara12['slr12'] = 12\n",
    "santaclara12 = santaclara12[['VALUE','slr12']]\n",
    "santaclara24['slr24'] = 24\n",
    "santaclara24 = santaclara24[['VALUE','slr24']]\n",
    "santaclara36['slr36'] = 36\n",
    "santaclara36 = santaclara36[['VALUE','slr36']]\n",
    "santaclara48['slr48'] = 48\n",
    "santaclara48 = santaclara48[['VALUE','slr48']]\n",
    "santaclara52['slr52'] = 52\n",
    "santaclara52 = santaclara52[['VALUE','slr52']]\n",
    "santaclara66['slr66'] = 66\n",
    "santaclara66 = santaclara66[['VALUE','slr66']]\n",
    "santaclara77['slr77'] = 77\n",
    "santaclara77 = santaclara77[['VALUE','slr77']]"
   ]
  },
  {
   "cell_type": "code",
   "execution_count": 57,
   "metadata": {
    "collapsed": true
   },
   "outputs": [],
   "source": [
    "santaclara = santaclara77.merge(santaclara66, how='left', on='VALUE')\n",
    "santaclara = santaclara.merge(santaclara52, how='left', on='VALUE')\n",
    "santaclara = santaclara.merge(santaclara48, how='left', on='VALUE')\n",
    "santaclara = santaclara.merge(santaclara36, how='left', on='VALUE')\n",
    "santaclara = santaclara.merge(santaclara24, how='left', on='VALUE')\n",
    "santaclara = santaclara.merge(santaclara12, how='left', on='VALUE')"
   ]
  },
  {
   "cell_type": "code",
   "execution_count": 58,
   "metadata": {
    "collapsed": true
   },
   "outputs": [],
   "source": [
    "santaclara['slr'] = 12\n",
    "santaclara = santaclara.fillna(0)"
   ]
  },
  {
   "cell_type": "code",
   "execution_count": 59,
   "metadata": {
    "collapsed": true
   },
   "outputs": [],
   "source": [
    "for i in santaclara.index:\n",
    "    if santaclara['slr66'].loc[i] == 0:\n",
    "        santaclara.loc[i, 'slr'] = 77\n",
    "    elif santaclara['slr52'].loc[i] == 0:\n",
    "        santaclara.loc[i, 'slr'] = 66\n",
    "    elif santaclara['slr48'].loc[i] == 0:\n",
    "        santaclara.loc[i, 'slr'] = 52\n",
    "    elif santaclara['slr36'].loc[i] == 0:\n",
    "        santaclara.loc[i, 'slr'] = 48\n",
    "    elif santaclara['slr24'].loc[i] == 0:\n",
    "        santaclara.loc[i, 'slr'] = 36\n",
    "    elif santaclara['slr12'].loc[i] == 0:\n",
    "        santaclara.loc[i, 'slr'] = 24"
   ]
  },
  {
   "cell_type": "code",
   "execution_count": 60,
   "metadata": {},
   "outputs": [
    {
     "data": {
      "text/html": [
       "<div>\n",
       "<style scoped>\n",
       "    .dataframe tbody tr th:only-of-type {\n",
       "        vertical-align: middle;\n",
       "    }\n",
       "\n",
       "    .dataframe tbody tr th {\n",
       "        vertical-align: top;\n",
       "    }\n",
       "\n",
       "    .dataframe thead th {\n",
       "        text-align: right;\n",
       "    }\n",
       "</style>\n",
       "<table border=\"1\" class=\"dataframe\">\n",
       "  <thead>\n",
       "    <tr style=\"text-align: right;\">\n",
       "      <th></th>\n",
       "      <th>VALUE</th>\n",
       "      <th>slr77</th>\n",
       "      <th>slr66</th>\n",
       "      <th>slr52</th>\n",
       "      <th>slr48</th>\n",
       "      <th>slr36</th>\n",
       "      <th>slr24</th>\n",
       "      <th>slr12</th>\n",
       "      <th>slr</th>\n",
       "    </tr>\n",
       "  </thead>\n",
       "  <tbody>\n",
       "    <tr>\n",
       "      <th>0</th>\n",
       "      <td>1268194</td>\n",
       "      <td>77</td>\n",
       "      <td>66.0</td>\n",
       "      <td>52.0</td>\n",
       "      <td>48.0</td>\n",
       "      <td>36.0</td>\n",
       "      <td>24.0</td>\n",
       "      <td>12.0</td>\n",
       "      <td>12</td>\n",
       "    </tr>\n",
       "    <tr>\n",
       "      <th>1</th>\n",
       "      <td>1268223</td>\n",
       "      <td>77</td>\n",
       "      <td>66.0</td>\n",
       "      <td>52.0</td>\n",
       "      <td>48.0</td>\n",
       "      <td>36.0</td>\n",
       "      <td>24.0</td>\n",
       "      <td>12.0</td>\n",
       "      <td>12</td>\n",
       "    </tr>\n",
       "    <tr>\n",
       "      <th>2</th>\n",
       "      <td>2048931</td>\n",
       "      <td>77</td>\n",
       "      <td>66.0</td>\n",
       "      <td>52.0</td>\n",
       "      <td>48.0</td>\n",
       "      <td>36.0</td>\n",
       "      <td>24.0</td>\n",
       "      <td>12.0</td>\n",
       "      <td>12</td>\n",
       "    </tr>\n",
       "    <tr>\n",
       "      <th>3</th>\n",
       "      <td>1268226</td>\n",
       "      <td>77</td>\n",
       "      <td>66.0</td>\n",
       "      <td>52.0</td>\n",
       "      <td>48.0</td>\n",
       "      <td>36.0</td>\n",
       "      <td>24.0</td>\n",
       "      <td>12.0</td>\n",
       "      <td>12</td>\n",
       "    </tr>\n",
       "    <tr>\n",
       "      <th>4</th>\n",
       "      <td>1268091</td>\n",
       "      <td>77</td>\n",
       "      <td>66.0</td>\n",
       "      <td>52.0</td>\n",
       "      <td>48.0</td>\n",
       "      <td>36.0</td>\n",
       "      <td>24.0</td>\n",
       "      <td>12.0</td>\n",
       "      <td>12</td>\n",
       "    </tr>\n",
       "  </tbody>\n",
       "</table>\n",
       "</div>"
      ],
      "text/plain": [
       "     VALUE  slr77  slr66  slr52  slr48  slr36  slr24  slr12  slr\n",
       "0  1268194     77   66.0   52.0   48.0   36.0   24.0   12.0   12\n",
       "1  1268223     77   66.0   52.0   48.0   36.0   24.0   12.0   12\n",
       "2  2048931     77   66.0   52.0   48.0   36.0   24.0   12.0   12\n",
       "3  1268226     77   66.0   52.0   48.0   36.0   24.0   12.0   12\n",
       "4  1268091     77   66.0   52.0   48.0   36.0   24.0   12.0   12"
      ]
     },
     "execution_count": 60,
     "metadata": {},
     "output_type": "execute_result"
    }
   ],
   "source": [
    "santaclara.head()"
   ]
  },
  {
   "cell_type": "code",
   "execution_count": 61,
   "metadata": {
    "collapsed": true
   },
   "outputs": [],
   "source": [
    "sanmateo12['slr12'] = 12\n",
    "sanmateo12 = sanmateo12[['VALUE','slr12']]\n",
    "sanmateo24['slr24'] = 24\n",
    "sanmateo24 = sanmateo24[['VALUE','slr24']]\n",
    "sanmateo36['slr36'] = 36\n",
    "sanmateo36 = sanmateo36[['VALUE','slr36']]\n",
    "sanmateo48['slr48'] = 48\n",
    "sanmateo48 = sanmateo48[['VALUE','slr48']]\n",
    "sanmateo52['slr52'] = 52\n",
    "sanmateo52 = sanmateo52[['VALUE','slr52']]\n",
    "sanmateo66['slr66'] = 66\n",
    "sanmateo66 = sanmateo66[['VALUE','slr66']]\n",
    "sanmateo77['slr77'] = 77\n",
    "sanmateo77 = sanmateo77[['VALUE','slr77']]"
   ]
  },
  {
   "cell_type": "code",
   "execution_count": 62,
   "metadata": {
    "collapsed": true
   },
   "outputs": [],
   "source": [
    "sanmateo = sanmateo77.merge(sanmateo66, how='left', on='VALUE')\n",
    "sanmateo = sanmateo.merge(sanmateo52, how='left', on='VALUE')\n",
    "sanmateo = sanmateo.merge(sanmateo48, how='left', on='VALUE')\n",
    "sanmateo = sanmateo.merge(sanmateo36, how='left', on='VALUE')\n",
    "sanmateo = sanmateo.merge(sanmateo24, how='left', on='VALUE')\n",
    "sanmateo = sanmateo.merge(sanmateo12, how='left', on='VALUE')"
   ]
  },
  {
   "cell_type": "code",
   "execution_count": 63,
   "metadata": {
    "collapsed": true
   },
   "outputs": [],
   "source": [
    "sanmateo['slr'] = 12\n",
    "sanmateo = sanmateo.fillna(0)"
   ]
  },
  {
   "cell_type": "code",
   "execution_count": 64,
   "metadata": {
    "collapsed": true
   },
   "outputs": [],
   "source": [
    "for i in sanmateo.index:\n",
    "    if sanmateo['slr66'].loc[i] == 0:\n",
    "        sanmateo.loc[i, 'slr'] = 77\n",
    "    elif sanmateo['slr52'].loc[i] == 0:\n",
    "        sanmateo.loc[i, 'slr'] = 66\n",
    "    elif sanmateo['slr48'].loc[i] == 0:\n",
    "        sanmateo.loc[i, 'slr'] = 52\n",
    "    elif sanmateo['slr36'].loc[i] == 0:\n",
    "        sanmateo.loc[i, 'slr'] = 48\n",
    "    elif sanmateo['slr24'].loc[i] == 0:\n",
    "        sanmateo.loc[i, 'slr'] = 36\n",
    "    elif sanmateo['slr12'].loc[i] == 0:\n",
    "        sanmateo.loc[i, 'slr'] = 24"
   ]
  },
  {
   "cell_type": "code",
   "execution_count": 65,
   "metadata": {},
   "outputs": [
    {
     "data": {
      "text/html": [
       "<div>\n",
       "<style scoped>\n",
       "    .dataframe tbody tr th:only-of-type {\n",
       "        vertical-align: middle;\n",
       "    }\n",
       "\n",
       "    .dataframe tbody tr th {\n",
       "        vertical-align: top;\n",
       "    }\n",
       "\n",
       "    .dataframe thead th {\n",
       "        text-align: right;\n",
       "    }\n",
       "</style>\n",
       "<table border=\"1\" class=\"dataframe\">\n",
       "  <thead>\n",
       "    <tr style=\"text-align: right;\">\n",
       "      <th></th>\n",
       "      <th>VALUE</th>\n",
       "      <th>slr77</th>\n",
       "      <th>slr66</th>\n",
       "      <th>slr52</th>\n",
       "      <th>slr48</th>\n",
       "      <th>slr36</th>\n",
       "      <th>slr24</th>\n",
       "      <th>slr12</th>\n",
       "      <th>slr</th>\n",
       "    </tr>\n",
       "  </thead>\n",
       "  <tbody>\n",
       "    <tr>\n",
       "      <th>0</th>\n",
       "      <td>1236492</td>\n",
       "      <td>77</td>\n",
       "      <td>66.0</td>\n",
       "      <td>52.0</td>\n",
       "      <td>48.0</td>\n",
       "      <td>36.0</td>\n",
       "      <td>24.0</td>\n",
       "      <td>12.0</td>\n",
       "      <td>12</td>\n",
       "    </tr>\n",
       "    <tr>\n",
       "      <th>1</th>\n",
       "      <td>1050735</td>\n",
       "      <td>77</td>\n",
       "      <td>66.0</td>\n",
       "      <td>52.0</td>\n",
       "      <td>48.0</td>\n",
       "      <td>36.0</td>\n",
       "      <td>24.0</td>\n",
       "      <td>12.0</td>\n",
       "      <td>12</td>\n",
       "    </tr>\n",
       "    <tr>\n",
       "      <th>2</th>\n",
       "      <td>1050733</td>\n",
       "      <td>77</td>\n",
       "      <td>66.0</td>\n",
       "      <td>52.0</td>\n",
       "      <td>48.0</td>\n",
       "      <td>36.0</td>\n",
       "      <td>24.0</td>\n",
       "      <td>12.0</td>\n",
       "      <td>12</td>\n",
       "    </tr>\n",
       "    <tr>\n",
       "      <th>3</th>\n",
       "      <td>1050734</td>\n",
       "      <td>77</td>\n",
       "      <td>66.0</td>\n",
       "      <td>52.0</td>\n",
       "      <td>48.0</td>\n",
       "      <td>36.0</td>\n",
       "      <td>24.0</td>\n",
       "      <td>0.0</td>\n",
       "      <td>24</td>\n",
       "    </tr>\n",
       "    <tr>\n",
       "      <th>4</th>\n",
       "      <td>1056396</td>\n",
       "      <td>77</td>\n",
       "      <td>66.0</td>\n",
       "      <td>52.0</td>\n",
       "      <td>48.0</td>\n",
       "      <td>36.0</td>\n",
       "      <td>24.0</td>\n",
       "      <td>12.0</td>\n",
       "      <td>12</td>\n",
       "    </tr>\n",
       "  </tbody>\n",
       "</table>\n",
       "</div>"
      ],
      "text/plain": [
       "     VALUE  slr77  slr66  slr52  slr48  slr36  slr24  slr12  slr\n",
       "0  1236492     77   66.0   52.0   48.0   36.0   24.0   12.0   12\n",
       "1  1050735     77   66.0   52.0   48.0   36.0   24.0   12.0   12\n",
       "2  1050733     77   66.0   52.0   48.0   36.0   24.0   12.0   12\n",
       "3  1050734     77   66.0   52.0   48.0   36.0   24.0    0.0   24\n",
       "4  1056396     77   66.0   52.0   48.0   36.0   24.0   12.0   12"
      ]
     },
     "execution_count": 65,
     "metadata": {},
     "output_type": "execute_result"
    }
   ],
   "source": [
    "sanmateo.head()"
   ]
  },
  {
   "cell_type": "code",
   "execution_count": 66,
   "metadata": {},
   "outputs": [
    {
     "data": {
      "text/plain": [
       "(28234, 9)"
      ]
     },
     "execution_count": 66,
     "metadata": {},
     "output_type": "execute_result"
    }
   ],
   "source": [
    "sanmateo.shape"
   ]
  },
  {
   "cell_type": "code",
   "execution_count": 67,
   "metadata": {
    "collapsed": true
   },
   "outputs": [],
   "source": [
    "solano12['slr12'] = 12\n",
    "solano12 = solano12[['VALUE','slr12']]\n",
    "solano24['slr24'] = 24\n",
    "solano24 = solano24[['VALUE','slr24']]\n",
    "solano36['slr36'] = 36\n",
    "solano36 = solano36[['VALUE','slr36']]\n",
    "solano48['slr48'] = 48\n",
    "solano48 = solano48[['VALUE','slr48']]\n",
    "solano52['slr52'] = 52\n",
    "solano52 = solano52[['VALUE','slr52']]\n",
    "solano66['slr66'] = 66\n",
    "solano66 = solano66[['VALUE','slr66']]\n",
    "solano77['slr77'] = 77\n",
    "solano77 = solano77[['VALUE','slr77']]"
   ]
  },
  {
   "cell_type": "code",
   "execution_count": 68,
   "metadata": {
    "collapsed": true
   },
   "outputs": [],
   "source": [
    "solano = solano77.merge(solano66, how='left', on='VALUE')\n",
    "solano = solano.merge(solano52, how='left', on='VALUE')\n",
    "solano = solano.merge(solano48, how='left', on='VALUE')\n",
    "solano = solano.merge(solano36, how='left', on='VALUE')\n",
    "solano = solano.merge(solano24, how='left', on='VALUE')\n",
    "solano = solano.merge(solano12, how='left', on='VALUE')"
   ]
  },
  {
   "cell_type": "code",
   "execution_count": 69,
   "metadata": {
    "collapsed": true
   },
   "outputs": [],
   "source": [
    "solano['slr'] = 12\n",
    "solano = solano.fillna(0)"
   ]
  },
  {
   "cell_type": "code",
   "execution_count": 70,
   "metadata": {
    "collapsed": true
   },
   "outputs": [],
   "source": [
    "for i in solano.index:\n",
    "    if solano['slr66'].loc[i] == 0:\n",
    "        solano.loc[i, 'slr'] = 77\n",
    "    elif solano['slr52'].loc[i] == 0:\n",
    "        solano.loc[i, 'slr'] = 66\n",
    "    elif solano['slr48'].loc[i] == 0:\n",
    "        solano.loc[i, 'slr'] = 52\n",
    "    elif solano['slr36'].loc[i] == 0:\n",
    "        solano.loc[i, 'slr'] = 48\n",
    "    elif solano['slr24'].loc[i] == 0:\n",
    "        solano.loc[i, 'slr'] = 36\n",
    "    elif solano['slr12'].loc[i] == 0:\n",
    "        solano.loc[i, 'slr'] = 24"
   ]
  },
  {
   "cell_type": "code",
   "execution_count": 71,
   "metadata": {},
   "outputs": [
    {
     "data": {
      "text/html": [
       "<div>\n",
       "<style scoped>\n",
       "    .dataframe tbody tr th:only-of-type {\n",
       "        vertical-align: middle;\n",
       "    }\n",
       "\n",
       "    .dataframe tbody tr th {\n",
       "        vertical-align: top;\n",
       "    }\n",
       "\n",
       "    .dataframe thead th {\n",
       "        text-align: right;\n",
       "    }\n",
       "</style>\n",
       "<table border=\"1\" class=\"dataframe\">\n",
       "  <thead>\n",
       "    <tr style=\"text-align: right;\">\n",
       "      <th></th>\n",
       "      <th>VALUE</th>\n",
       "      <th>slr77</th>\n",
       "      <th>slr66</th>\n",
       "      <th>slr52</th>\n",
       "      <th>slr48</th>\n",
       "      <th>slr36</th>\n",
       "      <th>slr24</th>\n",
       "      <th>slr12</th>\n",
       "      <th>slr</th>\n",
       "    </tr>\n",
       "  </thead>\n",
       "  <tbody>\n",
       "    <tr>\n",
       "      <th>0</th>\n",
       "      <td>1733934</td>\n",
       "      <td>77</td>\n",
       "      <td>0.0</td>\n",
       "      <td>0.0</td>\n",
       "      <td>0.0</td>\n",
       "      <td>0.0</td>\n",
       "      <td>0.0</td>\n",
       "      <td>0.0</td>\n",
       "      <td>77</td>\n",
       "    </tr>\n",
       "    <tr>\n",
       "      <th>1</th>\n",
       "      <td>1733928</td>\n",
       "      <td>77</td>\n",
       "      <td>0.0</td>\n",
       "      <td>0.0</td>\n",
       "      <td>0.0</td>\n",
       "      <td>0.0</td>\n",
       "      <td>0.0</td>\n",
       "      <td>0.0</td>\n",
       "      <td>77</td>\n",
       "    </tr>\n",
       "    <tr>\n",
       "      <th>2</th>\n",
       "      <td>1729973</td>\n",
       "      <td>77</td>\n",
       "      <td>0.0</td>\n",
       "      <td>0.0</td>\n",
       "      <td>0.0</td>\n",
       "      <td>0.0</td>\n",
       "      <td>0.0</td>\n",
       "      <td>0.0</td>\n",
       "      <td>77</td>\n",
       "    </tr>\n",
       "    <tr>\n",
       "      <th>3</th>\n",
       "      <td>1729972</td>\n",
       "      <td>77</td>\n",
       "      <td>0.0</td>\n",
       "      <td>0.0</td>\n",
       "      <td>0.0</td>\n",
       "      <td>0.0</td>\n",
       "      <td>0.0</td>\n",
       "      <td>0.0</td>\n",
       "      <td>77</td>\n",
       "    </tr>\n",
       "    <tr>\n",
       "      <th>4</th>\n",
       "      <td>1732796</td>\n",
       "      <td>77</td>\n",
       "      <td>66.0</td>\n",
       "      <td>0.0</td>\n",
       "      <td>0.0</td>\n",
       "      <td>0.0</td>\n",
       "      <td>0.0</td>\n",
       "      <td>0.0</td>\n",
       "      <td>66</td>\n",
       "    </tr>\n",
       "  </tbody>\n",
       "</table>\n",
       "</div>"
      ],
      "text/plain": [
       "     VALUE  slr77  slr66  slr52  slr48  slr36  slr24  slr12  slr\n",
       "0  1733934     77    0.0    0.0    0.0    0.0    0.0    0.0   77\n",
       "1  1733928     77    0.0    0.0    0.0    0.0    0.0    0.0   77\n",
       "2  1729973     77    0.0    0.0    0.0    0.0    0.0    0.0   77\n",
       "3  1729972     77    0.0    0.0    0.0    0.0    0.0    0.0   77\n",
       "4  1732796     77   66.0    0.0    0.0    0.0    0.0    0.0   66"
      ]
     },
     "execution_count": 71,
     "metadata": {},
     "output_type": "execute_result"
    }
   ],
   "source": [
    "solano.head()"
   ]
  },
  {
   "cell_type": "code",
   "execution_count": 72,
   "metadata": {},
   "outputs": [
    {
     "data": {
      "text/plain": [
       "(6413, 9)"
      ]
     },
     "execution_count": 72,
     "metadata": {},
     "output_type": "execute_result"
    }
   ],
   "source": [
    "solano.shape"
   ]
  },
  {
   "cell_type": "code",
   "execution_count": 73,
   "metadata": {
    "collapsed": true
   },
   "outputs": [],
   "source": [
    "sonoma12['slr12'] = 12\n",
    "sonoma12 = sonoma12[['VALUE','slr12']]\n",
    "sonoma24['slr24'] = 24\n",
    "sonoma24 = sonoma24[['VALUE','slr24']]\n",
    "sonoma36['slr36'] = 36\n",
    "sonoma36 = sonoma36[['VALUE','slr36']]\n",
    "sonoma48['slr48'] = 48\n",
    "sonoma48 = sonoma48[['VALUE','slr48']]\n",
    "sonoma52['slr52'] = 52\n",
    "sonoma52 = sonoma52[['VALUE','slr52']]\n",
    "sonoma66['slr66'] = 66\n",
    "sonoma66 = sonoma66[['VALUE','slr66']]\n",
    "sonoma77['slr77'] = 77\n",
    "sonoma77 = sonoma77[['VALUE','slr77']]"
   ]
  },
  {
   "cell_type": "code",
   "execution_count": 74,
   "metadata": {
    "collapsed": true
   },
   "outputs": [],
   "source": [
    "sonoma = sonoma77.merge(sonoma66, how='left', on='VALUE')\n",
    "sonoma = sonoma.merge(sonoma52, how='left', on='VALUE')\n",
    "sonoma = sonoma.merge(sonoma48, how='left', on='VALUE')\n",
    "sonoma = sonoma.merge(sonoma36, how='left', on='VALUE')\n",
    "sonoma = sonoma.merge(sonoma24, how='left', on='VALUE')\n",
    "sonoma = sonoma.merge(sonoma12, how='left', on='VALUE')"
   ]
  },
  {
   "cell_type": "code",
   "execution_count": 75,
   "metadata": {
    "collapsed": true
   },
   "outputs": [],
   "source": [
    "sonoma['slr'] = 12\n",
    "sonoma = sonoma.fillna(0)"
   ]
  },
  {
   "cell_type": "code",
   "execution_count": 76,
   "metadata": {
    "collapsed": true
   },
   "outputs": [],
   "source": [
    "for i in sonoma.index:\n",
    "    if sonoma['slr66'].loc[i] == 0:\n",
    "        sonoma.loc[i, 'slr'] = 77\n",
    "    elif sonoma['slr52'].loc[i] == 0:\n",
    "        sonoma.loc[i, 'slr'] = 66\n",
    "    elif sonoma['slr48'].loc[i] == 0:\n",
    "        sonoma.loc[i, 'slr'] = 52\n",
    "    elif sonoma['slr36'].loc[i] == 0:\n",
    "        sonoma.loc[i, 'slr'] = 48\n",
    "    elif sonoma['slr24'].loc[i] == 0:\n",
    "        sonoma.loc[i, 'slr'] = 36\n",
    "    elif sonoma['slr12'].loc[i] == 0:\n",
    "        sonoma.loc[i, 'slr'] = 24"
   ]
  },
  {
   "cell_type": "code",
   "execution_count": 77,
   "metadata": {},
   "outputs": [
    {
     "data": {
      "text/html": [
       "<div>\n",
       "<style scoped>\n",
       "    .dataframe tbody tr th:only-of-type {\n",
       "        vertical-align: middle;\n",
       "    }\n",
       "\n",
       "    .dataframe tbody tr th {\n",
       "        vertical-align: top;\n",
       "    }\n",
       "\n",
       "    .dataframe thead th {\n",
       "        text-align: right;\n",
       "    }\n",
       "</style>\n",
       "<table border=\"1\" class=\"dataframe\">\n",
       "  <thead>\n",
       "    <tr style=\"text-align: right;\">\n",
       "      <th></th>\n",
       "      <th>VALUE</th>\n",
       "      <th>slr77</th>\n",
       "      <th>slr66</th>\n",
       "      <th>slr52</th>\n",
       "      <th>slr48</th>\n",
       "      <th>slr36</th>\n",
       "      <th>slr24</th>\n",
       "      <th>slr12</th>\n",
       "      <th>slr</th>\n",
       "    </tr>\n",
       "  </thead>\n",
       "  <tbody>\n",
       "    <tr>\n",
       "      <th>0</th>\n",
       "      <td>2004134</td>\n",
       "      <td>77</td>\n",
       "      <td>66.0</td>\n",
       "      <td>0.0</td>\n",
       "      <td>0.0</td>\n",
       "      <td>0.0</td>\n",
       "      <td>0.0</td>\n",
       "      <td>0.0</td>\n",
       "      <td>66</td>\n",
       "    </tr>\n",
       "    <tr>\n",
       "      <th>1</th>\n",
       "      <td>2038124</td>\n",
       "      <td>77</td>\n",
       "      <td>0.0</td>\n",
       "      <td>0.0</td>\n",
       "      <td>0.0</td>\n",
       "      <td>0.0</td>\n",
       "      <td>0.0</td>\n",
       "      <td>0.0</td>\n",
       "      <td>77</td>\n",
       "    </tr>\n",
       "    <tr>\n",
       "      <th>2</th>\n",
       "      <td>1992520</td>\n",
       "      <td>77</td>\n",
       "      <td>66.0</td>\n",
       "      <td>52.0</td>\n",
       "      <td>48.0</td>\n",
       "      <td>36.0</td>\n",
       "      <td>24.0</td>\n",
       "      <td>12.0</td>\n",
       "      <td>12</td>\n",
       "    </tr>\n",
       "    <tr>\n",
       "      <th>3</th>\n",
       "      <td>1992510</td>\n",
       "      <td>77</td>\n",
       "      <td>0.0</td>\n",
       "      <td>0.0</td>\n",
       "      <td>0.0</td>\n",
       "      <td>0.0</td>\n",
       "      <td>0.0</td>\n",
       "      <td>0.0</td>\n",
       "      <td>77</td>\n",
       "    </tr>\n",
       "    <tr>\n",
       "      <th>4</th>\n",
       "      <td>1989624</td>\n",
       "      <td>77</td>\n",
       "      <td>0.0</td>\n",
       "      <td>0.0</td>\n",
       "      <td>0.0</td>\n",
       "      <td>0.0</td>\n",
       "      <td>0.0</td>\n",
       "      <td>0.0</td>\n",
       "      <td>77</td>\n",
       "    </tr>\n",
       "  </tbody>\n",
       "</table>\n",
       "</div>"
      ],
      "text/plain": [
       "     VALUE  slr77  slr66  slr52  slr48  slr36  slr24  slr12  slr\n",
       "0  2004134     77   66.0    0.0    0.0    0.0    0.0    0.0   66\n",
       "1  2038124     77    0.0    0.0    0.0    0.0    0.0    0.0   77\n",
       "2  1992520     77   66.0   52.0   48.0   36.0   24.0   12.0   12\n",
       "3  1992510     77    0.0    0.0    0.0    0.0    0.0    0.0   77\n",
       "4  1989624     77    0.0    0.0    0.0    0.0    0.0    0.0   77"
      ]
     },
     "execution_count": 77,
     "metadata": {},
     "output_type": "execute_result"
    }
   ],
   "source": [
    "sonoma.head()"
   ]
  },
  {
   "cell_type": "code",
   "execution_count": 78,
   "metadata": {},
   "outputs": [
    {
     "data": {
      "text/plain": [
       "(815, 9)"
      ]
     },
     "execution_count": 78,
     "metadata": {},
     "output_type": "execute_result"
    }
   ],
   "source": [
    "sonoma.shape"
   ]
  },
  {
   "cell_type": "code",
   "execution_count": 79,
   "metadata": {
    "collapsed": true
   },
   "outputs": [],
   "source": [
    "alameda = alameda.rename(columns={'Value':'parcel_id'})\n",
    "contracosta = contracosta.rename(columns={'VALUE':'parcel_id'})\n",
    "marin = marin.rename(columns={'VALUE':'parcel_id'})\n",
    "napa = napa.rename(columns={'Value':'parcel_id'})\n",
    "sanfrancisco = sanfrancisco.rename(columns={'VALUE':'parcel_id'})\n",
    "santaclara = santaclara.rename(columns={'VALUE':'parcel_id'})\n",
    "sanmateo = sanmateo.rename(columns={'VALUE':'parcel_id'})\n",
    "solano = solano.rename(columns={'VALUE':'parcel_id'})\n",
    "sonoma = sonoma.rename(columns={'VALUE':'parcel_id'})"
   ]
  },
  {
   "cell_type": "code",
   "execution_count": 80,
   "metadata": {},
   "outputs": [
    {
     "data": {
      "text/html": [
       "<div>\n",
       "<style scoped>\n",
       "    .dataframe tbody tr th:only-of-type {\n",
       "        vertical-align: middle;\n",
       "    }\n",
       "\n",
       "    .dataframe tbody tr th {\n",
       "        vertical-align: top;\n",
       "    }\n",
       "\n",
       "    .dataframe thead th {\n",
       "        text-align: right;\n",
       "    }\n",
       "</style>\n",
       "<table border=\"1\" class=\"dataframe\">\n",
       "  <thead>\n",
       "    <tr style=\"text-align: right;\">\n",
       "      <th></th>\n",
       "      <th>parcel_id</th>\n",
       "      <th>slr77</th>\n",
       "      <th>slr66</th>\n",
       "      <th>slr52</th>\n",
       "      <th>slr48</th>\n",
       "      <th>slr36</th>\n",
       "      <th>slr24</th>\n",
       "      <th>slr12</th>\n",
       "      <th>slr</th>\n",
       "    </tr>\n",
       "  </thead>\n",
       "  <tbody>\n",
       "    <tr>\n",
       "      <th>0</th>\n",
       "      <td>1</td>\n",
       "      <td>77</td>\n",
       "      <td>66.0</td>\n",
       "      <td>52.0</td>\n",
       "      <td>48.0</td>\n",
       "      <td>36.0</td>\n",
       "      <td>24.0</td>\n",
       "      <td>12.0</td>\n",
       "      <td>12</td>\n",
       "    </tr>\n",
       "    <tr>\n",
       "      <th>1</th>\n",
       "      <td>2</td>\n",
       "      <td>77</td>\n",
       "      <td>66.0</td>\n",
       "      <td>52.0</td>\n",
       "      <td>48.0</td>\n",
       "      <td>36.0</td>\n",
       "      <td>24.0</td>\n",
       "      <td>12.0</td>\n",
       "      <td>12</td>\n",
       "    </tr>\n",
       "    <tr>\n",
       "      <th>2</th>\n",
       "      <td>3</td>\n",
       "      <td>77</td>\n",
       "      <td>66.0</td>\n",
       "      <td>52.0</td>\n",
       "      <td>48.0</td>\n",
       "      <td>36.0</td>\n",
       "      <td>24.0</td>\n",
       "      <td>12.0</td>\n",
       "      <td>12</td>\n",
       "    </tr>\n",
       "    <tr>\n",
       "      <th>3</th>\n",
       "      <td>4</td>\n",
       "      <td>77</td>\n",
       "      <td>66.0</td>\n",
       "      <td>52.0</td>\n",
       "      <td>0.0</td>\n",
       "      <td>0.0</td>\n",
       "      <td>0.0</td>\n",
       "      <td>0.0</td>\n",
       "      <td>52</td>\n",
       "    </tr>\n",
       "    <tr>\n",
       "      <th>4</th>\n",
       "      <td>5</td>\n",
       "      <td>77</td>\n",
       "      <td>66.0</td>\n",
       "      <td>52.0</td>\n",
       "      <td>0.0</td>\n",
       "      <td>0.0</td>\n",
       "      <td>0.0</td>\n",
       "      <td>0.0</td>\n",
       "      <td>52</td>\n",
       "    </tr>\n",
       "  </tbody>\n",
       "</table>\n",
       "</div>"
      ],
      "text/plain": [
       "   parcel_id  slr77  slr66  slr52  slr48  slr36  slr24  slr12  slr\n",
       "0          1     77   66.0   52.0   48.0   36.0   24.0   12.0   12\n",
       "1          2     77   66.0   52.0   48.0   36.0   24.0   12.0   12\n",
       "2          3     77   66.0   52.0   48.0   36.0   24.0   12.0   12\n",
       "3          4     77   66.0   52.0    0.0    0.0    0.0    0.0   52\n",
       "4          5     77   66.0   52.0    0.0    0.0    0.0    0.0   52"
      ]
     },
     "execution_count": 80,
     "metadata": {},
     "output_type": "execute_result"
    }
   ],
   "source": [
    "frames = [alameda, contracosta, marin, napa, sanfrancisco, sanmateo, santaclara, solano, sonoma]\n",
    "parcels_inun = pd.concat(frames)\n",
    "parcels_inun.head()"
   ]
  },
  {
   "cell_type": "code",
   "execution_count": 81,
   "metadata": {},
   "outputs": [
    {
     "data": {
      "text/plain": [
       "(89129, 9)"
      ]
     },
     "execution_count": 81,
     "metadata": {},
     "output_type": "execute_result"
    }
   ],
   "source": [
    "parcels_inun.shape"
   ]
  },
  {
   "cell_type": "code",
   "execution_count": 82,
   "metadata": {},
   "outputs": [
    {
     "data": {
      "text/html": [
       "<div>\n",
       "<style scoped>\n",
       "    .dataframe tbody tr th:only-of-type {\n",
       "        vertical-align: middle;\n",
       "    }\n",
       "\n",
       "    .dataframe tbody tr th {\n",
       "        vertical-align: top;\n",
       "    }\n",
       "\n",
       "    .dataframe thead th {\n",
       "        text-align: right;\n",
       "    }\n",
       "</style>\n",
       "<table border=\"1\" class=\"dataframe\">\n",
       "  <thead>\n",
       "    <tr style=\"text-align: right;\">\n",
       "      <th></th>\n",
       "      <th>parcel_id</th>\n",
       "      <th>slr</th>\n",
       "    </tr>\n",
       "  </thead>\n",
       "  <tbody>\n",
       "    <tr>\n",
       "      <th>0</th>\n",
       "      <td>1</td>\n",
       "      <td>12</td>\n",
       "    </tr>\n",
       "    <tr>\n",
       "      <th>1</th>\n",
       "      <td>2</td>\n",
       "      <td>12</td>\n",
       "    </tr>\n",
       "    <tr>\n",
       "      <th>2</th>\n",
       "      <td>3</td>\n",
       "      <td>12</td>\n",
       "    </tr>\n",
       "    <tr>\n",
       "      <th>3</th>\n",
       "      <td>4</td>\n",
       "      <td>52</td>\n",
       "    </tr>\n",
       "    <tr>\n",
       "      <th>4</th>\n",
       "      <td>5</td>\n",
       "      <td>52</td>\n",
       "    </tr>\n",
       "  </tbody>\n",
       "</table>\n",
       "</div>"
      ],
      "text/plain": [
       "   parcel_id  slr\n",
       "0          1   12\n",
       "1          2   12\n",
       "2          3   12\n",
       "3          4   52\n",
       "4          5   52"
      ]
     },
     "execution_count": 82,
     "metadata": {},
     "output_type": "execute_result"
    }
   ],
   "source": [
    "parcels_inun = parcels_inun[['parcel_id','slr']]\n",
    "parcels_inun.head()"
   ]
  },
  {
   "cell_type": "code",
   "execution_count": 95,
   "metadata": {
    "collapsed": true
   },
   "outputs": [],
   "source": [
    "# if RAN again, need to delete index from the csv, and change 'slr' column name to 'inundation'\n",
    "parcels_inun.to_csv('./slr_parcel_inundation.csv')"
   ]
  },
  {
   "cell_type": "code",
   "execution_count": 84,
   "metadata": {
    "collapsed": true
   },
   "outputs": [],
   "source": [
    "alameda.to_csv('./alameda_parcel_inundation.csv')\n",
    "contracosta.to_csv('./contracosta_parcel_inundation.csv')\n",
    "marin.to_csv('./marin_parcel_inundation.csv')\n",
    "napa.to_csv('./napa_parcel_inundation.csv')\n",
    "sanfrancisco.to_csv('./sanfrancisco_parcel_inundation.csv')\n",
    "sanmateo.to_csv('./sanmateo_parcel_inundation.csv')\n",
    "santaclara.to_csv('./santaclara_parcel_inundation.csv')\n",
    "solano.to_csv('./solano_parcel_inundation.csv')\n",
    "sonoma.to_csv('./sonoma_parcel_inundation.csv')"
   ]
  },
  {
   "cell_type": "code",
   "execution_count": 85,
   "metadata": {},
   "outputs": [
    {
     "data": {
      "text/plain": [
       "(89129, 2)"
      ]
     },
     "execution_count": 85,
     "metadata": {},
     "output_type": "execute_result"
    }
   ],
   "source": [
    "parcels_inun.shape"
   ]
  },
  {
   "cell_type": "code",
   "execution_count": 86,
   "metadata": {
    "collapsed": true
   },
   "outputs": [],
   "source": [
    "# BY COUNTY: count of residential units, job spaces"
   ]
  },
  {
   "cell_type": "code",
   "execution_count": 87,
   "metadata": {
    "collapsed": true
   },
   "outputs": [],
   "source": [
    "run_2010 = pd.read_csv('../County TAZs/run7224_parcel_data_2010.csv')"
   ]
  },
  {
   "cell_type": "code",
   "execution_count": 88,
   "metadata": {},
   "outputs": [
    {
     "data": {
      "text/html": [
       "<div>\n",
       "<style scoped>\n",
       "    .dataframe tbody tr th:only-of-type {\n",
       "        vertical-align: middle;\n",
       "    }\n",
       "\n",
       "    .dataframe tbody tr th {\n",
       "        vertical-align: top;\n",
       "    }\n",
       "\n",
       "    .dataframe thead th {\n",
       "        text-align: right;\n",
       "    }\n",
       "</style>\n",
       "<table border=\"1\" class=\"dataframe\">\n",
       "  <thead>\n",
       "    <tr style=\"text-align: right;\">\n",
       "      <th></th>\n",
       "      <th>parcel_id</th>\n",
       "      <th>x</th>\n",
       "      <th>y</th>\n",
       "      <th>total_residential_units</th>\n",
       "      <th>total_job_spaces</th>\n",
       "      <th>first_building_type_id</th>\n",
       "      <th>zoned_du</th>\n",
       "      <th>zoned_du_underbuild</th>\n",
       "      <th>zoned_du_underbuild_nodev</th>\n",
       "      <th>hhq1</th>\n",
       "      <th>hhq2</th>\n",
       "      <th>hhq3</th>\n",
       "      <th>hhq4</th>\n",
       "      <th>AGREMPN</th>\n",
       "      <th>MWTEMPN</th>\n",
       "      <th>RETEMPN</th>\n",
       "      <th>FPSEMPN</th>\n",
       "      <th>HEREMPN</th>\n",
       "      <th>OTHEMPN</th>\n",
       "    </tr>\n",
       "  </thead>\n",
       "  <tbody>\n",
       "    <tr>\n",
       "      <th>0</th>\n",
       "      <td>229116</td>\n",
       "      <td>-121.795620</td>\n",
       "      <td>37.655379</td>\n",
       "      <td>0.0</td>\n",
       "      <td>0.0</td>\n",
       "      <td>NaN</td>\n",
       "      <td>6.721103</td>\n",
       "      <td>6</td>\n",
       "      <td>6</td>\n",
       "      <td>NaN</td>\n",
       "      <td>NaN</td>\n",
       "      <td>NaN</td>\n",
       "      <td>NaN</td>\n",
       "      <td>NaN</td>\n",
       "      <td>NaN</td>\n",
       "      <td>NaN</td>\n",
       "      <td>NaN</td>\n",
       "      <td>NaN</td>\n",
       "      <td>NaN</td>\n",
       "    </tr>\n",
       "    <tr>\n",
       "      <th>1</th>\n",
       "      <td>244166</td>\n",
       "      <td>-121.713004</td>\n",
       "      <td>37.717277</td>\n",
       "      <td>0.0</td>\n",
       "      <td>0.0</td>\n",
       "      <td>NaN</td>\n",
       "      <td>3.883304</td>\n",
       "      <td>3</td>\n",
       "      <td>3</td>\n",
       "      <td>NaN</td>\n",
       "      <td>NaN</td>\n",
       "      <td>NaN</td>\n",
       "      <td>NaN</td>\n",
       "      <td>NaN</td>\n",
       "      <td>NaN</td>\n",
       "      <td>NaN</td>\n",
       "      <td>NaN</td>\n",
       "      <td>NaN</td>\n",
       "      <td>NaN</td>\n",
       "    </tr>\n",
       "    <tr>\n",
       "      <th>2</th>\n",
       "      <td>202378</td>\n",
       "      <td>-122.014199</td>\n",
       "      <td>37.655260</td>\n",
       "      <td>20.0</td>\n",
       "      <td>0.0</td>\n",
       "      <td>16.0</td>\n",
       "      <td>130.445563</td>\n",
       "      <td>110</td>\n",
       "      <td>110</td>\n",
       "      <td>7.0</td>\n",
       "      <td>6.0</td>\n",
       "      <td>3.0</td>\n",
       "      <td>2.0</td>\n",
       "      <td>NaN</td>\n",
       "      <td>NaN</td>\n",
       "      <td>NaN</td>\n",
       "      <td>NaN</td>\n",
       "      <td>NaN</td>\n",
       "      <td>NaN</td>\n",
       "    </tr>\n",
       "    <tr>\n",
       "      <th>3</th>\n",
       "      <td>2004420</td>\n",
       "      <td>-122.771868</td>\n",
       "      <td>38.727893</td>\n",
       "      <td>0.0</td>\n",
       "      <td>0.0</td>\n",
       "      <td>4.0</td>\n",
       "      <td>1.318763</td>\n",
       "      <td>1</td>\n",
       "      <td>1</td>\n",
       "      <td>NaN</td>\n",
       "      <td>NaN</td>\n",
       "      <td>NaN</td>\n",
       "      <td>NaN</td>\n",
       "      <td>NaN</td>\n",
       "      <td>NaN</td>\n",
       "      <td>NaN</td>\n",
       "      <td>NaN</td>\n",
       "      <td>NaN</td>\n",
       "      <td>NaN</td>\n",
       "    </tr>\n",
       "    <tr>\n",
       "      <th>4</th>\n",
       "      <td>340332</td>\n",
       "      <td>-121.974508</td>\n",
       "      <td>37.546277</td>\n",
       "      <td>0.0</td>\n",
       "      <td>0.0</td>\n",
       "      <td>NaN</td>\n",
       "      <td>14.289466</td>\n",
       "      <td>14</td>\n",
       "      <td>14</td>\n",
       "      <td>NaN</td>\n",
       "      <td>NaN</td>\n",
       "      <td>NaN</td>\n",
       "      <td>NaN</td>\n",
       "      <td>NaN</td>\n",
       "      <td>NaN</td>\n",
       "      <td>NaN</td>\n",
       "      <td>NaN</td>\n",
       "      <td>NaN</td>\n",
       "      <td>NaN</td>\n",
       "    </tr>\n",
       "  </tbody>\n",
       "</table>\n",
       "</div>"
      ],
      "text/plain": [
       "   parcel_id           x          y  total_residential_units  \\\n",
       "0     229116 -121.795620  37.655379                      0.0   \n",
       "1     244166 -121.713004  37.717277                      0.0   \n",
       "2     202378 -122.014199  37.655260                     20.0   \n",
       "3    2004420 -122.771868  38.727893                      0.0   \n",
       "4     340332 -121.974508  37.546277                      0.0   \n",
       "\n",
       "   total_job_spaces  first_building_type_id    zoned_du  zoned_du_underbuild  \\\n",
       "0               0.0                     NaN    6.721103                    6   \n",
       "1               0.0                     NaN    3.883304                    3   \n",
       "2               0.0                    16.0  130.445563                  110   \n",
       "3               0.0                     4.0    1.318763                    1   \n",
       "4               0.0                     NaN   14.289466                   14   \n",
       "\n",
       "   zoned_du_underbuild_nodev  hhq1  hhq2  hhq3  hhq4  AGREMPN  MWTEMPN  \\\n",
       "0                          6   NaN   NaN   NaN   NaN      NaN      NaN   \n",
       "1                          3   NaN   NaN   NaN   NaN      NaN      NaN   \n",
       "2                        110   7.0   6.0   3.0   2.0      NaN      NaN   \n",
       "3                          1   NaN   NaN   NaN   NaN      NaN      NaN   \n",
       "4                         14   NaN   NaN   NaN   NaN      NaN      NaN   \n",
       "\n",
       "   RETEMPN  FPSEMPN  HEREMPN  OTHEMPN  \n",
       "0      NaN      NaN      NaN      NaN  \n",
       "1      NaN      NaN      NaN      NaN  \n",
       "2      NaN      NaN      NaN      NaN  \n",
       "3      NaN      NaN      NaN      NaN  \n",
       "4      NaN      NaN      NaN      NaN  "
      ]
     },
     "execution_count": 88,
     "metadata": {},
     "output_type": "execute_result"
    }
   ],
   "source": [
    "run_2010.head()"
   ]
  },
  {
   "cell_type": "code",
   "execution_count": 89,
   "metadata": {
    "collapsed": true
   },
   "outputs": [],
   "source": [
    "alameda['county'] = 'alameda'\n",
    "contracosta['county'] = 'contracosta'\n",
    "marin['county'] = 'marin'\n",
    "napa['county'] = 'napa'\n",
    "sanfrancisco['county'] = 'sanfrancisco'\n",
    "sanmateo['county'] = 'sanmateo'\n",
    "santaclara['county'] = 'santaclara'\n",
    "solano['county'] = 'solano'\n",
    "sonoma['county'] = 'sonoma'"
   ]
  },
  {
   "cell_type": "code",
   "execution_count": 90,
   "metadata": {},
   "outputs": [
    {
     "name": "stdout",
     "output_type": "stream",
     "text": [
      "   parcel_id  slr77  slr66  slr52  slr48  slr36  slr24  slr12  slr   county\n",
      "0          1     77   66.0   52.0   48.0   36.0   24.0   12.0   12  alameda\n",
      "1          2     77   66.0   52.0   48.0   36.0   24.0   12.0   12  alameda\n",
      "2          3     77   66.0   52.0   48.0   36.0   24.0   12.0   12  alameda\n",
      "3          4     77   66.0   52.0    0.0    0.0    0.0    0.0   52  alameda\n",
      "4          5     77   66.0   52.0    0.0    0.0    0.0    0.0   52  alameda\n",
      "(89129, 10)\n"
     ]
    }
   ],
   "source": [
    "frames = [alameda, contracosta, marin, napa, sanfrancisco, sanmateo, santaclara, solano, sonoma]\n",
    "parcel_sum = pd.concat(frames)\n",
    "print(parcel_sum.head())\n",
    "print(parcel_sum.shape)"
   ]
  },
  {
   "cell_type": "code",
   "execution_count": 91,
   "metadata": {},
   "outputs": [
    {
     "data": {
      "text/html": [
       "<div>\n",
       "<style scoped>\n",
       "    .dataframe tbody tr th:only-of-type {\n",
       "        vertical-align: middle;\n",
       "    }\n",
       "\n",
       "    .dataframe tbody tr th {\n",
       "        vertical-align: top;\n",
       "    }\n",
       "\n",
       "    .dataframe thead th {\n",
       "        text-align: right;\n",
       "    }\n",
       "</style>\n",
       "<table border=\"1\" class=\"dataframe\">\n",
       "  <thead>\n",
       "    <tr style=\"text-align: right;\">\n",
       "      <th></th>\n",
       "      <th>county</th>\n",
       "      <th>parcel_id</th>\n",
       "      <th>slr</th>\n",
       "      <th>total_residential_units</th>\n",
       "      <th>total_job_spaces</th>\n",
       "    </tr>\n",
       "  </thead>\n",
       "  <tbody>\n",
       "    <tr>\n",
       "      <th>0</th>\n",
       "      <td>alameda</td>\n",
       "      <td>145947</td>\n",
       "      <td>52</td>\n",
       "      <td>0.0</td>\n",
       "      <td>0.0</td>\n",
       "    </tr>\n",
       "    <tr>\n",
       "      <th>1</th>\n",
       "      <td>alameda</td>\n",
       "      <td>148948</td>\n",
       "      <td>36</td>\n",
       "      <td>0.0</td>\n",
       "      <td>0.0</td>\n",
       "    </tr>\n",
       "    <tr>\n",
       "      <th>2</th>\n",
       "      <td>alameda</td>\n",
       "      <td>151643</td>\n",
       "      <td>52</td>\n",
       "      <td>0.0</td>\n",
       "      <td>0.0</td>\n",
       "    </tr>\n",
       "    <tr>\n",
       "      <th>3</th>\n",
       "      <td>sanfrancisco</td>\n",
       "      <td>914191</td>\n",
       "      <td>12</td>\n",
       "      <td>842.0</td>\n",
       "      <td>3253.0</td>\n",
       "    </tr>\n",
       "    <tr>\n",
       "      <th>4</th>\n",
       "      <td>alameda</td>\n",
       "      <td>150770</td>\n",
       "      <td>66</td>\n",
       "      <td>0.0</td>\n",
       "      <td>0.0</td>\n",
       "    </tr>\n",
       "  </tbody>\n",
       "</table>\n",
       "</div>"
      ],
      "text/plain": [
       "         county  parcel_id  slr  total_residential_units  total_job_spaces\n",
       "0       alameda     145947   52                      0.0               0.0\n",
       "1       alameda     148948   36                      0.0               0.0\n",
       "2       alameda     151643   52                      0.0               0.0\n",
       "3  sanfrancisco     914191   12                    842.0            3253.0\n",
       "4       alameda     150770   66                      0.0               0.0"
      ]
     },
     "execution_count": 91,
     "metadata": {},
     "output_type": "execute_result"
    }
   ],
   "source": [
    "parcel_sum_output = pd.merge(run_2010, parcel_sum, on='parcel_id', how='right')\n",
    "parcel_sum_output = parcel_sum_output[['county', 'parcel_id', 'slr', 'total_residential_units', 'total_job_spaces']]\n",
    "parcel_sum_output.head()"
   ]
  },
  {
   "cell_type": "code",
   "execution_count": 92,
   "metadata": {
    "collapsed": true
   },
   "outputs": [],
   "source": [
    "parcel_sum_output['parcel_count'] = 1"
   ]
  },
  {
   "cell_type": "code",
   "execution_count": 93,
   "metadata": {},
   "outputs": [
    {
     "data": {
      "text/html": [
       "<div>\n",
       "<style scoped>\n",
       "    .dataframe tbody tr th:only-of-type {\n",
       "        vertical-align: middle;\n",
       "    }\n",
       "\n",
       "    .dataframe tbody tr th {\n",
       "        vertical-align: top;\n",
       "    }\n",
       "\n",
       "    .dataframe thead th {\n",
       "        text-align: right;\n",
       "    }\n",
       "</style>\n",
       "<table border=\"1\" class=\"dataframe\">\n",
       "  <thead>\n",
       "    <tr style=\"text-align: right;\">\n",
       "      <th></th>\n",
       "      <th>county</th>\n",
       "      <th>parcel_count</th>\n",
       "      <th>total_job_spaces</th>\n",
       "      <th>total_residential_units</th>\n",
       "    </tr>\n",
       "  </thead>\n",
       "  <tbody>\n",
       "    <tr>\n",
       "      <th>0</th>\n",
       "      <td>alameda</td>\n",
       "      <td>27383</td>\n",
       "      <td>151960.0</td>\n",
       "      <td>38348.0</td>\n",
       "    </tr>\n",
       "    <tr>\n",
       "      <th>1</th>\n",
       "      <td>contracosta</td>\n",
       "      <td>2758</td>\n",
       "      <td>18972.0</td>\n",
       "      <td>3488.0</td>\n",
       "    </tr>\n",
       "    <tr>\n",
       "      <th>2</th>\n",
       "      <td>marin</td>\n",
       "      <td>14463</td>\n",
       "      <td>69604.0</td>\n",
       "      <td>16603.0</td>\n",
       "    </tr>\n",
       "    <tr>\n",
       "      <th>3</th>\n",
       "      <td>napa</td>\n",
       "      <td>872</td>\n",
       "      <td>3534.0</td>\n",
       "      <td>605.0</td>\n",
       "    </tr>\n",
       "    <tr>\n",
       "      <th>4</th>\n",
       "      <td>sanfrancisco</td>\n",
       "      <td>1480</td>\n",
       "      <td>151926.0</td>\n",
       "      <td>14686.0</td>\n",
       "    </tr>\n",
       "    <tr>\n",
       "      <th>5</th>\n",
       "      <td>sanmateo</td>\n",
       "      <td>28234</td>\n",
       "      <td>175041.0</td>\n",
       "      <td>47101.0</td>\n",
       "    </tr>\n",
       "    <tr>\n",
       "      <th>6</th>\n",
       "      <td>santaclara</td>\n",
       "      <td>6711</td>\n",
       "      <td>80520.0</td>\n",
       "      <td>17019.0</td>\n",
       "    </tr>\n",
       "    <tr>\n",
       "      <th>7</th>\n",
       "      <td>solano</td>\n",
       "      <td>6413</td>\n",
       "      <td>13161.0</td>\n",
       "      <td>5909.0</td>\n",
       "    </tr>\n",
       "    <tr>\n",
       "      <th>8</th>\n",
       "      <td>sonoma</td>\n",
       "      <td>815</td>\n",
       "      <td>7332.0</td>\n",
       "      <td>651.0</td>\n",
       "    </tr>\n",
       "  </tbody>\n",
       "</table>\n",
       "</div>"
      ],
      "text/plain": [
       "         county  parcel_count  total_job_spaces  total_residential_units\n",
       "0       alameda         27383          151960.0                  38348.0\n",
       "1   contracosta          2758           18972.0                   3488.0\n",
       "2         marin         14463           69604.0                  16603.0\n",
       "3          napa           872            3534.0                    605.0\n",
       "4  sanfrancisco          1480          151926.0                  14686.0\n",
       "5      sanmateo         28234          175041.0                  47101.0\n",
       "6    santaclara          6711           80520.0                  17019.0\n",
       "7        solano          6413           13161.0                   5909.0\n",
       "8        sonoma           815            7332.0                    651.0"
      ]
     },
     "execution_count": 93,
     "metadata": {},
     "output_type": "execute_result"
    }
   ],
   "source": [
    "parcel_output_county = pd.DataFrame({'total_residential_units' : parcel_sum_output.groupby('county')['total_residential_units'].sum(), 'total_job_spaces' : parcel_sum_output.groupby('county')['total_job_spaces'].sum(), 'parcel_count' : parcel_sum_output.groupby('county')['parcel_count'].sum()}).reset_index()\n",
    "parcel_output_county"
   ]
  },
  {
   "cell_type": "code",
   "execution_count": 94,
   "metadata": {
    "collapsed": true
   },
   "outputs": [],
   "source": [
    "parcel_output_county.to_csv('./slr_parcel_county.csv')"
   ]
  },
  {
   "cell_type": "code",
   "execution_count": null,
   "metadata": {
    "collapsed": true
   },
   "outputs": [],
   "source": []
  }
 ],
 "metadata": {
  "kernelspec": {
   "display_name": "Python [conda env:anaconda2]",
   "language": "python",
   "name": "conda-env-anaconda2-py"
  },
  "language_info": {
   "codemirror_mode": {
    "name": "ipython",
    "version": 2
   },
   "file_extension": ".py",
   "mimetype": "text/x-python",
   "name": "python",
   "nbconvert_exporter": "python",
   "pygments_lexer": "ipython2",
   "version": "2.7.14"
  }
 },
 "nbformat": 4,
 "nbformat_minor": 2
}
